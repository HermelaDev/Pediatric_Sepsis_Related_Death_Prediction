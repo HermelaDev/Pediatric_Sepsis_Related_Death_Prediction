{
 "cells": [
  {
   "cell_type": "markdown",
   "id": "1ac9fee7",
   "metadata": {},
   "source": [
    "# Pediatric Sepsis: In-hospital Mortality Prediction"
   ]
  },
  {
   "cell_type": "markdown",
   "id": "3ed800ce",
   "metadata": {},
   "source": [
    "### Importing Necessary Libraries"
   ]
  },
  {
   "cell_type": "code",
   "execution_count": 12,
   "id": "6493ca21",
   "metadata": {},
   "outputs": [],
   "source": [
    "import pandas as pd\n",
    "import scipy.stats as stats\n",
    "from sklearn.preprocessing import LabelEncoder\n",
    "import matplotlib.pyplot as plt\n",
    "import seaborn as sns\n",
    "import numpy as np\n",
    "from sklearn.preprocessing import OrdinalEncoder\n"
   ]
  },
  {
   "cell_type": "markdown",
   "id": "b0d053e8",
   "metadata": {},
   "source": [
    "### Importing the dataset"
   ]
  },
  {
   "cell_type": "code",
   "execution_count": 14,
   "id": "2fd3c9e9",
   "metadata": {},
   "outputs": [
    {
     "data": {
      "text/html": [
       "<div>\n",
       "<style scoped>\n",
       "    .dataframe tbody tr th:only-of-type {\n",
       "        vertical-align: middle;\n",
       "    }\n",
       "\n",
       "    .dataframe tbody tr th {\n",
       "        vertical-align: top;\n",
       "    }\n",
       "\n",
       "    .dataframe thead th {\n",
       "        text-align: right;\n",
       "    }\n",
       "</style>\n",
       "<table border=\"1\" class=\"dataframe\">\n",
       "  <thead>\n",
       "    <tr style=\"text-align: right;\">\n",
       "      <th></th>\n",
       "      <th>studyid_adm</th>\n",
       "      <th>agecalc_adm</th>\n",
       "      <th>height_cm_adm</th>\n",
       "      <th>weight_kg_adm</th>\n",
       "      <th>muac_mm_adm</th>\n",
       "      <th>hr_bpm_adm</th>\n",
       "      <th>rr_brpm_app_adm</th>\n",
       "      <th>sysbp_mmhg_adm</th>\n",
       "      <th>diasbp_mmhg_adm</th>\n",
       "      <th>temp_c_adm</th>\n",
       "      <th>...</th>\n",
       "      <th>cookloc_adm</th>\n",
       "      <th>lightfuel_adm</th>\n",
       "      <th>tobacco_adm</th>\n",
       "      <th>bednet_adm</th>\n",
       "      <th>hctpretransfusion_adm</th>\n",
       "      <th>hivstatus_adm</th>\n",
       "      <th>malariastatuspos_adm</th>\n",
       "      <th>lengthadm</th>\n",
       "      <th>caregiver_adm_new</th>\n",
       "      <th>inhospital_mortality</th>\n",
       "    </tr>\n",
       "  </thead>\n",
       "  <tbody>\n",
       "    <tr>\n",
       "      <th>0</th>\n",
       "      <td>1</td>\n",
       "      <td>16.8</td>\n",
       "      <td>79.8</td>\n",
       "      <td>11.6</td>\n",
       "      <td>150.0</td>\n",
       "      <td>130.0</td>\n",
       "      <td>23.0</td>\n",
       "      <td>92.0</td>\n",
       "      <td>54.0</td>\n",
       "      <td>36.3</td>\n",
       "      <td>...</td>\n",
       "      <td>In a separate building/building space used as ...</td>\n",
       "      <td>Electric bulbs (national grid)</td>\n",
       "      <td>Never</td>\n",
       "      <td>Always</td>\n",
       "      <td>Yes</td>\n",
       "      <td>HIV negative</td>\n",
       "      <td>No</td>\n",
       "      <td>2</td>\n",
       "      <td>Mother</td>\n",
       "      <td>0</td>\n",
       "    </tr>\n",
       "    <tr>\n",
       "      <th>1</th>\n",
       "      <td>2</td>\n",
       "      <td>46.1</td>\n",
       "      <td>93.0</td>\n",
       "      <td>13.6</td>\n",
       "      <td>151.0</td>\n",
       "      <td>115.0</td>\n",
       "      <td>35.0</td>\n",
       "      <td>72.0</td>\n",
       "      <td>42.0</td>\n",
       "      <td>36.8</td>\n",
       "      <td>...</td>\n",
       "      <td>In a separate building/building space used as ...</td>\n",
       "      <td>Tadooba</td>\n",
       "      <td>Never</td>\n",
       "      <td>Always</td>\n",
       "      <td>Yes</td>\n",
       "      <td>HIV negative</td>\n",
       "      <td>Yes</td>\n",
       "      <td>5</td>\n",
       "      <td>Mother</td>\n",
       "      <td>0</td>\n",
       "    </tr>\n",
       "    <tr>\n",
       "      <th>2</th>\n",
       "      <td>3</td>\n",
       "      <td>7.9</td>\n",
       "      <td>68.2</td>\n",
       "      <td>8.2</td>\n",
       "      <td>148.0</td>\n",
       "      <td>150.0</td>\n",
       "      <td>56.0</td>\n",
       "      <td>94.0</td>\n",
       "      <td>51.0</td>\n",
       "      <td>37.2</td>\n",
       "      <td>...</td>\n",
       "      <td>In a separate building/building space used as ...</td>\n",
       "      <td>Tadooba</td>\n",
       "      <td>Never</td>\n",
       "      <td>Always</td>\n",
       "      <td>Yes</td>\n",
       "      <td>HIV negative</td>\n",
       "      <td>No</td>\n",
       "      <td>4</td>\n",
       "      <td>Mother</td>\n",
       "      <td>0</td>\n",
       "    </tr>\n",
       "    <tr>\n",
       "      <th>3</th>\n",
       "      <td>4</td>\n",
       "      <td>38.2</td>\n",
       "      <td>95.0</td>\n",
       "      <td>12.0</td>\n",
       "      <td>138.0</td>\n",
       "      <td>134.0</td>\n",
       "      <td>38.0</td>\n",
       "      <td>94.0</td>\n",
       "      <td>57.0</td>\n",
       "      <td>37.6</td>\n",
       "      <td>...</td>\n",
       "      <td>In the house where you sleep</td>\n",
       "      <td>Electric bulbs (national grid)</td>\n",
       "      <td>Never</td>\n",
       "      <td>Always</td>\n",
       "      <td>NaN</td>\n",
       "      <td>HIV negative</td>\n",
       "      <td>Yes</td>\n",
       "      <td>5</td>\n",
       "      <td>Mother</td>\n",
       "      <td>0</td>\n",
       "    </tr>\n",
       "    <tr>\n",
       "      <th>4</th>\n",
       "      <td>5</td>\n",
       "      <td>16.1</td>\n",
       "      <td>83.0</td>\n",
       "      <td>12.0</td>\n",
       "      <td>165.0</td>\n",
       "      <td>163.0</td>\n",
       "      <td>61.0</td>\n",
       "      <td>107.0</td>\n",
       "      <td>73.0</td>\n",
       "      <td>38.7</td>\n",
       "      <td>...</td>\n",
       "      <td>Outdoors in the open</td>\n",
       "      <td>Electric bulbs (national grid)</td>\n",
       "      <td>Never</td>\n",
       "      <td>Sometimes</td>\n",
       "      <td>Yes</td>\n",
       "      <td>HIV negative</td>\n",
       "      <td>Yes</td>\n",
       "      <td>7</td>\n",
       "      <td>Mother</td>\n",
       "      <td>0</td>\n",
       "    </tr>\n",
       "    <tr>\n",
       "      <th>...</th>\n",
       "      <td>...</td>\n",
       "      <td>...</td>\n",
       "      <td>...</td>\n",
       "      <td>...</td>\n",
       "      <td>...</td>\n",
       "      <td>...</td>\n",
       "      <td>...</td>\n",
       "      <td>...</td>\n",
       "      <td>...</td>\n",
       "      <td>...</td>\n",
       "      <td>...</td>\n",
       "      <td>...</td>\n",
       "      <td>...</td>\n",
       "      <td>...</td>\n",
       "      <td>...</td>\n",
       "      <td>...</td>\n",
       "      <td>...</td>\n",
       "      <td>...</td>\n",
       "      <td>...</td>\n",
       "      <td>...</td>\n",
       "      <td>...</td>\n",
       "    </tr>\n",
       "    <tr>\n",
       "      <th>2681</th>\n",
       "      <td>2682</td>\n",
       "      <td>20.1</td>\n",
       "      <td>98.2</td>\n",
       "      <td>10.0</td>\n",
       "      <td>135.0</td>\n",
       "      <td>163.0</td>\n",
       "      <td>61.0</td>\n",
       "      <td>103.0</td>\n",
       "      <td>54.0</td>\n",
       "      <td>39.6</td>\n",
       "      <td>...</td>\n",
       "      <td>Outdoors in the open</td>\n",
       "      <td>Solar powered bulbs</td>\n",
       "      <td>Never</td>\n",
       "      <td>Always</td>\n",
       "      <td>Yes</td>\n",
       "      <td>HIV negative</td>\n",
       "      <td>No</td>\n",
       "      <td>3</td>\n",
       "      <td>Mother</td>\n",
       "      <td>0</td>\n",
       "    </tr>\n",
       "    <tr>\n",
       "      <th>2682</th>\n",
       "      <td>2683</td>\n",
       "      <td>26.8</td>\n",
       "      <td>82.3</td>\n",
       "      <td>10.0</td>\n",
       "      <td>140.0</td>\n",
       "      <td>115.0</td>\n",
       "      <td>37.0</td>\n",
       "      <td>83.0</td>\n",
       "      <td>50.0</td>\n",
       "      <td>37.1</td>\n",
       "      <td>...</td>\n",
       "      <td>Outdoors in the open</td>\n",
       "      <td>Electric bulbs (national grid)</td>\n",
       "      <td>Never</td>\n",
       "      <td>Sometimes</td>\n",
       "      <td>NaN</td>\n",
       "      <td>HIV negative</td>\n",
       "      <td>No</td>\n",
       "      <td>3</td>\n",
       "      <td>Mother</td>\n",
       "      <td>0</td>\n",
       "    </tr>\n",
       "    <tr>\n",
       "      <th>2683</th>\n",
       "      <td>2684</td>\n",
       "      <td>14.6</td>\n",
       "      <td>82.4</td>\n",
       "      <td>12.7</td>\n",
       "      <td>145.0</td>\n",
       "      <td>150.0</td>\n",
       "      <td>40.0</td>\n",
       "      <td>93.0</td>\n",
       "      <td>35.0</td>\n",
       "      <td>38.5</td>\n",
       "      <td>...</td>\n",
       "      <td>In a separate building/building space used as ...</td>\n",
       "      <td>Electric bulbs (national grid)</td>\n",
       "      <td>Never</td>\n",
       "      <td>Always</td>\n",
       "      <td>Yes</td>\n",
       "      <td>HIV negative</td>\n",
       "      <td>Yes</td>\n",
       "      <td>2</td>\n",
       "      <td>Mother</td>\n",
       "      <td>0</td>\n",
       "    </tr>\n",
       "    <tr>\n",
       "      <th>2684</th>\n",
       "      <td>2685</td>\n",
       "      <td>9.5</td>\n",
       "      <td>67.5</td>\n",
       "      <td>7.5</td>\n",
       "      <td>130.0</td>\n",
       "      <td>145.0</td>\n",
       "      <td>26.0</td>\n",
       "      <td>88.0</td>\n",
       "      <td>52.0</td>\n",
       "      <td>37.3</td>\n",
       "      <td>...</td>\n",
       "      <td>In a separate building/building space used as ...</td>\n",
       "      <td>Solar powered bulbs</td>\n",
       "      <td>Never</td>\n",
       "      <td>Always</td>\n",
       "      <td>Yes</td>\n",
       "      <td>HIV negative</td>\n",
       "      <td>No</td>\n",
       "      <td>4</td>\n",
       "      <td>Mother</td>\n",
       "      <td>0</td>\n",
       "    </tr>\n",
       "    <tr>\n",
       "      <th>2685</th>\n",
       "      <td>2686</td>\n",
       "      <td>11.3</td>\n",
       "      <td>77.8</td>\n",
       "      <td>8.0</td>\n",
       "      <td>131.0</td>\n",
       "      <td>146.0</td>\n",
       "      <td>38.0</td>\n",
       "      <td>112.0</td>\n",
       "      <td>72.0</td>\n",
       "      <td>38.1</td>\n",
       "      <td>...</td>\n",
       "      <td>In a separate building/building space used as ...</td>\n",
       "      <td>Electric bulbs (national grid)</td>\n",
       "      <td>Never</td>\n",
       "      <td>Always</td>\n",
       "      <td>Yes</td>\n",
       "      <td>HIV negative</td>\n",
       "      <td>Yes</td>\n",
       "      <td>2</td>\n",
       "      <td>Mother</td>\n",
       "      <td>0</td>\n",
       "    </tr>\n",
       "  </tbody>\n",
       "</table>\n",
       "<p>2686 rows × 138 columns</p>\n",
       "</div>"
      ],
      "text/plain": [
       "      studyid_adm  agecalc_adm  height_cm_adm  weight_kg_adm  muac_mm_adm  \\\n",
       "0               1         16.8           79.8           11.6        150.0   \n",
       "1               2         46.1           93.0           13.6        151.0   \n",
       "2               3          7.9           68.2            8.2        148.0   \n",
       "3               4         38.2           95.0           12.0        138.0   \n",
       "4               5         16.1           83.0           12.0        165.0   \n",
       "...           ...          ...            ...            ...          ...   \n",
       "2681         2682         20.1           98.2           10.0        135.0   \n",
       "2682         2683         26.8           82.3           10.0        140.0   \n",
       "2683         2684         14.6           82.4           12.7        145.0   \n",
       "2684         2685          9.5           67.5            7.5        130.0   \n",
       "2685         2686         11.3           77.8            8.0        131.0   \n",
       "\n",
       "      hr_bpm_adm  rr_brpm_app_adm  sysbp_mmhg_adm  diasbp_mmhg_adm  \\\n",
       "0          130.0             23.0            92.0             54.0   \n",
       "1          115.0             35.0            72.0             42.0   \n",
       "2          150.0             56.0            94.0             51.0   \n",
       "3          134.0             38.0            94.0             57.0   \n",
       "4          163.0             61.0           107.0             73.0   \n",
       "...          ...              ...             ...              ...   \n",
       "2681       163.0             61.0           103.0             54.0   \n",
       "2682       115.0             37.0            83.0             50.0   \n",
       "2683       150.0             40.0            93.0             35.0   \n",
       "2684       145.0             26.0            88.0             52.0   \n",
       "2685       146.0             38.0           112.0             72.0   \n",
       "\n",
       "      temp_c_adm  ...                                        cookloc_adm  \\\n",
       "0           36.3  ...  In a separate building/building space used as ...   \n",
       "1           36.8  ...  In a separate building/building space used as ...   \n",
       "2           37.2  ...  In a separate building/building space used as ...   \n",
       "3           37.6  ...                       In the house where you sleep   \n",
       "4           38.7  ...                               Outdoors in the open   \n",
       "...          ...  ...                                                ...   \n",
       "2681        39.6  ...                               Outdoors in the open   \n",
       "2682        37.1  ...                               Outdoors in the open   \n",
       "2683        38.5  ...  In a separate building/building space used as ...   \n",
       "2684        37.3  ...  In a separate building/building space used as ...   \n",
       "2685        38.1  ...  In a separate building/building space used as ...   \n",
       "\n",
       "                       lightfuel_adm  tobacco_adm  bednet_adm  \\\n",
       "0     Electric bulbs (national grid)        Never      Always   \n",
       "1                            Tadooba        Never      Always   \n",
       "2                            Tadooba        Never      Always   \n",
       "3     Electric bulbs (national grid)        Never      Always   \n",
       "4     Electric bulbs (national grid)        Never   Sometimes   \n",
       "...                              ...          ...         ...   \n",
       "2681             Solar powered bulbs        Never      Always   \n",
       "2682  Electric bulbs (national grid)        Never   Sometimes   \n",
       "2683  Electric bulbs (national grid)        Never      Always   \n",
       "2684             Solar powered bulbs        Never      Always   \n",
       "2685  Electric bulbs (national grid)        Never      Always   \n",
       "\n",
       "      hctpretransfusion_adm  hivstatus_adm  malariastatuspos_adm  lengthadm  \\\n",
       "0                       Yes   HIV negative                    No          2   \n",
       "1                       Yes   HIV negative                   Yes          5   \n",
       "2                       Yes   HIV negative                    No          4   \n",
       "3                       NaN   HIV negative                   Yes          5   \n",
       "4                       Yes   HIV negative                   Yes          7   \n",
       "...                     ...            ...                   ...        ...   \n",
       "2681                    Yes   HIV negative                    No          3   \n",
       "2682                    NaN   HIV negative                    No          3   \n",
       "2683                    Yes   HIV negative                   Yes          2   \n",
       "2684                    Yes   HIV negative                    No          4   \n",
       "2685                    Yes   HIV negative                   Yes          2   \n",
       "\n",
       "      caregiver_adm_new  inhospital_mortality  \n",
       "0                Mother                     0  \n",
       "1                Mother                     0  \n",
       "2                Mother                     0  \n",
       "3                Mother                     0  \n",
       "4                Mother                     0  \n",
       "...                 ...                   ...  \n",
       "2681             Mother                     0  \n",
       "2682             Mother                     0  \n",
       "2683             Mother                     0  \n",
       "2684             Mother                     0  \n",
       "2685             Mother                     0  \n",
       "\n",
       "[2686 rows x 138 columns]"
      ]
     },
     "execution_count": 14,
     "metadata": {},
     "output_type": "execute_result"
    }
   ],
   "source": [
    "sepsis_df=pd.read_csv(\"./SyntheticData_Training.csv\")\n",
    "sepsis_df"
   ]
  },
  {
   "cell_type": "markdown",
   "id": "bd487b36",
   "metadata": {},
   "source": [
    "### Dataset Structure"
   ]
  },
  {
   "cell_type": "code",
   "execution_count": 16,
   "id": "03c8c2cc",
   "metadata": {},
   "outputs": [
    {
     "name": "stdout",
     "output_type": "stream",
     "text": [
      "<class 'pandas.core.frame.DataFrame'>\n",
      "RangeIndex: 2686 entries, 0 to 2685\n",
      "Columns: 138 entries, studyid_adm to inhospital_mortality\n",
      "dtypes: float64(23), int64(3), object(112)\n",
      "memory usage: 2.8+ MB\n"
     ]
    }
   ],
   "source": [
    "sepsis_df.info()"
   ]
  },
  {
   "cell_type": "markdown",
   "id": "bf8ac99c",
   "metadata": {},
   "source": [
    "### Statistical Summary"
   ]
  },
  {
   "cell_type": "code",
   "execution_count": 18,
   "id": "55081b5c",
   "metadata": {},
   "outputs": [
    {
     "name": "stdout",
     "output_type": "stream",
     "text": [
      "                   Column Data Type  Missing Values  Missing %  Unique Values\n",
      "0             studyid_adm     int64               0   0.000000           2686\n",
      "1             agecalc_adm   float64               0   0.000000            451\n",
      "2           height_cm_adm   float64              14   0.521221            365\n",
      "3           weight_kg_adm   float64               9   0.335071            262\n",
      "4             muac_mm_adm   float64              13   0.483991             98\n",
      "..                    ...       ...             ...        ...            ...\n",
      "133         hivstatus_adm    object               5   0.186150              2\n",
      "134  malariastatuspos_adm    object               2   0.074460              2\n",
      "135             lengthadm     int64               0   0.000000             38\n",
      "136     caregiver_adm_new    object               3   0.111690              4\n",
      "137  inhospital_mortality     int64               0   0.000000              2\n",
      "\n",
      "[138 rows x 5 columns]\n"
     ]
    }
   ],
   "source": [
    "#Create a summary DataFrame of column characteristics\n",
    "\n",
    "column_summary= pd.DataFrame({'Column': sepsis_df.columns, \n",
    "                              'Data Type': sepsis_df.dtypes.values,\n",
    "                              'Missing Values': sepsis_df.isnull().sum().values,\n",
    "                              'Missing %': (sepsis_df.isnull().mean() * 100).values,\n",
    "                              'Unique Values': sepsis_df.nunique().values})\n",
    "\n",
    "\n",
    "\n",
    "# Display all rows in the column summary\n",
    "#pd.set_option('display.max_rows', None)\n",
    "\n",
    "# Print\n",
    "print(column_summary)"
   ]
  },
  {
   "cell_type": "markdown",
   "id": "95385d6d",
   "metadata": {},
   "source": [
    "Getting basic statistical descriptions for numerical features."
   ]
  },
  {
   "cell_type": "markdown",
   "id": "385475fa",
   "metadata": {},
   "source": [
    "## Data Cleaning"
   ]
  },
  {
   "cell_type": "markdown",
   "id": "16289dfd",
   "metadata": {},
   "source": [
    "### Checking Missing Values"
   ]
  },
  {
   "cell_type": "code",
   "execution_count": 22,
   "id": "cf88f741",
   "metadata": {},
   "outputs": [
    {
     "data": {
      "text/plain": [
       "studyid_adm              0\n",
       "agecalc_adm              0\n",
       "height_cm_adm           14\n",
       "weight_kg_adm            9\n",
       "muac_mm_adm             13\n",
       "                        ..\n",
       "hivstatus_adm            5\n",
       "malariastatuspos_adm     2\n",
       "lengthadm                0\n",
       "caregiver_adm_new        3\n",
       "inhospital_mortality     0\n",
       "Length: 138, dtype: int64"
      ]
     },
     "execution_count": 22,
     "metadata": {},
     "output_type": "execute_result"
    }
   ],
   "source": [
    "#pd.set_option('display.max_rows', None)\n",
    "sepsis_df.isnull().sum()\n"
   ]
  },
  {
   "cell_type": "markdown",
   "id": "caad0709",
   "metadata": {},
   "source": [
    "### Dropping columns"
   ]
  },
  {
   "cell_type": "markdown",
   "id": "041ecd48",
   "metadata": {},
   "source": [
    "#### Dropping intervention columns"
   ]
  },
  {
   "cell_type": "code",
   "execution_count": 25,
   "id": "d87c8f03",
   "metadata": {},
   "outputs": [],
   "source": [
    "cols_to_drop = [col for col in sepsis_df.columns if col.startswith('admitabx_')]\n",
    "sepsis_df= sepsis_df.drop(columns=cols_to_drop)"
   ]
  },
  {
   "cell_type": "markdown",
   "id": "c961030f",
   "metadata": {},
   "source": [
    "The intervention columns were dropped because they represent actions taken after the patient's admission or during treatment. Including these columns could lead to data leakage, allowing the model to use information that would not be available at the time of prediction. This would result in an overfitted model that does not accurately reflect the patient's initial condition."
   ]
  },
  {
   "cell_type": "markdown",
   "id": "6df93e9a",
   "metadata": {},
   "source": [
    "#### Additional columns to drop"
   ]
  },
  {
   "cell_type": "code",
   "execution_count": 28,
   "id": "065f3069",
   "metadata": {},
   "outputs": [],
   "source": [
    "# Dropping columns\n",
    "sepsis_df.drop(columns=[\"spo2other_adm\",\"vaccmeaslessource_adm\",\"lactate2_mmolpl_adm\",\"nonexclbreastfed_adm\"],inplace=True)"
   ]
  },
  {
   "cell_type": "markdown",
   "id": "4dbc3b40",
   "metadata": {},
   "source": [
    "#### Justification for dropping\n",
    "___\n",
    "* **\"spo2other\\_adm\" dropped:** Represents oxygen saturation with another device (redundant), and has 93.3% missing values.\n",
    "* **\"lactate2\\_mmolpl\\_adm\" dropped:** A similar measurement is available, and it has 82.54% missing values.\n",
    "* **\"nonexclbreastfed\\_adm\" dropped:** Represents non-exclusive breastfeeding details, with 96.91% missing values.\n",
    "* **\"vaccmeaslessource\\_adm\" dropped:** Represents the source of information regarding measles vaccination (found to be less important), with 35.22% missing values.\n",
    "___"
   ]
  },
  {
   "cell_type": "markdown",
   "id": "4569d5eb",
   "metadata": {},
   "source": [
    "### Imputing Missing Values"
   ]
  },
  {
   "cell_type": "markdown",
   "id": "cd8ca2b4",
   "metadata": {},
   "source": [
    "#### Imputing Numeric Columns"
   ]
  },
  {
   "cell_type": "code",
   "execution_count": 32,
   "id": "c4a9595d",
   "metadata": {},
   "outputs": [],
   "source": [
    "# Step 1: Get columns that have at least one missing value\n",
    "cols_with_missing = sepsis_df.columns[sepsis_df.isnull().any()].tolist()\n",
    "\n",
    "# Step 2: Create a new DataFrame with only those columns\n",
    "df_missing_subset = sepsis_df[cols_with_missing]"
   ]
  },
  {
   "cell_type": "markdown",
   "id": "df1202d0",
   "metadata": {},
   "source": [
    "##### Checking distribution of columns with missing values"
   ]
  },
  {
   "cell_type": "code",
   "execution_count": 34,
   "id": "047ef8ef",
   "metadata": {},
   "outputs": [
    {
     "name": "stdout",
     "output_type": "stream",
     "text": [
      "Columns with fairly symmetric distributions: ['muac_mm_adm', 'sysbp_mmhg_adm', 'diasbp_mmhg_adm', 'hematocrit_gpdl_adm']\n"
     ]
    }
   ],
   "source": [
    "# Step 1: Select numeric columns only\n",
    "numeric_cols = df_missing_subset.select_dtypes(include='number')\n",
    "\n",
    "# Step 2: Calculate skewness for each numeric column\n",
    "skewness = numeric_cols.skew()\n",
    "\n",
    "# Step 3: Filter columns where skewness is between -0.5 and +0.5\n",
    "symmetric_cols = skewness[(skewness > -0.5) & (skewness < 0.5)].index.tolist()\n",
    "\n",
    "print(\"Columns with fairly symmetric distributions:\", symmetric_cols)"
   ]
  },
  {
   "cell_type": "markdown",
   "id": "f370b164",
   "metadata": {},
   "source": [
    "___\n",
    "Columns with fairly symmetric distributions (skewness between -0.5 and 0.5) were identified using the `.skew()` function and separated for imputation using the **mean**. For columns with more skewed distributions (skewness < -0.5 or > 0.5), the **median** will be used instead, as it's more robust to outliers.\n",
    "___"
   ]
  },
  {
   "cell_type": "markdown",
   "id": "adbf7155",
   "metadata": {},
   "source": [
    "#### Imputing the columns with fairly symmetric distributions using mean"
   ]
  },
  {
   "cell_type": "code",
   "execution_count": 37,
   "id": "9d9fd8f4",
   "metadata": {},
   "outputs": [],
   "source": [
    "sepsis_df[['sysbp_mmhg_adm', 'diasbp_mmhg_adm']] = sepsis_df[['sysbp_mmhg_adm', 'diasbp_mmhg_adm']].fillna(sepsis_df[['sysbp_mmhg_adm', 'diasbp_mmhg_adm']].mean())\n",
    "#sepsis_df['shockindex_heart_rate_sbp_adm'] = sepsis_df['shockindex_heart_rate_sbp_adm'].fillna(sepsis_df['shockindex_heart_rate_sbp_adm'].mean())"
   ]
  },
  {
   "cell_type": "markdown",
   "id": "d85521a7",
   "metadata": {},
   "source": [
    "#### Imputing Height"
   ]
  },
  {
   "cell_type": "code",
   "execution_count": 39,
   "id": "69ad4754",
   "metadata": {},
   "outputs": [],
   "source": [
    "# Loading the WHO dataset for girls\n",
    "who_girls = pd.read_csv(\"./girls_length_height_for_age.csv\")\n",
    "\n",
    "# Round age to match WHO months\n",
    "sepsis_df['age_months_rounded'] = sepsis_df['agecalc_adm'].round().astype(int)\n",
    "\n",
    "# Prepare WHO data\n",
    "who_clean = who_girls[['Months', 'Median']].rename(columns={\n",
    "    'Months': 'age_months_rounded',\n",
    "    'Median': 'who_median_height'\n",
    "})\n",
    "\n",
    "# Merge on the rounded age\n",
    "sepsis_df = sepsis_df.merge(\n",
    "    who_clean,\n",
    "    on='age_months_rounded',\n",
    "    how='left',\n",
    "    suffixes=('', '_who')  # Adding a suffix '_who' to differentiate the columns\n",
    ")\n",
    "\n",
    "# Identify missing heights for female patients\n",
    "girls_mask = (sepsis_df['sex_adm'] == 'Female') & (sepsis_df['height_cm_adm'].isna())\n",
    "\n",
    "# Impute with WHO median height based on rounded age\n",
    "sepsis_df.loc[girls_mask, 'height_cm_adm'] = sepsis_df.loc[girls_mask, 'who_median_height']\n",
    "\n",
    "# Loading the WHO dataset for boys\n",
    "who_boys = pd.read_csv(\"./boys_length_height_for_age.csv\")\n",
    "\n",
    "# Round age to match WHO months\n",
    "sepsis_df['age_months_rounded'] = sepsis_df['agecalc_adm'].round().astype(int)\n",
    "\n",
    "# Prepare WHO data\n",
    "who_clean_boys = who_boys[['Months', 'Median']].rename(columns={\n",
    "    'Months': 'age_months_rounded',\n",
    "    'Median': 'who_median_height_boys'\n",
    "})\n",
    "\n",
    "# Merge on the rounded age\n",
    "sepsis_df = sepsis_df.merge(\n",
    "    who_clean_boys,\n",
    "    on='age_months_rounded',\n",
    "    how='left',\n",
    "    suffixes=('', '_who')  # Adding a suffix '_who' to differentiate the columns\n",
    ")\n",
    "\n",
    "# Identify missing heights for male patients\n",
    "boys_mask = (sepsis_df['sex_adm'] == 'Male') & (sepsis_df['height_cm_adm'].isna())\n",
    "\n",
    "# Impute with WHO median height based on rounded age for boys\n",
    "sepsis_df.loc[boys_mask, 'height_cm_adm'] = sepsis_df.loc[boys_mask, 'who_median_height_boys']\n",
    "\n",
    "# Check for missing values again\n",
    "sepsis_df['height_cm_adm'].isna().sum()\n",
    "\n",
    "# Load WHO data\n",
    "boys_wfa = pd.read_csv(\"./boys_weight_for_age.csv\")  \n",
    "girls_wfa = pd.read_csv(\"./girls_weight_for_age.csv\") \n",
    "\n",
    "# Round the age to the nearest integer\n",
    "sepsis_df['agecalc_adm_rounded'] = sepsis_df['agecalc_adm'].round().astype(int)\n",
    "\n"
   ]
  },
  {
   "cell_type": "markdown",
   "id": "da1bdad4",
   "metadata": {},
   "source": [
    "___\n",
    "'height_cm_adm' Missing height values were imputed using WHO median height-for-age data, separately for males and females. Age in months was rounded to align with WHO reference tables.\n",
    "___"
   ]
  },
  {
   "cell_type": "markdown",
   "id": "2cd32cdd",
   "metadata": {},
   "source": [
    "#### Imputing Weight"
   ]
  },
  {
   "cell_type": "code",
   "execution_count": 42,
   "id": "31ee4479",
   "metadata": {},
   "outputs": [
    {
     "data": {
      "text/plain": [
       "0"
      ]
     },
     "execution_count": 42,
     "metadata": {},
     "output_type": "execute_result"
    }
   ],
   "source": [
    "# Function to impute missing weight values\n",
    "def impute_weight(row):\n",
    "    if pd.isna(row['weight_kg_adm']):\n",
    "        if row['sex_adm'] == 'Male':\n",
    "            # Get the median weight for boys based on the agecalc_adm\n",
    "            ref = boys_wfa[boys_wfa['Months'] == row['agecalc_adm_rounded']]['Median'].values[0]\n",
    "        else:\n",
    "            # Get the median weight for girls based on the agecalc_adm\n",
    "            ref = girls_wfa[girls_wfa['Months'] == row['agecalc_adm_rounded']]['Median'].values[0]\n",
    "        return ref\n",
    "    return row['weight_kg_adm']\n",
    "\n",
    "# Apply the imputation to the dataset\n",
    "sepsis_df['weight_kg_adm'] = sepsis_df.apply(impute_weight, axis=1)\n",
    "\n",
    "# Check for missing values again\n",
    "sepsis_df['weight_kg_adm'].isna().sum()"
   ]
  },
  {
   "cell_type": "markdown",
   "id": "c9016109",
   "metadata": {},
   "source": [
    "___\n",
    "**'weight\\_kg\\_adm'** Missing weight values were imputed using WHO median weight-for-age data, separately for males and females. Age in months was rounded to match the WHO reference tables.\n",
    "___"
   ]
  },
  {
   "cell_type": "markdown",
   "id": "d0c8ccda",
   "metadata": {},
   "source": [
    "#### MUAC imputation based on age"
   ]
  },
  {
   "cell_type": "code",
   "execution_count": 45,
   "id": "f13daef6",
   "metadata": {},
   "outputs": [
    {
     "data": {
      "text/plain": [
       "0"
      ]
     },
     "execution_count": 45,
     "metadata": {},
     "output_type": "execute_result"
    }
   ],
   "source": [
    "# Loading the WHO dataset for girls\n",
    "who_girls = pd.read_csv(\"./acfa-girls-3-5-zscores.csv\")\n",
    "\n",
    "# Round age to match WHO months\n",
    "sepsis_df['age_months_rounded'] = sepsis_df['agecalc_adm'].round().astype(int)\n",
    "\n",
    "# Prepare WHO data\n",
    "who_clean = who_girls[['Month', 'SD0']].rename(columns={\n",
    "    'Month': 'age_months_rounded',\n",
    "    'SD0': 'who_median_muac'\n",
    "})\n",
    "\n",
    "# Merge on the rounded age\n",
    "sepsis_df = sepsis_df.merge(\n",
    "    who_clean,\n",
    "    on='age_months_rounded',\n",
    "    how='left',\n",
    "    suffixes=('', '_who')  # Adding a suffix '_who' to differentiate the columns\n",
    ")\n",
    "\n",
    "# Identify missing muac for female patients\n",
    "girls_mask = (sepsis_df['sex_adm'] == 'Female') & (sepsis_df['muac_mm_adm'].isna())\n",
    "\n",
    "# Impute with WHO median muac based on rounded age\n",
    "sepsis_df.loc[girls_mask, 'muac_mm_adm'] = sepsis_df.loc[girls_mask, 'who_median_muac']\n",
    "\n",
    "# Loading the WHO dataset for boys\n",
    "who_boys = pd.read_csv(\"./acfa-boys-3-5-zscores.csv\")\n",
    "\n",
    "# Round age to match WHO months\n",
    "sepsis_df['age_months_rounded'] = sepsis_df['agecalc_adm'].round().astype(int)\n",
    "\n",
    "# Prepare WHO data\n",
    "who_clean_boys = who_boys[['Month', 'SD0']].rename(columns={\n",
    "    'Month': 'age_months_rounded',\n",
    "    'SD0': 'who_median_muac'\n",
    "})\n",
    "\n",
    "# Merge on the rounded age\n",
    "sepsis_df = sepsis_df.merge(\n",
    "    who_clean_boys,\n",
    "    on='age_months_rounded',\n",
    "    how='left',\n",
    "    suffixes=('', '_who')  # Adding a suffix '_who' to differentiate the columns\n",
    ")\n",
    "\n",
    "# Identify missing heights for male patients\n",
    "boys_mask = (sepsis_df['sex_adm'] == 'Male') & (sepsis_df['muac_mm_adm'].isna())\n",
    "\n",
    "# Impute with WHO median height based on rounded age for boys\n",
    "sepsis_df.loc[boys_mask, 'muac_mm_adm'] = sepsis_df.loc[boys_mask, 'who_median_muac']\n",
    "\n",
    "# Check for missing values again\n",
    "sepsis_df['muac_mm_adm'].isna().sum()"
   ]
  },
  {
   "cell_type": "markdown",
   "id": "39398d2c",
   "metadata": {},
   "source": [
    "___\n",
    "**\"muac_mm_adm\"** was imputed by grouping the data based on age_group, weight quintiles (weight_group), and sex_adm, then filling missing values with the mean MUAC within each subgroup.\n",
    "___"
   ]
  },
  {
   "cell_type": "markdown",
   "id": "e9872451",
   "metadata": {},
   "source": [
    "#####  Imputing 'hematocrit_gpdl_adm' column"
   ]
  },
  {
   "cell_type": "code",
   "execution_count": 48,
   "id": "d44767f3",
   "metadata": {},
   "outputs": [],
   "source": [
    "\n",
    "# Step 1: Define the age group bins\n",
    "def assign_age_group(age_months):\n",
    "    if age_months < 6:\n",
    "        return '3-6 month'\n",
    "    elif age_months < 12:\n",
    "        return '6-1yr'\n",
    "    elif age_months < 24:\n",
    "        return '1-2yr'\n",
    "    elif age_months < 36:\n",
    "        return '2-3yr'\n",
    "    elif age_months < 48:\n",
    "        return '3-4yr'\n",
    "    elif age_months < 60:\n",
    "        return '4-5yr'\n",
    "    elif age_months < 72:\n",
    "        return '5-6yr'\n",
    "    else:\n",
    "        return 'older'\n",
    "\n",
    "# Step 2: Create 'age_group' column\n",
    "sepsis_df['age_group'] = sepsis_df['agecalc_adm'].apply(assign_age_group)\n",
    "\n",
    "# Step 3: Group by age_group and sex_adm, then impute hematocrit\n",
    "sepsis_df['hematocrit_gpdl_adm'] = sepsis_df.groupby(['age_group', 'sex_adm'])['hematocrit_gpdl_adm']\\\n",
    "    .transform(lambda x: x.fillna(x.mean()))\n"
   ]
  },
  {
   "cell_type": "markdown",
   "id": "38917efa",
   "metadata": {},
   "source": [
    "___\n",
    "\" hematocrit_gpdl_adm \" was imputed using a logical, group-based approach. Since hematocrit levels vary by age and sex, first  patients were categorized into age groups and then grouped the data by both age_group and sex_adm.\n",
    "Within each group, missing hematocrit values were filled using the mean of that group, ensuring the imputation respects biologically relevant differences.\n",
    "___"
   ]
  },
  {
   "cell_type": "markdown",
   "id": "16f0eaf3",
   "metadata": {},
   "source": [
    "##### Imputing 'lactate_mmolpl_adm' column"
   ]
  },
  {
   "cell_type": "code",
   "execution_count": 51,
   "id": "74dca3ef",
   "metadata": {},
   "outputs": [],
   "source": [
    "# Step 1: Create shock index\n",
    "sepsis_df['shockindex_heart_rate_sbp_adm'] = sepsis_df['hr_bpm_adm'] / sepsis_df['sysbp_mmhg_adm']\n",
    "\n",
    "# Step 2: Create high-risk indicator based on SpO2 and shock index\n",
    "sepsis_df['high_risk'] = ((sepsis_df['spo2site1_pc_oxi_adm'] < 90) | \n",
    "                          (sepsis_df['shockindex_heart_rate_sbp_adm'] > 1)).astype(int)\n",
    "\n",
    "# Step 3: Impute lactate using median within risk groups (only one transform needed)\n",
    "sepsis_df['lactate_mmolpl_adm'] = sepsis_df.groupby('high_risk')['lactate_mmolpl_adm']\\\n",
    "                                           .transform(lambda x: x.fillna(x.median()))\n"
   ]
  },
  {
   "cell_type": "markdown",
   "id": "f2987938",
   "metadata": {},
   "source": [
    "___\n",
    "\"shockindex_heart_rate_sbp_adm\" was created to aid imputation of missing values in the \"lactate_mmolpl_adm\" column. It was derived from \"hr_bpm_adm\" and \"sysbp_mmhg_adm\"  columns. \n",
    "\n",
    "* Created a `high_risk` flag for patients with SpO₂ < 90 or shock index > 1.\n",
    "  These thresholds are clinically meaningful indicators of potential instability.\n",
    "* Imputed missing `lactate_mmolpl_adm` values using the median within each risk group.\n",
    "  This ensures imputation is done in a context-sensitive way, preserving group-level distribution patterns.\n",
    "  \n",
    "___"
   ]
  },
  {
   "cell_type": "markdown",
   "id": "d11cb961",
   "metadata": {},
   "source": [
    "##### **Imputing 'spo2site1_pc_oxi_adm' and 'spo2site1_pc_oxi_adm'**"
   ]
  },
  {
   "cell_type": "code",
   "execution_count": 54,
   "id": "df7661fd",
   "metadata": {},
   "outputs": [],
   "source": [
    "# Use spo2site2 to fill missing values in spo2site1\n",
    "sepsis_df['spo2site1_pc_oxi_adm'] = sepsis_df['spo2site1_pc_oxi_adm'].fillna(\n",
    "    sepsis_df['spo2site2_pc_oxi_adm']\n",
    ")\n",
    "\n",
    "# Use spo2site1 to fill missing values in spo2site2\n",
    "sepsis_df['spo2site2_pc_oxi_adm'] = sepsis_df['spo2site2_pc_oxi_adm'].fillna(\n",
    "    sepsis_df['spo2site1_pc_oxi_adm']\n",
    ")\n"
   ]
  },
  {
   "cell_type": "markdown",
   "id": "dbd10b85",
   "metadata": {},
   "source": [
    "##### Checking if we still have missing values"
   ]
  },
  {
   "cell_type": "code",
   "execution_count": 56,
   "id": "a916e1b8",
   "metadata": {},
   "outputs": [
    {
     "data": {
      "text/plain": [
       "4"
      ]
     },
     "execution_count": 56,
     "metadata": {},
     "output_type": "execute_result"
    }
   ],
   "source": [
    "sepsis_df['spo2site1_pc_oxi_adm'].isnull().sum()"
   ]
  },
  {
   "cell_type": "code",
   "execution_count": 57,
   "id": "330a416b",
   "metadata": {},
   "outputs": [
    {
     "data": {
      "text/plain": [
       "4"
      ]
     },
     "execution_count": 57,
     "metadata": {},
     "output_type": "execute_result"
    }
   ],
   "source": [
    "sepsis_df['spo2site2_pc_oxi_adm'].isnull().sum()"
   ]
  },
  {
   "cell_type": "markdown",
   "id": "2d0c6c26",
   "metadata": {},
   "source": [
    "##### imputing the missing values "
   ]
  },
  {
   "cell_type": "code",
   "execution_count": 59,
   "id": "dd82b0e7",
   "metadata": {},
   "outputs": [],
   "source": [
    "# Create age group\n",
    "sepsis_df['age_group2'] = sepsis_df['agecalc_adm'].apply(lambda x: '<1yr' if x < 1 else '≥1yr')\n",
    "\n",
    "# Impute SpO2 site 1\n",
    "sepsis_df['spo2site1_pc_oxi_adm'] = sepsis_df.groupby('age_group2')['spo2site1_pc_oxi_adm']\\\n",
    "                                             .transform(lambda x: x.fillna(x.median()))\n",
    "\n",
    "# Impute SpO2 site 2\n",
    "sepsis_df['spo2site2_pc_oxi_adm'] = sepsis_df.groupby('age_group2')['spo2site2_pc_oxi_adm']\\\n",
    "                                             .transform(lambda x: x.fillna(x.median()))"
   ]
  },
  {
   "cell_type": "markdown",
   "id": "0ce2da8c",
   "metadata": {},
   "source": [
    "___\n",
    "The columns **'spo2site1\\_pc\\_oxi\\_adm'** and **'spo2site2\\_pc\\_oxi\\_adm'** represent oxygen saturation levels (percentage of hemoglobin carrying oxygen) from two different body sites. Since both measure similar values, **cross imputation** was used to fill missing values. However, 4 missing values were observed, suggesting that 4 rows were missing data for both columns. To account for age-related physiological differences (e.g., respiratory rate, oxygen saturation, heart rate), an **age\\_group2** variable was created to categorize patients as <1 year or ≥1 year. Missing SpO₂ values were then imputed using the median within each age group.\n",
    "___"
   ]
  },
  {
   "cell_type": "markdown",
   "id": "876495c9",
   "metadata": {},
   "source": [
    "#### **Imputing 'sqi1_perc_oxi_adm' and 'sqi2_perc_oxi_adm'**"
   ]
  },
  {
   "cell_type": "code",
   "execution_count": 62,
   "id": "ccd31dbf",
   "metadata": {},
   "outputs": [],
   "source": [
    "# Step 1: Use cross-SQI imputation\n",
    "sepsis_df['sqi1_perc_oxi_adm'] = sepsis_df['sqi1_perc_oxi_adm'].fillna(sepsis_df['sqi2_perc_oxi_adm'])\n",
    "sepsis_df['sqi2_perc_oxi_adm'] = sepsis_df['sqi2_perc_oxi_adm'].fillna(sepsis_df['sqi1_perc_oxi_adm'])"
   ]
  },
  {
   "cell_type": "markdown",
   "id": "2a80bce1",
   "metadata": {},
   "source": [
    "#### Checking if we still have missing values"
   ]
  },
  {
   "cell_type": "code",
   "execution_count": 64,
   "id": "6dd4bc58",
   "metadata": {},
   "outputs": [
    {
     "data": {
      "text/plain": [
       "126"
      ]
     },
     "execution_count": 64,
     "metadata": {},
     "output_type": "execute_result"
    }
   ],
   "source": [
    "sepsis_df['sqi1_perc_oxi_adm'].isnull().sum()"
   ]
  },
  {
   "cell_type": "code",
   "execution_count": 65,
   "id": "0f311d7d",
   "metadata": {},
   "outputs": [
    {
     "data": {
      "text/plain": [
       "126"
      ]
     },
     "execution_count": 65,
     "metadata": {},
     "output_type": "execute_result"
    }
   ],
   "source": [
    "sepsis_df['sqi2_perc_oxi_adm'].isnull().sum()"
   ]
  },
  {
   "cell_type": "code",
   "execution_count": 66,
   "id": "23f90d6f",
   "metadata": {},
   "outputs": [],
   "source": [
    "# Imputing the rest with median\n",
    "sepsis_df['sqi1_perc_oxi_adm'] = sepsis_df['sqi1_perc_oxi_adm'].fillna(sepsis_df['sqi1_perc_oxi_adm'].median())\n",
    "sepsis_df['sqi2_perc_oxi_adm'] = sepsis_df['sqi2_perc_oxi_adm'].fillna(sepsis_df['sqi2_perc_oxi_adm'].median())"
   ]
  },
  {
   "cell_type": "markdown",
   "id": "7a877663",
   "metadata": {},
   "source": [
    "___\n",
    "The columns **'sqi1\\_perc\\_oxi\\_adm'** and **'sqi2\\_perc\\_oxi\\_adm'** represent the best and second-best SpO₂ signal quality index at admission. \n",
    "* **`sqi1_perc_oxi_adm`** = Highest quality SpO₂ signal among all measured sites at admission.\n",
    "* **`sqi2_perc_oxi_adm`** = Second-best quality SpO₂ signal from a different site at admission.\n",
    "Since they are related, **cross-imputation** was applied. However, 126 rows remained missing for both columns, so the remaining missing values were filled using the median.\n",
    "___"
   ]
  },
  {
   "cell_type": "code",
   "execution_count": 68,
   "id": "16963e77",
   "metadata": {},
   "outputs": [
    {
     "data": {
      "text/html": [
       "<div>\n",
       "<style scoped>\n",
       "    .dataframe tbody tr th:only-of-type {\n",
       "        vertical-align: middle;\n",
       "    }\n",
       "\n",
       "    .dataframe tbody tr th {\n",
       "        vertical-align: top;\n",
       "    }\n",
       "\n",
       "    .dataframe thead th {\n",
       "        text-align: right;\n",
       "    }\n",
       "</style>\n",
       "<table border=\"1\" class=\"dataframe\">\n",
       "  <thead>\n",
       "    <tr style=\"text-align: right;\">\n",
       "      <th></th>\n",
       "      <th>Column</th>\n",
       "      <th>Data Type</th>\n",
       "      <th>Missing Values</th>\n",
       "      <th>Missing %</th>\n",
       "      <th>Unique Values</th>\n",
       "    </tr>\n",
       "  </thead>\n",
       "  <tbody>\n",
       "    <tr>\n",
       "      <th>0</th>\n",
       "      <td>studyid_adm</td>\n",
       "      <td>int64</td>\n",
       "      <td>0</td>\n",
       "      <td>0.000000</td>\n",
       "      <td>2686</td>\n",
       "    </tr>\n",
       "    <tr>\n",
       "      <th>70</th>\n",
       "      <td>diarrheaoften_adm</td>\n",
       "      <td>object</td>\n",
       "      <td>0</td>\n",
       "      <td>0.000000</td>\n",
       "      <td>3</td>\n",
       "    </tr>\n",
       "    <tr>\n",
       "      <th>69</th>\n",
       "      <td>prioryearcough_adm</td>\n",
       "      <td>object</td>\n",
       "      <td>0</td>\n",
       "      <td>0.000000</td>\n",
       "      <td>4</td>\n",
       "    </tr>\n",
       "    <tr>\n",
       "      <th>66</th>\n",
       "      <td>comorbidity_adm___12</td>\n",
       "      <td>object</td>\n",
       "      <td>0</td>\n",
       "      <td>0.000000</td>\n",
       "      <td>2</td>\n",
       "    </tr>\n",
       "    <tr>\n",
       "      <th>65</th>\n",
       "      <td>comorbidity_adm___11</td>\n",
       "      <td>object</td>\n",
       "      <td>0</td>\n",
       "      <td>0.000000</td>\n",
       "      <td>2</td>\n",
       "    </tr>\n",
       "    <tr>\n",
       "      <th>...</th>\n",
       "      <td>...</td>\n",
       "      <td>...</td>\n",
       "      <td>...</td>\n",
       "      <td>...</td>\n",
       "      <td>...</td>\n",
       "    </tr>\n",
       "    <tr>\n",
       "      <th>76</th>\n",
       "      <td>birthattend_adm</td>\n",
       "      <td>object</td>\n",
       "      <td>30</td>\n",
       "      <td>1.116902</td>\n",
       "      <td>5</td>\n",
       "    </tr>\n",
       "    <tr>\n",
       "      <th>107</th>\n",
       "      <td>hctpretransfusion_adm</td>\n",
       "      <td>object</td>\n",
       "      <td>43</td>\n",
       "      <td>1.600894</td>\n",
       "      <td>2</td>\n",
       "    </tr>\n",
       "    <tr>\n",
       "      <th>35</th>\n",
       "      <td>vaccdptsource_adm</td>\n",
       "      <td>object</td>\n",
       "      <td>143</td>\n",
       "      <td>5.323902</td>\n",
       "      <td>2</td>\n",
       "    </tr>\n",
       "    <tr>\n",
       "      <th>33</th>\n",
       "      <td>vaccpneumocsource_adm</td>\n",
       "      <td>object</td>\n",
       "      <td>185</td>\n",
       "      <td>6.887565</td>\n",
       "      <td>2</td>\n",
       "    </tr>\n",
       "    <tr>\n",
       "      <th>13</th>\n",
       "      <td>momagefirstpreg_adm</td>\n",
       "      <td>float64</td>\n",
       "      <td>224</td>\n",
       "      <td>8.339538</td>\n",
       "      <td>23</td>\n",
       "    </tr>\n",
       "  </tbody>\n",
       "</table>\n",
       "<p>123 rows × 5 columns</p>\n",
       "</div>"
      ],
      "text/plain": [
       "                    Column Data Type  Missing Values  Missing %  Unique Values\n",
       "0              studyid_adm     int64               0   0.000000           2686\n",
       "70       diarrheaoften_adm    object               0   0.000000              3\n",
       "69      prioryearcough_adm    object               0   0.000000              4\n",
       "66    comorbidity_adm___12    object               0   0.000000              2\n",
       "65    comorbidity_adm___11    object               0   0.000000              2\n",
       "..                     ...       ...             ...        ...            ...\n",
       "76         birthattend_adm    object              30   1.116902              5\n",
       "107  hctpretransfusion_adm    object              43   1.600894              2\n",
       "35       vaccdptsource_adm    object             143   5.323902              2\n",
       "33   vaccpneumocsource_adm    object             185   6.887565              2\n",
       "13     momagefirstpreg_adm   float64             224   8.339538             23\n",
       "\n",
       "[123 rows x 5 columns]"
      ]
     },
     "execution_count": 68,
     "metadata": {},
     "output_type": "execute_result"
    }
   ],
   "source": [
    "#Create a summary DataFrame of column characteristics\n",
    "\n",
    "column_summary= pd.DataFrame({'Column': sepsis_df.columns, \n",
    "                              'Data Type': sepsis_df.dtypes.values,\n",
    "                              'Missing Values': sepsis_df.isnull().sum().values,\n",
    "                              'Missing %': (sepsis_df.isnull().mean() * 100).values,\n",
    "                              'Unique Values': sepsis_df.nunique().values})\n",
    "column_summary.sort_values(\"Missing %\")"
   ]
  },
  {
   "cell_type": "markdown",
   "id": "87bf1b5d",
   "metadata": {},
   "source": [
    "#### **Imputing the columns that do not need logical imputing and have skewed distribution**"
   ]
  },
  {
   "cell_type": "code",
   "execution_count": 70,
   "id": "82dbb14b",
   "metadata": {},
   "outputs": [],
   "source": [
    "# Select numerical columns with missing values\n",
    "num_cols_with_na = sepsis_df.select_dtypes(include=np.number).columns[sepsis_df.select_dtypes(include=np.number).isna().any()]\n",
    "# List of columns to exclude\n",
    "exclude_cols = ['muac_mm_adm', 'sysbp_mmhg_adm', 'diasbp_mmhg_adm', 'hematocrit_gpdl_adm',\n",
    "                'height_cm_adm', 'weight_kg_adm', 'lactate_mmolpl_adm', 'spo2site1_pc_oxi_adm',\n",
    "                'spo2site2_pc_oxi_adm', 'sqi1_perc_oxi_adm', 'sqi2_perc_oxi_adm']\n",
    "# Drop those columns from the list\n",
    "filtered_num_cols = [col for col in num_cols_with_na if col not in exclude_cols]\n",
    "\n",
    "# Impute the remaining numerical columns with median\n",
    "sepsis_df[filtered_num_cols] = sepsis_df[filtered_num_cols].apply(lambda col: col.fillna(col.median()))"
   ]
  },
  {
   "cell_type": "markdown",
   "id": "dc17e9fd",
   "metadata": {},
   "source": [
    "#### **Filling Categorical columns**"
   ]
  },
  {
   "cell_type": "markdown",
   "id": "3c386021",
   "metadata": {},
   "source": [
    "#### Imputing 'bcseye_adm' and 'bcsverbal_adm'"
   ]
  },
  {
   "cell_type": "code",
   "execution_count": 73,
   "id": "ee71bf83",
   "metadata": {},
   "outputs": [
    {
     "name": "stdout",
     "output_type": "stream",
     "text": [
      "                               bcsmotor_adm  \\\n",
      "1388  No response or inappropriate response   \n",
      "\n",
      "                                          bcsverbal_adm  \n",
      "1388  Cries appropriately with pain, or, if verbal, ...  \n",
      "bcseye_adm                                                     NaN\n",
      "bcsmotor_adm                 No response or inappropriate response\n",
      "bcsverbal_adm    Cries appropriately with pain, or, if verbal, ...\n",
      "Name: 1388, dtype: object\n",
      "              bcseye_adm                          bcsmotor_adm\n",
      "507   Watches or follows  Withdraws limb from painful stimulus\n",
      "1205  Watches or follows  Withdraws limb from painful stimulus\n"
     ]
    }
   ],
   "source": [
    "# Identify rows where 'bcseye_adm' is missing\n",
    "missing_eye = sepsis_df['bcseye_adm'].isna()\n",
    "\n",
    "# Print the corresponding 'bcsmotor_adm' and 'bcsverbal_adm' values where 'bcseye_adm' is missing\n",
    "print(sepsis_df[missing_eye][['bcsmotor_adm', 'bcsverbal_adm']])\n",
    "\n",
    "# Verifying the exact patient record\n",
    "patient_1388 = sepsis_df.loc[1388, ['bcseye_adm', 'bcsmotor_adm', 'bcsverbal_adm']]\n",
    "print(patient_1388)\n",
    "\n",
    "# Impute missing as \"NoFollow\" (most severe neurological status)\n",
    "sepsis_df['bcseye_adm'] = sepsis_df['bcseye_adm'].fillna(\"Fails to watch or follow\")\n",
    "\n",
    "# Identify rows where 'bcsverbal_adm' (verbal response) is missing\n",
    "missing_verbal = sepsis_df['bcsverbal_adm'].isna()\n",
    "\n",
    "# Display corresponding eye and motor responses for those rows\n",
    "print(sepsis_df[missing_verbal][['bcseye_adm', 'bcsmotor_adm']])\n",
    "\n",
    "# Filter records with the same eye/motor scores to find the most frequent verbal response\n",
    "subgroup_mask = (\n",
    "    (sepsis_df['bcseye_adm'] == 'Watches or follows') & \n",
    "    (sepsis_df['bcsmotor_adm'] == 'Withdraws limb from painful stimulus')\n",
    ")\n",
    "mode_verbal = sepsis_df[subgroup_mask]['bcsverbal_adm'].mode()[0]  # Most common in this subgroup\n",
    "\n",
    "# Apply to missing cases\n",
    "sepsis_df.loc[[507, 1205], 'bcsverbal_adm'] = mode_verbal"
   ]
  },
  {
   "cell_type": "markdown",
   "id": "d7028a2b",
   "metadata": {},
   "source": [
    "___\n",
    "Missing values in **`bcseye_adm`** were imputed with `\"NoFollow\"`(worst case).\n",
    "For **`bcsverbal_adm`**, missing entries were imputed using the **most common value** from a defined subgroup (based on specific eye and motor responses: `\"Watches or follows\"` and `\"Withdraws limb from painful stimulus\"`). This approach ensures context-aware imputation.\n",
    "___"
   ]
  },
  {
   "cell_type": "markdown",
   "id": "99fe897d",
   "metadata": {},
   "source": [
    "#### Imputing HIV status"
   ]
  },
  {
   "cell_type": "code",
   "execution_count": 76,
   "id": "57e241e1",
   "metadata": {},
   "outputs": [],
   "source": [
    "sepsis_df['hivstatus_adm'] = sepsis_df['hivstatus_adm'].fillna('NotTested')"
   ]
  },
  {
   "cell_type": "markdown",
   "id": "7b6cc42c",
   "metadata": {},
   "source": [
    "___\n",
    "The column **'hivstatus\\_adm'** was imputed with **'NotTested'** since it was challenging to reliably estimate the missing values using the same or related columns.\n",
    "___"
   ]
  },
  {
   "cell_type": "markdown",
   "id": "0ecb9e04",
   "metadata": {},
   "source": [
    "#### Imputing hctpretransfusion_adm\n"
   ]
  },
  {
   "cell_type": "code",
   "execution_count": 79,
   "id": "a2f14ae8",
   "metadata": {},
   "outputs": [
    {
     "data": {
      "text/plain": [
       "Text(0.5, 1.0, 'Boxplot of Hematocrit by Pre-Transfusion Status')"
      ]
     },
     "execution_count": 79,
     "metadata": {},
     "output_type": "execute_result"
    },
    {
     "data": {
      "image/png": "[encoded data removed]",
      "text/plain": [
       "<Figure size 640x480 with 1 Axes>"
      ]
     },
     "metadata": {},
     "output_type": "display_data"
    }
   ],
   "source": [
    "sns.boxplot(sepsis_df,x=\"hctpretransfusion_adm\",y=\"hematocrit_gpdl_adm\")\n",
    "plt.title(\"Boxplot of Hematocrit by Pre-Transfusion Status\")"
   ]
  },
  {
   "cell_type": "code",
   "execution_count": 80,
   "id": "330c0b10",
   "metadata": {},
   "outputs": [],
   "source": [
    "# First, calculate mode (most frequent value)\n",
    "mode_value = sepsis_df['hctpretransfusion_adm'].mode()[0]\n",
    "\n",
    "# Define custom function\n",
    "def impute_hctpretransfusion(row):\n",
    "    if pd.isna(row['hctpretransfusion_adm']):\n",
    "        if row['hematocrit_gpdl_adm'] < 10 or row['hematocrit_gpdl_adm'] > 50:\n",
    "            return 'Yes'\n",
    "        else:\n",
    "            return mode_value\n",
    "    else:\n",
    "        return row['hctpretransfusion_adm']\n",
    "\n",
    "# Apply the function to fill missing values\n",
    "sepsis_df['hctpretransfusion_adm'] = sepsis_df.apply(impute_hctpretransfusion,axis=1)"
   ]
  },
  {
   "cell_type": "markdown",
   "id": "2e2639ae",
   "metadata": {},
   "source": [
    "___\n",
    "**\"hctpretransfusion\\_adm\"** was imputed using a **distribution-based method** guided by a box plot analysis. Since the upper whisker for “No” responses was around 50 and the lower whisker around 10 (based on hematocrit values), missing entries with hematocrit values outside this range were classified as **\"Yes\"**. The remaining missing values were filled using the **mode**.\n",
    "___\n"
   ]
  },
  {
   "cell_type": "markdown",
   "id": "45192614",
   "metadata": {},
   "source": [
    "#### Imputing the columns that do not need logical imputing with mode"
   ]
  },
  {
   "cell_type": "code",
   "execution_count": 83,
   "id": "b1ab144d",
   "metadata": {},
   "outputs": [],
   "source": [
    "# List of categorical columns to exclude from imputation\n",
    "exclude_cat_cols = ['bcseye_adm', 'bcsverbal_adm', 'hivstatus_adm', 'hctpretransfusion_adm']\n",
    "\n",
    "# Select categorical columns with missing values\n",
    "cat_cols_with_na = [col for col in sepsis_df.select_dtypes(include='object').columns \n",
    "                    if sepsis_df[col].isna().sum() > 0]\n",
    "\n",
    "# Drop excluded columns\n",
    "filtered_cat_cols = [col for col in cat_cols_with_na if col not in exclude_cat_cols]\n",
    "\n",
    "# Impute remaining categorical columns with mode\n",
    "for col in filtered_cat_cols:\n",
    "    mode_val = sepsis_df[col].mode(dropna=True)[0]\n",
    "    sepsis_df[col] = sepsis_df[col].fillna(mode_val)\n"
   ]
  },
  {
   "cell_type": "markdown",
   "id": "86c1321f",
   "metadata": {},
   "source": [
    "#### Checking for missing values again"
   ]
  },
  {
   "cell_type": "code",
   "execution_count": 85,
   "id": "57364695",
   "metadata": {},
   "outputs": [
    {
     "data": {
      "text/plain": [
       "studyid_adm                      0\n",
       "agecalc_adm                      0\n",
       "height_cm_adm                    0\n",
       "weight_kg_adm                    0\n",
       "muac_mm_adm                      0\n",
       "                                ..\n",
       "who_median_muac_who              0\n",
       "age_group                        0\n",
       "shockindex_heart_rate_sbp_adm    0\n",
       "high_risk                        0\n",
       "age_group2                       0\n",
       "Length: 123, dtype: int64"
      ]
     },
     "execution_count": 85,
     "metadata": {},
     "output_type": "execute_result"
    }
   ],
   "source": [
    "sepsis_df.isnull().sum()"
   ]
  },
  {
   "cell_type": "markdown",
   "id": "d3a98e11",
   "metadata": {},
   "source": [
    "No missing values observed"
   ]
  },
  {
   "cell_type": "code",
   "execution_count": 87,
   "id": "a197d49e",
   "metadata": {},
   "outputs": [],
   "source": [
    "#sepsis_df.to_csv(\"sepsis_cleaned.csv\", index=False)\n"
   ]
  },
  {
   "cell_type": "markdown",
   "id": "6154d254",
   "metadata": {},
   "source": [
    "#### Dropping columns that were added for the sake of data cleaning"
   ]
  },
  {
   "cell_type": "code",
   "execution_count": 89,
   "id": "36814736",
   "metadata": {},
   "outputs": [],
   "source": [
    "sepsis_df.columns.get_loc('inhospital_mortality')\n",
    "sepsis_df = sepsis_df.drop(sepsis_df.columns[113:], axis=1)"
   ]
  },
  {
   "cell_type": "markdown",
   "id": "3b670ead",
   "metadata": {},
   "source": [
    "The above code drops all the columns that were added for the purpose of data  cleaning."
   ]
  },
  {
   "cell_type": "markdown",
   "id": "b4402457",
   "metadata": {},
   "source": [
    "### Hypothesis Testing\n",
    "\n",
    "To better understand which features are potentially associated with **in-hospital mortality**, we performed hypothesis testing for both **categorical** and **continuous** variables. This helps us identify variables that exhibit statistically significant differences between patients who **survived (0)** and those who **died (1)** during hospitalization.\n",
    "\n",
    "---\n",
    "\n",
    "#### Categorical Features – Chi-Square Test of Independence\n",
    "\n",
    "This test evaluates whether there is a significant association between each categorical variable and the target outcome.\n",
    "\n",
    "- **Null Hypothesis (H₀):** There is no association between the categorical feature and in-hospital mortality.  \n",
    "- **Alternative Hypothesis (H₁):** There is a significant association between the categorical feature and in-hospital mortality.\n",
    "\n",
    "---\n",
    "\n",
    "#### Continuous Features – Mann-Whitney U Test\n",
    "\n",
    "This non-parametric test is used to compare the distributions of two independent groups. It is preferred here due to the likely non-normal distribution of clinical measurements.\n",
    "\n",
    "- **Null Hypothesis (H₀):** The distributions of the continuous variable are equal for survivors and non-survivors.  \n",
    "- **Alternative Hypothesis (H₁):** The distributions of the continuous variable differ between survivors and non-survivors.\n",
    "\n",
    "---\n",
    "\n",
    "By identifying features with **low p-values** (typically **p < 0.01**), we can prioritize them in downstream modeling, as they may hold predictive value for mortality outcomes.\n",
    "\n"
   ]
  },
  {
   "cell_type": "code",
   "execution_count": 92,
   "id": "9a3678e4",
   "metadata": {},
   "outputs": [
    {
     "name": "stdout",
     "output_type": "stream",
     "text": [
      "\n",
      "--- Chi-Square Test Results ---\n",
      "sex_adm: p-value = 0.5463\n",
      "spo2onoxy_adm: p-value = 0.0000\n",
      "oxygenavail_adm: p-value = 0.0000\n",
      "respdistress_adm: p-value = 0.0002\n",
      "caprefill_adm: p-value = 0.0064\n",
      "bcseye_adm: p-value = 0.0000\n",
      "bcsmotor_adm: p-value = 0.0000\n",
      "bcsverbal_adm: p-value = 0.0000\n",
      "bcgscar_adm: p-value = 0.0002\n",
      "vaccmeasles_adm: p-value = 0.8093\n",
      "vaccpneumoc_adm: p-value = 0.0492\n",
      "vaccpneumocsource_adm: p-value = 0.9819\n",
      "vaccdpt_adm: p-value = 0.0303\n",
      "vaccdptsource_adm: p-value = 0.7855\n",
      "priorweekabx_adm: p-value = 0.9838\n",
      "priorweekantimal_adm: p-value = 0.7438\n",
      "symptoms_adm___1: p-value = 0.8541\n",
      "symptoms_adm___2: p-value = 0.0919\n",
      "symptoms_adm___3: p-value = 0.0365\n",
      "symptoms_adm___4: p-value = 0.1887\n",
      "symptoms_adm___5: p-value = 0.9805\n",
      "symptoms_adm___6: p-value = 0.7932\n",
      "symptoms_adm___7: p-value = 0.3056\n",
      "symptoms_adm___8: p-value = 0.6099\n",
      "symptoms_adm___9: p-value = 0.6950\n",
      "symptoms_adm___10: p-value = 0.7872\n",
      "symptoms_adm___11: p-value = 0.7196\n",
      "symptoms_adm___12: p-value = 0.5825\n",
      "symptoms_adm___13: p-value = 1.0000\n",
      "symptoms_adm___14: p-value = 0.0001\n",
      "symptoms_adm___15: p-value = 0.0000\n",
      "symptoms_adm___16: p-value = 0.7991\n",
      "comorbidity_adm___1: p-value = 0.8088\n",
      "comorbidity_adm___2: p-value = 1.0000\n",
      "comorbidity_adm___3: p-value = 1.0000\n",
      "comorbidity_adm___5: p-value = 0.1148\n",
      "comorbidity_adm___6: p-value = 0.9645\n",
      "comorbidity_adm___7: p-value = 0.1129\n",
      "comorbidity_adm___8: p-value = 1.0000\n",
      "comorbidity_adm___9: p-value = 1.0000\n",
      "comorbidity_adm___10: p-value = 0.0144\n",
      "comorbidity_adm___11: p-value = 0.2102\n",
      "comorbidity_adm___12: p-value = 0.4654\n",
      "priorhosp_adm: p-value = 0.0387\n",
      "prioryearwheeze_adm: p-value = 0.3286\n",
      "prioryearcough_adm: p-value = 0.2718\n",
      "diarrheaoften_adm: p-value = 0.0063\n",
      "tbcontact_adm: p-value = 0.9278\n",
      "feedingstatus_adm: p-value = 0.0000\n",
      "exclbreastfed_adm: p-value = 0.0487\n",
      "totalbreastfed_adm: p-value = 0.0018\n",
      "deliveryloc_adm: p-value = 0.0870\n",
      "birthattend_adm: p-value = 0.3591\n",
      "duedateknown_adm: p-value = 0.9241\n",
      "birthdetail_adm___1: p-value = 0.3663\n",
      "birthdetail_adm___2: p-value = 0.8986\n",
      "birthdetail_adm___3: p-value = 0.7022\n",
      "birthdetail_adm___4: p-value = 0.4469\n",
      "birthdetail_adm___5: p-value = 1.0000\n",
      "birthdetail_adm___6: p-value = 0.7991\n",
      "travelmethod_adm: p-value = 0.4160\n",
      "traveldist_adm: p-value = 0.2841\n",
      "badhealthduration_adm: p-value = 0.1562\n",
      "caregiverage_adm: p-value = 0.9928\n",
      "caregivermarried_adm: p-value = 0.0008\n",
      "momalive_adm: p-value = 1.0000\n",
      "momageknown_adm: p-value = 0.1359\n",
      "momagefirstpregknown_adm: p-value = 0.8210\n",
      "momedu_adm: p-value = 0.9716\n",
      "momhiv_adm: p-value = 0.1189\n",
      "watersource_adm: p-value = 0.3706\n",
      "waterpure_adm: p-value = 0.0050\n",
      "cookfuel_adm___1: p-value = 1.0000\n",
      "cookfuel_adm___2: p-value = 0.2757\n",
      "cookfuel_adm___3: p-value = 0.7388\n",
      "cookfuel_adm___4: p-value = 0.3358\n",
      "cookfuel_adm___5: p-value = 0.2450\n",
      "cookfuel_adm___6: p-value = 0.3083\n",
      "cookfuel_adm___7: p-value = 0.6214\n",
      "cookloc_adm: p-value = 0.6817\n",
      "lightfuel_adm: p-value = 0.4326\n",
      "tobacco_adm: p-value = 0.0310\n",
      "bednet_adm: p-value = 0.0023\n",
      "hctpretransfusion_adm: p-value = 0.0062\n",
      "hivstatus_adm: p-value = 0.0438\n",
      "malariastatuspos_adm: p-value = 0.3491\n",
      "caregiver_adm_new: p-value = 0.4686\n",
      "\n",
      "--- Mann-Whitney U Test Results ---\n",
      "studyid_adm: p-value = 0.8853\n",
      "agecalc_adm: p-value = 0.9968\n",
      "height_cm_adm: p-value = 0.2235\n",
      "weight_kg_adm: p-value = 0.0041\n",
      "muac_mm_adm: p-value = 0.0032\n",
      "hr_bpm_adm: p-value = 0.2516\n",
      "rr_brpm_app_adm: p-value = 0.0790\n",
      "sysbp_mmhg_adm: p-value = 0.1424\n",
      "diasbp_mmhg_adm: p-value = 0.2097\n",
      "temp_c_adm: p-value = 0.1450\n",
      "spo2site1_pc_oxi_adm: p-value = 0.2565\n",
      "spo2site2_pc_oxi_adm: p-value = 0.1975\n",
      "momage_adm: p-value = 0.0152\n",
      "momagefirstpreg_adm: p-value = 0.1331\n",
      "householdsize_adm: p-value = 0.9525\n",
      "alivechildren_adm: p-value = 0.5765\n",
      "deadchildren_adm: p-value = 0.3246\n",
      "hematocrit_gpdl_adm: p-value = 0.0335\n",
      "lactate_mmolpl_adm: p-value = 0.0019\n",
      "glucose_mmolpl_adm: p-value = 0.0586\n",
      "sqi1_perc_oxi_adm: p-value = 0.8305\n",
      "sqi2_perc_oxi_adm: p-value = 0.8297\n",
      "lengthadm: p-value = 0.1838\n"
     ]
    }
   ],
   "source": [
    "# Separate the target\n",
    "target = 'inhospital_mortality'\n",
    "\n",
    "# 1. Identify categorical and continuous features (excluding target)\n",
    "categorical_features = sepsis_df.select_dtypes(include=['object', 'category', 'bool']).columns.tolist()\n",
    "continuous_features = sepsis_df.select_dtypes(include=['int64', 'float64']).drop(columns=[target]).columns.tolist()\n",
    "\n",
    "# 2. Chi-square test for categorical features\n",
    "print(\"\\n--- Chi-Square Test Results ---\")\n",
    "for col in categorical_features:\n",
    "    contingency_table = pd.crosstab(sepsis_df[col], sepsis_df[target])\n",
    "    if contingency_table.shape[0] > 1:\n",
    "        chi2, p, dof, _ = stats.chi2_contingency(contingency_table)\n",
    "        print(f\"{col}: p-value = {p:.4f}\")\n",
    "\n",
    "# 3. Mann-Whitney U Test for continuous features (non-parametric)\n",
    "print(\"\\n--- Mann-Whitney U Test Results ---\")\n",
    "for col in continuous_features:\n",
    "    survived = sepsis_df[sepsis_df[target] == 0][col]\n",
    "    died = sepsis_df[sepsis_df[target] == 1][col]\n",
    "    u_stat, p_value = stats.mannwhitneyu(survived, died, alternative='two-sided')\n",
    "    print(f\"{col}: p-value = {p_value:.4f}\")\n"
   ]
  },
  {
   "cell_type": "markdown",
   "id": "ef769fbe",
   "metadata": {},
   "source": [
    "#### Identifying Significant Columns based on p values"
   ]
  },
  {
   "cell_type": "code",
   "execution_count": 94,
   "id": "16bc8892",
   "metadata": {},
   "outputs": [
    {
     "name": "stdout",
     "output_type": "stream",
     "text": [
      "Total significant features (p < 0.01): 20\n",
      "['spo2onoxy_adm', 'oxygenavail_adm', 'respdistress_adm', 'caprefill_adm', 'bcseye_adm', 'bcsmotor_adm', 'bcsverbal_adm', 'bcgscar_adm', 'symptoms_adm___14', 'symptoms_adm___15', 'diarrheaoften_adm', 'feedingstatus_adm', 'totalbreastfed_adm', 'caregivermarried_adm', 'waterpure_adm', 'bednet_adm', 'hctpretransfusion_adm', 'weight_kg_adm', 'muac_mm_adm', 'lactate_mmolpl_adm']\n"
     ]
    }
   ],
   "source": [
    "import pandas as pd\n",
    "import scipy.stats as stats\n",
    "\n",
    "# 1. Separate categorical and continuous features\n",
    "target = 'inhospital_mortality'\n",
    "categorical_features = sepsis_df.select_dtypes(include=['object', 'category', 'bool']).columns.tolist()\n",
    "continuous_features = sepsis_df.select_dtypes(include=['int64', 'float64']).drop(columns=[target]).columns.tolist()\n",
    "\n",
    "# 2. Chi-Square test for categorical features\n",
    "significant_cat = []\n",
    "for col in categorical_features:\n",
    "    contingency = pd.crosstab(sepsis_df[col], sepsis_df[target])\n",
    "    if contingency.shape[0] > 1:\n",
    "        chi2, p, _, _ = stats.chi2_contingency(contingency)\n",
    "        if p < 0.01:\n",
    "            significant_cat.append(col)\n",
    "\n",
    "# 3. Mann-Whitney U Test for continuous features\n",
    "significant_cont = []\n",
    "for col in continuous_features:\n",
    "    group0 = sepsis_df[sepsis_df[target] == 0][col]\n",
    "    group1 = sepsis_df[sepsis_df[target] == 1][col]\n",
    "    try:\n",
    "        u_stat, p_value = stats.mannwhitneyu(group0, group1, alternative='two-sided')\n",
    "        if p_value < 0.01:\n",
    "            significant_cont.append(col)\n",
    "    except:\n",
    "        pass  # Skip if error due to too many NaNs or invalid inputs\n",
    "\n",
    "# 4. Combine and review\n",
    "significant_features = significant_cat + significant_cont\n",
    "print(f\"Total significant features (p < 0.01): {len(significant_features)}\")\n",
    "print(significant_features)\n"
   ]
  },
  {
   "cell_type": "markdown",
   "id": "373be7d1",
   "metadata": {},
   "source": [
    "___\n",
    "After applying the Chi Square and Mann-Whitney U Test the following columns appeared as significant columns:\n",
    "\n",
    "*Categorical Variables*\n",
    "- 'spo2onoxy_adm'\n",
    "- 'oxygenavail_adm'\n",
    "- 'respdistress_adm'\n",
    "- 'caprefill_adm'\n",
    "- 'bcseye_adm'\n",
    "- 'bcsmotor_adm'\n",
    "- 'bcsverbal_adm'\n",
    "- 'bcgscar_adm'\n",
    "- 'symptoms_adm___14'\n",
    "- 'symptoms_adm___15'\n",
    "- 'diarrheaoften_adm'\n",
    "- 'feedingstatus_adm'\n",
    "- 'totalbreastfed_adm'\n",
    "- 'caregivermarried_adm'\n",
    "- 'waterpure_adm'\n",
    "- 'bednet_adm'\n",
    "- 'hctpretransfusion_adm'\n",
    "\n",
    " *Numerical Variables*\n",
    "- 'weight_kg_adm'\n",
    "- 'muac_mm_adm'\n",
    "- 'lactate_mmolpl_adm'\n"
   ]
  },
  {
   "cell_type": "markdown",
   "id": "19ad5b09",
   "metadata": {},
   "source": [
    "### **Encoding Categorical Variables**"
   ]
  },
  {
   "cell_type": "markdown",
   "id": "c087c7ac",
   "metadata": {},
   "source": [
    "#### Identifying Categorical Variables"
   ]
  },
  {
   "cell_type": "code",
   "execution_count": 98,
   "id": "fdbf9233",
   "metadata": {},
   "outputs": [
    {
     "name": "stdout",
     "output_type": "stream",
     "text": [
      "        Categorical Variable  Unique Values Count\n",
      "0          symptoms_adm___18                    1\n",
      "1        comorbidity_adm___4                    1\n",
      "2        comorbidity_adm___2                    2\n",
      "3        comorbidity_adm___3                    2\n",
      "4        comorbidity_adm___5                    2\n",
      "5        comorbidity_adm___6                    2\n",
      "6        comorbidity_adm___7                    2\n",
      "7        comorbidity_adm___8                    2\n",
      "8        comorbidity_adm___9                    2\n",
      "9       comorbidity_adm___10                    2\n",
      "10      comorbidity_adm___11                    2\n",
      "11      malariastatuspos_adm                    2\n",
      "12          duedateknown_adm                    2\n",
      "13       birthdetail_adm___1                    2\n",
      "14       birthdetail_adm___2                    2\n",
      "15       comorbidity_adm___1                    2\n",
      "16                   sex_adm                    2\n",
      "17       birthdetail_adm___5                    2\n",
      "18       birthdetail_adm___6                    2\n",
      "19              momalive_adm                    2\n",
      "20           momageknown_adm                    2\n",
      "21  momagefirstpregknown_adm                    2\n",
      "22             waterpure_adm                    2\n",
      "23          cookfuel_adm___1                    2\n",
      "24          cookfuel_adm___2                    2\n",
      "25          cookfuel_adm___3                    2\n",
      "26          cookfuel_adm___4                    2\n",
      "27          cookfuel_adm___5                    2\n",
      "28          cookfuel_adm___6                    2\n",
      "29          cookfuel_adm___7                    2\n",
      "30     hctpretransfusion_adm                    2\n",
      "31       birthdetail_adm___4                    2\n",
      "32       birthdetail_adm___3                    2\n",
      "33      comorbidity_adm___12                    2\n",
      "34         symptoms_adm___15                    2\n",
      "35             spo2onoxy_adm                    2\n",
      "36          respdistress_adm                    2\n",
      "37             caprefill_adm                    2\n",
      "38                bcseye_adm                    2\n",
      "39               bcgscar_adm                    2\n",
      "40     vaccpneumocsource_adm                    2\n",
      "41         symptoms_adm___16                    2\n",
      "42          symptoms_adm___1                    2\n",
      "43          symptoms_adm___2                    2\n",
      "44          symptoms_adm___3                    2\n",
      "45          symptoms_adm___4                    2\n",
      "46         vaccdptsource_adm                    2\n",
      "47          symptoms_adm___7                    2\n",
      "48          symptoms_adm___9                    2\n",
      "49         symptoms_adm___10                    2\n",
      "50         symptoms_adm___14                    2\n",
      "51         symptoms_adm___11                    2\n",
      "52         symptoms_adm___12                    2\n",
      "53         symptoms_adm___13                    2\n",
      "54          symptoms_adm___5                    2\n",
      "55          symptoms_adm___6                    2\n",
      "56          symptoms_adm___8                    2\n",
      "57             bcsverbal_adm                    3\n",
      "58              bcsmotor_adm                    3\n",
      "59          priorweekabx_adm                    3\n",
      "60                momhiv_adm                    3\n",
      "61           vaccmeasles_adm                    3\n",
      "62               cookloc_adm                    3\n",
      "63                bednet_adm                    3\n",
      "64             hivstatus_adm                    3\n",
      "65         feedingstatus_adm                    3\n",
      "66             tbcontact_adm                    3\n",
      "67         diarrheaoften_adm                    3\n",
      "68      priorweekantimal_adm                    3\n",
      "69           oxygenavail_adm                    4\n",
      "70        prioryearcough_adm                    4\n",
      "71         caregiver_adm_new                    4\n",
      "72       prioryearwheeze_adm                    4\n",
      "73          caregiverage_adm                    4\n",
      "74               vaccdpt_adm                    5\n",
      "75           vaccpneumoc_adm                    5\n",
      "76      caregivermarried_adm                    5\n",
      "77           deliveryloc_adm                    5\n",
      "78               tobacco_adm                    5\n",
      "79           birthattend_adm                    5\n",
      "80        totalbreastfed_adm                    6\n",
      "81           watersource_adm                    6\n",
      "82          travelmethod_adm                    6\n",
      "83     badhealthduration_adm                    6\n",
      "84                momedu_adm                    6\n",
      "85             priorhosp_adm                    6\n",
      "86            traveldist_adm                    7\n",
      "87             lightfuel_adm                    8\n",
      "88         exclbreastfed_adm                   10\n"
     ]
    }
   ],
   "source": [
    "# Identify categorical columns\n",
    "categorical_cols = sepsis_df.select_dtypes(include='object').columns\n",
    "\n",
    "# Count unique values in each categorical column\n",
    "cat_unique_counts = sepsis_df[categorical_cols].nunique().sort_values()\n",
    "\n",
    "# Create a summary DataFrame\n",
    "cat_summary = pd.DataFrame({\n",
    "    'Categorical Variable': cat_unique_counts.index,\n",
    "    'Unique Values Count': cat_unique_counts.values\n",
    "})\n",
    "\n",
    "# Display all rows\n",
    "pd.set_option('display.max_rows', None)\n",
    "\n",
    "# Print the full summary\n",
    "print(cat_summary)"
   ]
  },
  {
   "cell_type": "markdown",
   "id": "87ac33da",
   "metadata": {},
   "source": [
    "### Encoding Ordinal Variables"
   ]
  },
  {
   "cell_type": "markdown",
   "id": "5df2854b",
   "metadata": {},
   "source": [
    "___\n",
    "*Ordinal encoding* was applied to several categorical columns in the Sepsis_df dataset. The encoding approach was based on assigning integer values in an order that reflects progression from the least favorable to the most favorable condition. The *smallest value (0)* was assigned to the *worst or least desirable condition, while the **largest value* was assigned to the *best or most desirable condition*.\n",
    "\n",
    "This method was chosen to preserve the inherent ordinal nature of certain variables, ensuring that their *relative severity, quality, or desirability* was maintained in numerical form.\n",
    "\n",
    "*Encoding Principle:*\n",
    "\n",
    "> Worst condition → 0\n",
    "> Best condition → Highest number\n",
    "\n",
    "After each column was encoded, the original (uncoded) column was subsequently removed from the dataset.\n",
    "\n",
    "\n",
    "> Categories such as *'Don't know', **'N/A (in care)', **'Unknown', and **'Other'* represent uncertain or ambiguous information. To minimize the risk of *introducing noise* and *overvaluing uncertain data, all such categories were consistently assigned the **lowest ordinal value* during encoding.\n",
    "___\n",
    "\n"
   ]
  },
  {
   "cell_type": "markdown",
   "id": "801f4b80",
   "metadata": {},
   "source": [
    "#### *Creating a copy of the original dataset before encoding*"
   ]
  },
  {
   "cell_type": "code",
   "execution_count": 102,
   "id": "daebf28a",
   "metadata": {},
   "outputs": [],
   "source": [
    "sepsis_df_original=sepsis_df.copy()"
   ]
  },
  {
   "cell_type": "markdown",
   "id": "29ef80ec",
   "metadata": {},
   "source": [
    "##### **Encoding 'watersource_adm'**"
   ]
  },
  {
   "cell_type": "code",
   "execution_count": 104,
   "id": "43616d2a",
   "metadata": {},
   "outputs": [
    {
     "name": "stdout",
     "output_type": "stream",
     "text": [
      "0    5.0\n",
      "1    3.0\n",
      "2    4.0\n",
      "3    5.0\n",
      "4    5.0\n",
      "Name: watersource_adm_encoded, dtype: float64\n"
     ]
    }
   ],
   "source": [
    "# Define the custom order for water sources\n",
    "watersource_order = [\n",
    "    'Open source (unprotected, stagnant water, dam)',\n",
    "    'Slow running water',\n",
    "    'Fast running water',\n",
    "    'Protected spring',\n",
    "    'Bore hole',\n",
    "    'Municipal water'\n",
    "]\n",
    "\n",
    "# Initialize the OrdinalEncoder with the specified order\n",
    "encoder = OrdinalEncoder(categories=[watersource_order])\n",
    "\n",
    "# Reshape and encode the column\n",
    "sepsis_df['watersource_adm_encoded'] = encoder.fit_transform(\n",
    "    sepsis_df[['watersource_adm']]\n",
    ")\n",
    "#drop the original column\n",
    "sepsis_df=sepsis_df.drop(columns=[\"watersource_adm\"])\n",
    "# Optionally view the result\n",
    "print(sepsis_df['watersource_adm_encoded'].head())\n"
   ]
  },
  {
   "cell_type": "markdown",
   "id": "0923b5af",
   "metadata": {},
   "source": [
    "##### **Encoding \"vaccpneumoc_adm\"**"
   ]
  },
  {
   "cell_type": "code",
   "execution_count": 106,
   "id": "f53661f3",
   "metadata": {},
   "outputs": [
    {
     "name": "stdout",
     "output_type": "stream",
     "text": [
      "0    4.0\n",
      "1    3.0\n",
      "2    4.0\n",
      "3    4.0\n",
      "4    4.0\n",
      "Name: vaccpneumoc_adm_encoded, dtype: float64\n"
     ]
    }
   ],
   "source": [
    "# Define the custom order for water sources\n",
    "vaccpneumoc_order = [\n",
    "    \"Unknown\",\n",
    "    '0 doses',\n",
    "    '1 dose',\n",
    "    '2 doses',\n",
    "    '3 doses'    \n",
    "]\n",
    "\n",
    "# Initialize the OrdinalEncoder with the specified order\n",
    "encoder = OrdinalEncoder(categories=[vaccpneumoc_order])\n",
    "\n",
    "# Reshape and encode the column\n",
    "sepsis_df['vaccpneumoc_adm_encoded'] = encoder.fit_transform(\n",
    "    sepsis_df[[\"vaccpneumoc_adm\"]]\n",
    ")\n",
    "#drop the original column\n",
    "sepsis_df=sepsis_df.drop(columns=[\"vaccpneumoc_adm\"])\n",
    "# Optionally view the result\n",
    "print(sepsis_df['vaccpneumoc_adm_encoded'].head())\n"
   ]
  },
  {
   "cell_type": "markdown",
   "id": "4e6093ec",
   "metadata": {},
   "source": [
    "\"Unknown\" is assigned the lowest rank in the ordinal encoding because it represents missing or unverified information. By placing it at the bottom, the model is less likely to interpret it as having clinical significance or progression compared to known vaccination levels."
   ]
  },
  {
   "cell_type": "markdown",
   "id": "9ef1638b",
   "metadata": {},
   "source": [
    "##### Encoding \"vaccdpt_adm\""
   ]
  },
  {
   "cell_type": "code",
   "execution_count": 109,
   "id": "e6894d54",
   "metadata": {},
   "outputs": [
    {
     "name": "stdout",
     "output_type": "stream",
     "text": [
      "0    4.0\n",
      "1    3.0\n",
      "2    4.0\n",
      "3    4.0\n",
      "4    4.0\n",
      "Name: vaccdpt_adm_encoded, dtype: float64\n"
     ]
    }
   ],
   "source": [
    "# Define the custom order for water sources\n",
    "vaccdpt_order = [\n",
    "    \"Unknown\",\n",
    "    '0 doses',\n",
    "    '1 dose',\n",
    "    '2 doses',\n",
    "    '3 doses'    \n",
    "]\n",
    "\n",
    "# Initialize the OrdinalEncoder with the specified order\n",
    "encoder = OrdinalEncoder(categories=[vaccdpt_order])\n",
    "\n",
    "# Reshape and encode the column\n",
    "sepsis_df['vaccdpt_adm_encoded'] = encoder.fit_transform(\n",
    "    sepsis_df[[\"vaccdpt_adm\"]]\n",
    ")\n",
    "#drop the original column\n",
    "sepsis_df=sepsis_df.drop(columns=[\"vaccdpt_adm\"])\n",
    "# Optionally view the result\n",
    "print(sepsis_df['vaccdpt_adm_encoded'].head())\n"
   ]
  },
  {
   "cell_type": "markdown",
   "id": "18a0f677",
   "metadata": {},
   "source": [
    "\"Unknown\" is assigned the lowest rank in the ordinal encoding because it represents missing or unverified information. By placing it at the bottom, the model is less likely to interpret it as having clinical significance or progression compared to known vaccination levels."
   ]
  },
  {
   "cell_type": "markdown",
   "id": "6f9d5ead",
   "metadata": {},
   "source": [
    "##### Encoding \"tobacco_adm\""
   ]
  },
  {
   "cell_type": "code",
   "execution_count": 112,
   "id": "5f5d1471",
   "metadata": {},
   "outputs": [
    {
     "name": "stdout",
     "output_type": "stream",
     "text": [
      "0    0.0\n",
      "1    0.0\n",
      "2    0.0\n",
      "3    0.0\n",
      "4    0.0\n",
      "Name: tobacco_adm_encoded, dtype: float64\n"
     ]
    }
   ],
   "source": [
    "# Define the custom order for water sources\n",
    "tobacco_order = [\n",
    "    \"Never\",\n",
    "    'Daily',\n",
    "    'Weekly',\n",
    "    'Less than monthly',\n",
    "    'Monthly'    \n",
    "]\n",
    "\n",
    "# Initialize the OrdinalEncoder with the specified order\n",
    "encoder = OrdinalEncoder(categories=[tobacco_order])\n",
    "\n",
    "# Reshape and encode the column\n",
    "sepsis_df['tobacco_adm_encoded'] = encoder.fit_transform(\n",
    "    sepsis_df[['tobacco_adm']]\n",
    ")\n",
    "#drop the original column\n",
    "sepsis_df=sepsis_df.drop(columns=[\"tobacco_adm\"])\n",
    "# Optionally view the result\n",
    "print(sepsis_df['tobacco_adm_encoded'].head())\n"
   ]
  },
  {
   "cell_type": "markdown",
   "id": "0de3b4c4",
   "metadata": {},
   "source": [
    "##### Encoding \"traveldist_adm\""
   ]
  },
  {
   "cell_type": "code",
   "execution_count": 114,
   "id": "5731914a",
   "metadata": {},
   "outputs": [
    {
     "name": "stdout",
     "output_type": "stream",
     "text": [
      "0    1.0\n",
      "1    1.0\n",
      "2    5.0\n",
      "3    1.0\n",
      "4    1.0\n",
      "Name: traveldist_adm_encoded, dtype: float64\n"
     ]
    }
   ],
   "source": [
    "# Define the custom order for water sources\n",
    "traveldist_order = [\n",
    "    \"< 30 minutes\",\n",
    "    '30 minutes - 1 hour',\n",
    "    '1 - 2 hours',\n",
    "    '2 - 3 hours',\n",
    "    '3 - 4 hours',\n",
    "    \"4 - 8 hours\",\n",
    "    \"> 8 hours\"    \n",
    "]\n",
    "\n",
    "# Initialize the OrdinalEncoder with the specified order\n",
    "encoder = OrdinalEncoder(categories=[traveldist_order])\n",
    "\n",
    "# Reshape and encode the column\n",
    "sepsis_df['traveldist_adm_encoded'] = encoder.fit_transform(\n",
    "    sepsis_df[['traveldist_adm']]\n",
    ")\n",
    "#drop the original column\n",
    "sepsis_df=sepsis_df.drop(columns=[\"traveldist_adm\"])\n",
    "# Optionally view the result\n",
    "print(sepsis_df['traveldist_adm_encoded'].head())\n"
   ]
  },
  {
   "cell_type": "markdown",
   "id": "954abe32",
   "metadata": {},
   "source": [
    "##### Encoding \"feedingstatus_adm\""
   ]
  },
  {
   "cell_type": "code",
   "execution_count": 116,
   "id": "512666e1",
   "metadata": {},
   "outputs": [
    {
     "name": "stdout",
     "output_type": "stream",
     "text": [
      "0    1.0\n",
      "1    0.0\n",
      "2    1.0\n",
      "3    1.0\n",
      "4    1.0\n",
      "Name: feedingstatus_adm_encoded, dtype: float64\n"
     ]
    }
   ],
   "source": [
    "# Define the custom order for water sources\n",
    "feedingstatus_order = [\n",
    "    \"Not feeding at all\",\n",
    "    'Feeding poorly',\n",
    "    'Feeding well',\n",
    "       \n",
    "]\n",
    "\n",
    "# Initialize the OrdinalEncoder with the specified order\n",
    "encoder = OrdinalEncoder(categories=[feedingstatus_order])\n",
    "\n",
    "# Reshape and encode the column\n",
    "sepsis_df['feedingstatus_adm_encoded'] = encoder.fit_transform(\n",
    "    sepsis_df[['feedingstatus_adm']]\n",
    ")\n",
    "#drop the original column\n",
    "sepsis_df=sepsis_df.drop(columns=[\"feedingstatus_adm\"])\n",
    "# Optionally view the result\n",
    "print(sepsis_df['feedingstatus_adm_encoded'].head())\n"
   ]
  },
  {
   "cell_type": "markdown",
   "id": "be3de572",
   "metadata": {},
   "source": [
    "##### Encoding \"deliveryloc_adm\""
   ]
  },
  {
   "cell_type": "code",
   "execution_count": 118,
   "id": "384ad2c8",
   "metadata": {},
   "outputs": [
    {
     "name": "stdout",
     "output_type": "stream",
     "text": [
      "0    2.0\n",
      "1    4.0\n",
      "2    4.0\n",
      "3    4.0\n",
      "4    4.0\n",
      "Name: deliveryloc_adm_encoded, dtype: float64\n"
     ]
    }
   ],
   "source": [
    "# Define the custom order for water sources\n",
    "deliveryloc_order = [\n",
    "    \"Other\",\n",
    "    'Home',\n",
    "    'Health centre',\n",
    "    \"Clinic\",\n",
    "    \"Hospital\"\n",
    "       \n",
    "]\n",
    "\n",
    "# Initialize the OrdinalEncoder with the specified order\n",
    "encoder = OrdinalEncoder(categories=[deliveryloc_order])\n",
    "\n",
    "# Reshape and encode the column\n",
    "sepsis_df['deliveryloc_adm_encoded'] = encoder.fit_transform(\n",
    "    sepsis_df[['deliveryloc_adm']]\n",
    ")\n",
    "#drop the original column\n",
    "sepsis_df=sepsis_df.drop(columns=[\"deliveryloc_adm\"])\n",
    "# Optionally view the result\n",
    "print(sepsis_df['deliveryloc_adm_encoded'].head())\n"
   ]
  },
  {
   "cell_type": "markdown",
   "id": "028e5693",
   "metadata": {},
   "source": [
    "In this case, \"Other\" is placed at the lowest rank in the ordinal encoding because it typically represents delivery locations that fall outside of standard healthcare settings. These locations are generally less equipped or less formal, and assigning them the lowest rank reflects their lower expected quality or formality of care compared to hospitals, clinics, or health centers."
   ]
  },
  {
   "cell_type": "markdown",
   "id": "7259cb55",
   "metadata": {},
   "source": [
    "##### Encoding \"birthattend_adm\""
   ]
  },
  {
   "cell_type": "code",
   "execution_count": 121,
   "id": "fcee7e77",
   "metadata": {},
   "outputs": [
    {
     "name": "stdout",
     "output_type": "stream",
     "text": [
      "0    3.0\n",
      "1    4.0\n",
      "2    3.0\n",
      "3    3.0\n",
      "4    3.0\n",
      "Name: birthattend_adm_encoded, dtype: float64\n"
     ]
    }
   ],
   "source": [
    "# Define the custom order for water sources\n",
    "birthattend_order = [\n",
    "    \"Other\",\n",
    "    'Relative',\n",
    "    'Traditional birth attendant',\n",
    "    \"Nurse / midwife\",\n",
    "    \"Doctor / Clinical officer\"\n",
    "       \n",
    "]\n",
    "\n",
    "# Initialize the OrdinalEncoder with the specified order\n",
    "encoder = OrdinalEncoder(categories=[birthattend_order])\n",
    "\n",
    "# Reshape and encode the column\n",
    "sepsis_df['birthattend_adm_encoded'] = encoder.fit_transform(\n",
    "    sepsis_df[['birthattend_adm']]\n",
    ")\n",
    "#drop the original column\n",
    "sepsis_df=sepsis_df.drop(columns=[\"birthattend_adm\"])\n",
    "# Optionally view the result\n",
    "print(sepsis_df['birthattend_adm_encoded'].head())\n"
   ]
  },
  {
   "cell_type": "markdown",
   "id": "418dd22d",
   "metadata": {},
   "source": [
    "In this encoding, \"Other\" is assigned the lowest rank because it indicates an undefined or unconventional birth attendant, potentially lacking medical training or standardized care practices. The ranking reflects an ascending order of professional medical expertise and reliability, with \"Doctor / Clinical officer\" at the top due to their advanced clinical qualifications, which are associated with safer delivery outcomes."
   ]
  },
  {
   "cell_type": "markdown",
   "id": "bc03e7ec",
   "metadata": {},
   "source": [
    "##### Encoding \"bcseye_adm\""
   ]
  },
  {
   "cell_type": "code",
   "execution_count": 124,
   "id": "a93e9dd4",
   "metadata": {},
   "outputs": [
    {
     "name": "stdout",
     "output_type": "stream",
     "text": [
      "0    1.0\n",
      "1    1.0\n",
      "2    1.0\n",
      "3    1.0\n",
      "4    1.0\n",
      "Name: bcseye_adm_encoded, dtype: float64\n"
     ]
    }
   ],
   "source": [
    "# Define the custom order for water sources\n",
    "bcseye_order = [    \n",
    "    'Fails to watch or follow',\n",
    "    \"Watches or follows\"      \n",
    "]\n",
    "\n",
    "# Initialize the OrdinalEncoder with the specified order\n",
    "encoder = OrdinalEncoder(categories=[bcseye_order])\n",
    "\n",
    "# Reshape and encode the column\n",
    "sepsis_df['bcseye_adm_encoded'] = encoder.fit_transform(\n",
    "    sepsis_df[['bcseye_adm']]\n",
    ")\n",
    "#drop the original column\n",
    "sepsis_df=sepsis_df.drop(columns=[\"bcseye_adm\"])\n",
    "# Optionally view the result\n",
    "print(sepsis_df['bcseye_adm_encoded'].head())\n"
   ]
  },
  {
   "cell_type": "markdown",
   "id": "c64a9ba6",
   "metadata": {},
   "source": [
    "##### Encoding \"bcsmotor_adm\""
   ]
  },
  {
   "cell_type": "code",
   "execution_count": 126,
   "id": "acb84bbf",
   "metadata": {},
   "outputs": [
    {
     "name": "stdout",
     "output_type": "stream",
     "text": [
      "0    1.0\n",
      "1    1.0\n",
      "2    1.0\n",
      "3    1.0\n",
      "4    1.0\n",
      "Name: bcsmotor_adm_encoded, dtype: float64\n"
     ]
    }
   ],
   "source": [
    "# Define the custom order for water sources\n",
    "bcsmotor_order = [\n",
    "        'No response or inappropriate response',\n",
    "        \"Localizes painful stimulus\",\n",
    "        \"Withdraws limb from painful stimulus\"       \n",
    "]\n",
    "\n",
    "# Initialize the OrdinalEncoder with the specified order\n",
    "encoder = OrdinalEncoder(categories=[bcsmotor_order])\n",
    "\n",
    "# Reshape and encode the column\n",
    "sepsis_df['bcsmotor_adm_encoded'] = encoder.fit_transform(\n",
    "    sepsis_df[['bcsmotor_adm']]\n",
    ")\n",
    "#drop the original column\n",
    "sepsis_df=sepsis_df.drop(columns=[\"bcsmotor_adm\"])\n",
    "# Optionally view the result\n",
    "print(sepsis_df['bcsmotor_adm_encoded'].head())\n"
   ]
  },
  {
   "cell_type": "markdown",
   "id": "0c1f045c",
   "metadata": {},
   "source": [
    "#### Encoding 'exclbreastfed_adm'"
   ]
  },
  {
   "cell_type": "code",
   "execution_count": 128,
   "id": "28a2077d",
   "metadata": {},
   "outputs": [
    {
     "name": "stdout",
     "output_type": "stream",
     "text": [
      "  exclbreastfed_adm  exclbreastfed_adm_encoded\n",
      "0          6 months                        8.0\n",
      "1          6 months                        8.0\n",
      "2          6 months                        8.0\n",
      "3           Unknown                        0.0\n",
      "4          6 months                        8.0\n"
     ]
    }
   ],
   "source": [
    "# Define your order\n",
    "excl_breastfed_order = [\n",
    "    'Unknown',\n",
    "    'never exclusively breastfed',\n",
    "    '1 month',\n",
    "    '2 months',\n",
    "    '3 months',\n",
    "    '4 months',\n",
    "    '5 months',\n",
    "    'Currently exclusively breastfed',\n",
    "    '6 months',\n",
    "    'More than 6 months',\n",
    "]\n",
    "\n",
    "# Instantiate the encoder with the defined order\n",
    "encoder = OrdinalEncoder(categories=[excl_breastfed_order])\n",
    "\n",
    "# Apply encoding\n",
    "sepsis_df['exclbreastfed_adm_encoded'] = encoder.fit_transform(sepsis_df[['exclbreastfed_adm']])\n",
    "print(sepsis_df[['exclbreastfed_adm', 'exclbreastfed_adm_encoded']].head())\n",
    "Sepsis_df=sepsis_df.drop(columns=[\"exclbreastfed_adm\"])"
   ]
  },
  {
   "cell_type": "markdown",
   "id": "3d84115f",
   "metadata": {},
   "source": [
    "___\n",
    "> **\"Currently exclusively breastfed\"** was placed just above **\"5 months\"** in the ordinal scale because the **youngest child admitted in the dataset was 5 months old**. This implies that the **minimum exclusive breastfeeding duration** for this group is at least 5 months, justifying its position above the 5-month category.\n",
    "___\n"
   ]
  },
  {
   "cell_type": "markdown",
   "id": "75926243",
   "metadata": {},
   "source": [
    "#### Encoding 'oxygenavail_adm'"
   ]
  },
  {
   "cell_type": "code",
   "execution_count": 131,
   "id": "a3f5f132",
   "metadata": {},
   "outputs": [
    {
     "name": "stdout",
     "output_type": "stream",
     "text": [
      "                       oxygenavail_adm  oxygenavail_adm_encoded\n",
      "0  Oxygen available and not being used                      3.0\n",
      "1  Oxygen available and not being used                      3.0\n",
      "2  Oxygen available and not being used                      3.0\n",
      "3  Oxygen available and not being used                      3.0\n",
      "4  Oxygen available and not being used                      3.0\n"
     ]
    }
   ],
   "source": [
    "# Define the updated logical order from worst to best for oxygen availability\n",
    "oxygen_order_updated = [\n",
    "    'Oxygen not available',\n",
    "    'Oxygen available but not enough',\n",
    "    'Oxygen available and being used',\n",
    "    'Oxygen available and not being used'\n",
    "]\n",
    "\n",
    "# Initialize the OrdinalEncoder with the specified category order\n",
    "encoder = OrdinalEncoder(categories=[oxygen_order_updated])\n",
    "\n",
    "# Apply the encoder to the 'oxygenavail_adm' column and create a new encoded column\n",
    "sepsis_df['oxygenavail_adm_encoded'] = encoder.fit_transform(sepsis_df[['oxygenavail_adm']])\n",
    "\n",
    "# Display the original and encoded columns for verification\n",
    "print(sepsis_df[['oxygenavail_adm', 'oxygenavail_adm_encoded']].head())\n",
    "\n",
    "# Drop the original (non-encoded) column to clean up the dataset\n",
    "sepsis_df = sepsis_df.drop(columns=[\"oxygenavail_adm\"])"
   ]
  },
  {
   "cell_type": "markdown",
   "id": "81126cf0",
   "metadata": {},
   "source": [
    "___\n",
    "> Taking into consideration that oxygen availability is a positive factor, the situation **\"Oxygen available and not being used\"** was interpreted as more favorable than **\"Oxygen available and being used\"**. This implies that the child was in better condition and did not require oxygen, despite its availability—indicating a less severe illness.\n",
    "___"
   ]
  },
  {
   "cell_type": "markdown",
   "id": "a0548fee",
   "metadata": {},
   "source": [
    "#### Encoding 'bcsverbal_adm'"
   ]
  },
  {
   "cell_type": "code",
   "execution_count": 134,
   "id": "a7258c96",
   "metadata": {},
   "outputs": [
    {
     "name": "stdout",
     "output_type": "stream",
     "text": [
      "                                       bcsverbal_adm  bcsverbal_adm_encoded\n",
      "0  Cries appropriately with pain, or, if verbal, ...                    2.0\n",
      "1  Cries appropriately with pain, or, if verbal, ...                    2.0\n",
      "2  Cries appropriately with pain, or, if verbal, ...                    2.0\n",
      "3  Cries appropriately with pain, or, if verbal, ...                    2.0\n",
      "4  Cries appropriately with pain, or, if verbal, ...                    2.0\n"
     ]
    }
   ],
   "source": [
    "# Define the logical order (worst → best) for the 'bcsverbal_adm' categories\n",
    "verbal_order = [\n",
    "    'No vocal response to pain',\n",
    "    'Moan or abnormal cry with pain',\n",
    "    'Cries appropriately with pain, or, if verbal, speaks'\n",
    "]\n",
    "\n",
    "encoder = OrdinalEncoder(categories=[verbal_order])\n",
    "\n",
    "sepsis_df['bcsverbal_adm_encoded'] = encoder.fit_transform(sepsis_df[['bcsverbal_adm']])\n",
    "\n",
    "# Display the original and encoded columns for verification\n",
    "print(sepsis_df[['bcsverbal_adm', 'bcsverbal_adm_encoded']].head())\n",
    "\n",
    "# Drop the original (non-encoded) column to clean up the dataset\n",
    "sepsis_df = sepsis_df.drop(columns=[\"bcsverbal_adm\"])\n",
    "\n"
   ]
  },
  {
   "cell_type": "markdown",
   "id": "cdf2fc1e",
   "metadata": {},
   "source": [
    "#### Encoding 'priorhosp_adm'"
   ]
  },
  {
   "cell_type": "code",
   "execution_count": 136,
   "id": "e51059b4",
   "metadata": {},
   "outputs": [
    {
     "name": "stdout",
     "output_type": "stream",
     "text": [
      "      priorhosp_adm  priorhosp_adm_encoded\n",
      "0             Never                    5.0\n",
      "1             Never                    5.0\n",
      "2  1 month - 1 year                    2.0\n",
      "3  7 days - 1 month                    3.0\n",
      "4  7 days - 1 month                    3.0\n"
     ]
    }
   ],
   "source": [
    "# Define the logical order (worst → best)\n",
    "priorhosp_order = [\n",
    "    'Dont know',\n",
    "    '> 1 year',\n",
    "    '1 month - 1 year',\n",
    "    '7 days - 1 month',\n",
    "    '< 7 days',\n",
    "    'Never'\n",
    "]\n",
    "\n",
    "encoder = OrdinalEncoder(categories=[priorhosp_order])\n",
    "\n",
    "sepsis_df['priorhosp_adm_encoded'] = encoder.fit_transform(sepsis_df[['priorhosp_adm']])\n",
    "# Display the original and encoded columns for verification\n",
    "print(sepsis_df[['priorhosp_adm', 'priorhosp_adm_encoded']].head())\n",
    "\n",
    "# Drop the original (non-encoded) column to clean up the dataset\n",
    "sepsis_df = sepsis_df.drop(columns=[\"priorhosp_adm\"])\n"
   ]
  },
  {
   "cell_type": "markdown",
   "id": "9867c22b",
   "metadata": {},
   "source": [
    "#### Encoding 'totalbreastfed_adm'"
   ]
  },
  {
   "cell_type": "code",
   "execution_count": 138,
   "id": "d633bc2a",
   "metadata": {},
   "outputs": [
    {
     "name": "stdout",
     "output_type": "stream",
     "text": [
      "      totalbreastfed_adm  totalbreastfed_adm_encoded\n",
      "0             >12 months                         5.0\n",
      "1  Still being breastfed                         2.0\n",
      "2  Still being breastfed                         2.0\n",
      "3             >12 months                         5.0\n",
      "4  Still being breastfed                         2.0\n"
     ]
    }
   ],
   "source": [
    "# Define the logical order (worst → best)\n",
    "breastfeeding_order = ['Unknown', '0-3 months','Still being breastfed', '4-6 months', '7-12 months', '>12 months']\n",
    "\n",
    "# Initialize the OrdinalEncoder with the specified categories\n",
    "encoder = OrdinalEncoder(categories=[breastfeeding_order])\n",
    "\n",
    "# Apply the encoding to the 'totalbreastfed_adm' column\n",
    "sepsis_df['totalbreastfed_adm_encoded'] = encoder.fit_transform(sepsis_df[['totalbreastfed_adm']])\n",
    "print(sepsis_df[['totalbreastfed_adm', 'totalbreastfed_adm_encoded']].head())\n",
    "\n",
    "# Drop the original (non-encoded) column to clean up the dataset\n",
    "sepsis_df = sepsis_df.drop(columns=[\"totalbreastfed_adm\"])\n",
    "\n"
   ]
  },
  {
   "cell_type": "markdown",
   "id": "736d49e3",
   "metadata": {},
   "source": [
    "___\n",
    "> **\"Still being breastfed\"** was placed just above **'0-3 months'** in the ordinal scale because the **youngest child admitted in the dataset was 5 months old**. While it could be reasonable for this category to fall after **'4-6 months'**, the **uncertainty of the data** regarding the exact breastfeeding duration could introduce noise into the model. As a result, this category was positioned above **'0-3 months'** to avoid overvaluing uncertain data.\n",
    "___\n"
   ]
  },
  {
   "cell_type": "markdown",
   "id": "b49ef036",
   "metadata": {},
   "source": [
    "#### Encoding 'bednet_adm'"
   ]
  },
  {
   "cell_type": "code",
   "execution_count": 141,
   "id": "cdae7ed2",
   "metadata": {},
   "outputs": [
    {
     "name": "stdout",
     "output_type": "stream",
     "text": [
      "  bednet_adm  bednet_adm_encoded\n",
      "0     Always                 2.0\n",
      "1     Always                 2.0\n",
      "2     Always                 2.0\n",
      "3     Always                 2.0\n",
      "4  Sometimes                 1.0\n"
     ]
    }
   ],
   "source": [
    "# Define the logical order (worst → best)\n",
    "bednet_order = ['Never', 'Sometimes', 'Always']\n",
    "\n",
    "# Initialize the OrdinalEncoder with the specified categories\n",
    "encoder = OrdinalEncoder(categories=[bednet_order])\n",
    "\n",
    "# Apply the encoding to the 'bednet_adm' column\n",
    "sepsis_df['bednet_adm_encoded'] = encoder.fit_transform(sepsis_df[['bednet_adm']])\n",
    "print(sepsis_df[['bednet_adm', 'bednet_adm_encoded']].head())\n",
    "\n",
    "# Drop the original (non-encoded) column to clean up the dataset\n",
    "sepsis_df = sepsis_df.drop(columns=[\"bednet_adm\"])\n",
    "\n"
   ]
  },
  {
   "cell_type": "markdown",
   "id": "9df93dea",
   "metadata": {},
   "source": [
    "#### Encoding 'badhealthduration_adm'"
   ]
  },
  {
   "cell_type": "code",
   "execution_count": 143,
   "id": "00182d25",
   "metadata": {},
   "outputs": [
    {
     "name": "stdout",
     "output_type": "stream",
     "text": [
      "                  badhealthduration_adm  badhealthduration_adm_encoded\n",
      "0  In good health prior to this illness                            5.0\n",
      "1  In good health prior to this illness                            5.0\n",
      "2  In good health prior to this illness                            5.0\n",
      "3  In good health prior to this illness                            5.0\n",
      "4                              < 1 week                            4.0\n"
     ]
    }
   ],
   "source": [
    "# Define the corrected logical order\n",
    "badhealth_order = ['Unknown', '> 1 year', '1 month - 1 year', '1 week - 1 month', '< 1 week', 'In good health prior to this illness']\n",
    "\n",
    "# Initialize the OrdinalEncoder with the specified categories\n",
    "encoder = OrdinalEncoder(categories=[badhealth_order])\n",
    "\n",
    "# Apply the encoding to the 'badhealthduration_adm' column\n",
    "sepsis_df['badhealthduration_adm_encoded'] = encoder.fit_transform(sepsis_df[['badhealthduration_adm']])\n",
    "print(sepsis_df[['badhealthduration_adm', 'badhealthduration_adm_encoded']].head())\n",
    "\n",
    "# Drop the original (non-encoded) column to clean up the dataset\n",
    "sepsis_df = sepsis_df.drop(columns=[\"badhealthduration_adm\"])\n",
    "\n"
   ]
  },
  {
   "cell_type": "markdown",
   "id": "f6914265",
   "metadata": {},
   "source": [
    "#### Encoding 'caregiverage_adm'"
   ]
  },
  {
   "cell_type": "code",
   "execution_count": 145,
   "id": "933ebe9b",
   "metadata": {},
   "outputs": [
    {
     "name": "stdout",
     "output_type": "stream",
     "text": [
      "  caregiverage_adm  caregiverage_adm_encoded\n",
      "0   > 18 years old                       2.0\n",
      "1   > 18 years old                       2.0\n",
      "2   > 18 years old                       2.0\n",
      "3   > 18 years old                       2.0\n",
      "4   > 18 years old                       2.0\n"
     ]
    }
   ],
   "source": [
    "# Define the logical order for the caregiver age\n",
    "caregiver_age_order = ['N/A (in care)', '< = 18 years old', '> 18 years old', '> 50 years old']\n",
    "\n",
    "# Initialize the OrdinalEncoder with the specified categories\n",
    "encoder = OrdinalEncoder(categories=[caregiver_age_order])\n",
    "\n",
    "# Apply the encoding to the 'caregiverage_adm' column\n",
    "sepsis_df['caregiverage_adm_encoded'] = encoder.fit_transform(sepsis_df[['caregiverage_adm']])\n",
    "print(sepsis_df[['caregiverage_adm', 'caregiverage_adm_encoded']].head())\n",
    "\n",
    "# Drop the original (non-encoded) column to clean up the dataset\n",
    "sepsis_df = sepsis_df.drop(columns=[\"caregiverage_adm\"])\n",
    "\n"
   ]
  },
  {
   "cell_type": "markdown",
   "id": "ec53f5ad",
   "metadata": {},
   "source": [
    "#### Encoding 'momedu_adm'"
   ]
  },
  {
   "cell_type": "code",
   "execution_count": 147,
   "id": "3f1cb4cb",
   "metadata": {},
   "outputs": [
    {
     "name": "stdout",
     "output_type": "stream",
     "text": [
      "                                          momedu_adm  momedu_adm_encoded\n",
      "0  Post secondary (including post S4 technical sc...                 5.0\n",
      "1  Post secondary (including post S4 technical sc...                 5.0\n",
      "2                                              S1-S6                 4.0\n",
      "3  Post secondary (including post S4 technical sc...                 5.0\n",
      "4                                              P4-P7                 3.0\n"
     ]
    }
   ],
   "source": [
    "# Define the logical order for education level\n",
    "education_order = ['Dont know','No school',  '< = P3', 'P4-P7', 'S1-S6', 'Post secondary (including post S4 technical school)']\n",
    "\n",
    "# Initialize the OrdinalEncoder with the specified categories\n",
    "encoder = OrdinalEncoder(categories=[education_order])\n",
    "\n",
    "# Apply the encoding to the 'momedu_adm' column\n",
    "sepsis_df['momedu_adm_encoded'] = encoder.fit_transform(sepsis_df[['momedu_adm']])\n",
    "\n",
    "print(sepsis_df[['momedu_adm', 'momedu_adm_encoded']].head())\n",
    "\n",
    "# Drop the original (non-encoded) column to clean up the dataset\n",
    "sepsis_df = sepsis_df.drop(columns=[\"momedu_adm\"])"
   ]
  }
 ],
 "metadata": {
  "kernelspec": {
   "display_name": "Python 3 (ipykernel)",
   "language": "python",
   "name": "python3"
  },
  "language_info": {
   "codemirror_mode": {
    "name": "ipython",
    "version": 3
   },
   "file_extension": ".py",
   "mimetype": "text/x-python",
   "name": "python",
   "nbconvert_exporter": "python",
   "pygments_lexer": "ipython3",
   "version": "3.12.4"
  }
 },
 "nbformat": 4,
 "nbformat_minor": 5
}
