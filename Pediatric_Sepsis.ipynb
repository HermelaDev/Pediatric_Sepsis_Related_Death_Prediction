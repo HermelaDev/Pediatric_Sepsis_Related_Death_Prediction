{
 "cells": [
  {
   "cell_type": "code",
   "execution_count": 54,
   "id": "107d5e92-c24f-4343-b7d5-b01348b20ee0",
   "metadata": {},
   "outputs": [],
   "source": [
    "import pandas as pd\n",
    "import matplotlib.pyplot as plt\n",
    "import seaborn as sns\n",
    "from sklearn.ensemble import RandomForestRegressor\n",
    "from sklearn.experimental import enable_iterative_imputer\n",
    "from sklearn.impute import IterativeImputer\n",
    "import warnings\n",
    "warnings.filterwarnings(\"ignore\")"
   ]
  },
  {
   "cell_type": "code",
   "execution_count": 56,
   "id": "f258da47-b3e9-495d-a247-2b29f8adfd8d",
   "metadata": {},
   "outputs": [
    {
     "data": {
      "text/html": [
       "<div>\n",
       "<style scoped>\n",
       "    .dataframe tbody tr th:only-of-type {\n",
       "        vertical-align: middle;\n",
       "    }\n",
       "\n",
       "    .dataframe tbody tr th {\n",
       "        vertical-align: top;\n",
       "    }\n",
       "\n",
       "    .dataframe thead th {\n",
       "        text-align: right;\n",
       "    }\n",
       "</style>\n",
       "<table border=\"1\" class=\"dataframe\">\n",
       "  <thead>\n",
       "    <tr style=\"text-align: right;\">\n",
       "      <th></th>\n",
       "      <th>studyid_adm</th>\n",
       "      <th>agecalc_adm</th>\n",
       "      <th>height_cm_adm</th>\n",
       "      <th>weight_kg_adm</th>\n",
       "      <th>muac_mm_adm</th>\n",
       "      <th>hr_bpm_adm</th>\n",
       "      <th>rr_brpm_app_adm</th>\n",
       "      <th>sysbp_mmhg_adm</th>\n",
       "      <th>diasbp_mmhg_adm</th>\n",
       "      <th>temp_c_adm</th>\n",
       "      <th>...</th>\n",
       "      <th>cookloc_adm</th>\n",
       "      <th>lightfuel_adm</th>\n",
       "      <th>tobacco_adm</th>\n",
       "      <th>bednet_adm</th>\n",
       "      <th>hctpretransfusion_adm</th>\n",
       "      <th>hivstatus_adm</th>\n",
       "      <th>malariastatuspos_adm</th>\n",
       "      <th>lengthadm</th>\n",
       "      <th>caregiver_adm_new</th>\n",
       "      <th>inhospital_mortality</th>\n",
       "    </tr>\n",
       "  </thead>\n",
       "  <tbody>\n",
       "    <tr>\n",
       "      <th>0</th>\n",
       "      <td>1</td>\n",
       "      <td>16.8</td>\n",
       "      <td>79.8</td>\n",
       "      <td>11.6</td>\n",
       "      <td>150.0</td>\n",
       "      <td>130.0</td>\n",
       "      <td>23.0</td>\n",
       "      <td>92.0</td>\n",
       "      <td>54.0</td>\n",
       "      <td>36.3</td>\n",
       "      <td>...</td>\n",
       "      <td>In a separate building/building space used as ...</td>\n",
       "      <td>Electric bulbs (national grid)</td>\n",
       "      <td>Never</td>\n",
       "      <td>Always</td>\n",
       "      <td>Yes</td>\n",
       "      <td>HIV negative</td>\n",
       "      <td>No</td>\n",
       "      <td>2</td>\n",
       "      <td>Mother</td>\n",
       "      <td>0</td>\n",
       "    </tr>\n",
       "    <tr>\n",
       "      <th>1</th>\n",
       "      <td>2</td>\n",
       "      <td>46.1</td>\n",
       "      <td>93.0</td>\n",
       "      <td>13.6</td>\n",
       "      <td>151.0</td>\n",
       "      <td>115.0</td>\n",
       "      <td>35.0</td>\n",
       "      <td>72.0</td>\n",
       "      <td>42.0</td>\n",
       "      <td>36.8</td>\n",
       "      <td>...</td>\n",
       "      <td>In a separate building/building space used as ...</td>\n",
       "      <td>Tadooba</td>\n",
       "      <td>Never</td>\n",
       "      <td>Always</td>\n",
       "      <td>Yes</td>\n",
       "      <td>HIV negative</td>\n",
       "      <td>Yes</td>\n",
       "      <td>5</td>\n",
       "      <td>Mother</td>\n",
       "      <td>0</td>\n",
       "    </tr>\n",
       "    <tr>\n",
       "      <th>2</th>\n",
       "      <td>3</td>\n",
       "      <td>7.9</td>\n",
       "      <td>68.2</td>\n",
       "      <td>8.2</td>\n",
       "      <td>148.0</td>\n",
       "      <td>150.0</td>\n",
       "      <td>56.0</td>\n",
       "      <td>94.0</td>\n",
       "      <td>51.0</td>\n",
       "      <td>37.2</td>\n",
       "      <td>...</td>\n",
       "      <td>In a separate building/building space used as ...</td>\n",
       "      <td>Tadooba</td>\n",
       "      <td>Never</td>\n",
       "      <td>Always</td>\n",
       "      <td>Yes</td>\n",
       "      <td>HIV negative</td>\n",
       "      <td>No</td>\n",
       "      <td>4</td>\n",
       "      <td>Mother</td>\n",
       "      <td>0</td>\n",
       "    </tr>\n",
       "    <tr>\n",
       "      <th>3</th>\n",
       "      <td>4</td>\n",
       "      <td>38.2</td>\n",
       "      <td>95.0</td>\n",
       "      <td>12.0</td>\n",
       "      <td>138.0</td>\n",
       "      <td>134.0</td>\n",
       "      <td>38.0</td>\n",
       "      <td>94.0</td>\n",
       "      <td>57.0</td>\n",
       "      <td>37.6</td>\n",
       "      <td>...</td>\n",
       "      <td>In the house where you sleep</td>\n",
       "      <td>Electric bulbs (national grid)</td>\n",
       "      <td>Never</td>\n",
       "      <td>Always</td>\n",
       "      <td>NaN</td>\n",
       "      <td>HIV negative</td>\n",
       "      <td>Yes</td>\n",
       "      <td>5</td>\n",
       "      <td>Mother</td>\n",
       "      <td>0</td>\n",
       "    </tr>\n",
       "    <tr>\n",
       "      <th>4</th>\n",
       "      <td>5</td>\n",
       "      <td>16.1</td>\n",
       "      <td>83.0</td>\n",
       "      <td>12.0</td>\n",
       "      <td>165.0</td>\n",
       "      <td>163.0</td>\n",
       "      <td>61.0</td>\n",
       "      <td>107.0</td>\n",
       "      <td>73.0</td>\n",
       "      <td>38.7</td>\n",
       "      <td>...</td>\n",
       "      <td>Outdoors in the open</td>\n",
       "      <td>Electric bulbs (national grid)</td>\n",
       "      <td>Never</td>\n",
       "      <td>Sometimes</td>\n",
       "      <td>Yes</td>\n",
       "      <td>HIV negative</td>\n",
       "      <td>Yes</td>\n",
       "      <td>7</td>\n",
       "      <td>Mother</td>\n",
       "      <td>0</td>\n",
       "    </tr>\n",
       "  </tbody>\n",
       "</table>\n",
       "<p>5 rows × 138 columns</p>\n",
       "</div>"
      ],
      "text/plain": [
       "   studyid_adm  agecalc_adm  height_cm_adm  weight_kg_adm  muac_mm_adm  \\\n",
       "0            1         16.8           79.8           11.6        150.0   \n",
       "1            2         46.1           93.0           13.6        151.0   \n",
       "2            3          7.9           68.2            8.2        148.0   \n",
       "3            4         38.2           95.0           12.0        138.0   \n",
       "4            5         16.1           83.0           12.0        165.0   \n",
       "\n",
       "   hr_bpm_adm  rr_brpm_app_adm  sysbp_mmhg_adm  diasbp_mmhg_adm  temp_c_adm  \\\n",
       "0       130.0             23.0            92.0             54.0        36.3   \n",
       "1       115.0             35.0            72.0             42.0        36.8   \n",
       "2       150.0             56.0            94.0             51.0        37.2   \n",
       "3       134.0             38.0            94.0             57.0        37.6   \n",
       "4       163.0             61.0           107.0             73.0        38.7   \n",
       "\n",
       "   ...                                        cookloc_adm  \\\n",
       "0  ...  In a separate building/building space used as ...   \n",
       "1  ...  In a separate building/building space used as ...   \n",
       "2  ...  In a separate building/building space used as ...   \n",
       "3  ...                       In the house where you sleep   \n",
       "4  ...                               Outdoors in the open   \n",
       "\n",
       "                    lightfuel_adm  tobacco_adm  bednet_adm  \\\n",
       "0  Electric bulbs (national grid)        Never      Always   \n",
       "1                         Tadooba        Never      Always   \n",
       "2                         Tadooba        Never      Always   \n",
       "3  Electric bulbs (national grid)        Never      Always   \n",
       "4  Electric bulbs (national grid)        Never   Sometimes   \n",
       "\n",
       "   hctpretransfusion_adm  hivstatus_adm  malariastatuspos_adm  lengthadm  \\\n",
       "0                    Yes   HIV negative                    No          2   \n",
       "1                    Yes   HIV negative                   Yes          5   \n",
       "2                    Yes   HIV negative                    No          4   \n",
       "3                    NaN   HIV negative                   Yes          5   \n",
       "4                    Yes   HIV negative                   Yes          7   \n",
       "\n",
       "   caregiver_adm_new  inhospital_mortality  \n",
       "0             Mother                     0  \n",
       "1             Mother                     0  \n",
       "2             Mother                     0  \n",
       "3             Mother                     0  \n",
       "4             Mother                     0  \n",
       "\n",
       "[5 rows x 138 columns]"
      ]
     },
     "execution_count": 56,
     "metadata": {},
     "output_type": "execute_result"
    }
   ],
   "source": [
    "sepsis_df = pd.read_csv(\"SyntheticData_Training.csv\") \n",
    "# pd.set_option('display.max_columns', None)\n",
    "# pd.set_option('display.max_rows', None)\n",
    "sepsis_df.head()"
   ]
  },
  {
   "cell_type": "code",
   "execution_count": 58,
   "id": "b1c1288f-47ad-4b3a-8306-cc9a8e0db645",
   "metadata": {},
   "outputs": [
    {
     "name": "stdout",
     "output_type": "stream",
     "text": [
      "<class 'pandas.core.frame.DataFrame'>\n",
      "RangeIndex: 2686 entries, 0 to 2685\n",
      "Columns: 138 entries, studyid_adm to inhospital_mortality\n",
      "dtypes: float64(23), int64(3), object(112)\n",
      "memory usage: 2.8+ MB\n"
     ]
    }
   ],
   "source": [
    "sepsis_df.info()\n",
    "pd.set_option('display.max_rows', None)"
   ]
  },
  {
   "cell_type": "code",
   "execution_count": 60,
   "id": "2f04a8a9-8fc3-4863-b067-ff42095c10ac",
   "metadata": {},
   "outputs": [
    {
     "data": {
      "text/plain": [
       "0"
      ]
     },
     "execution_count": 60,
     "metadata": {},
     "output_type": "execute_result"
    }
   ],
   "source": [
    "sepsis_df.duplicated().sum()"
   ]
  },
  {
   "cell_type": "code",
   "execution_count": 62,
   "id": "16041621-0aa8-47d1-b2f5-34ce47757cb5",
   "metadata": {},
   "outputs": [
    {
     "name": "stdout",
     "output_type": "stream",
     "text": [
      "                       Column Data Type  Missing Values  Missing %  \\\n",
      "0                 studyid_adm     int64               0   0.000000   \n",
      "1                 agecalc_adm   float64               0   0.000000   \n",
      "2               height_cm_adm   float64              14   0.521221   \n",
      "3               weight_kg_adm   float64               9   0.335071   \n",
      "4                 muac_mm_adm   float64              13   0.483991   \n",
      "5                  hr_bpm_adm   float64               1   0.037230   \n",
      "6             rr_brpm_app_adm   float64               5   0.186150   \n",
      "7              sysbp_mmhg_adm   float64               2   0.074460   \n",
      "8             diasbp_mmhg_adm   float64               1   0.037230   \n",
      "9                  temp_c_adm   float64               1   0.037230   \n",
      "10       spo2site1_pc_oxi_adm   float64               4   0.148920   \n",
      "11       spo2site2_pc_oxi_adm   float64             205   7.632167   \n",
      "12              spo2other_adm   float64            2505  93.261355   \n",
      "13                 momage_adm   float64              19   0.707372   \n",
      "14        momagefirstpreg_adm   float64             224   8.339538   \n",
      "15          householdsize_adm   float64               3   0.111690   \n",
      "16          alivechildren_adm   float64               4   0.148920   \n",
      "17           deadchildren_adm   float64               1   0.037230   \n",
      "18        hematocrit_gpdl_adm   float64             457  17.014147   \n",
      "19         lactate_mmolpl_adm   float64             464  17.274758   \n",
      "20        lactate2_mmolpl_adm   float64            2217  82.539092   \n",
      "21         glucose_mmolpl_adm   float64               9   0.335071   \n",
      "22          sqi1_perc_oxi_adm   float64             130   4.839911   \n",
      "23          sqi2_perc_oxi_adm   float64             207   7.706627   \n",
      "24                    sex_adm    object               0   0.000000   \n",
      "25              spo2onoxy_adm    object               4   0.148920   \n",
      "26            oxygenavail_adm    object               0   0.000000   \n",
      "27           respdistress_adm    object               2   0.074460   \n",
      "28              caprefill_adm    object               1   0.037230   \n",
      "29                 bcseye_adm    object               1   0.037230   \n",
      "30               bcsmotor_adm    object               0   0.000000   \n",
      "31              bcsverbal_adm    object               2   0.074460   \n",
      "32           admitabx_adm___1    object               0   0.000000   \n",
      "33           admitabx_adm___2    object               0   0.000000   \n",
      "34           admitabx_adm___3    object               0   0.000000   \n",
      "35           admitabx_adm___4    object               0   0.000000   \n",
      "36           admitabx_adm___5    object               0   0.000000   \n",
      "37           admitabx_adm___6    object               0   0.000000   \n",
      "38           admitabx_adm___7    object               0   0.000000   \n",
      "39           admitabx_adm___8    object               0   0.000000   \n",
      "40           admitabx_adm___9    object               0   0.000000   \n",
      "41          admitabx_adm___10    object               0   0.000000   \n",
      "42          admitabx_adm___11    object               0   0.000000   \n",
      "43          admitabx_adm___12    object               0   0.000000   \n",
      "44          admitabx_adm___13    object               0   0.000000   \n",
      "45          admitabx_adm___14    object               0   0.000000   \n",
      "46          admitabx_adm___15    object               0   0.000000   \n",
      "47          admitabx_adm___16    object               0   0.000000   \n",
      "48          admitabx_adm___17    object               0   0.000000   \n",
      "49          admitabx_adm___18    object               0   0.000000   \n",
      "50          admitabx_adm___19    object               0   0.000000   \n",
      "51          admitabx_adm___20    object               0   0.000000   \n",
      "52          admitabx_adm___21    object               0   0.000000   \n",
      "53                bcgscar_adm    object               0   0.000000   \n",
      "54            vaccmeasles_adm    object               2   0.074460   \n",
      "55      vaccmeaslessource_adm    object             946  35.219657   \n",
      "56            vaccpneumoc_adm    object               0   0.000000   \n",
      "57      vaccpneumocsource_adm    object             185   6.887565   \n",
      "58                vaccdpt_adm    object               2   0.074460   \n",
      "59          vaccdptsource_adm    object             143   5.323902   \n",
      "60           priorweekabx_adm    object               0   0.000000   \n",
      "61       priorweekantimal_adm    object               1   0.037230   \n",
      "62           symptoms_adm___1    object               0   0.000000   \n",
      "63           symptoms_adm___2    object               0   0.000000   \n",
      "64           symptoms_adm___3    object               0   0.000000   \n",
      "65           symptoms_adm___4    object               0   0.000000   \n",
      "66           symptoms_adm___5    object               0   0.000000   \n",
      "67           symptoms_adm___6    object               0   0.000000   \n",
      "68           symptoms_adm___7    object               0   0.000000   \n",
      "69           symptoms_adm___8    object               0   0.000000   \n",
      "70           symptoms_adm___9    object               0   0.000000   \n",
      "71          symptoms_adm___10    object               0   0.000000   \n",
      "72          symptoms_adm___11    object               0   0.000000   \n",
      "73          symptoms_adm___12    object               0   0.000000   \n",
      "74          symptoms_adm___13    object               0   0.000000   \n",
      "75          symptoms_adm___14    object               0   0.000000   \n",
      "76          symptoms_adm___15    object               0   0.000000   \n",
      "77          symptoms_adm___16    object               0   0.000000   \n",
      "78          symptoms_adm___18    object               0   0.000000   \n",
      "79        comorbidity_adm___1    object               0   0.000000   \n",
      "80        comorbidity_adm___2    object               0   0.000000   \n",
      "81        comorbidity_adm___3    object               0   0.000000   \n",
      "82        comorbidity_adm___4    object               0   0.000000   \n",
      "83        comorbidity_adm___5    object               0   0.000000   \n",
      "84        comorbidity_adm___6    object               0   0.000000   \n",
      "85        comorbidity_adm___7    object               0   0.000000   \n",
      "86        comorbidity_adm___8    object               0   0.000000   \n",
      "87        comorbidity_adm___9    object               0   0.000000   \n",
      "88       comorbidity_adm___10    object               0   0.000000   \n",
      "89       comorbidity_adm___11    object               0   0.000000   \n",
      "90       comorbidity_adm___12    object               0   0.000000   \n",
      "91              priorhosp_adm    object               5   0.186150   \n",
      "92        prioryearwheeze_adm    object               2   0.074460   \n",
      "93         prioryearcough_adm    object               0   0.000000   \n",
      "94          diarrheaoften_adm    object               0   0.000000   \n",
      "95              tbcontact_adm    object               0   0.000000   \n",
      "96          feedingstatus_adm    object               0   0.000000   \n",
      "97          exclbreastfed_adm    object               1   0.037230   \n",
      "98       nonexclbreastfed_adm    object            2603  96.909903   \n",
      "99         totalbreastfed_adm    object               2   0.074460   \n",
      "100           deliveryloc_adm    object               2   0.074460   \n",
      "101           birthattend_adm    object              30   1.116902   \n",
      "102          duedateknown_adm    object               0   0.000000   \n",
      "103       birthdetail_adm___1    object               0   0.000000   \n",
      "104       birthdetail_adm___2    object               0   0.000000   \n",
      "105       birthdetail_adm___3    object               0   0.000000   \n",
      "106       birthdetail_adm___4    object               0   0.000000   \n",
      "107       birthdetail_adm___5    object               0   0.000000   \n",
      "108       birthdetail_adm___6    object               0   0.000000   \n",
      "109          travelmethod_adm    object               1   0.037230   \n",
      "110            traveldist_adm    object               1   0.037230   \n",
      "111     badhealthduration_adm    object               4   0.148920   \n",
      "112          caregiverage_adm    object               2   0.074460   \n",
      "113      caregivermarried_adm    object               0   0.000000   \n",
      "114              momalive_adm    object               1   0.037230   \n",
      "115           momageknown_adm    object              22   0.819062   \n",
      "116  momagefirstpregknown_adm    object               1   0.037230   \n",
      "117                momedu_adm    object               0   0.000000   \n",
      "118                momhiv_adm    object               6   0.223380   \n",
      "119           watersource_adm    object               2   0.074460   \n",
      "120             waterpure_adm    object               2   0.074460   \n",
      "121          cookfuel_adm___1    object               0   0.000000   \n",
      "122          cookfuel_adm___2    object               0   0.000000   \n",
      "123          cookfuel_adm___3    object               0   0.000000   \n",
      "124          cookfuel_adm___4    object               0   0.000000   \n",
      "125          cookfuel_adm___5    object               0   0.000000   \n",
      "126          cookfuel_adm___6    object               0   0.000000   \n",
      "127          cookfuel_adm___7    object               0   0.000000   \n",
      "128               cookloc_adm    object               2   0.074460   \n",
      "129             lightfuel_adm    object               3   0.111690   \n",
      "130               tobacco_adm    object               0   0.000000   \n",
      "131                bednet_adm    object               3   0.111690   \n",
      "132     hctpretransfusion_adm    object              43   1.600894   \n",
      "133             hivstatus_adm    object               5   0.186150   \n",
      "134      malariastatuspos_adm    object               2   0.074460   \n",
      "135                 lengthadm     int64               0   0.000000   \n",
      "136         caregiver_adm_new    object               3   0.111690   \n",
      "137      inhospital_mortality     int64               0   0.000000   \n",
      "\n",
      "     Unique Values  \n",
      "0             2686  \n",
      "1              451  \n",
      "2              365  \n",
      "3              262  \n",
      "4               98  \n",
      "5              135  \n",
      "6               80  \n",
      "7               79  \n",
      "8               75  \n",
      "9               55  \n",
      "10              42  \n",
      "11              38  \n",
      "12              21  \n",
      "13              35  \n",
      "14              23  \n",
      "15              15  \n",
      "16              12  \n",
      "17               9  \n",
      "18              55  \n",
      "19             107  \n",
      "20              68  \n",
      "21             144  \n",
      "22              79  \n",
      "23              96  \n",
      "24               2  \n",
      "25               2  \n",
      "26               4  \n",
      "27               2  \n",
      "28               2  \n",
      "29               2  \n",
      "30               3  \n",
      "31               3  \n",
      "32               2  \n",
      "33               2  \n",
      "34               2  \n",
      "35               2  \n",
      "36               2  \n",
      "37               2  \n",
      "38               2  \n",
      "39               2  \n",
      "40               2  \n",
      "41               2  \n",
      "42               2  \n",
      "43               2  \n",
      "44               2  \n",
      "45               2  \n",
      "46               2  \n",
      "47               2  \n",
      "48               2  \n",
      "49               2  \n",
      "50               2  \n",
      "51               2  \n",
      "52               2  \n",
      "53               2  \n",
      "54               3  \n",
      "55               2  \n",
      "56               5  \n",
      "57               2  \n",
      "58               5  \n",
      "59               2  \n",
      "60               3  \n",
      "61               3  \n",
      "62               2  \n",
      "63               2  \n",
      "64               2  \n",
      "65               2  \n",
      "66               2  \n",
      "67               2  \n",
      "68               2  \n",
      "69               2  \n",
      "70               2  \n",
      "71               2  \n",
      "72               2  \n",
      "73               2  \n",
      "74               2  \n",
      "75               2  \n",
      "76               2  \n",
      "77               2  \n",
      "78               1  \n",
      "79               2  \n",
      "80               2  \n",
      "81               2  \n",
      "82               1  \n",
      "83               2  \n",
      "84               2  \n",
      "85               2  \n",
      "86               2  \n",
      "87               2  \n",
      "88               2  \n",
      "89               2  \n",
      "90               2  \n",
      "91               6  \n",
      "92               4  \n",
      "93               4  \n",
      "94               3  \n",
      "95               3  \n",
      "96               3  \n",
      "97              10  \n",
      "98               5  \n",
      "99               6  \n",
      "100              5  \n",
      "101              5  \n",
      "102              2  \n",
      "103              2  \n",
      "104              2  \n",
      "105              2  \n",
      "106              2  \n",
      "107              2  \n",
      "108              2  \n",
      "109              6  \n",
      "110              7  \n",
      "111              6  \n",
      "112              4  \n",
      "113              5  \n",
      "114              2  \n",
      "115              2  \n",
      "116              2  \n",
      "117              6  \n",
      "118              3  \n",
      "119              6  \n",
      "120              2  \n",
      "121              2  \n",
      "122              2  \n",
      "123              2  \n",
      "124              2  \n",
      "125              2  \n",
      "126              2  \n",
      "127              2  \n",
      "128              3  \n",
      "129              8  \n",
      "130              5  \n",
      "131              3  \n",
      "132              2  \n",
      "133              2  \n",
      "134              2  \n",
      "135             38  \n",
      "136              4  \n",
      "137              2  \n"
     ]
    }
   ],
   "source": [
    "#Create a summary DataFrame of column characteristics\n",
    "\n",
    "column_summary= pd.DataFrame({'Column': sepsis_df.columns, \n",
    "                              'Data Type': sepsis_df.dtypes.values,\n",
    "                              'Missing Values': sepsis_df.isnull().sum().values,\n",
    "                              'Missing %': (sepsis_df.isnull().mean() * 100).values,\n",
    "                              'Unique Values': sepsis_df.nunique().values})\n",
    "\n",
    "\n",
    "\n",
    "# Display all rows in the column summary\n",
    "pd.set_option('display.max_rows', None)\n",
    "\n",
    "# Print\n",
    "print(column_summary)"
   ]
  },
  {
   "cell_type": "markdown",
   "id": "f59cbc71-aef6-4f2c-b8d6-367e816d9a32",
   "metadata": {},
   "source": [
    "___\n",
    "Dropped intervention columns: These variables represent treatments that, while powerful predictors, are excluded due to their post-admission nature. The model, however, relies on data available at the time of admission.\n",
    "___"
   ]
  },
  {
   "cell_type": "code",
   "execution_count": 64,
   "id": "6af380f2-945f-47fe-abbd-b7e2baaa326b",
   "metadata": {},
   "outputs": [
    {
     "name": "stdout",
     "output_type": "stream",
     "text": [
      "Remaining columns: 117\n",
      "Dropped intervention columns: ['admitabx_adm___1', 'admitabx_adm___2', 'admitabx_adm___3', 'admitabx_adm___4', 'admitabx_adm___5', 'admitabx_adm___6', 'admitabx_adm___7', 'admitabx_adm___8', 'admitabx_adm___9', 'admitabx_adm___10', 'admitabx_adm___11', 'admitabx_adm___12', 'admitabx_adm___13', 'admitabx_adm___14', 'admitabx_adm___15', 'admitabx_adm___16', 'admitabx_adm___17', 'admitabx_adm___18', 'admitabx_adm___19', 'admitabx_adm___20', 'admitabx_adm___21']\n"
     ]
    }
   ],
   "source": [
    "# Removing leading/trailing whitespace\n",
    "sepsis_df.columns = sepsis_df.columns.str.strip()\n",
    "\n",
    "# Define the intervention columns we want to drop\n",
    "intervention_cols = [f\"admitabx_adm___{i}\" for i in range(1, 22)]\n",
    "\n",
    "# Dropping them\n",
    "sepsis_df.drop(columns=intervention_cols, inplace=True, errors='ignore')\n",
    "\n",
    "# Confirming\n",
    "print(\"Remaining columns:\", sepsis_df.shape[1])\n",
    "print(\"Dropped intervention columns:\", intervention_cols)\n"
   ]
  },
  {
   "cell_type": "code",
   "execution_count": 66,
   "id": "1ce0710d-87ce-451c-a99d-c07881901300",
   "metadata": {},
   "outputs": [],
   "source": [
    "# Dropping unnecessary columns\n",
    "sepsis_df = sepsis_df.drop([\"spo2other_adm\",\"lactate2_mmolpl_adm\",\"nonexclbreastfed_adm\",\"vaccmeaslessource_adm\"], axis=1)\n"
   ]
  },
  {
   "cell_type": "markdown",
   "id": "2817125e-a0f4-4844-8c50-ff86546162ec",
   "metadata": {},
   "source": [
    "*Clean numeric-columns*"
   ]
  },
  {
   "cell_type": "code",
   "execution_count": 88,
   "id": "ab36b883-4101-424b-95a9-d1e8ac3ce29b",
   "metadata": {},
   "outputs": [],
   "source": [
    "# Step 1: Get columns that have at least one missing value\n",
    "cols_with_missing = sepsis_df.columns[sepsis_df.isnull().any()].tolist()\n",
    "\n",
    "# Step 2: Create a new DataFrame with only those columns\n",
    "df_missing_subset = sepsis_df[cols_with_missing]"
   ]
  },
  {
   "cell_type": "code",
   "execution_count": 91,
   "id": "787a086a-ebd8-4183-82f0-2004bc1f3e2a",
   "metadata": {},
   "outputs": [
    {
     "name": "stdout",
     "output_type": "stream",
     "text": [
      "Columns with fairly symmetric distributions: ['muac_mm_adm', 'sysbp_mmhg_adm', 'diasbp_mmhg_adm', 'shockindex_heart_rate_sbp_adm']\n"
     ]
    }
   ],
   "source": [
    "# Step 1: Select numeric columns only\n",
    "numeric_cols = df_missing_subset.select_dtypes(include='number')\n",
    "\n",
    "# Step 2: Calculate skewness for each numeric column\n",
    "skewness = numeric_cols.skew()\n",
    "\n",
    "# Step 3: Filter columns where skewness is between -0.5 and +0.5\n",
    "symmetric_cols = skewness[(skewness > -0.5) & (skewness < 0.5)].index.tolist()\n",
    "\n",
    "print(\"Columns with fairly symmetric distributions:\", symmetric_cols)"
   ]
  },
  {
   "cell_type": "markdown",
   "id": "635ec45c-0a9f-474a-9bad-be7bcc478880",
   "metadata": {},
   "source": [
    "___\n",
    "Columns with fairly symmetric distributions (skewness between -0.5 and 0.5) were identified using the `.skew()` function and separated for imputation using the **mean**. For columns with more skewed distributions (skewness < -0.5 or > 0.5), the **median** will be used instead, as it's more robust to outliers.\n",
    "___"
   ]
  },
  {
   "cell_type": "code",
   "execution_count": 94,
   "id": "3d23fb86-c5f3-4026-a0eb-74005a5348eb",
   "metadata": {},
   "outputs": [
    {
     "name": "stdout",
     "output_type": "stream",
     "text": [
      "0\n"
     ]
    }
   ],
   "source": [
    "# Step 1: Define the age group bins\n",
    "def assign_age_group(age_months):\n",
    "    if age_months < 6:\n",
    "        return '3-6 month'\n",
    "    elif age_months < 12:\n",
    "        return '6-1yr'\n",
    "    elif age_months < 24:\n",
    "        return '1-2yr'\n",
    "    elif age_months < 36:\n",
    "        return '2-3yr'\n",
    "    elif age_months < 48:\n",
    "        return '3-4yr'\n",
    "    elif age_months < 60:\n",
    "        return '4-5yr'\n",
    "    elif age_months < 72:\n",
    "        return '5-6yr'\n",
    "    else:\n",
    "        return 'older'\n",
    "\n",
    "# Step 2: Create 'age_group' column\n",
    "sepsis_df['age_group'] = sepsis_df['agecalc_adm'].apply(assign_age_group)\n",
    "\n",
    "# Step 3: Group by age_group and sex_adm, then impute hematocrit\n",
    "sepsis_df['hematocrit_gpdl_adm'] = sepsis_df.groupby(['age_group', 'sex_adm'])['hematocrit_gpdl_adm']\\\n",
    "    .transform(lambda x: x.fillna(x.mean()))\n",
    "print(sepsis_df[\"hematocrit_gpdl_adm\"].isnull().sum())"
   ]
  },
  {
   "cell_type": "markdown",
   "id": "b24bc913-89bb-4049-b4d3-098f33f5bf51",
   "metadata": {},
   "source": [
    "___\n",
    "\" hematocrit_gpdl_adm \" was imputed using a logical, group-based approach. Since hematocrit levels vary by age and sex, first  patients were categorized into age groups and then grouped the data by both age_group and sex_adm.\n",
    "Within each group, missing hematocrit values were filled using the mean of that group, ensuring the imputation respects biologically relevant differences.\n",
    "___"
   ]
  },
  {
   "cell_type": "code",
   "execution_count": 99,
   "id": "6ecdf7fa-c566-4e71-9e37-0328a216acb1",
   "metadata": {},
   "outputs": [
    {
     "data": {
      "text/plain": [
       "0"
      ]
     },
     "execution_count": 99,
     "metadata": {},
     "output_type": "execute_result"
    }
   ],
   "source": [
    "sepsis_df[\"hr_bpm_adm\"]=sepsis_df[\"hr_bpm_adm\"].fillna(sepsis_df[\"hr_bpm_adm\"].median())\n",
    "sepsis_df[\"hr_bpm_adm\"].isnull().sum()"
   ]
  },
  {
   "cell_type": "markdown",
   "id": "2eb4eb4b-b230-4f58-bc68-96cdd5980f03",
   "metadata": {},
   "source": [
    "___\n",
    "\"hr_bpm_adm\" was imputed using median since found to be assymetric.\n",
    "___"
   ]
  },
  {
   "cell_type": "code",
   "execution_count": 104,
   "id": "e777e105-5e13-4600-b7cf-884065083260",
   "metadata": {},
   "outputs": [
    {
     "data": {
      "text/plain": [
       "0"
      ]
     },
     "execution_count": 104,
     "metadata": {},
     "output_type": "execute_result"
    }
   ],
   "source": [
    "sepsis_df[\"sysbp_mmhg_adm\"]=sepsis_df[\"sysbp_mmhg_adm\"].fillna(sepsis_df[\"sysbp_mmhg_adm\"].mean())\n",
    "sepsis_df[\"sysbp_mmhg_adm\"].isnull().sum()"
   ]
  },
  {
   "cell_type": "markdown",
   "id": "06a13dad-4cd8-4515-af3b-3fa9933398ea",
   "metadata": {},
   "source": [
    "___\n",
    "\"sysbp_mmhg_adm\" was imputed using mean since found to be fairly symetric.\n",
    "___"
   ]
  },
  {
   "cell_type": "code",
   "execution_count": 109,
   "id": "6dd2379a-a4d1-4fd7-a764-503b47231488",
   "metadata": {},
   "outputs": [
    {
     "name": "stdout",
     "output_type": "stream",
     "text": [
      "0\n"
     ]
    }
   ],
   "source": [
    "# Create shock index column\n",
    "sepsis_df['shockindex_heart_rate_sbp_adm'] = sepsis_df['hr_bpm_adm'] / sepsis_df['sysbp_mmhg_adm']\n",
    "print(sepsis_df[\"shockindex_heart_rate_sbp_adm\"].isnull().sum())"
   ]
  },
  {
   "cell_type": "markdown",
   "id": "1a85ede7-33cf-4a8b-9e0f-d04ecb847bb8",
   "metadata": {},
   "source": [
    "___\n",
    "\"shockindex_heart_rate_sbp_adm\" was created to aid imputation of missing values in the \"lactate_mmolpl_adm\" column. It was derived from \"hr_bpm_adm\" and \"sysbp_mmhg_adm\"  columns. \n",
    "___"
   ]
  },
  {
   "cell_type": "code",
   "execution_count": 114,
   "id": "fbf40deb-567b-45aa-8e52-ee05f1497e54",
   "metadata": {},
   "outputs": [
    {
     "name": "stdout",
     "output_type": "stream",
     "text": [
      "0\n"
     ]
    }
   ],
   "source": [
    "# Create high-risk indicator based on SpO2 and shock index\n",
    "sepsis_df['high_risk'] = ((sepsis_df['spo2site1_pc_oxi_adm'] < 90) | \n",
    "                          (sepsis_df['shockindex_heart_rate_sbp_adm'] > 1)).astype(int)\n",
    "\n",
    "# Impute lactate using median within risk groups (only one transform needed)\n",
    "sepsis_df['lactate_mmolpl_adm'] = sepsis_df.groupby('high_risk')['lactate_mmolpl_adm']\\\n",
    "                                           .transform(lambda x: x.fillna(x.median()))\n",
    "print(sepsis_df[\"lactate_mmolpl_adm\"].isnull().sum())"
   ]
  },
  {
   "cell_type": "markdown",
   "id": "2f33473d-c234-417e-8999-825f5a76a5c9",
   "metadata": {},
   "source": [
    "___\n",
    "* Created a `high_risk` flag for patients with SpO₂ < 90 or shock index > 1.\n",
    "  These thresholds are clinically meaningful indicators of potential instability.\n",
    "* Imputed missing `lactate_mmolpl_adm` values using the median within each risk group.\n",
    "  This ensures imputation is done in a context-sensitive way, preserving group-level distribution patterns.\n",
    "  \n",
    "___\n",
    "m"
   ]
  },
  {
   "cell_type": "code",
   "execution_count": 119,
   "id": "9a765c9d-c05c-4a0a-8074-8956604fc3d2",
   "metadata": {},
   "outputs": [
    {
     "name": "stdout",
     "output_type": "stream",
     "text": [
      "0\n",
      "0\n"
     ]
    }
   ],
   "source": [
    "# Use spo2site2 to fill missing values in spo2site1\n",
    "sepsis_df['spo2site1_pc_oxi_adm'] = sepsis_df['spo2site1_pc_oxi_adm'].fillna(\n",
    "    sepsis_df['spo2site2_pc_oxi_adm']\n",
    ")\n",
    "# Use spo2site1 to fill missing values in spo2site2\n",
    "sepsis_df['spo2site2_pc_oxi_adm'] = sepsis_df['spo2site2_pc_oxi_adm'].fillna(\n",
    "    sepsis_df['spo2site1_pc_oxi_adm']\n",
    ")\n",
    "print(sepsis_df['spo2site1_pc_oxi_adm'].isnull().sum())\n",
    "print(sepsis_df['spo2site2_pc_oxi_adm'].isnull().sum())\n"
   ]
  },
  {
   "cell_type": "code",
   "execution_count": 121,
   "id": "b6420120-e4a3-41ba-b22d-982149a01c22",
   "metadata": {},
   "outputs": [
    {
     "name": "stdout",
     "output_type": "stream",
     "text": [
      "0\n",
      "0\n"
     ]
    }
   ],
   "source": [
    "# Create age group\n",
    "sepsis_df['age_group2'] = sepsis_df['agecalc_adm'].apply(lambda x: '<1yr' if x < 1 else '≥1yr')\n",
    "\n",
    "# Impute SpO2 site 1\n",
    "sepsis_df['spo2site1_pc_oxi_adm'] = sepsis_df.groupby('age_group2')['spo2site1_pc_oxi_adm']\\\n",
    "                                             .transform(lambda x: x.fillna(x.median()))\n",
    "\n",
    "# Impute SpO2 site 2\n",
    "sepsis_df['spo2site2_pc_oxi_adm'] = sepsis_df.groupby('age_group2')['spo2site2_pc_oxi_adm']\\\n",
    "                                             .transform(lambda x: x.fillna(x.median()))\n",
    "print(sepsis_df['spo2site1_pc_oxi_adm'].isnull().sum())\n",
    "print(sepsis_df['spo2site2_pc_oxi_adm'].isnull().sum())"
   ]
  },
  {
   "cell_type": "markdown",
   "id": "daf4daae-a9f5-4e89-937d-49cc3bdc8cc6",
   "metadata": {},
   "source": [
    "___\n",
    "The columns **'spo2site1\\_pc\\_oxi\\_adm'** and **'spo2site2\\_pc\\_oxi\\_adm'** represent oxygen saturation levels (percentage of hemoglobin carrying oxygen) from two different body sites. Since both measure similar values, **cross imputation** was used to fill missing values. However, 4 missing values were observed, suggesting that 4 rows were missing data for both columns. To account for age-related physiological differences (e.g., respiratory rate, oxygen saturation, heart rate), an **age\\_group2** variable was created to categorize patients as <1 year or ≥1 year. Missing SpO₂ values were then imputed using the median within each age group.\n",
    "___"
   ]
  },
  {
   "cell_type": "code",
   "execution_count": 126,
   "id": "ec9a22b7-3057-4f6a-8f01-8c3f28b81626",
   "metadata": {},
   "outputs": [
    {
     "name": "stdout",
     "output_type": "stream",
     "text": [
      "0\n",
      "0\n"
     ]
    }
   ],
   "source": [
    "# Use sqi2 to fill missing values in sqi1\n",
    "sepsis_df['sqi1_perc_oxi_adm'] = sepsis_df['sqi1_perc_oxi_adm'].fillna(\n",
    "    sepsis_df['sqi2_perc_oxi_adm']\n",
    ")\n",
    "\n",
    "# Use sqi1 to fill missing values in sqi2\n",
    "sepsis_df['sqi2_perc_oxi_adm'] = sepsis_df['sqi2_perc_oxi_adm'].fillna(\n",
    "    sepsis_df['sqi1_perc_oxi_adm']\n",
    ")\n",
    "print(sepsis_df['sqi1_perc_oxi_adm'].isnull().sum())\n",
    "print(sepsis_df['sqi2_perc_oxi_adm'].isnull().sum())"
   ]
  },
  {
   "cell_type": "code",
   "execution_count": 128,
   "id": "8c7b68d4-db23-4f6c-b16a-e433307e4927",
   "metadata": {},
   "outputs": [
    {
     "name": "stdout",
     "output_type": "stream",
     "text": [
      "0\n",
      "0\n"
     ]
    }
   ],
   "source": [
    "sepsis_df['sqi1_perc_oxi_adm'] = sepsis_df['sqi1_perc_oxi_adm'].fillna(sepsis_df['sqi1_perc_oxi_adm'].median())\n",
    "sepsis_df['sqi2_perc_oxi_adm'] = sepsis_df['sqi2_perc_oxi_adm'].fillna(sepsis_df['sqi2_perc_oxi_adm'].median())\n",
    "print(sepsis_df['sqi1_perc_oxi_adm'].isnull().sum())\n",
    "print(sepsis_df['sqi2_perc_oxi_adm'].isnull().sum())"
   ]
  },
  {
   "cell_type": "markdown",
   "id": "4d784f65-5d2f-48ca-93f6-03c2b44cb180",
   "metadata": {},
   "source": [
    "___\n",
    "The columns **'sqi1\\_perc\\_oxi\\_adm'** and **'sqi2\\_perc\\_oxi\\_adm'** represent the best and second-best SpO₂ signal quality index at admission. \n",
    "* **`sqi1_perc_oxi_adm`** = Highest quality SpO₂ signal among all measured sites at admission.\n",
    "* **`sqi2_perc_oxi_adm`** = Second-best quality SpO₂ signal from a different site at admission.\n",
    "Since they are related, **cross-imputation** was applied. However, 126 rows remained missing for both columns, so the remaining missing values were filled using the median.\n",
    "___"
   ]
  },
  {
   "cell_type": "markdown",
   "id": "7f1951cf-c465-44d2-8184-aae4f2883646",
   "metadata": {},
   "source": [
    "#### height_cm_adm"
   ]
  },
  {
   "cell_type": "code",
   "execution_count": 132,
   "id": "3aa0d477-7356-42b3-b601-47587e84a6a5",
   "metadata": {},
   "outputs": [
    {
     "data": {
      "text/html": [
       "<div>\n",
       "<style scoped>\n",
       "    .dataframe tbody tr th:only-of-type {\n",
       "        vertical-align: middle;\n",
       "    }\n",
       "\n",
       "    .dataframe tbody tr th {\n",
       "        vertical-align: top;\n",
       "    }\n",
       "\n",
       "    .dataframe thead th {\n",
       "        text-align: right;\n",
       "    }\n",
       "</style>\n",
       "<table border=\"1\" class=\"dataframe\">\n",
       "  <thead>\n",
       "    <tr style=\"text-align: right;\">\n",
       "      <th></th>\n",
       "      <th>weight_kg_adm</th>\n",
       "      <th>agecalc_adm</th>\n",
       "      <th>sex_adm</th>\n",
       "    </tr>\n",
       "  </thead>\n",
       "  <tbody>\n",
       "    <tr>\n",
       "      <th>370</th>\n",
       "      <td>13.0</td>\n",
       "      <td>23.3</td>\n",
       "      <td>Male</td>\n",
       "    </tr>\n",
       "    <tr>\n",
       "      <th>430</th>\n",
       "      <td>NaN</td>\n",
       "      <td>29.0</td>\n",
       "      <td>Male</td>\n",
       "    </tr>\n",
       "    <tr>\n",
       "      <th>858</th>\n",
       "      <td>NaN</td>\n",
       "      <td>30.1</td>\n",
       "      <td>Female</td>\n",
       "    </tr>\n",
       "    <tr>\n",
       "      <th>928</th>\n",
       "      <td>NaN</td>\n",
       "      <td>26.9</td>\n",
       "      <td>Male</td>\n",
       "    </tr>\n",
       "    <tr>\n",
       "      <th>956</th>\n",
       "      <td>5.8</td>\n",
       "      <td>22.0</td>\n",
       "      <td>Male</td>\n",
       "    </tr>\n",
       "    <tr>\n",
       "      <th>1025</th>\n",
       "      <td>NaN</td>\n",
       "      <td>15.5</td>\n",
       "      <td>Male</td>\n",
       "    </tr>\n",
       "    <tr>\n",
       "      <th>1178</th>\n",
       "      <td>13.0</td>\n",
       "      <td>52.2</td>\n",
       "      <td>Female</td>\n",
       "    </tr>\n",
       "    <tr>\n",
       "      <th>1360</th>\n",
       "      <td>NaN</td>\n",
       "      <td>21.2</td>\n",
       "      <td>Female</td>\n",
       "    </tr>\n",
       "    <tr>\n",
       "      <th>1785</th>\n",
       "      <td>9.0</td>\n",
       "      <td>22.5</td>\n",
       "      <td>Male</td>\n",
       "    </tr>\n",
       "    <tr>\n",
       "      <th>1855</th>\n",
       "      <td>9.0</td>\n",
       "      <td>10.6</td>\n",
       "      <td>Male</td>\n",
       "    </tr>\n",
       "    <tr>\n",
       "      <th>1887</th>\n",
       "      <td>NaN</td>\n",
       "      <td>55.7</td>\n",
       "      <td>Female</td>\n",
       "    </tr>\n",
       "    <tr>\n",
       "      <th>2336</th>\n",
       "      <td>8.5</td>\n",
       "      <td>8.4</td>\n",
       "      <td>Female</td>\n",
       "    </tr>\n",
       "    <tr>\n",
       "      <th>2353</th>\n",
       "      <td>NaN</td>\n",
       "      <td>18.9</td>\n",
       "      <td>Male</td>\n",
       "    </tr>\n",
       "    <tr>\n",
       "      <th>2356</th>\n",
       "      <td>NaN</td>\n",
       "      <td>22.0</td>\n",
       "      <td>Male</td>\n",
       "    </tr>\n",
       "  </tbody>\n",
       "</table>\n",
       "</div>"
      ],
      "text/plain": [
       "      weight_kg_adm  agecalc_adm sex_adm\n",
       "370            13.0         23.3    Male\n",
       "430             NaN         29.0    Male\n",
       "858             NaN         30.1  Female\n",
       "928             NaN         26.9    Male\n",
       "956             5.8         22.0    Male\n",
       "1025            NaN         15.5    Male\n",
       "1178           13.0         52.2  Female\n",
       "1360            NaN         21.2  Female\n",
       "1785            9.0         22.5    Male\n",
       "1855            9.0         10.6    Male\n",
       "1887            NaN         55.7  Female\n",
       "2336            8.5          8.4  Female\n",
       "2353            NaN         18.9    Male\n",
       "2356            NaN         22.0    Male"
      ]
     },
     "execution_count": 132,
     "metadata": {},
     "output_type": "execute_result"
    }
   ],
   "source": [
    "# Show relevant info where height is missing\n",
    "sepsis_df.loc[sepsis_df['height_cm_adm'].isnull(), ['weight_kg_adm', 'agecalc_adm', 'sex_adm']]"
   ]
  },
  {
   "cell_type": "markdown",
   "id": "5f6fd6a4-939f-431b-91da-3d75ce26e6f2",
   "metadata": {},
   "source": [
    "* To handle missing values in the height_cm_adm column, the approach involves imputing the missing heights using the WHO median height-for-age data. The patient's age in months is rounded to the nearest whole number to align with the WHO data, which includes median height values for different age months. The missing values in the height_cm_adm column are then filled with the corresponding median height from the WHO dataset based on the patient's rounded age.\n",
    "  \n",
    "* This method ensures that the imputed heights are age-appropriate and based on established growth standards, improving the overall quality of the dataset for analysis."
   ]
  },
  {
   "cell_type": "markdown",
   "id": "0a93abf3-3469-41f5-9676-3d1bcb966f57",
   "metadata": {},
   "source": [
    "##### *For Female*"
   ]
  },
  {
   "cell_type": "code",
   "execution_count": 134,
   "id": "1e424f1d-b435-4af4-98fa-bfb51716b9f8",
   "metadata": {},
   "outputs": [],
   "source": [
    "# Loading the WHO dataset for girls\n",
    "who_girls = pd.read_csv(\"girls_length_height_for_age.csv\")"
   ]
  },
  {
   "cell_type": "code",
   "execution_count": 136,
   "id": "337bb5f4-8757-47de-be98-cb19444d94d3",
   "metadata": {},
   "outputs": [],
   "source": [
    "# Round age to match WHO months\n",
    "sepsis_df['age_months_rounded'] = sepsis_df['agecalc_adm'].round().astype(int)\n",
    "\n",
    "# Prepare WHO data\n",
    "who_clean = who_girls[['Months', 'Median']].rename(columns={\n",
    "    'Months': 'age_months_rounded',\n",
    "    'Median': 'who_median_height'\n",
    "})\n",
    "\n",
    "# Merge on the rounded age\n",
    "sepsis_df = sepsis_df.merge(\n",
    "    who_clean,\n",
    "    on='age_months_rounded',\n",
    "    how='left'\n",
    ")"
   ]
  },
  {
   "cell_type": "markdown",
   "id": "5d2de59e-bf98-4bd7-b8c2-5933215b376c",
   "metadata": {},
   "source": [
    "* The patient's age in months is rounded to the nearest whole number to align with the WHO data. The WHO median height-for-age data for girls is then cleaned and merged with the sepsis dataset based on the rounded age.\n",
    "\n",
    "* This ensures that each patient is matched with the appropriate WHO median height based on their age."
   ]
  },
  {
   "cell_type": "code",
   "execution_count": 138,
   "id": "793e20aa-7666-4975-bf32-2939a45e25d2",
   "metadata": {},
   "outputs": [],
   "source": [
    "# Identify missing heights for female patients\n",
    "girls_mask = (sepsis_df['sex_adm'] == 'Female') & (sepsis_df['height_cm_adm'].isna())\n",
    "\n",
    "# Impute with WHO median height based on rounded age\n",
    "sepsis_df.loc[girls_mask, 'height_cm_adm'] = sepsis_df.loc[girls_mask, 'who_median_height']"
   ]
  },
  {
   "cell_type": "markdown",
   "id": "558148ce-1662-40a9-a8b9-4b23009bd7b2",
   "metadata": {},
   "source": [
    "* This code identifies missing height values for female patients by creating a mask where the sex_adm is 'Female' and height_cm_adm is null.\n",
    "\n",
    "* Then, for these patients, the missing height values are imputed using the corresponding WHO median height based on the patient's rounded age in months."
   ]
  },
  {
   "cell_type": "markdown",
   "id": "209d52f5-6b16-4214-8088-01e6f9abce91",
   "metadata": {},
   "source": [
    "##### *For Male*"
   ]
  },
  {
   "cell_type": "code",
   "execution_count": 140,
   "id": "eb8e610d-9b57-4a9e-9dfa-000de20225d3",
   "metadata": {},
   "outputs": [],
   "source": [
    "# Loading the WHO dataset for boys\n",
    "who_boys = pd.read_csv(\"boys_length_height_for_age.csv\")"
   ]
  },
  {
   "cell_type": "code",
   "execution_count": 142,
   "id": "063d635b-0aa1-4ed9-a616-71be988c3091",
   "metadata": {},
   "outputs": [],
   "source": [
    "# Round age to match WHO months\n",
    "sepsis_df['age_months_rounded'] = sepsis_df['agecalc_adm'].round().astype(int)\n",
    "\n",
    "# Prepare WHO data\n",
    "who_clean_boys = who_boys[['Months', 'Median']].rename(columns={\n",
    "    'Months': 'age_months_rounded',\n",
    "    'Median': 'who_median_height_boys'\n",
    "})\n",
    "\n",
    "# Merge on the rounded age\n",
    "sepsis_df = sepsis_df.merge(\n",
    "    who_clean_boys,\n",
    "    on='age_months_rounded',\n",
    "    how='left'\n",
    ")"
   ]
  },
  {
   "cell_type": "markdown",
   "id": "bbbddd32-8e38-4eac-a3d2-debc394a1c82",
   "metadata": {},
   "source": [
    "* In this process, the age calculation of the children in the sepsis dataset is rounded to the nearest whole month using the agecalc_adm column. This rounded age is stored in a new column age_months_rounded.\n",
    "\n",
    "* Next, the WHO data for boys is prepared by extracting the relevant columns (Months and Median) from the who_boys dataset and renaming them to age_months_rounded and who_median_height_boys, ensuring consistency with the sepsis dataset.\n",
    "\n",
    "* Finally, the two datasets are merged based on the rounded age (age_months_rounded), allowing the sepsis dataset to be enriched with the WHO median height for boys based on the rounded age, creating a column called who_median_height_boys in the sepsis_df."
   ]
  },
  {
   "cell_type": "code",
   "execution_count": 146,
   "id": "2f7b2091-3555-420e-8997-7c5cc0c27070",
   "metadata": {},
   "outputs": [
    {
     "data": {
      "text/plain": [
       "0"
      ]
     },
     "execution_count": 146,
     "metadata": {},
     "output_type": "execute_result"
    }
   ],
   "source": [
    "# Identify missing heights for male patients\n",
    "boys_mask = (sepsis_df['sex_adm'] == 'Male') & (sepsis_df['height_cm_adm'].isna())\n",
    "\n",
    "# Impute with WHO median height based on rounded age for boys\n",
    "sepsis_df.loc[boys_mask, 'height_cm_adm'] = sepsis_df.loc[boys_mask, 'who_median_height_boys']\n",
    "\n",
    "# Check for missing values again\n",
    "sepsis_df['height_cm_adm'].isna().sum()"
   ]
  },
  {
   "cell_type": "markdown",
   "id": "41d76f78-4507-46dc-995b-6a069a1f1e37",
   "metadata": {},
   "source": [
    "* This process identifies missing height values (height_cm_adm) for male patients in the dataset.\n",
    "* For those missing values, the heights are imputed using the WHO median height for boys based on the rounded age.\n",
    "* After the imputation, the number of remaining missing height values is checked to confirm the success of the imputation of the **height_cm_adm** column."
   ]
  },
  {
   "cell_type": "markdown",
   "id": "85528972-458a-4b5b-91b9-ba9956a47a72",
   "metadata": {},
   "source": [
    "#### weight_kg_adm"
   ]
  },
  {
   "cell_type": "markdown",
   "id": "b57bb4bd-108b-4e9c-a2c4-e156d0e2397a",
   "metadata": {},
   "source": [
    "* To impute missing weight values in the dataset, we used a reference-based approach leveraging the WHO weight-for-age data. By rounding the age of each patient to the nearest integer, we matched it with the corresponding median weight for boys and girls from the WHO dataset. This allowed us to impute missing weights based on the median value for the given age and sex, ensuring a more accurate and contextually relevant imputation method."
   ]
  },
  {
   "cell_type": "code",
   "execution_count": 137,
   "id": "7c03ca2d-b958-4b42-9cba-bd28e313e044",
   "metadata": {},
   "outputs": [],
   "source": [
    "# Load WHO data\n",
    "boys_wfa = pd.read_csv(\"boys_weight_for_age.csv\")  \n",
    "girls_wfa = pd.read_csv(\"girls_weight_for_age.csv\") "
   ]
  },
  {
   "cell_type": "code",
   "execution_count": 139,
   "id": "c96522e7-e7bd-4417-841a-d81103f8478d",
   "metadata": {},
   "outputs": [
    {
     "data": {
      "text/plain": [
       "0"
      ]
     },
     "execution_count": 139,
     "metadata": {},
     "output_type": "execute_result"
    }
   ],
   "source": [
    "# Round the age to the nearest integer\n",
    "sepsis_df['agecalc_adm_rounded'] = sepsis_df['agecalc_adm'].round().astype(int)\n",
    "\n",
    "# Function to impute missing weight values\n",
    "def impute_weight(row):\n",
    "    if pd.isna(row['weight_kg_adm']):\n",
    "        if row['sex_adm'] == 'Male':\n",
    "            # Get the median weight for boys based on the agecalc_adm\n",
    "            ref = boys_wfa[boys_wfa['Months'] == row['agecalc_adm_rounded']]['Median'].values[0]\n",
    "        else:\n",
    "            # Get the median weight for girls based on the agecalc_adm\n",
    "            ref = girls_wfa[girls_wfa['Months'] == row['agecalc_adm_rounded']]['Median'].values[0]\n",
    "        return ref\n",
    "    return row['weight_kg_adm']\n",
    "\n",
    "# Apply the imputation to the dataset\n",
    "sepsis_df['weight_kg_adm'] = sepsis_df.apply(impute_weight, axis=1)\n",
    "\n",
    "# Check for missing values again\n",
    "sepsis_df['weight_kg_adm'].isna().sum()"
   ]
  },
  {
   "cell_type": "markdown",
   "id": "8e6ea814-3953-48ec-b5fa-d444d9f0877b",
   "metadata": {},
   "source": [
    "* The process of imputing missing values in the weight_kg_adm column begins by loading the WHO weight-for-age datasets for boys and girls. The age column (agecalc_adm) in the sepsis_df dataset is then rounded to the nearest integer to match the age format used in the WHO datasets. A custom function, impute_weight, is created to fill in missing values.\n",
    "* For each row with a missing weight, the function checks the sex of the patient and retrieves the corresponding median weight from the appropriate WHO dataset (boys or girls) based on the rounded age. This median value is then used to impute the missing weight.\n",
    "* The function is applied to the entire dataset, and the weight_kg_adm column is updated accordingly. Finally, a check is performed to confirm that there are no remaining missing values in the weight column, ensuring successful imputation."
   ]
  },
  {
   "cell_type": "markdown",
   "id": "13a7dcf1-1f91-4ae8-8e56-b83a7119d757",
   "metadata": {},
   "source": [
    "#### muac_mm_adm"
   ]
  },
  {
   "cell_type": "code",
   "execution_count": 141,
   "id": "f7b73c94-5377-416b-9401-d837ed9f5867",
   "metadata": {},
   "outputs": [
    {
     "name": "stdout",
     "output_type": "stream",
     "text": [
      "0\n"
     ]
    }
   ],
   "source": [
    "# Suppress all warning messages to keep output clean\n",
    "warnings.filterwarnings(\"ignore\")\n",
    "\n",
    "# Divide 'weight_kg_adm' into 5 equal-sized bins (quintiles) and assign to 'weight_group'\n",
    "sepsis_df['weight_group'] = pd.qcut(sepsis_df['weight_kg_adm'], 5)\n",
    "\n",
    "# Group by 'age_group', 'weight_group', and 'sex_adm', then fill missing 'muac_mm_adm' values with the group mean\n",
    "sepsis_df['muac_mm_adm'] = sepsis_df.groupby(\n",
    "    ['age_group', 'weight_group', 'sex_adm']\n",
    ")['muac_mm_adm'].transform(lambda x: x.fillna(x.mean()))\n",
    "\n",
    "# Print how many missing values remain in 'muac_mm_adm']\\\n",
    "print(sepsis_df[\"muac_mm_adm\"].isnull().sum())"
   ]
  },
  {
   "cell_type": "markdown",
   "id": "b0ec5dff-e099-4b10-bed7-471c47a0972e",
   "metadata": {},
   "source": [
    "* The above code imputes missing values in the Mid-Upper Arm Circumference (MUAC) column based on weight-for-age groups.\n",
    "\n",
    "* First, it divides the dataset into five quantiles based on the weight of the patients using the pd.qcut() function. Each quantile represents a group of patients with similar weights. Then, for each group, the code uses the groupby() function to group the data and applies a transformation to the MUAC column.\n",
    "\n",
    "* It fills the missing values in the MUAC column with the median value of the corresponding group. This approach assumes that children with similar weights are likely to have similar MUAC measurements, so the median value within each weight group is used to impute the missing data. The median is chosen because it is more robust to outliers compared to the mean, making it a suitable choice for imputation in this case."
   ]
  },
  {
   "cell_type": "markdown",
   "id": "6e5c3beb-a813-4880-beb8-88b79378a7cf",
   "metadata": {},
   "source": [
    "#### bcseye_adm"
   ]
  },
  {
   "cell_type": "markdown",
   "id": "b202e14e-2e43-492b-b80f-1098747afbd6",
   "metadata": {},
   "source": [
    "* This below code investigates whether missing values in the bcseye_adm variable (Blantyre Coma Scale – Eye Response) are associated with the availability of related coma scale components, specifically:\n",
    "                        \n",
    "                        - bcsmotor_adm – Motor Response\n",
    "                        - bcsverbal_adm – Verbal Response"
   ]
  },
  {
   "cell_type": "code",
   "execution_count": 143,
   "id": "28349f26-1e10-4033-a76e-a1ff6ab32d69",
   "metadata": {},
   "outputs": [
    {
     "name": "stdout",
     "output_type": "stream",
     "text": [
      "Empty DataFrame\n",
      "Columns: [bcsmotor_adm, bcsverbal_adm]\n",
      "Index: []\n"
     ]
    }
   ],
   "source": [
    "# Identify rows where 'bcseye_adm' is missing\n",
    "missing_eye = sepsis_df['bcseye_adm'].isna()\n",
    "\n",
    "# Print the corresponding 'bcsmotor_adm' and 'bcsverbal_adm' values where 'bcseye_adm' is missing\n",
    "print(sepsis_df[missing_eye][['bcsmotor_adm', 'bcsverbal_adm']])"
   ]
  },
  {
   "cell_type": "code",
   "execution_count": 145,
   "id": "326cb722-ef9f-47c8-a51c-2d4ec4b2f76f",
   "metadata": {},
   "outputs": [
    {
     "name": "stdout",
     "output_type": "stream",
     "text": [
      "bcseye_adm                                Fails to watch or follow\n",
      "bcsmotor_adm                 No response or inappropriate response\n",
      "bcsverbal_adm    Cries appropriately with pain, or, if verbal, ...\n",
      "Name: 1388, dtype: object\n"
     ]
    }
   ],
   "source": [
    "# Verifying the exact patient record\n",
    "patient_1388 = sepsis_df.loc[1388, ['bcseye_adm', 'bcsmotor_adm', 'bcsverbal_adm']]\n",
    "print(patient_1388)"
   ]
  },
  {
   "cell_type": "code",
   "execution_count": 151,
   "id": "a29b0482-6bf0-48a3-967a-35ab7191087b",
   "metadata": {},
   "outputs": [
    {
     "name": "stdout",
     "output_type": "stream",
     "text": [
      "0\n"
     ]
    }
   ],
   "source": [
    "# Impute missing as \"NoFollow\" (most severe neurological status)\n",
    "sepsis_df['bcseye_adm'] = sepsis_df['bcseye_adm'].fillna('Fails to watch or follow')\n",
    "print(sepsis_df[\"bcseye_adm\"].isnull().sum())\n"
   ]
  },
  {
   "cell_type": "markdown",
   "id": "8f4b6f51-0890-405d-8dab-d822db36c8c9",
   "metadata": {},
   "source": [
    "* This output shows that even though bcseye_adm is missing for this patient (row 1388):\n",
    "                        \n",
    "                        - bcsmotor_adm is present but indicates very low motor responsiveness\n",
    "                        - bcsverbal_adm is present and shows some verbal responsiveness\n",
    "\n",
    "**Since bcsmotor_adm is very low and bcseye_adm is missing, it is reasonable to impute a worst-case value like \"Fails to watch or follow\" for bcseye_adm**"
   ]
  },
  {
   "cell_type": "markdown",
   "id": "c2d5e800-453b-4d92-b2b1-34e857ed579d",
   "metadata": {},
   "source": [
    "#### bcsverbal_adm"
   ]
  },
  {
   "cell_type": "code",
   "execution_count": 62,
   "id": "e4f324e7-9c8e-4d40-b530-356638599135",
   "metadata": {},
   "outputs": [
    {
     "name": "stdout",
     "output_type": "stream",
     "text": [
      "              bcseye_adm                          bcsmotor_adm\n",
      "507   Watches or follows  Withdraws limb from painful stimulus\n",
      "1205  Watches or follows  Withdraws limb from painful stimulus\n"
     ]
    }
   ],
   "source": [
    "# Identify rows where 'bcsverbal_adm' (verbal response) is missing\n",
    "missing_verbal = sepsis_df['bcsverbal_adm'].isna()\n",
    "\n",
    "# Display corresponding eye and motor responses for those rows\n",
    "print(sepsis_df[missing_verbal][['bcseye_adm', 'bcsmotor_adm']])"
   ]
  },
  {
   "cell_type": "markdown",
   "id": "832bc291-eadb-4605-a3ad-8fbdc6c6046a",
   "metadata": {},
   "source": [
    "* This code identifies all records where the verbal response (bcsverbal_adm) is missing and displays the corresponding eye and motor response values. It helps assess whether there is a consistent pattern that could be used to logically impute the missing verbal scores."
   ]
  },
  {
   "cell_type": "code",
   "execution_count": 78,
   "id": "39deb512-c7ac-4a02-95dd-526274a3d31c",
   "metadata": {},
   "outputs": [],
   "source": [
    "# Filter records with the same eye/motor scores to find the most frequent verbal response\n",
    "subgroup_mask = (\n",
    "    (sepsis_df['bcseye_adm'] == 'Watches or follows') & \n",
    "    (sepsis_df['bcsmotor_adm'] == 'Withdraws limb from painful stimulus')\n",
    ")\n",
    "mode_verbal = sepsis_df[subgroup_mask]['bcsverbal_adm'].mode()[0]  # Most common in this subgroup\n",
    "\n",
    "# Apply to missing cases\n",
    "sepsis_df.loc[[507, 1205], 'bcsverbal_adm'] = mode_verbal"
   ]
  },
  {
   "cell_type": "markdown",
   "id": "5b651d96-e126-47fc-8827-106cdc9ccc5e",
   "metadata": {},
   "source": [
    "* This code filters the dataset to records where both the eye and motor responses match the specified clinical patterns. It then identifies the most common (modal) verbal response within that subgroup. This modal value is then used to fill in the missing verbal response entries (rows 507 and 1205), ensuring the imputation is clinically consistent."
   ]
  },
  {
   "cell_type": "code",
   "execution_count": 155,
   "id": "69d3bacd-bea4-49f9-91c7-e4459b8a03a7",
   "metadata": {},
   "outputs": [
    {
     "name": "stdout",
     "output_type": "stream",
     "text": [
      "0\n"
     ]
    }
   ],
   "source": [
    "sepsis_df[\"diasbp_mmhg_adm\"] = sepsis_df[\"diasbp_mmhg_adm\"].fillna(sepsis_df[\"diasbp_mmhg_adm\"].mean())\n",
    "print(sepsis_df[\"diasbp_mmhg_adm\"].isnull().sum())"
   ]
  },
  {
   "cell_type": "markdown",
   "id": "c90bbbb9-e366-42c4-b58c-062e3a55170d",
   "metadata": {},
   "source": [
    "___\n",
    "The missing values in the diasbp_mmhg_adm column were imputed with the mean of the existing values since found to be fairly symmetric.\n",
    "___"
   ]
  },
  {
   "cell_type": "code",
   "execution_count": 160,
   "id": "f44cf80e-9d81-4a4e-ab1b-d1c31ff2b409",
   "metadata": {},
   "outputs": [],
   "source": [
    "# Step 1: Get columns that have at least one missing value\n",
    "cols_with_missing2 = sepsis_df.columns[sepsis_df.isnull().any()].tolist()\n",
    "\n",
    "# Step 2: Create a new DataFrame with only those columns\n",
    "df_missing_subset2 = sepsis_df[cols_with_missing2]\n",
    "\n",
    "# Step 3: Select numeric columns only\n",
    "numeric_cols2 = df_missing_subset2.select_dtypes(include='number').columns\n",
    "\n",
    "# Step 4: Fill missing values in numeric columns with the median of each column\n",
    "df_missing_subset2[numeric_cols2] = df_missing_subset2[numeric_cols2].fillna(df_missing_subset2[numeric_cols2].median())\n",
    "# Update the original Sepsis_df with the imputed numeric columns\n",
    "sepsis_df[numeric_cols2] = df_missing_subset2[numeric_cols2]\n",
    "\n"
   ]
  },
  {
   "cell_type": "markdown",
   "id": "baa5883e-2f6d-4141-97b7-611b9171d51f",
   "metadata": {},
   "source": [
    "___\n",
    "The remaining numeric columns with null values were imputed using the median, as the number of missing values was relatively small and found to be asymmetrically distributed. This approach ensures that the imputed values do not skew the data significantly.\n",
    "___"
   ]
  },
  {
   "cell_type": "markdown",
   "id": "3026a433-6f74-4b50-a692-e4c1469e84e9",
   "metadata": {},
   "source": [
    "___\n",
    "The remaining numeric columns with null values were imputed using the median, as the number of missing values was relatively small and found to be asymmetrically distributed. This approach ensures that the imputed values do not skew the data significantly.\n",
    "___"
   ]
  },
  {
   "cell_type": "code",
   "execution_count": 168,
   "id": "591287c5-118c-4de5-8868-fb3b6b1e186b",
   "metadata": {},
   "outputs": [
    {
     "name": "stdout",
     "output_type": "stream",
     "text": [
      "0\n"
     ]
    }
   ],
   "source": [
    "sepsis_df['hivstatus_adm'] = sepsis_df['hivstatus_adm'].fillna('NotTested')\n",
    "print(sepsis_df[\"hivstatus_adm\"].isnull().sum())"
   ]
  },
  {
   "cell_type": "markdown",
   "id": "4bb8ce9b-2725-448a-88b2-83365ffa8144",
   "metadata": {},
   "source": [
    "___\n",
    "The column **'hivstatus\\_adm'** was imputed with **'NotTested'** since it was challenging to reliably estimate the missing values using the same or related columns.\n",
    "___"
   ]
  },
  {
   "cell_type": "code",
   "execution_count": 173,
   "id": "bf17357b-766f-4443-8be9-1f2f3466dde3",
   "metadata": {},
   "outputs": [
    {
     "data": {
      "image/png": "[encoded data removed]",
      "text/plain": [
       "<Figure size 1000x600 with 1 Axes>"
      ]
     },
     "metadata": {},
     "output_type": "display_data"
    }
   ],
   "source": [
    "# Step 1: Plot 'hematocrit_gpdl_adm' levels before and after transfusion using a boxplot\n",
    "plt.figure(figsize=(10, 6))\n",
    "sns.boxplot(\n",
    "    x='hctpretransfusion_adm', \n",
    "    y='hematocrit_gpdl_adm',  # Replace ''hematocrit_gpdl_adm'' with the actual column name for HCT values\n",
    "    data=sepsis_df\n",
    ")\n",
    "plt.title('Distribution of hematocrit_gpdl_adm Levels by Pre-Transfusion Status')\n",
    "plt.xlabel('Before Transfusion (hctpretransfusion_adm)')\n",
    "plt.ylabel('hematocrit_gpdl_adm Levels')\n",
    "plt.show()\n"
   ]
  },
  {
   "cell_type": "code",
   "execution_count": 175,
   "id": "69b3fc36-8723-444e-b42c-fc86322f7284",
   "metadata": {},
   "outputs": [
    {
     "name": "stdout",
     "output_type": "stream",
     "text": [
      "0\n"
     ]
    }
   ],
   "source": [
    "# First, calculate mode (most frequent value)\n",
    "mode_value = sepsis_df['hctpretransfusion_adm'].mode()[0]\n",
    "\n",
    "# Define custom function\n",
    "def impute_hctpretransfusion(row):\n",
    "    if pd.isna(row['hctpretransfusion_adm']):\n",
    "        if row['hematocrit_gpdl_adm'] < 10 or row['hematocrit_gpdl_adm'] > 50:\n",
    "            return 'Yes'\n",
    "        else:\n",
    "            return mode_value\n",
    "    else:\n",
    "        return row['hctpretransfusion_adm']\n",
    "\n",
    "# Apply the function to fill missing values\n",
    "sepsis_df['hctpretransfusion_adm'] = sepsis_df.apply(impute_hctpretransfusion, axis=1)\n",
    "print(sepsis_df['hctpretransfusion_adm'].isnull().sum())\n"
   ]
  },
  {
   "cell_type": "markdown",
   "id": "2e4a9903-0119-4711-977a-b7deb68d13ac",
   "metadata": {},
   "source": [
    "___\n",
    "**\"hctpretransfusion\\_adm\"** was imputed using a **distribution-based method** guided by a box plot analysis. Since the upper whisker for “No” responses was around 50 and the lower whisker around 10 (based on hematocrit values), missing entries with hematocrit values outside this range were classified as **\"Yes\"**. The remaining missing values were filled using the **mode**.\n",
    "___\n"
   ]
  },
  {
   "cell_type": "code",
   "execution_count": 182,
   "id": "1da79edf-3c2d-499b-a0f8-286bfe212679",
   "metadata": {},
   "outputs": [],
   "source": [
    "# Step 1: Select non-numeric columns with missing values\n",
    "non_numeric_missing = sepsis_df.select_dtypes(exclude='number').columns\n",
    "non_numeric_missing = [col for col in non_numeric_missing if sepsis_df[col].isnull().any()]\n",
    "\n",
    "# Step 2: Fill each with its own mode\n",
    "for col in non_numeric_missing:\n",
    "    mode_val = sepsis_df[col].mode()[0]\n",
    "    sepsis_df[col] = sepsis_df[col].fillna(mode_val)"
   ]
  },
  {
   "cell_type": "markdown",
   "id": "addae133-f75d-4a18-bd28-c40a0d41101c",
   "metadata": {},
   "source": [
    "___\n",
    "non numeric columns other than **'hivstatus\\_adm'** and **\"hctpretransfusion_adm\"** were filled using mode\n",
    "___"
   ]
  },
  {
   "cell_type": "code",
   "execution_count": 187,
   "id": "479321f9-b334-4765-8e70-c42e2545a6a0",
   "metadata": {},
   "outputs": [
    {
     "name": "stdout",
     "output_type": "stream",
     "text": [
      "<class 'pandas.core.frame.DataFrame'>\n",
      "RangeIndex: 2686 entries, 0 to 2685\n",
      "Data columns (total 119 columns):\n",
      " #    Column                         Non-Null Count  Dtype   \n",
      "---   ------                         --------------  -----   \n",
      " 0    studyid_adm                    2686 non-null   int64   \n",
      " 1    agecalc_adm                    2686 non-null   float64 \n",
      " 2    height_cm_adm                  2686 non-null   float64 \n",
      " 3    weight_kg_adm                  2686 non-null   float64 \n",
      " 4    muac_mm_adm                    2686 non-null   float64 \n",
      " 5    hr_bpm_adm                     2686 non-null   float64 \n",
      " 6    rr_brpm_app_adm                2686 non-null   float64 \n",
      " 7    sysbp_mmhg_adm                 2686 non-null   float64 \n",
      " 8    diasbp_mmhg_adm                2686 non-null   float64 \n",
      " 9    temp_c_adm                     2686 non-null   float64 \n",
      " 10   spo2site1_pc_oxi_adm           2686 non-null   float64 \n",
      " 11   spo2site2_pc_oxi_adm           2686 non-null   float64 \n",
      " 12   momage_adm                     2686 non-null   float64 \n",
      " 13   momagefirstpreg_adm            2686 non-null   float64 \n",
      " 14   householdsize_adm              2686 non-null   float64 \n",
      " 15   alivechildren_adm              2686 non-null   float64 \n",
      " 16   deadchildren_adm               2686 non-null   float64 \n",
      " 17   hematocrit_gpdl_adm            2686 non-null   float64 \n",
      " 18   lactate_mmolpl_adm             2686 non-null   float64 \n",
      " 19   glucose_mmolpl_adm             2686 non-null   float64 \n",
      " 20   sqi1_perc_oxi_adm              2686 non-null   float64 \n",
      " 21   sqi2_perc_oxi_adm              2686 non-null   float64 \n",
      " 22   sex_adm                        2686 non-null   object  \n",
      " 23   spo2onoxy_adm                  2686 non-null   object  \n",
      " 24   oxygenavail_adm                2686 non-null   object  \n",
      " 25   respdistress_adm               2686 non-null   object  \n",
      " 26   caprefill_adm                  2686 non-null   object  \n",
      " 27   bcseye_adm                     2686 non-null   object  \n",
      " 28   bcsmotor_adm                   2686 non-null   object  \n",
      " 29   bcsverbal_adm                  2686 non-null   object  \n",
      " 30   bcgscar_adm                    2686 non-null   object  \n",
      " 31   vaccmeasles_adm                2686 non-null   object  \n",
      " 32   vaccpneumoc_adm                2686 non-null   object  \n",
      " 33   vaccpneumocsource_adm          2686 non-null   object  \n",
      " 34   vaccdpt_adm                    2686 non-null   object  \n",
      " 35   vaccdptsource_adm              2686 non-null   object  \n",
      " 36   priorweekabx_adm               2686 non-null   object  \n",
      " 37   priorweekantimal_adm           2686 non-null   object  \n",
      " 38   symptoms_adm___1               2686 non-null   object  \n",
      " 39   symptoms_adm___2               2686 non-null   object  \n",
      " 40   symptoms_adm___3               2686 non-null   object  \n",
      " 41   symptoms_adm___4               2686 non-null   object  \n",
      " 42   symptoms_adm___5               2686 non-null   object  \n",
      " 43   symptoms_adm___6               2686 non-null   object  \n",
      " 44   symptoms_adm___7               2686 non-null   object  \n",
      " 45   symptoms_adm___8               2686 non-null   object  \n",
      " 46   symptoms_adm___9               2686 non-null   object  \n",
      " 47   symptoms_adm___10              2686 non-null   object  \n",
      " 48   symptoms_adm___11              2686 non-null   object  \n",
      " 49   symptoms_adm___12              2686 non-null   object  \n",
      " 50   symptoms_adm___13              2686 non-null   object  \n",
      " 51   symptoms_adm___14              2686 non-null   object  \n",
      " 52   symptoms_adm___15              2686 non-null   object  \n",
      " 53   symptoms_adm___16              2686 non-null   object  \n",
      " 54   symptoms_adm___18              2686 non-null   object  \n",
      " 55   comorbidity_adm___1            2686 non-null   object  \n",
      " 56   comorbidity_adm___2            2686 non-null   object  \n",
      " 57   comorbidity_adm___3            2686 non-null   object  \n",
      " 58   comorbidity_adm___4            2686 non-null   object  \n",
      " 59   comorbidity_adm___5            2686 non-null   object  \n",
      " 60   comorbidity_adm___6            2686 non-null   object  \n",
      " 61   comorbidity_adm___7            2686 non-null   object  \n",
      " 62   comorbidity_adm___8            2686 non-null   object  \n",
      " 63   comorbidity_adm___9            2686 non-null   object  \n",
      " 64   comorbidity_adm___10           2686 non-null   object  \n",
      " 65   comorbidity_adm___11           2686 non-null   object  \n",
      " 66   comorbidity_adm___12           2686 non-null   object  \n",
      " 67   priorhosp_adm                  2686 non-null   object  \n",
      " 68   prioryearwheeze_adm            2686 non-null   object  \n",
      " 69   prioryearcough_adm             2686 non-null   object  \n",
      " 70   diarrheaoften_adm              2686 non-null   object  \n",
      " 71   tbcontact_adm                  2686 non-null   object  \n",
      " 72   feedingstatus_adm              2686 non-null   object  \n",
      " 73   exclbreastfed_adm              2686 non-null   object  \n",
      " 74   totalbreastfed_adm             2686 non-null   object  \n",
      " 75   deliveryloc_adm                2686 non-null   object  \n",
      " 76   birthattend_adm                2686 non-null   object  \n",
      " 77   duedateknown_adm               2686 non-null   object  \n",
      " 78   birthdetail_adm___1            2686 non-null   object  \n",
      " 79   birthdetail_adm___2            2686 non-null   object  \n",
      " 80   birthdetail_adm___3            2686 non-null   object  \n",
      " 81   birthdetail_adm___4            2686 non-null   object  \n",
      " 82   birthdetail_adm___5            2686 non-null   object  \n",
      " 83   birthdetail_adm___6            2686 non-null   object  \n",
      " 84   travelmethod_adm               2686 non-null   object  \n",
      " 85   traveldist_adm                 2686 non-null   object  \n",
      " 86   badhealthduration_adm          2686 non-null   object  \n",
      " 87   caregiverage_adm               2686 non-null   object  \n",
      " 88   caregivermarried_adm           2686 non-null   object  \n",
      " 89   momalive_adm                   2686 non-null   object  \n",
      " 90   momageknown_adm                2686 non-null   object  \n",
      " 91   momagefirstpregknown_adm       2686 non-null   object  \n",
      " 92   momedu_adm                     2686 non-null   object  \n",
      " 93   momhiv_adm                     2686 non-null   object  \n",
      " 94   watersource_adm                2686 non-null   object  \n",
      " 95   waterpure_adm                  2686 non-null   object  \n",
      " 96   cookfuel_adm___1               2686 non-null   object  \n",
      " 97   cookfuel_adm___2               2686 non-null   object  \n",
      " 98   cookfuel_adm___3               2686 non-null   object  \n",
      " 99   cookfuel_adm___4               2686 non-null   object  \n",
      " 100  cookfuel_adm___5               2686 non-null   object  \n",
      " 101  cookfuel_adm___6               2686 non-null   object  \n",
      " 102  cookfuel_adm___7               2686 non-null   object  \n",
      " 103  cookloc_adm                    2686 non-null   object  \n",
      " 104  lightfuel_adm                  2686 non-null   object  \n",
      " 105  tobacco_adm                    2686 non-null   object  \n",
      " 106  bednet_adm                     2686 non-null   object  \n",
      " 107  hctpretransfusion_adm          2686 non-null   object  \n",
      " 108  hivstatus_adm                  2686 non-null   object  \n",
      " 109  malariastatuspos_adm           2686 non-null   object  \n",
      " 110  lengthadm                      2686 non-null   int64   \n",
      " 111  caregiver_adm_new              2686 non-null   object  \n",
      " 112  inhospital_mortality           2686 non-null   int64   \n",
      " 113  age_group                      2686 non-null   object  \n",
      " 114  shockindex_heart_rate_sbp_adm  2686 non-null   float64 \n",
      " 115  high_risk                      2686 non-null   int32   \n",
      " 116  age_group2                     2686 non-null   object  \n",
      " 117  weight_group                   2686 non-null   category\n",
      " 118  agecalc_adm_rounded            2686 non-null   int32   \n",
      "dtypes: category(1), float64(22), int32(2), int64(3), object(91)\n",
      "memory usage: 2.4+ MB\n"
     ]
    }
   ],
   "source": [
    "# Configure pandas to display details for up to 150 columns in the .info() summary\n",
    "#  By default, pandas displays a maximum of 100 columns in .info()\n",
    "# If the DataFrame has more than 100 columns, the output is truncated.\n",
    "pd.set_option('display.max_info_columns', 150)\n",
    "sepsis_df.info()\n"
   ]
  },
  {
   "cell_type": "code",
   "execution_count": 193,
   "id": "7ac2afab-d955-44d7-9977-d3300c5b67d7",
   "metadata": {},
   "outputs": [
    {
     "name": "stdout",
     "output_type": "stream",
     "text": [
      "<class 'pandas.core.frame.DataFrame'>\n",
      "RangeIndex: 2686 entries, 0 to 2685\n",
      "Data columns (total 113 columns):\n",
      " #    Column                    Non-Null Count  Dtype  \n",
      "---   ------                    --------------  -----  \n",
      " 0    studyid_adm               2686 non-null   int64  \n",
      " 1    agecalc_adm               2686 non-null   float64\n",
      " 2    height_cm_adm             2686 non-null   float64\n",
      " 3    weight_kg_adm             2686 non-null   float64\n",
      " 4    muac_mm_adm               2686 non-null   float64\n",
      " 5    hr_bpm_adm                2686 non-null   float64\n",
      " 6    rr_brpm_app_adm           2686 non-null   float64\n",
      " 7    sysbp_mmhg_adm            2686 non-null   float64\n",
      " 8    diasbp_mmhg_adm           2686 non-null   float64\n",
      " 9    temp_c_adm                2686 non-null   float64\n",
      " 10   spo2site1_pc_oxi_adm      2686 non-null   float64\n",
      " 11   spo2site2_pc_oxi_adm      2686 non-null   float64\n",
      " 12   momage_adm                2686 non-null   float64\n",
      " 13   momagefirstpreg_adm       2686 non-null   float64\n",
      " 14   householdsize_adm         2686 non-null   float64\n",
      " 15   alivechildren_adm         2686 non-null   float64\n",
      " 16   deadchildren_adm          2686 non-null   float64\n",
      " 17   hematocrit_gpdl_adm       2686 non-null   float64\n",
      " 18   lactate_mmolpl_adm        2686 non-null   float64\n",
      " 19   glucose_mmolpl_adm        2686 non-null   float64\n",
      " 20   sqi1_perc_oxi_adm         2686 non-null   float64\n",
      " 21   sqi2_perc_oxi_adm         2686 non-null   float64\n",
      " 22   sex_adm                   2686 non-null   object \n",
      " 23   spo2onoxy_adm             2686 non-null   object \n",
      " 24   oxygenavail_adm           2686 non-null   object \n",
      " 25   respdistress_adm          2686 non-null   object \n",
      " 26   caprefill_adm             2686 non-null   object \n",
      " 27   bcseye_adm                2686 non-null   object \n",
      " 28   bcsmotor_adm              2686 non-null   object \n",
      " 29   bcsverbal_adm             2686 non-null   object \n",
      " 30   bcgscar_adm               2686 non-null   object \n",
      " 31   vaccmeasles_adm           2686 non-null   object \n",
      " 32   vaccpneumoc_adm           2686 non-null   object \n",
      " 33   vaccpneumocsource_adm     2686 non-null   object \n",
      " 34   vaccdpt_adm               2686 non-null   object \n",
      " 35   vaccdptsource_adm         2686 non-null   object \n",
      " 36   priorweekabx_adm          2686 non-null   object \n",
      " 37   priorweekantimal_adm      2686 non-null   object \n",
      " 38   symptoms_adm___1          2686 non-null   object \n",
      " 39   symptoms_adm___2          2686 non-null   object \n",
      " 40   symptoms_adm___3          2686 non-null   object \n",
      " 41   symptoms_adm___4          2686 non-null   object \n",
      " 42   symptoms_adm___5          2686 non-null   object \n",
      " 43   symptoms_adm___6          2686 non-null   object \n",
      " 44   symptoms_adm___7          2686 non-null   object \n",
      " 45   symptoms_adm___8          2686 non-null   object \n",
      " 46   symptoms_adm___9          2686 non-null   object \n",
      " 47   symptoms_adm___10         2686 non-null   object \n",
      " 48   symptoms_adm___11         2686 non-null   object \n",
      " 49   symptoms_adm___12         2686 non-null   object \n",
      " 50   symptoms_adm___13         2686 non-null   object \n",
      " 51   symptoms_adm___14         2686 non-null   object \n",
      " 52   symptoms_adm___15         2686 non-null   object \n",
      " 53   symptoms_adm___16         2686 non-null   object \n",
      " 54   symptoms_adm___18         2686 non-null   object \n",
      " 55   comorbidity_adm___1       2686 non-null   object \n",
      " 56   comorbidity_adm___2       2686 non-null   object \n",
      " 57   comorbidity_adm___3       2686 non-null   object \n",
      " 58   comorbidity_adm___4       2686 non-null   object \n",
      " 59   comorbidity_adm___5       2686 non-null   object \n",
      " 60   comorbidity_adm___6       2686 non-null   object \n",
      " 61   comorbidity_adm___7       2686 non-null   object \n",
      " 62   comorbidity_adm___8       2686 non-null   object \n",
      " 63   comorbidity_adm___9       2686 non-null   object \n",
      " 64   comorbidity_adm___10      2686 non-null   object \n",
      " 65   comorbidity_adm___11      2686 non-null   object \n",
      " 66   comorbidity_adm___12      2686 non-null   object \n",
      " 67   priorhosp_adm             2686 non-null   object \n",
      " 68   prioryearwheeze_adm       2686 non-null   object \n",
      " 69   prioryearcough_adm        2686 non-null   object \n",
      " 70   diarrheaoften_adm         2686 non-null   object \n",
      " 71   tbcontact_adm             2686 non-null   object \n",
      " 72   feedingstatus_adm         2686 non-null   object \n",
      " 73   exclbreastfed_adm         2686 non-null   object \n",
      " 74   totalbreastfed_adm        2686 non-null   object \n",
      " 75   deliveryloc_adm           2686 non-null   object \n",
      " 76   birthattend_adm           2686 non-null   object \n",
      " 77   duedateknown_adm          2686 non-null   object \n",
      " 78   birthdetail_adm___1       2686 non-null   object \n",
      " 79   birthdetail_adm___2       2686 non-null   object \n",
      " 80   birthdetail_adm___3       2686 non-null   object \n",
      " 81   birthdetail_adm___4       2686 non-null   object \n",
      " 82   birthdetail_adm___5       2686 non-null   object \n",
      " 83   birthdetail_adm___6       2686 non-null   object \n",
      " 84   travelmethod_adm          2686 non-null   object \n",
      " 85   traveldist_adm            2686 non-null   object \n",
      " 86   badhealthduration_adm     2686 non-null   object \n",
      " 87   caregiverage_adm          2686 non-null   object \n",
      " 88   caregivermarried_adm      2686 non-null   object \n",
      " 89   momalive_adm              2686 non-null   object \n",
      " 90   momageknown_adm           2686 non-null   object \n",
      " 91   momagefirstpregknown_adm  2686 non-null   object \n",
      " 92   momedu_adm                2686 non-null   object \n",
      " 93   momhiv_adm                2686 non-null   object \n",
      " 94   watersource_adm           2686 non-null   object \n",
      " 95   waterpure_adm             2686 non-null   object \n",
      " 96   cookfuel_adm___1          2686 non-null   object \n",
      " 97   cookfuel_adm___2          2686 non-null   object \n",
      " 98   cookfuel_adm___3          2686 non-null   object \n",
      " 99   cookfuel_adm___4          2686 non-null   object \n",
      " 100  cookfuel_adm___5          2686 non-null   object \n",
      " 101  cookfuel_adm___6          2686 non-null   object \n",
      " 102  cookfuel_adm___7          2686 non-null   object \n",
      " 103  cookloc_adm               2686 non-null   object \n",
      " 104  lightfuel_adm             2686 non-null   object \n",
      " 105  tobacco_adm               2686 non-null   object \n",
      " 106  bednet_adm                2686 non-null   object \n",
      " 107  hctpretransfusion_adm     2686 non-null   object \n",
      " 108  hivstatus_adm             2686 non-null   object \n",
      " 109  malariastatuspos_adm      2686 non-null   object \n",
      " 110  lengthadm                 2686 non-null   int64  \n",
      " 111  caregiver_adm_new         2686 non-null   object \n",
      " 112  inhospital_mortality      2686 non-null   int64  \n",
      "dtypes: float64(21), int64(3), object(89)\n",
      "memory usage: 2.3+ MB\n"
     ]
    }
   ],
   "source": [
    "sepsis_df.columns.get_loc('inhospital_mortality')\n",
    "sepsis_df = sepsis_df.drop(sepsis_df.columns[113:],axis=1)\n",
    "sepsis_df.info()\n"
   ]
  },
  {
   "cell_type": "markdown",
   "id": "f142be77-a3b2-450a-9d1a-2fa474e68717",
   "metadata": {},
   "source": [
    "___\n",
    "                                                Observation : *** All columns do not contain missing value. ***\n",
    "___"
   ]
  },
  {
   "cell_type": "code",
   "execution_count": 198,
   "id": "27effd25-24a9-44b2-8c7a-d884a54fe965",
   "metadata": {},
   "outputs": [
    {
     "name": "stdout",
     "output_type": "stream",
     "text": [
      "Total insignificant features (p < 0.01): 19\n",
      "['spo2onoxy_adm', 'oxygenavail_adm', 'respdistress_adm', 'caprefill_adm', 'bcseye_adm', 'bcsmotor_adm', 'bcsverbal_adm', 'bcgscar_adm', 'symptoms_adm___14', 'symptoms_adm___15', 'diarrheaoften_adm', 'feedingstatus_adm', 'totalbreastfed_adm', 'caregivermarried_adm', 'waterpure_adm', 'bednet_adm', 'hctpretransfusion_adm', 'weight_kg_adm', 'lactate_mmolpl_adm']\n"
     ]
    }
   ],
   "source": [
    "from scipy import stats\n",
    "\n",
    "from scipy.stats import chi2_contingency\n",
    "from scipy.stats import mannwhitneyu\n",
    "\n",
    "# 1. Separate categorical and continuous features\n",
    "target = 'inhospital_mortality'\n",
    "categorical_features = sepsis_df.select_dtypes(include=['object', 'category', 'bool']).columns.tolist()\n",
    "continuous_features = sepsis_df.select_dtypes(include=['int64', 'float64']).drop(columns=[target]).columns.tolist()\n",
    "\n",
    "# 2. Chi-Square test for categorical features\n",
    "significant_cat = []\n",
    "for col in categorical_features:\n",
    "    contingency = pd.crosstab(sepsis_df[col], sepsis_df[target])\n",
    "    if contingency.shape[0] > 1:\n",
    "        chi2, p, _, _ = stats.chi2_contingency(contingency)\n",
    "        if p < 0.01:\n",
    "            significant_cat.append(col)\n",
    "\n",
    "# 3. Mann-Whitney U Test for continuous features\n",
    "significant_cont = []\n",
    "for col in continuous_features:\n",
    "    group0 = sepsis_df[sepsis_df[target] == 0][col]\n",
    "    group1 = sepsis_df[sepsis_df[target] == 1][col]\n",
    "    try:\n",
    "        u_stat, p_value = stats.mannwhitneyu(group0, group1, alternative='two-sided')\n",
    "        if p_value < 0.01:\n",
    "            significant_cont.append(col)\n",
    "    except:\n",
    "        pass  # Skip if error due to too many NaNs or invalid inputs\n",
    "\n",
    "# 4. Combine and review\n",
    "significant_features = significant_cat + significant_cont\n",
    "print(f\"Total insignificant features (p < 0.01): {len(significant_features)}\")\n",
    "print(significant_features)"
   ]
  },
  {
   "cell_type": "code",
   "execution_count": 202,
   "id": "2737e336-55e6-45d6-b3b0-1f2fe1985db3",
   "metadata": {},
   "outputs": [
    {
     "name": "stdout",
     "output_type": "stream",
     "text": [
      "        Categorical Variable  Unique Values Count\n",
      "0          symptoms_adm___18                    1\n",
      "1        comorbidity_adm___4                    1\n",
      "2        comorbidity_adm___2                    2\n",
      "3        comorbidity_adm___3                    2\n",
      "4        comorbidity_adm___5                    2\n",
      "5        comorbidity_adm___6                    2\n",
      "6        comorbidity_adm___7                    2\n",
      "7        comorbidity_adm___8                    2\n",
      "8        comorbidity_adm___9                    2\n",
      "9       comorbidity_adm___10                    2\n",
      "10      comorbidity_adm___11                    2\n",
      "11      malariastatuspos_adm                    2\n",
      "12          duedateknown_adm                    2\n",
      "13       birthdetail_adm___1                    2\n",
      "14       birthdetail_adm___2                    2\n",
      "15       comorbidity_adm___1                    2\n",
      "16                   sex_adm                    2\n",
      "17       birthdetail_adm___5                    2\n",
      "18       birthdetail_adm___6                    2\n",
      "19              momalive_adm                    2\n",
      "20           momageknown_adm                    2\n",
      "21  momagefirstpregknown_adm                    2\n",
      "22             waterpure_adm                    2\n",
      "23          cookfuel_adm___1                    2\n",
      "24          cookfuel_adm___2                    2\n",
      "25          cookfuel_adm___3                    2\n",
      "26          cookfuel_adm___4                    2\n",
      "27          cookfuel_adm___5                    2\n",
      "28          cookfuel_adm___6                    2\n",
      "29          cookfuel_adm___7                    2\n",
      "30     hctpretransfusion_adm                    2\n",
      "31       birthdetail_adm___4                    2\n",
      "32       birthdetail_adm___3                    2\n",
      "33      comorbidity_adm___12                    2\n",
      "34         symptoms_adm___15                    2\n",
      "35             spo2onoxy_adm                    2\n",
      "36          respdistress_adm                    2\n",
      "37             caprefill_adm                    2\n",
      "38                bcseye_adm                    2\n",
      "39               bcgscar_adm                    2\n",
      "40     vaccpneumocsource_adm                    2\n",
      "41         symptoms_adm___16                    2\n",
      "42          symptoms_adm___1                    2\n",
      "43          symptoms_adm___2                    2\n",
      "44          symptoms_adm___3                    2\n",
      "45          symptoms_adm___4                    2\n",
      "46         vaccdptsource_adm                    2\n",
      "47          symptoms_adm___7                    2\n",
      "48          symptoms_adm___9                    2\n",
      "49         symptoms_adm___10                    2\n",
      "50         symptoms_adm___14                    2\n",
      "51         symptoms_adm___11                    2\n",
      "52         symptoms_adm___12                    2\n",
      "53         symptoms_adm___13                    2\n",
      "54          symptoms_adm___5                    2\n",
      "55          symptoms_adm___6                    2\n",
      "56          symptoms_adm___8                    2\n",
      "57             bcsverbal_adm                    3\n",
      "58              bcsmotor_adm                    3\n",
      "59          priorweekabx_adm                    3\n",
      "60                momhiv_adm                    3\n",
      "61           vaccmeasles_adm                    3\n",
      "62               cookloc_adm                    3\n",
      "63                bednet_adm                    3\n",
      "64             hivstatus_adm                    3\n",
      "65         feedingstatus_adm                    3\n",
      "66             tbcontact_adm                    3\n",
      "67         diarrheaoften_adm                    3\n",
      "68      priorweekantimal_adm                    3\n",
      "69           oxygenavail_adm                    4\n",
      "70        prioryearcough_adm                    4\n",
      "71         caregiver_adm_new                    4\n",
      "72       prioryearwheeze_adm                    4\n",
      "73          caregiverage_adm                    4\n",
      "74               vaccdpt_adm                    5\n",
      "75           vaccpneumoc_adm                    5\n",
      "76      caregivermarried_adm                    5\n",
      "77           deliveryloc_adm                    5\n",
      "78               tobacco_adm                    5\n",
      "79           birthattend_adm                    5\n",
      "80        totalbreastfed_adm                    6\n",
      "81           watersource_adm                    6\n",
      "82          travelmethod_adm                    6\n",
      "83     badhealthduration_adm                    6\n",
      "84                momedu_adm                    6\n",
      "85             priorhosp_adm                    6\n",
      "86            traveldist_adm                    7\n",
      "87             lightfuel_adm                    8\n",
      "88         exclbreastfed_adm                   10\n"
     ]
    }
   ],
   "source": [
    "import pandas as pd\n",
    "\n",
    "# Identify categorical columns\n",
    "categorical_cols = sepsis_df.select_dtypes(include='object').columns\n",
    "\n",
    "# Count unique values in each categorical column\n",
    "cat_unique_counts = sepsis_df[categorical_cols].nunique().sort_values()\n",
    "\n",
    "# Create a summary DataFrame\n",
    "cat_summary = pd.DataFrame({\n",
    "    'Categorical Variable': cat_unique_counts.index,\n",
    "    'Unique Values Count': cat_unique_counts.values\n",
    "})\n",
    "\n",
    "# Display all rows\n",
    "pd.set_option('display.max_rows', None)\n",
    "\n",
    "# Print the full summary\n",
    "print(cat_summary)\n"
   ]
  },
  {
   "cell_type": "code",
   "execution_count": 204,
   "id": "6df3913e-69c4-4080-a1c7-ba1211a3ce1d",
   "metadata": {},
   "outputs": [
    {
     "name": "stdout",
     "output_type": "stream",
     "text": [
      "\n",
      "Column: sex_adm\n",
      "['Female' 'Male']\n",
      "\n",
      "Column: spo2onoxy_adm\n",
      "['No' 'Yes']\n",
      "\n",
      "Column: oxygenavail_adm\n",
      "['Oxygen available and not being used' 'Oxygen available and being used'\n",
      " 'Oxygen not available' 'Oxygen available but not enough']\n",
      "\n",
      "Column: respdistress_adm\n",
      "['No' 'Yes']\n",
      "\n",
      "Column: caprefill_adm\n",
      "['No' 'Yes']\n",
      "\n",
      "Column: bcseye_adm\n",
      "['Watches or follows' 'Fails to watch or follow']\n",
      "\n",
      "Column: bcsmotor_adm\n",
      "['Localizes painful stimulus' 'Withdraws limb from painful stimulus'\n",
      " 'No response or inappropriate response']\n",
      "\n",
      "Column: bcsverbal_adm\n",
      "['Cries appropriately with pain, or, if verbal, speaks'\n",
      " 'Moan or abnormal cry with pain' 'No vocal response to pain']\n",
      "\n",
      "Column: bcgscar_adm\n",
      "['Yes' 'No']\n",
      "\n",
      "Column: vaccmeasles_adm\n",
      "['Yes' 'No' 'Unknown']\n",
      "\n",
      "Column: vaccpneumoc_adm\n",
      "['3 doses' '2 doses' 'Unknown' '0 doses' '1 dose']\n",
      "\n",
      "Column: vaccpneumocsource_adm\n",
      "['Self report' 'Card']\n",
      "\n",
      "Column: vaccdpt_adm\n",
      "['3 doses' '2 doses' 'Unknown' '0 doses' '1 dose']\n",
      "\n",
      "Column: vaccdptsource_adm\n",
      "['Self report' 'Card']\n",
      "\n",
      "Column: priorweekabx_adm\n",
      "['Yes' 'No' 'Dont know']\n",
      "\n",
      "Column: priorweekantimal_adm\n",
      "['No' 'Yes' 'Dont know']\n",
      "\n",
      "Column: symptoms_adm___1\n",
      "['Unchecked' 'Checked']\n",
      "\n",
      "Column: symptoms_adm___2\n",
      "['Unchecked' 'Checked']\n",
      "\n",
      "Column: symptoms_adm___3\n",
      "['Unchecked' 'Checked']\n",
      "\n",
      "Column: symptoms_adm___4\n",
      "['Checked' 'Unchecked']\n",
      "\n",
      "Column: symptoms_adm___5\n",
      "['Unchecked' 'Checked']\n",
      "\n",
      "Column: symptoms_adm___6\n",
      "['Unchecked' 'Checked']\n",
      "\n",
      "Column: symptoms_adm___7\n",
      "['Unchecked' 'Checked']\n",
      "\n",
      "Column: symptoms_adm___8\n",
      "['Unchecked' 'Checked']\n",
      "\n",
      "Column: symptoms_adm___9\n",
      "['Unchecked' 'Checked']\n",
      "\n",
      "Column: symptoms_adm___10\n",
      "['Unchecked' 'Checked']\n",
      "\n",
      "Column: symptoms_adm___11\n",
      "['Unchecked' 'Checked']\n",
      "\n",
      "Column: symptoms_adm___12\n",
      "['Unchecked' 'Checked']\n",
      "\n",
      "Column: symptoms_adm___13\n",
      "['Unchecked' 'Checked']\n",
      "\n",
      "Column: symptoms_adm___14\n",
      "['Unchecked' 'Checked']\n",
      "\n",
      "Column: symptoms_adm___15\n",
      "['Unchecked' 'Checked']\n",
      "\n",
      "Column: symptoms_adm___16\n",
      "['Unchecked' 'Checked']\n",
      "\n",
      "Column: symptoms_adm___18\n",
      "['Unchecked']\n",
      "\n",
      "Column: comorbidity_adm___1\n",
      "['Unchecked' 'Checked']\n",
      "\n",
      "Column: comorbidity_adm___2\n",
      "['Unchecked' 'Checked']\n",
      "\n",
      "Column: comorbidity_adm___3\n",
      "['Unchecked' 'Checked']\n",
      "\n",
      "Column: comorbidity_adm___4\n",
      "['Unchecked']\n",
      "\n",
      "Column: comorbidity_adm___5\n",
      "['Unchecked' 'Checked']\n",
      "\n",
      "Column: comorbidity_adm___6\n",
      "['Unchecked' 'Checked']\n",
      "\n",
      "Column: comorbidity_adm___7\n",
      "['Unchecked' 'Checked']\n",
      "\n",
      "Column: comorbidity_adm___8\n",
      "['Unchecked' 'Checked']\n",
      "\n",
      "Column: comorbidity_adm___9\n",
      "['Unchecked' 'Checked']\n",
      "\n",
      "Column: comorbidity_adm___10\n",
      "['Unchecked' 'Checked']\n",
      "\n",
      "Column: comorbidity_adm___11\n",
      "['Checked' 'Unchecked']\n",
      "\n",
      "Column: comorbidity_adm___12\n",
      "['Unchecked' 'Checked']\n",
      "\n",
      "Column: priorhosp_adm\n",
      "['Never' '1 month - 1 year' '7 days - 1 month' '< 7 days' '> 1 year']\n",
      "\n",
      "Column: prioryearwheeze_adm\n",
      "['No' 'Yes' 'Not applicable (< 6m old)' 'Dont know']\n",
      "\n",
      "Column: prioryearcough_adm\n",
      "['No' 'Yes' 'Not applicable (child < 6m old)' 'Dont know']\n",
      "\n",
      "Column: diarrheaoften_adm\n",
      "['No' 'Yes' 'Dont know']\n",
      "\n",
      "Column: tbcontact_adm\n",
      "['Yes' 'No' 'Dont know']\n",
      "\n",
      "Column: feedingstatus_adm\n",
      "['Feeding poorly' 'Not feeding at all' 'Feeding well']\n",
      "\n",
      "Column: exclbreastfed_adm\n",
      "['6 months' 'Unknown' '5 months' 'never exclusively breastfed' '3 months']\n",
      "\n",
      "Column: totalbreastfed_adm\n",
      "['>12 months' 'Still being breastfed' '7-12 months' '0-3 months'\n",
      " '4-6 months']\n",
      "\n",
      "Column: deliveryloc_adm\n",
      "['Health centre' 'Hospital' 'Clinic' 'Home' 'Other']\n",
      "\n",
      "Column: birthattend_adm\n",
      "['Nurse / midwife' 'Doctor / Clinical officer'\n",
      " 'Traditional birth attendant' 'Relative' 'Other']\n",
      "\n",
      "Column: duedateknown_adm\n",
      "['Yes' 'No']\n",
      "\n",
      "Column: birthdetail_adm___1\n",
      "['Unchecked' 'Checked']\n",
      "\n",
      "Column: birthdetail_adm___2\n",
      "['Unchecked' 'Checked']\n",
      "\n",
      "Column: birthdetail_adm___3\n",
      "['Unchecked' 'Checked']\n",
      "\n",
      "Column: birthdetail_adm___4\n",
      "['Unchecked' 'Checked']\n",
      "\n",
      "Column: birthdetail_adm___5\n",
      "['Checked' 'Unchecked']\n",
      "\n",
      "Column: birthdetail_adm___6\n",
      "['Unchecked' 'Checked']\n",
      "\n",
      "Column: travelmethod_adm\n",
      "['Taxi/special hire' 'Motorcycle' 'Walking' 'Private vehicle' 'Ambulance']\n",
      "\n",
      "Column: traveldist_adm\n",
      "['30 minutes - 1 hour' '4 - 8 hours' '1 - 2 hours' '2 - 3 hours'\n",
      " '< 30 minutes']\n",
      "\n",
      "Column: badhealthduration_adm\n",
      "['In good health prior to this illness' '< 1 week' '> 1 year'\n",
      " '1 month - 1 year' '1 week - 1 month']\n",
      "\n",
      "Column: caregiverage_adm\n",
      "['> 18 years old' '> 50 years old' '< = 18 years old' 'N/A (in care)']\n",
      "\n",
      "Column: caregivermarried_adm\n",
      "['Married monogamous' 'Married polygamous' 'Widowed' 'Separated/divorced'\n",
      " 'Single']\n",
      "\n",
      "Column: momalive_adm\n",
      "['Yes' 'No']\n",
      "\n",
      "Column: momageknown_adm\n",
      "['Yes' 'No']\n",
      "\n",
      "Column: momagefirstpregknown_adm\n",
      "['Yes' 'No']\n",
      "\n",
      "Column: momedu_adm\n",
      "['Post secondary (including post S4 technical school)' 'S1-S6' 'P4-P7'\n",
      " '< = P3' 'No school']\n",
      "\n",
      "Column: momhiv_adm\n",
      "['Negative' 'Positive' 'Unknown']\n",
      "\n",
      "Column: watersource_adm\n",
      "['Municipal water' 'Protected spring' 'Bore hole'\n",
      " 'Open source (unprotected, stagnant water, dam)' 'Fast running water']\n",
      "\n",
      "Column: waterpure_adm\n",
      "['Yes' 'No']\n",
      "\n",
      "Column: cookfuel_adm___1\n",
      "['Checked' 'Unchecked']\n",
      "\n",
      "Column: cookfuel_adm___2\n",
      "['Checked' 'Unchecked']\n",
      "\n",
      "Column: cookfuel_adm___3\n",
      "['Unchecked' 'Checked']\n",
      "\n",
      "Column: cookfuel_adm___4\n",
      "['Unchecked' 'Checked']\n",
      "\n",
      "Column: cookfuel_adm___5\n",
      "['Unchecked' 'Checked']\n",
      "\n",
      "Column: cookfuel_adm___6\n",
      "['Unchecked' 'Checked']\n",
      "\n",
      "Column: cookfuel_adm___7\n",
      "['Unchecked' 'Checked']\n",
      "\n",
      "Column: cookloc_adm\n",
      "['In a separate building/building space used as a kitchen'\n",
      " 'In the house where you sleep' 'Outdoors in the open']\n",
      "\n",
      "Column: lightfuel_adm\n",
      "['Electric bulbs (national grid)' 'Tadooba' 'Solar powered bulbs'\n",
      " 'Solar lantern' 'Battery-powered light']\n",
      "\n",
      "Column: tobacco_adm\n",
      "['Never' 'Daily' 'Weekly' 'Less than monthly' 'Monthly']\n",
      "\n",
      "Column: bednet_adm\n",
      "['Always' 'Sometimes' 'Never']\n",
      "\n",
      "Column: hctpretransfusion_adm\n",
      "['Yes' 'No']\n",
      "\n",
      "Column: hivstatus_adm\n",
      "['HIV negative' 'HIV positive' 'NotTested']\n",
      "\n",
      "Column: malariastatuspos_adm\n",
      "['No' 'Yes']\n",
      "\n",
      "Column: caregiver_adm_new\n",
      "['Mother' 'Grandparent' 'Father' 'Other']\n"
     ]
    }
   ],
   "source": [
    "# Display a few example values from each categorical column\n",
    "for col in categorical_cols:\n",
    "    print(f\"\\nColumn: {col}\")\n",
    "    print(sepsis_df[col].dropna().unique()[:5])  # Show up to 5 unique non-null values\n"
   ]
  },
  {
   "cell_type": "code",
   "execution_count": null,
   "id": "70545114-4bb8-47f9-bad8-ce64f35b6971",
   "metadata": {},
   "outputs": [],
   "source": []
  }
 ],
 "metadata": {
  "kernelspec": {
   "display_name": "Python 3 (ipykernel)",
   "language": "python",
   "name": "python3"
  },
  "language_info": {
   "codemirror_mode": {
    "name": "ipython",
    "version": 3
   },
   "file_extension": ".py",
   "mimetype": "text/x-python",
   "name": "python",
   "nbconvert_exporter": "python",
   "pygments_lexer": "ipython3",
   "version": "3.12.4"
  }
 },
 "nbformat": 4,
 "nbformat_minor": 5
}
