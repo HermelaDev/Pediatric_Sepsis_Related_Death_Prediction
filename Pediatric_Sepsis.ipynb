{
 "cells": [
  {
   "cell_type": "markdown",
   "id": "7cab3984-973d-4e2e-83e0-3d9c8ac3887e",
   "metadata": {},
   "source": [
    "### Pediatric Sepsis: In-hospital Mortality Prediction"
   ]
  },
  {
   "cell_type": "code",
   "execution_count": 2,
   "id": "107d5e92-c24f-4343-b7d5-b01348b20ee0",
   "metadata": {},
   "outputs": [],
   "source": [
    "import pandas as pd\n",
    "import numpy as np\n",
    "import matplotlib.pyplot as plt\n",
    "import seaborn as sns\n",
    "\n",
    "from sklearn.ensemble import RandomForestRegressor\n",
    "from sklearn.experimental import enable_iterative_imputer\n",
    "from sklearn.impute import IterativeImputer\n",
    "\n",
    "from scipy import stats\n",
    "from scipy.stats import chi2_contingency\n",
    "from scipy.stats import mannwhitneyu\n",
    "\n",
    "from sklearn.preprocessing import OrdinalEncoder\n",
    "from sklearn.preprocessing import LabelEncoder\n",
    "\n",
    "import warnings\n",
    "warnings.filterwarnings(\"ignore\")\n",
    "\n",
    "# Random Forest Model fitting\n",
    "from sklearn.ensemble import RandomForestRegressor\n",
    "from sklearn.model_selection import train_test_split\n",
    "from sklearn.metrics import roc_auc_score, classification_report\n",
    "from imblearn.over_sampling import SMOTE\n",
    "import matplotlib.pyplot as plt\n",
    "from sklearn.model_selection import StratifiedKFold\n",
    "from sklearn.metrics import fbeta_score, accuracy_score, precision_score, recall_score, f1_score\n",
    "from imblearn.pipeline import Pipeline  # ✅ Use this instead of sklearn.pipeline\n",
    "from imblearn.pipeline import Pipeline\n",
    "from sklearn.metrics import precision_recall_curve\n",
    "\n",
    "\n",
    "from sklearn.model_selection import learning_curve\n",
    "from sklearn.feature_selection import VarianceThreshold"
   ]
  },
  {
   "cell_type": "markdown",
   "id": "3bada3eb-22b2-4cc7-9d1f-48960c59cf5c",
   "metadata": {},
   "source": [
    "### Importing the dataset"
   ]
  },
  {
   "cell_type": "code",
   "execution_count": 76,
   "id": "f258da47-b3e9-495d-a247-2b29f8adfd8d",
   "metadata": {},
   "outputs": [
    {
     "data": {
      "text/html": [
       "<div>\n",
       "<style scoped>\n",
       "    .dataframe tbody tr th:only-of-type {\n",
       "        vertical-align: middle;\n",
       "    }\n",
       "\n",
       "    .dataframe tbody tr th {\n",
       "        vertical-align: top;\n",
       "    }\n",
       "\n",
       "    .dataframe thead th {\n",
       "        text-align: right;\n",
       "    }\n",
       "</style>\n",
       "<table border=\"1\" class=\"dataframe\">\n",
       "  <thead>\n",
       "    <tr style=\"text-align: right;\">\n",
       "      <th></th>\n",
       "      <th>studyid_adm</th>\n",
       "      <th>agecalc_adm</th>\n",
       "      <th>height_cm_adm</th>\n",
       "      <th>weight_kg_adm</th>\n",
       "      <th>muac_mm_adm</th>\n",
       "      <th>hr_bpm_adm</th>\n",
       "      <th>rr_brpm_app_adm</th>\n",
       "      <th>sysbp_mmhg_adm</th>\n",
       "      <th>diasbp_mmhg_adm</th>\n",
       "      <th>temp_c_adm</th>\n",
       "      <th>...</th>\n",
       "      <th>cookloc_adm</th>\n",
       "      <th>lightfuel_adm</th>\n",
       "      <th>tobacco_adm</th>\n",
       "      <th>bednet_adm</th>\n",
       "      <th>hctpretransfusion_adm</th>\n",
       "      <th>hivstatus_adm</th>\n",
       "      <th>malariastatuspos_adm</th>\n",
       "      <th>lengthadm</th>\n",
       "      <th>caregiver_adm_new</th>\n",
       "      <th>inhospital_mortality</th>\n",
       "    </tr>\n",
       "  </thead>\n",
       "  <tbody>\n",
       "    <tr>\n",
       "      <th>0</th>\n",
       "      <td>1</td>\n",
       "      <td>16.8</td>\n",
       "      <td>79.8</td>\n",
       "      <td>11.6</td>\n",
       "      <td>150.0</td>\n",
       "      <td>130.0</td>\n",
       "      <td>23.0</td>\n",
       "      <td>92.0</td>\n",
       "      <td>54.0</td>\n",
       "      <td>36.3</td>\n",
       "      <td>...</td>\n",
       "      <td>In a separate building/building space used as ...</td>\n",
       "      <td>Electric bulbs (national grid)</td>\n",
       "      <td>Never</td>\n",
       "      <td>Always</td>\n",
       "      <td>Yes</td>\n",
       "      <td>HIV negative</td>\n",
       "      <td>No</td>\n",
       "      <td>2</td>\n",
       "      <td>Mother</td>\n",
       "      <td>0</td>\n",
       "    </tr>\n",
       "    <tr>\n",
       "      <th>1</th>\n",
       "      <td>2</td>\n",
       "      <td>46.1</td>\n",
       "      <td>93.0</td>\n",
       "      <td>13.6</td>\n",
       "      <td>151.0</td>\n",
       "      <td>115.0</td>\n",
       "      <td>35.0</td>\n",
       "      <td>72.0</td>\n",
       "      <td>42.0</td>\n",
       "      <td>36.8</td>\n",
       "      <td>...</td>\n",
       "      <td>In a separate building/building space used as ...</td>\n",
       "      <td>Tadooba</td>\n",
       "      <td>Never</td>\n",
       "      <td>Always</td>\n",
       "      <td>Yes</td>\n",
       "      <td>HIV negative</td>\n",
       "      <td>Yes</td>\n",
       "      <td>5</td>\n",
       "      <td>Mother</td>\n",
       "      <td>0</td>\n",
       "    </tr>\n",
       "    <tr>\n",
       "      <th>2</th>\n",
       "      <td>3</td>\n",
       "      <td>7.9</td>\n",
       "      <td>68.2</td>\n",
       "      <td>8.2</td>\n",
       "      <td>148.0</td>\n",
       "      <td>150.0</td>\n",
       "      <td>56.0</td>\n",
       "      <td>94.0</td>\n",
       "      <td>51.0</td>\n",
       "      <td>37.2</td>\n",
       "      <td>...</td>\n",
       "      <td>In a separate building/building space used as ...</td>\n",
       "      <td>Tadooba</td>\n",
       "      <td>Never</td>\n",
       "      <td>Always</td>\n",
       "      <td>Yes</td>\n",
       "      <td>HIV negative</td>\n",
       "      <td>No</td>\n",
       "      <td>4</td>\n",
       "      <td>Mother</td>\n",
       "      <td>0</td>\n",
       "    </tr>\n",
       "    <tr>\n",
       "      <th>3</th>\n",
       "      <td>4</td>\n",
       "      <td>38.2</td>\n",
       "      <td>95.0</td>\n",
       "      <td>12.0</td>\n",
       "      <td>138.0</td>\n",
       "      <td>134.0</td>\n",
       "      <td>38.0</td>\n",
       "      <td>94.0</td>\n",
       "      <td>57.0</td>\n",
       "      <td>37.6</td>\n",
       "      <td>...</td>\n",
       "      <td>In the house where you sleep</td>\n",
       "      <td>Electric bulbs (national grid)</td>\n",
       "      <td>Never</td>\n",
       "      <td>Always</td>\n",
       "      <td>NaN</td>\n",
       "      <td>HIV negative</td>\n",
       "      <td>Yes</td>\n",
       "      <td>5</td>\n",
       "      <td>Mother</td>\n",
       "      <td>0</td>\n",
       "    </tr>\n",
       "    <tr>\n",
       "      <th>4</th>\n",
       "      <td>5</td>\n",
       "      <td>16.1</td>\n",
       "      <td>83.0</td>\n",
       "      <td>12.0</td>\n",
       "      <td>165.0</td>\n",
       "      <td>163.0</td>\n",
       "      <td>61.0</td>\n",
       "      <td>107.0</td>\n",
       "      <td>73.0</td>\n",
       "      <td>38.7</td>\n",
       "      <td>...</td>\n",
       "      <td>Outdoors in the open</td>\n",
       "      <td>Electric bulbs (national grid)</td>\n",
       "      <td>Never</td>\n",
       "      <td>Sometimes</td>\n",
       "      <td>Yes</td>\n",
       "      <td>HIV negative</td>\n",
       "      <td>Yes</td>\n",
       "      <td>7</td>\n",
       "      <td>Mother</td>\n",
       "      <td>0</td>\n",
       "    </tr>\n",
       "  </tbody>\n",
       "</table>\n",
       "<p>5 rows × 138 columns</p>\n",
       "</div>"
      ],
      "text/plain": [
       "   studyid_adm  agecalc_adm  height_cm_adm  weight_kg_adm  muac_mm_adm  \\\n",
       "0            1         16.8           79.8           11.6        150.0   \n",
       "1            2         46.1           93.0           13.6        151.0   \n",
       "2            3          7.9           68.2            8.2        148.0   \n",
       "3            4         38.2           95.0           12.0        138.0   \n",
       "4            5         16.1           83.0           12.0        165.0   \n",
       "\n",
       "   hr_bpm_adm  rr_brpm_app_adm  sysbp_mmhg_adm  diasbp_mmhg_adm  temp_c_adm  \\\n",
       "0       130.0             23.0            92.0             54.0        36.3   \n",
       "1       115.0             35.0            72.0             42.0        36.8   \n",
       "2       150.0             56.0            94.0             51.0        37.2   \n",
       "3       134.0             38.0            94.0             57.0        37.6   \n",
       "4       163.0             61.0           107.0             73.0        38.7   \n",
       "\n",
       "   ...                                        cookloc_adm  \\\n",
       "0  ...  In a separate building/building space used as ...   \n",
       "1  ...  In a separate building/building space used as ...   \n",
       "2  ...  In a separate building/building space used as ...   \n",
       "3  ...                       In the house where you sleep   \n",
       "4  ...                               Outdoors in the open   \n",
       "\n",
       "                    lightfuel_adm  tobacco_adm  bednet_adm  \\\n",
       "0  Electric bulbs (national grid)        Never      Always   \n",
       "1                         Tadooba        Never      Always   \n",
       "2                         Tadooba        Never      Always   \n",
       "3  Electric bulbs (national grid)        Never      Always   \n",
       "4  Electric bulbs (national grid)        Never   Sometimes   \n",
       "\n",
       "   hctpretransfusion_adm  hivstatus_adm  malariastatuspos_adm  lengthadm  \\\n",
       "0                    Yes   HIV negative                    No          2   \n",
       "1                    Yes   HIV negative                   Yes          5   \n",
       "2                    Yes   HIV negative                    No          4   \n",
       "3                    NaN   HIV negative                   Yes          5   \n",
       "4                    Yes   HIV negative                   Yes          7   \n",
       "\n",
       "   caregiver_adm_new  inhospital_mortality  \n",
       "0             Mother                     0  \n",
       "1             Mother                     0  \n",
       "2             Mother                     0  \n",
       "3             Mother                     0  \n",
       "4             Mother                     0  \n",
       "\n",
       "[5 rows x 138 columns]"
      ]
     },
     "execution_count": 76,
     "metadata": {},
     "output_type": "execute_result"
    }
   ],
   "source": [
    "sepsis_df = pd.read_csv(\"SyntheticData_Training.csv\") \n",
    "# pd.set_option('display.max_columns', None)\n",
    "# pd.set_option('display.max_rows', None)\n",
    "sepsis_df.head()"
   ]
  },
  {
   "cell_type": "markdown",
   "id": "4d92dd2e-7d28-463d-bc3a-e837c0471b49",
   "metadata": {},
   "source": [
    "### Looking into the data structure"
   ]
  },
  {
   "cell_type": "code",
   "execution_count": 77,
   "id": "b1c1288f-47ad-4b3a-8306-cc9a8e0db645",
   "metadata": {},
   "outputs": [
    {
     "name": "stdout",
     "output_type": "stream",
     "text": [
      "<class 'pandas.core.frame.DataFrame'>\n",
      "RangeIndex: 2686 entries, 0 to 2685\n",
      "Columns: 138 entries, studyid_adm to inhospital_mortality\n",
      "dtypes: float64(23), int64(3), object(112)\n",
      "memory usage: 2.8+ MB\n"
     ]
    }
   ],
   "source": [
    "sepsis_df.info()\n",
    "pd.set_option('display.max_rows', None)"
   ]
  },
  {
   "cell_type": "code",
   "execution_count": 78,
   "id": "2f04a8a9-8fc3-4863-b067-ff42095c10ac",
   "metadata": {},
   "outputs": [
    {
     "data": {
      "text/plain": [
       "0"
      ]
     },
     "execution_count": 78,
     "metadata": {},
     "output_type": "execute_result"
    }
   ],
   "source": [
    "sepsis_df.duplicated().sum()"
   ]
  },
  {
   "cell_type": "markdown",
   "id": "5f6a28e1-7ddc-46e2-a876-6705559f1425",
   "metadata": {},
   "source": [
    "### Understanding the Column Characteristics"
   ]
  },
  {
   "cell_type": "code",
   "execution_count": 79,
   "id": "16041621-0aa8-47d1-b2f5-34ce47757cb5",
   "metadata": {
    "scrolled": true
   },
   "outputs": [
    {
     "name": "stdout",
     "output_type": "stream",
     "text": [
      "                       Column Data Type  Missing Values  Missing %  \\\n",
      "0                 studyid_adm     int64               0   0.000000   \n",
      "1                 agecalc_adm   float64               0   0.000000   \n",
      "2               height_cm_adm   float64              14   0.521221   \n",
      "3               weight_kg_adm   float64               9   0.335071   \n",
      "4                 muac_mm_adm   float64              13   0.483991   \n",
      "5                  hr_bpm_adm   float64               1   0.037230   \n",
      "6             rr_brpm_app_adm   float64               5   0.186150   \n",
      "7              sysbp_mmhg_adm   float64               2   0.074460   \n",
      "8             diasbp_mmhg_adm   float64               1   0.037230   \n",
      "9                  temp_c_adm   float64               1   0.037230   \n",
      "10       spo2site1_pc_oxi_adm   float64               4   0.148920   \n",
      "11       spo2site2_pc_oxi_adm   float64             205   7.632167   \n",
      "12              spo2other_adm   float64            2505  93.261355   \n",
      "13                 momage_adm   float64              19   0.707372   \n",
      "14        momagefirstpreg_adm   float64             224   8.339538   \n",
      "15          householdsize_adm   float64               3   0.111690   \n",
      "16          alivechildren_adm   float64               4   0.148920   \n",
      "17           deadchildren_adm   float64               1   0.037230   \n",
      "18        hematocrit_gpdl_adm   float64             457  17.014147   \n",
      "19         lactate_mmolpl_adm   float64             464  17.274758   \n",
      "20        lactate2_mmolpl_adm   float64            2217  82.539092   \n",
      "21         glucose_mmolpl_adm   float64               9   0.335071   \n",
      "22          sqi1_perc_oxi_adm   float64             130   4.839911   \n",
      "23          sqi2_perc_oxi_adm   float64             207   7.706627   \n",
      "24                    sex_adm    object               0   0.000000   \n",
      "25              spo2onoxy_adm    object               4   0.148920   \n",
      "26            oxygenavail_adm    object               0   0.000000   \n",
      "27           respdistress_adm    object               2   0.074460   \n",
      "28              caprefill_adm    object               1   0.037230   \n",
      "29                 bcseye_adm    object               1   0.037230   \n",
      "30               bcsmotor_adm    object               0   0.000000   \n",
      "31              bcsverbal_adm    object               2   0.074460   \n",
      "32           admitabx_adm___1    object               0   0.000000   \n",
      "33           admitabx_adm___2    object               0   0.000000   \n",
      "34           admitabx_adm___3    object               0   0.000000   \n",
      "35           admitabx_adm___4    object               0   0.000000   \n",
      "36           admitabx_adm___5    object               0   0.000000   \n",
      "37           admitabx_adm___6    object               0   0.000000   \n",
      "38           admitabx_adm___7    object               0   0.000000   \n",
      "39           admitabx_adm___8    object               0   0.000000   \n",
      "40           admitabx_adm___9    object               0   0.000000   \n",
      "41          admitabx_adm___10    object               0   0.000000   \n",
      "42          admitabx_adm___11    object               0   0.000000   \n",
      "43          admitabx_adm___12    object               0   0.000000   \n",
      "44          admitabx_adm___13    object               0   0.000000   \n",
      "45          admitabx_adm___14    object               0   0.000000   \n",
      "46          admitabx_adm___15    object               0   0.000000   \n",
      "47          admitabx_adm___16    object               0   0.000000   \n",
      "48          admitabx_adm___17    object               0   0.000000   \n",
      "49          admitabx_adm___18    object               0   0.000000   \n",
      "50          admitabx_adm___19    object               0   0.000000   \n",
      "51          admitabx_adm___20    object               0   0.000000   \n",
      "52          admitabx_adm___21    object               0   0.000000   \n",
      "53                bcgscar_adm    object               0   0.000000   \n",
      "54            vaccmeasles_adm    object               2   0.074460   \n",
      "55      vaccmeaslessource_adm    object             946  35.219657   \n",
      "56            vaccpneumoc_adm    object               0   0.000000   \n",
      "57      vaccpneumocsource_adm    object             185   6.887565   \n",
      "58                vaccdpt_adm    object               2   0.074460   \n",
      "59          vaccdptsource_adm    object             143   5.323902   \n",
      "60           priorweekabx_adm    object               0   0.000000   \n",
      "61       priorweekantimal_adm    object               1   0.037230   \n",
      "62           symptoms_adm___1    object               0   0.000000   \n",
      "63           symptoms_adm___2    object               0   0.000000   \n",
      "64           symptoms_adm___3    object               0   0.000000   \n",
      "65           symptoms_adm___4    object               0   0.000000   \n",
      "66           symptoms_adm___5    object               0   0.000000   \n",
      "67           symptoms_adm___6    object               0   0.000000   \n",
      "68           symptoms_adm___7    object               0   0.000000   \n",
      "69           symptoms_adm___8    object               0   0.000000   \n",
      "70           symptoms_adm___9    object               0   0.000000   \n",
      "71          symptoms_adm___10    object               0   0.000000   \n",
      "72          symptoms_adm___11    object               0   0.000000   \n",
      "73          symptoms_adm___12    object               0   0.000000   \n",
      "74          symptoms_adm___13    object               0   0.000000   \n",
      "75          symptoms_adm___14    object               0   0.000000   \n",
      "76          symptoms_adm___15    object               0   0.000000   \n",
      "77          symptoms_adm___16    object               0   0.000000   \n",
      "78          symptoms_adm___18    object               0   0.000000   \n",
      "79        comorbidity_adm___1    object               0   0.000000   \n",
      "80        comorbidity_adm___2    object               0   0.000000   \n",
      "81        comorbidity_adm___3    object               0   0.000000   \n",
      "82        comorbidity_adm___4    object               0   0.000000   \n",
      "83        comorbidity_adm___5    object               0   0.000000   \n",
      "84        comorbidity_adm___6    object               0   0.000000   \n",
      "85        comorbidity_adm___7    object               0   0.000000   \n",
      "86        comorbidity_adm___8    object               0   0.000000   \n",
      "87        comorbidity_adm___9    object               0   0.000000   \n",
      "88       comorbidity_adm___10    object               0   0.000000   \n",
      "89       comorbidity_adm___11    object               0   0.000000   \n",
      "90       comorbidity_adm___12    object               0   0.000000   \n",
      "91              priorhosp_adm    object               5   0.186150   \n",
      "92        prioryearwheeze_adm    object               2   0.074460   \n",
      "93         prioryearcough_adm    object               0   0.000000   \n",
      "94          diarrheaoften_adm    object               0   0.000000   \n",
      "95              tbcontact_adm    object               0   0.000000   \n",
      "96          feedingstatus_adm    object               0   0.000000   \n",
      "97          exclbreastfed_adm    object               1   0.037230   \n",
      "98       nonexclbreastfed_adm    object            2603  96.909903   \n",
      "99         totalbreastfed_adm    object               2   0.074460   \n",
      "100           deliveryloc_adm    object               2   0.074460   \n",
      "101           birthattend_adm    object              30   1.116902   \n",
      "102          duedateknown_adm    object               0   0.000000   \n",
      "103       birthdetail_adm___1    object               0   0.000000   \n",
      "104       birthdetail_adm___2    object               0   0.000000   \n",
      "105       birthdetail_adm___3    object               0   0.000000   \n",
      "106       birthdetail_adm___4    object               0   0.000000   \n",
      "107       birthdetail_adm___5    object               0   0.000000   \n",
      "108       birthdetail_adm___6    object               0   0.000000   \n",
      "109          travelmethod_adm    object               1   0.037230   \n",
      "110            traveldist_adm    object               1   0.037230   \n",
      "111     badhealthduration_adm    object               4   0.148920   \n",
      "112          caregiverage_adm    object               2   0.074460   \n",
      "113      caregivermarried_adm    object               0   0.000000   \n",
      "114              momalive_adm    object               1   0.037230   \n",
      "115           momageknown_adm    object              22   0.819062   \n",
      "116  momagefirstpregknown_adm    object               1   0.037230   \n",
      "117                momedu_adm    object               0   0.000000   \n",
      "118                momhiv_adm    object               6   0.223380   \n",
      "119           watersource_adm    object               2   0.074460   \n",
      "120             waterpure_adm    object               2   0.074460   \n",
      "121          cookfuel_adm___1    object               0   0.000000   \n",
      "122          cookfuel_adm___2    object               0   0.000000   \n",
      "123          cookfuel_adm___3    object               0   0.000000   \n",
      "124          cookfuel_adm___4    object               0   0.000000   \n",
      "125          cookfuel_adm___5    object               0   0.000000   \n",
      "126          cookfuel_adm___6    object               0   0.000000   \n",
      "127          cookfuel_adm___7    object               0   0.000000   \n",
      "128               cookloc_adm    object               2   0.074460   \n",
      "129             lightfuel_adm    object               3   0.111690   \n",
      "130               tobacco_adm    object               0   0.000000   \n",
      "131                bednet_adm    object               3   0.111690   \n",
      "132     hctpretransfusion_adm    object              43   1.600894   \n",
      "133             hivstatus_adm    object               5   0.186150   \n",
      "134      malariastatuspos_adm    object               2   0.074460   \n",
      "135                 lengthadm     int64               0   0.000000   \n",
      "136         caregiver_adm_new    object               3   0.111690   \n",
      "137      inhospital_mortality     int64               0   0.000000   \n",
      "\n",
      "     Unique Values  \n",
      "0             2686  \n",
      "1              451  \n",
      "2              365  \n",
      "3              262  \n",
      "4               98  \n",
      "5              135  \n",
      "6               80  \n",
      "7               79  \n",
      "8               75  \n",
      "9               55  \n",
      "10              42  \n",
      "11              38  \n",
      "12              21  \n",
      "13              35  \n",
      "14              23  \n",
      "15              15  \n",
      "16              12  \n",
      "17               9  \n",
      "18              55  \n",
      "19             107  \n",
      "20              68  \n",
      "21             144  \n",
      "22              79  \n",
      "23              96  \n",
      "24               2  \n",
      "25               2  \n",
      "26               4  \n",
      "27               2  \n",
      "28               2  \n",
      "29               2  \n",
      "30               3  \n",
      "31               3  \n",
      "32               2  \n",
      "33               2  \n",
      "34               2  \n",
      "35               2  \n",
      "36               2  \n",
      "37               2  \n",
      "38               2  \n",
      "39               2  \n",
      "40               2  \n",
      "41               2  \n",
      "42               2  \n",
      "43               2  \n",
      "44               2  \n",
      "45               2  \n",
      "46               2  \n",
      "47               2  \n",
      "48               2  \n",
      "49               2  \n",
      "50               2  \n",
      "51               2  \n",
      "52               2  \n",
      "53               2  \n",
      "54               3  \n",
      "55               2  \n",
      "56               5  \n",
      "57               2  \n",
      "58               5  \n",
      "59               2  \n",
      "60               3  \n",
      "61               3  \n",
      "62               2  \n",
      "63               2  \n",
      "64               2  \n",
      "65               2  \n",
      "66               2  \n",
      "67               2  \n",
      "68               2  \n",
      "69               2  \n",
      "70               2  \n",
      "71               2  \n",
      "72               2  \n",
      "73               2  \n",
      "74               2  \n",
      "75               2  \n",
      "76               2  \n",
      "77               2  \n",
      "78               1  \n",
      "79               2  \n",
      "80               2  \n",
      "81               2  \n",
      "82               1  \n",
      "83               2  \n",
      "84               2  \n",
      "85               2  \n",
      "86               2  \n",
      "87               2  \n",
      "88               2  \n",
      "89               2  \n",
      "90               2  \n",
      "91               6  \n",
      "92               4  \n",
      "93               4  \n",
      "94               3  \n",
      "95               3  \n",
      "96               3  \n",
      "97              10  \n",
      "98               5  \n",
      "99               6  \n",
      "100              5  \n",
      "101              5  \n",
      "102              2  \n",
      "103              2  \n",
      "104              2  \n",
      "105              2  \n",
      "106              2  \n",
      "107              2  \n",
      "108              2  \n",
      "109              6  \n",
      "110              7  \n",
      "111              6  \n",
      "112              4  \n",
      "113              5  \n",
      "114              2  \n",
      "115              2  \n",
      "116              2  \n",
      "117              6  \n",
      "118              3  \n",
      "119              6  \n",
      "120              2  \n",
      "121              2  \n",
      "122              2  \n",
      "123              2  \n",
      "124              2  \n",
      "125              2  \n",
      "126              2  \n",
      "127              2  \n",
      "128              3  \n",
      "129              8  \n",
      "130              5  \n",
      "131              3  \n",
      "132              2  \n",
      "133              2  \n",
      "134              2  \n",
      "135             38  \n",
      "136              4  \n",
      "137              2  \n"
     ]
    }
   ],
   "source": [
    "#Create a summary DataFrame of column characteristics\n",
    "\n",
    "column_summary= pd.DataFrame({'Column': sepsis_df.columns, \n",
    "                              'Data Type': sepsis_df.dtypes.values,\n",
    "                              'Missing Values': sepsis_df.isnull().sum().values,\n",
    "                              'Missing %': (sepsis_df.isnull().mean() * 100).values,\n",
    "                              'Unique Values': sepsis_df.nunique().values})\n",
    "\n",
    "\n",
    "\n",
    "# Display all rows in the column summary\n",
    "pd.set_option('display.max_rows', None)\n",
    "\n",
    "# Print\n",
    "print(column_summary)"
   ]
  },
  {
   "cell_type": "markdown",
   "id": "3fa4c56d-1be6-41b6-8d41-8d8c0225cbf7",
   "metadata": {},
   "source": [
    "## Data Cleaning"
   ]
  },
  {
   "cell_type": "markdown",
   "id": "f57d9127-52cd-4d2b-91b1-151af12facdd",
   "metadata": {},
   "source": [
    "### Checking Missing Values"
   ]
  },
  {
   "cell_type": "code",
   "execution_count": 80,
   "id": "0967028d-74b1-4c34-8c13-57f82a71b93f",
   "metadata": {},
   "outputs": [
    {
     "data": {
      "text/plain": [
       "studyid_adm                    0\n",
       "agecalc_adm                    0\n",
       "height_cm_adm                 14\n",
       "weight_kg_adm                  9\n",
       "muac_mm_adm                   13\n",
       "hr_bpm_adm                     1\n",
       "rr_brpm_app_adm                5\n",
       "sysbp_mmhg_adm                 2\n",
       "diasbp_mmhg_adm                1\n",
       "temp_c_adm                     1\n",
       "spo2site1_pc_oxi_adm           4\n",
       "spo2site2_pc_oxi_adm         205\n",
       "spo2other_adm               2505\n",
       "momage_adm                    19\n",
       "momagefirstpreg_adm          224\n",
       "householdsize_adm              3\n",
       "alivechildren_adm              4\n",
       "deadchildren_adm               1\n",
       "hematocrit_gpdl_adm          457\n",
       "lactate_mmolpl_adm           464\n",
       "lactate2_mmolpl_adm         2217\n",
       "glucose_mmolpl_adm             9\n",
       "sqi1_perc_oxi_adm            130\n",
       "sqi2_perc_oxi_adm            207\n",
       "sex_adm                        0\n",
       "spo2onoxy_adm                  4\n",
       "oxygenavail_adm                0\n",
       "respdistress_adm               2\n",
       "caprefill_adm                  1\n",
       "bcseye_adm                     1\n",
       "bcsmotor_adm                   0\n",
       "bcsverbal_adm                  2\n",
       "admitabx_adm___1               0\n",
       "admitabx_adm___2               0\n",
       "admitabx_adm___3               0\n",
       "admitabx_adm___4               0\n",
       "admitabx_adm___5               0\n",
       "admitabx_adm___6               0\n",
       "admitabx_adm___7               0\n",
       "admitabx_adm___8               0\n",
       "admitabx_adm___9               0\n",
       "admitabx_adm___10              0\n",
       "admitabx_adm___11              0\n",
       "admitabx_adm___12              0\n",
       "admitabx_adm___13              0\n",
       "admitabx_adm___14              0\n",
       "admitabx_adm___15              0\n",
       "admitabx_adm___16              0\n",
       "admitabx_adm___17              0\n",
       "admitabx_adm___18              0\n",
       "admitabx_adm___19              0\n",
       "admitabx_adm___20              0\n",
       "admitabx_adm___21              0\n",
       "bcgscar_adm                    0\n",
       "vaccmeasles_adm                2\n",
       "vaccmeaslessource_adm        946\n",
       "vaccpneumoc_adm                0\n",
       "vaccpneumocsource_adm        185\n",
       "vaccdpt_adm                    2\n",
       "vaccdptsource_adm            143\n",
       "priorweekabx_adm               0\n",
       "priorweekantimal_adm           1\n",
       "symptoms_adm___1               0\n",
       "symptoms_adm___2               0\n",
       "symptoms_adm___3               0\n",
       "symptoms_adm___4               0\n",
       "symptoms_adm___5               0\n",
       "symptoms_adm___6               0\n",
       "symptoms_adm___7               0\n",
       "symptoms_adm___8               0\n",
       "symptoms_adm___9               0\n",
       "symptoms_adm___10              0\n",
       "symptoms_adm___11              0\n",
       "symptoms_adm___12              0\n",
       "symptoms_adm___13              0\n",
       "symptoms_adm___14              0\n",
       "symptoms_adm___15              0\n",
       "symptoms_adm___16              0\n",
       "symptoms_adm___18              0\n",
       "comorbidity_adm___1            0\n",
       "comorbidity_adm___2            0\n",
       "comorbidity_adm___3            0\n",
       "comorbidity_adm___4            0\n",
       "comorbidity_adm___5            0\n",
       "comorbidity_adm___6            0\n",
       "comorbidity_adm___7            0\n",
       "comorbidity_adm___8            0\n",
       "comorbidity_adm___9            0\n",
       "comorbidity_adm___10           0\n",
       "comorbidity_adm___11           0\n",
       "comorbidity_adm___12           0\n",
       "priorhosp_adm                  5\n",
       "prioryearwheeze_adm            2\n",
       "prioryearcough_adm             0\n",
       "diarrheaoften_adm              0\n",
       "tbcontact_adm                  0\n",
       "feedingstatus_adm              0\n",
       "exclbreastfed_adm              1\n",
       "nonexclbreastfed_adm        2603\n",
       "totalbreastfed_adm             2\n",
       "deliveryloc_adm                2\n",
       "birthattend_adm               30\n",
       "duedateknown_adm               0\n",
       "birthdetail_adm___1            0\n",
       "birthdetail_adm___2            0\n",
       "birthdetail_adm___3            0\n",
       "birthdetail_adm___4            0\n",
       "birthdetail_adm___5            0\n",
       "birthdetail_adm___6            0\n",
       "travelmethod_adm               1\n",
       "traveldist_adm                 1\n",
       "badhealthduration_adm          4\n",
       "caregiverage_adm               2\n",
       "caregivermarried_adm           0\n",
       "momalive_adm                   1\n",
       "momageknown_adm               22\n",
       "momagefirstpregknown_adm       1\n",
       "momedu_adm                     0\n",
       "momhiv_adm                     6\n",
       "watersource_adm                2\n",
       "waterpure_adm                  2\n",
       "cookfuel_adm___1               0\n",
       "cookfuel_adm___2               0\n",
       "cookfuel_adm___3               0\n",
       "cookfuel_adm___4               0\n",
       "cookfuel_adm___5               0\n",
       "cookfuel_adm___6               0\n",
       "cookfuel_adm___7               0\n",
       "cookloc_adm                    2\n",
       "lightfuel_adm                  3\n",
       "tobacco_adm                    0\n",
       "bednet_adm                     3\n",
       "hctpretransfusion_adm         43\n",
       "hivstatus_adm                  5\n",
       "malariastatuspos_adm           2\n",
       "lengthadm                      0\n",
       "caregiver_adm_new              3\n",
       "inhospital_mortality           0\n",
       "dtype: int64"
      ]
     },
     "execution_count": 80,
     "metadata": {},
     "output_type": "execute_result"
    }
   ],
   "source": [
    "#pd.set_option('display.max_rows', None)\n",
    "sepsis_df.isnull().sum()"
   ]
  },
  {
   "cell_type": "markdown",
   "id": "e29a295b-3f69-41ac-adb9-3d0180e227fa",
   "metadata": {},
   "source": [
    "### Dropping columns\n",
    "\n",
    "#### 1. Dropping the Intervention Columns"
   ]
  },
  {
   "cell_type": "markdown",
   "id": "f59cbc71-aef6-4f2c-b8d6-367e816d9a32",
   "metadata": {},
   "source": [
    "Dropped intervention columns: These variables represent treatments that, while powerful predictors, are excluded due to their post-admission nature. The model, however, relies on data available at the time of admission."
   ]
  },
  {
   "cell_type": "code",
   "execution_count": 81,
   "id": "64bb075e-0c37-4858-ac3f-bc1a5eb0cfdd",
   "metadata": {},
   "outputs": [
    {
     "name": "stdout",
     "output_type": "stream",
     "text": [
      "Number of rows where all 'admitabx_adm_' columns are 'Unchecked': 45\n"
     ]
    }
   ],
   "source": [
    "# Filter columns that start with 'admitabx_adm_'\n",
    "abx_cols = [col for col in sepsis_df.columns if col.startswith('admitabx_adm_')]\n",
    "\n",
    "# Count rows where all selected columns are 'Unchecked'\n",
    "all_unchecked_rows = sepsis_df[abx_cols].apply(lambda row: (row == 'Unchecked').all(), axis=1)\n",
    "\n",
    "# Print the number of such rows\n",
    "print(f\"Number of rows where all 'admitabx_adm_' columns are 'Unchecked': {all_unchecked_rows.sum()}\")\n"
   ]
  },
  {
   "cell_type": "code",
   "execution_count": 82,
   "id": "6af380f2-945f-47fe-abbd-b7e2baaa326b",
   "metadata": {},
   "outputs": [
    {
     "name": "stdout",
     "output_type": "stream",
     "text": [
      "Remaining columns: 117\n",
      "Dropped intervention columns: ['admitabx_adm___1', 'admitabx_adm___2', 'admitabx_adm___3', 'admitabx_adm___4', 'admitabx_adm___5', 'admitabx_adm___6', 'admitabx_adm___7', 'admitabx_adm___8', 'admitabx_adm___9', 'admitabx_adm___10', 'admitabx_adm___11', 'admitabx_adm___12', 'admitabx_adm___13', 'admitabx_adm___14', 'admitabx_adm___15', 'admitabx_adm___16', 'admitabx_adm___17', 'admitabx_adm___18', 'admitabx_adm___19', 'admitabx_adm___20', 'admitabx_adm___21']\n"
     ]
    }
   ],
   "source": [
    "# Removing leading/trailing whitespace\n",
    "sepsis_df.columns = sepsis_df.columns.str.strip()\n",
    "\n",
    "# Define the intervention columns we want to drop\n",
    "intervention_cols = [f\"admitabx_adm___{i}\" for i in range(1, 22)]\n",
    "\n",
    "# Dropping them\n",
    "sepsis_df.drop(columns=intervention_cols, inplace=True, errors='ignore')\n",
    "\n",
    "# Confirming\n",
    "print(\"Remaining columns:\", sepsis_df.shape[1])\n",
    "print(\"Dropped intervention columns:\", intervention_cols)\n"
   ]
  },
  {
   "cell_type": "markdown",
   "id": "a2b56d36-9ee8-4ac3-a7e9-ce315fa3e321",
   "metadata": {},
   "source": [
    "#### 2. Dropping other additional Columns"
   ]
  },
  {
   "cell_type": "code",
   "execution_count": 83,
   "id": "1ce0710d-87ce-451c-a99d-c07881901300",
   "metadata": {},
   "outputs": [],
   "source": [
    "# Dropping unnecessary columns\n",
    "sepsis_df = sepsis_df.drop([\"spo2other_adm\",\"lactate2_mmolpl_adm\",\"nonexclbreastfed_adm\",\"vaccmeaslessource_adm\"], axis=1)"
   ]
  },
  {
   "cell_type": "markdown",
   "id": "2876357b-b63c-46be-92f5-e504e5a4b6ca",
   "metadata": {},
   "source": [
    "#### Justification for dropping\n",
    "___\n",
    "* **\"spo2other\\_adm\" dropped:** Represents oxygen saturation with another device (redundant), and has 93.3% missing values.\n",
    "* **\"lactate2\\_mmolpl\\_adm\" dropped:** A similar measurement is available, and it has 82.54% missing values.\n",
    "* **\"nonexclbreastfed\\_adm\" dropped:** Represents non-exclusive breastfeeding details, with 96.91% missing values.\n",
    "* **\"vaccmeaslessource\\_adm\" dropped:** Represents the source of information regarding measles vaccination (found to be less important), with 35.22% missing values.\n",
    "___"
   ]
  },
  {
   "cell_type": "markdown",
   "id": "17468e6c-e236-4e0b-87e1-036d8f7d52bc",
   "metadata": {},
   "source": [
    "### Handling Missing Values"
   ]
  },
  {
   "cell_type": "markdown",
   "id": "b3ac8b16-4679-4787-a2e4-34b418cb5c2f",
   "metadata": {},
   "source": [
    "#### 1. Numerical Variables with Missing Values"
   ]
  },
  {
   "cell_type": "markdown",
   "id": "2817125e-a0f4-4844-8c50-ff86546162ec",
   "metadata": {},
   "source": [
    "*Clean numeric-columns*"
   ]
  },
  {
   "cell_type": "code",
   "execution_count": 84,
   "id": "ab36b883-4101-424b-95a9-d1e8ac3ce29b",
   "metadata": {},
   "outputs": [
    {
     "name": "stdout",
     "output_type": "stream",
     "text": [
      "Columns with fairly symmetric distributions: ['muac_mm_adm', 'sysbp_mmhg_adm', 'diasbp_mmhg_adm', 'hematocrit_gpdl_adm']\n"
     ]
    }
   ],
   "source": [
    "# Get columns that have at least one missing value\n",
    "cols_with_missing = sepsis_df.columns[sepsis_df.isnull().any()].tolist()\n",
    "\n",
    "# Create a new DataFrame with only those columns\n",
    "df_missing_subset = sepsis_df[cols_with_missing]\n",
    "\n",
    "# Select numeric columns only\n",
    "numeric_cols = df_missing_subset.select_dtypes(include='number')\n",
    "\n",
    "# Calculate skewness for each numeric column\n",
    "skewness = numeric_cols.skew()\n",
    "\n",
    "# Filter columns where skewness is between -0.5 and +0.5\n",
    "symmetric_cols = skewness[(skewness > -0.5) & (skewness < 0.5)].index.tolist()\n",
    "\n",
    "print(\"Columns with fairly symmetric distributions:\", symmetric_cols)"
   ]
  },
  {
   "cell_type": "markdown",
   "id": "635ec45c-0a9f-474a-9bad-be7bcc478880",
   "metadata": {},
   "source": [
    "___\n",
    "Columns with fairly symmetric distributions (skewness between -0.5 and 0.5) were identified using the `.skew()` function and separated for imputation using the **mean**. For columns with more skewed distributions (skewness < -0.5 or > 0.5), the **median** will be used instead, as it's more robust to outliers.\n",
    "___"
   ]
  },
  {
   "cell_type": "markdown",
   "id": "8cb65460-6afe-4967-97b3-5ce68aad6b30",
   "metadata": {},
   "source": [
    "#### Imputing the columns with fairly symmetric distributions using mean"
   ]
  },
  {
   "cell_type": "code",
   "execution_count": 85,
   "id": "f7d6c377-54f2-4f3b-819b-60b4eb1fc4d0",
   "metadata": {},
   "outputs": [],
   "source": [
    "sepsis_df[['sysbp_mmhg_adm', 'diasbp_mmhg_adm']] = sepsis_df[['sysbp_mmhg_adm', 'diasbp_mmhg_adm']].fillna(sepsis_df[['sysbp_mmhg_adm', 'diasbp_mmhg_adm']].mean())"
   ]
  },
  {
   "cell_type": "markdown",
   "id": "7f1951cf-c465-44d2-8184-aae4f2883646",
   "metadata": {},
   "source": [
    "#### Imputing 'height_cm_adm' column"
   ]
  },
  {
   "cell_type": "code",
   "execution_count": 86,
   "id": "3aa0d477-7356-42b3-b601-47587e84a6a5",
   "metadata": {},
   "outputs": [
    {
     "data": {
      "text/html": [
       "<div>\n",
       "<style scoped>\n",
       "    .dataframe tbody tr th:only-of-type {\n",
       "        vertical-align: middle;\n",
       "    }\n",
       "\n",
       "    .dataframe tbody tr th {\n",
       "        vertical-align: top;\n",
       "    }\n",
       "\n",
       "    .dataframe thead th {\n",
       "        text-align: right;\n",
       "    }\n",
       "</style>\n",
       "<table border=\"1\" class=\"dataframe\">\n",
       "  <thead>\n",
       "    <tr style=\"text-align: right;\">\n",
       "      <th></th>\n",
       "      <th>weight_kg_adm</th>\n",
       "      <th>agecalc_adm</th>\n",
       "      <th>sex_adm</th>\n",
       "    </tr>\n",
       "  </thead>\n",
       "  <tbody>\n",
       "    <tr>\n",
       "      <th>370</th>\n",
       "      <td>13.0</td>\n",
       "      <td>23.3</td>\n",
       "      <td>Male</td>\n",
       "    </tr>\n",
       "    <tr>\n",
       "      <th>430</th>\n",
       "      <td>NaN</td>\n",
       "      <td>29.0</td>\n",
       "      <td>Male</td>\n",
       "    </tr>\n",
       "    <tr>\n",
       "      <th>858</th>\n",
       "      <td>NaN</td>\n",
       "      <td>30.1</td>\n",
       "      <td>Female</td>\n",
       "    </tr>\n",
       "    <tr>\n",
       "      <th>928</th>\n",
       "      <td>NaN</td>\n",
       "      <td>26.9</td>\n",
       "      <td>Male</td>\n",
       "    </tr>\n",
       "    <tr>\n",
       "      <th>956</th>\n",
       "      <td>5.8</td>\n",
       "      <td>22.0</td>\n",
       "      <td>Male</td>\n",
       "    </tr>\n",
       "    <tr>\n",
       "      <th>1025</th>\n",
       "      <td>NaN</td>\n",
       "      <td>15.5</td>\n",
       "      <td>Male</td>\n",
       "    </tr>\n",
       "    <tr>\n",
       "      <th>1178</th>\n",
       "      <td>13.0</td>\n",
       "      <td>52.2</td>\n",
       "      <td>Female</td>\n",
       "    </tr>\n",
       "    <tr>\n",
       "      <th>1360</th>\n",
       "      <td>NaN</td>\n",
       "      <td>21.2</td>\n",
       "      <td>Female</td>\n",
       "    </tr>\n",
       "    <tr>\n",
       "      <th>1785</th>\n",
       "      <td>9.0</td>\n",
       "      <td>22.5</td>\n",
       "      <td>Male</td>\n",
       "    </tr>\n",
       "    <tr>\n",
       "      <th>1855</th>\n",
       "      <td>9.0</td>\n",
       "      <td>10.6</td>\n",
       "      <td>Male</td>\n",
       "    </tr>\n",
       "    <tr>\n",
       "      <th>1887</th>\n",
       "      <td>NaN</td>\n",
       "      <td>55.7</td>\n",
       "      <td>Female</td>\n",
       "    </tr>\n",
       "    <tr>\n",
       "      <th>2336</th>\n",
       "      <td>8.5</td>\n",
       "      <td>8.4</td>\n",
       "      <td>Female</td>\n",
       "    </tr>\n",
       "    <tr>\n",
       "      <th>2353</th>\n",
       "      <td>NaN</td>\n",
       "      <td>18.9</td>\n",
       "      <td>Male</td>\n",
       "    </tr>\n",
       "    <tr>\n",
       "      <th>2356</th>\n",
       "      <td>NaN</td>\n",
       "      <td>22.0</td>\n",
       "      <td>Male</td>\n",
       "    </tr>\n",
       "  </tbody>\n",
       "</table>\n",
       "</div>"
      ],
      "text/plain": [
       "      weight_kg_adm  agecalc_adm sex_adm\n",
       "370            13.0         23.3    Male\n",
       "430             NaN         29.0    Male\n",
       "858             NaN         30.1  Female\n",
       "928             NaN         26.9    Male\n",
       "956             5.8         22.0    Male\n",
       "1025            NaN         15.5    Male\n",
       "1178           13.0         52.2  Female\n",
       "1360            NaN         21.2  Female\n",
       "1785            9.0         22.5    Male\n",
       "1855            9.0         10.6    Male\n",
       "1887            NaN         55.7  Female\n",
       "2336            8.5          8.4  Female\n",
       "2353            NaN         18.9    Male\n",
       "2356            NaN         22.0    Male"
      ]
     },
     "execution_count": 86,
     "metadata": {},
     "output_type": "execute_result"
    }
   ],
   "source": [
    "# Show relevant info where height is missing\n",
    "sepsis_df.loc[sepsis_df['height_cm_adm'].isnull(), ['weight_kg_adm', 'agecalc_adm', 'sex_adm']]"
   ]
  },
  {
   "cell_type": "markdown",
   "id": "5f6fd6a4-939f-431b-91da-3d75ce26e6f2",
   "metadata": {},
   "source": [
    "* To handle missing values in the height_cm_adm column, the approach involves imputing the missing heights using the WHO median height-for-age data. The patient's age in months is rounded to the nearest whole number to align with the WHO data, which includes median height values for different age months. The missing values in the height_cm_adm column are then filled with the corresponding median height from the WHO dataset based on the patient's rounded age.\n",
    "  \n",
    "* This method ensures that the imputed heights are age-appropriate and based on established growth standards, improving the overall quality of the dataset for analysis."
   ]
  },
  {
   "cell_type": "markdown",
   "id": "0a93abf3-3469-41f5-9676-3d1bcb966f57",
   "metadata": {},
   "source": [
    "##### *For Female*"
   ]
  },
  {
   "cell_type": "code",
   "execution_count": 87,
   "id": "1e424f1d-b435-4af4-98fa-bfb51716b9f8",
   "metadata": {},
   "outputs": [],
   "source": [
    "# Loading the WHO dataset for girls\n",
    "who_girls = pd.read_csv(\"girls_length_height_for_age.csv\")"
   ]
  },
  {
   "cell_type": "code",
   "execution_count": 88,
   "id": "337bb5f4-8757-47de-be98-cb19444d94d3",
   "metadata": {},
   "outputs": [],
   "source": [
    "# Round age to match WHO months\n",
    "sepsis_df['age_months_rounded'] = sepsis_df['agecalc_adm'].round().astype(int)\n",
    "\n",
    "# Prepare WHO data\n",
    "who_clean = who_girls[['Months', 'Median']].rename(columns={\n",
    "    'Months': 'age_months_rounded',\n",
    "    'Median': 'who_median_height'\n",
    "})\n",
    "\n",
    "# Merge on the rounded age\n",
    "sepsis_df = sepsis_df.merge(\n",
    "    who_clean,\n",
    "    on='age_months_rounded',\n",
    "    how='left'\n",
    ")"
   ]
  },
  {
   "cell_type": "markdown",
   "id": "5d2de59e-bf98-4bd7-b8c2-5933215b376c",
   "metadata": {},
   "source": [
    "* The patient's age in months is rounded to the nearest whole number to align with the WHO data. The WHO median height-for-age data for girls is then cleaned and merged with the sepsis dataset based on the rounded age.\n",
    "\n",
    "* This ensures that each patient is matched with the appropriate WHO median height based on their age."
   ]
  },
  {
   "cell_type": "code",
   "execution_count": 89,
   "id": "793e20aa-7666-4975-bf32-2939a45e25d2",
   "metadata": {},
   "outputs": [],
   "source": [
    "# Identify missing heights for female patients\n",
    "girls_mask = (sepsis_df['sex_adm'] == 'Female') & (sepsis_df['height_cm_adm'].isna())\n",
    "\n",
    "# Impute with WHO median height based on rounded age\n",
    "sepsis_df.loc[girls_mask, 'height_cm_adm'] = sepsis_df.loc[girls_mask, 'who_median_height']"
   ]
  },
  {
   "cell_type": "markdown",
   "id": "558148ce-1662-40a9-a8b9-4b23009bd7b2",
   "metadata": {},
   "source": [
    "* This code identifies missing height values for female patients by creating a mask where the sex_adm is 'Female' and height_cm_adm is null.\n",
    "\n",
    "* Then, for these patients, the missing height values are imputed using the corresponding WHO median height based on the patient's rounded age in months."
   ]
  },
  {
   "cell_type": "markdown",
   "id": "209d52f5-6b16-4214-8088-01e6f9abce91",
   "metadata": {},
   "source": [
    "##### *For Male*"
   ]
  },
  {
   "cell_type": "code",
   "execution_count": 90,
   "id": "eb8e610d-9b57-4a9e-9dfa-000de20225d3",
   "metadata": {},
   "outputs": [],
   "source": [
    "# Loading the WHO dataset for boys\n",
    "who_boys = pd.read_csv(\"boys_length_height_for_age.csv\")"
   ]
  },
  {
   "cell_type": "code",
   "execution_count": 91,
   "id": "063d635b-0aa1-4ed9-a616-71be988c3091",
   "metadata": {},
   "outputs": [],
   "source": [
    "# Round age to match WHO months\n",
    "sepsis_df['age_months_rounded'] = sepsis_df['agecalc_adm'].round().astype(int)\n",
    "\n",
    "# Prepare WHO data\n",
    "who_clean_boys = who_boys[['Months', 'Median']].rename(columns={\n",
    "    'Months': 'age_months_rounded',\n",
    "    'Median': 'who_median_height_boys'\n",
    "})\n",
    "\n",
    "# Merge on the rounded age\n",
    "sepsis_df = sepsis_df.merge(\n",
    "    who_clean_boys,\n",
    "    on='age_months_rounded',\n",
    "    how='left'\n",
    ")"
   ]
  },
  {
   "cell_type": "markdown",
   "id": "bbbddd32-8e38-4eac-a3d2-debc394a1c82",
   "metadata": {},
   "source": [
    "* In this process, the age calculation of the children in the sepsis dataset is rounded to the nearest whole month using the agecalc_adm column. This rounded age is stored in a new column age_months_rounded.\n",
    "\n",
    "* Next, the WHO data for boys is prepared by extracting the relevant columns (Months and Median) from the who_boys dataset and renaming them to age_months_rounded and who_median_height_boys, ensuring consistency with the sepsis dataset.\n",
    "\n",
    "* Finally, the two datasets are merged based on the rounded age (age_months_rounded), allowing the sepsis dataset to be enriched with the WHO median height for boys based on the rounded age, creating a column called who_median_height_boys in the sepsis_df."
   ]
  },
  {
   "cell_type": "code",
   "execution_count": 92,
   "id": "2f7b2091-3555-420e-8997-7c5cc0c27070",
   "metadata": {},
   "outputs": [
    {
     "data": {
      "text/plain": [
       "0"
      ]
     },
     "execution_count": 92,
     "metadata": {},
     "output_type": "execute_result"
    }
   ],
   "source": [
    "# Identify missing heights for male patients\n",
    "boys_mask = (sepsis_df['sex_adm'] == 'Male') & (sepsis_df['height_cm_adm'].isna())\n",
    "\n",
    "# Impute with WHO median height based on rounded age for boys\n",
    "sepsis_df.loc[boys_mask, 'height_cm_adm'] = sepsis_df.loc[boys_mask, 'who_median_height_boys']\n",
    "\n",
    "# Check for missing values again\n",
    "sepsis_df['height_cm_adm'].isna().sum()"
   ]
  },
  {
   "cell_type": "markdown",
   "id": "41d76f78-4507-46dc-995b-6a069a1f1e37",
   "metadata": {},
   "source": [
    "* This process identifies missing height values (height_cm_adm) for male patients in the dataset.\n",
    "* For those missing values, the heights are imputed using the WHO median height for boys based on the rounded age.\n",
    "* After the imputation, the number of remaining missing height values is checked to confirm the success of the imputation of the **height_cm_adm** column."
   ]
  },
  {
   "cell_type": "markdown",
   "id": "85528972-458a-4b5b-91b9-ba9956a47a72",
   "metadata": {},
   "source": [
    "#### Imputing 'weight_kg_adm' column"
   ]
  },
  {
   "cell_type": "markdown",
   "id": "b57bb4bd-108b-4e9c-a2c4-e156d0e2397a",
   "metadata": {},
   "source": [
    "* To impute missing weight values in the dataset, we used a reference-based approach leveraging the WHO weight-for-age data. By rounding the age of each patient to the nearest integer, we matched it with the corresponding median weight for boys and girls from the WHO dataset. This allowed us to impute missing weights based on the median value for the given age and sex, ensuring a more accurate and contextually relevant imputation method."
   ]
  },
  {
   "cell_type": "code",
   "execution_count": 93,
   "id": "7c03ca2d-b958-4b42-9cba-bd28e313e044",
   "metadata": {},
   "outputs": [],
   "source": [
    "# Load WHO data\n",
    "boys_wfa = pd.read_csv(\"boys_weight_for_age.csv\")  \n",
    "girls_wfa = pd.read_csv(\"girls_weight_for_age.csv\") "
   ]
  },
  {
   "cell_type": "code",
   "execution_count": 94,
   "id": "c96522e7-e7bd-4417-841a-d81103f8478d",
   "metadata": {},
   "outputs": [
    {
     "data": {
      "text/plain": [
       "0"
      ]
     },
     "execution_count": 94,
     "metadata": {},
     "output_type": "execute_result"
    }
   ],
   "source": [
    "# Round the age to the nearest integer\n",
    "sepsis_df['agecalc_adm_rounded'] = sepsis_df['agecalc_adm'].round().astype(int)\n",
    "\n",
    "# Function to impute missing weight values\n",
    "def impute_weight(row):\n",
    "    if pd.isna(row['weight_kg_adm']):\n",
    "        if row['sex_adm'] == 'Male':\n",
    "            # Get the median weight for boys based on the agecalc_adm\n",
    "            ref = boys_wfa[boys_wfa['Months'] == row['agecalc_adm_rounded']]['Median'].values[0]\n",
    "        else:\n",
    "            # Get the median weight for girls based on the agecalc_adm\n",
    "            ref = girls_wfa[girls_wfa['Months'] == row['agecalc_adm_rounded']]['Median'].values[0]\n",
    "        return ref\n",
    "    return row['weight_kg_adm']\n",
    "\n",
    "# Apply the imputation to the dataset\n",
    "sepsis_df['weight_kg_adm'] = sepsis_df.apply(impute_weight, axis=1)\n",
    "\n",
    "# Check for missing values again\n",
    "sepsis_df['weight_kg_adm'].isna().sum()"
   ]
  },
  {
   "cell_type": "markdown",
   "id": "8e6ea814-3953-48ec-b5fa-d444d9f0877b",
   "metadata": {},
   "source": [
    "* The process of imputing missing values in the weight_kg_adm column begins by loading the WHO weight-for-age datasets for boys and girls. The age column (agecalc_adm) in the sepsis_df dataset is then rounded to the nearest integer to match the age format used in the WHO datasets. A custom function, impute_weight, is created to fill in missing values.\n",
    "* For each row with a missing weight, the function checks the sex of the patient and retrieves the corresponding median weight from the appropriate WHO dataset (boys or girls) based on the rounded age. This median value is then used to impute the missing weight.\n",
    "* The function is applied to the entire dataset, and the weight_kg_adm column is updated accordingly. Finally, a check is performed to confirm that there are no remaining missing values in the weight column, ensuring successful imputation."
   ]
  },
  {
   "cell_type": "markdown",
   "id": "54396397-3771-4145-acd8-60e19e890b02",
   "metadata": {},
   "source": [
    "#### Imputing MUAC based on age"
   ]
  },
  {
   "cell_type": "code",
   "execution_count": 95,
   "id": "70a4d116-74ba-407d-88f2-488b9cb42d7d",
   "metadata": {},
   "outputs": [
    {
     "data": {
      "text/plain": [
       "0"
      ]
     },
     "execution_count": 95,
     "metadata": {},
     "output_type": "execute_result"
    }
   ],
   "source": [
    "# Loading the WHO dataset for girls\n",
    "who_girls = pd.read_csv(\"./acfa-girls-3-5-zscores.csv\")\n",
    "\n",
    "# Round age to match WHO months\n",
    "sepsis_df['age_months_rounded'] = sepsis_df['agecalc_adm'].round().astype(int)\n",
    "\n",
    "# Prepare WHO data\n",
    "who_clean = who_girls[['Month', 'SD0']].rename(columns={\n",
    "    'Month': 'age_months_rounded',\n",
    "    'SD0': 'who_median_muac'\n",
    "})\n",
    "\n",
    "# Merge on the rounded age\n",
    "sepsis_df = sepsis_df.merge(\n",
    "    who_clean,\n",
    "    on='age_months_rounded',\n",
    "    how='left',\n",
    "    suffixes=('', '_who')  # Adding a suffix '_who' to differentiate the columns\n",
    ")\n",
    "\n",
    "# Identify missing muac for female patients\n",
    "girls_mask = (sepsis_df['sex_adm'] == 'Female') & (sepsis_df['muac_mm_adm'].isna())\n",
    "\n",
    "# Impute with WHO median muac based on rounded age\n",
    "sepsis_df.loc[girls_mask, 'muac_mm_adm'] = sepsis_df.loc[girls_mask, 'who_median_muac']\n",
    "\n",
    "# Loading the WHO dataset for boys\n",
    "who_boys = pd.read_csv(\"./acfa-boys-3-5-zscores.csv\")\n",
    "\n",
    "# Round age to match WHO months\n",
    "sepsis_df['age_months_rounded'] = sepsis_df['agecalc_adm'].round().astype(int)\n",
    "\n",
    "# Prepare WHO data\n",
    "who_clean_boys = who_boys[['Month', 'SD0']].rename(columns={\n",
    "    'Month': 'age_months_rounded',\n",
    "    'SD0': 'who_median_muac'\n",
    "})\n",
    "\n",
    "# Merge on the rounded age\n",
    "sepsis_df = sepsis_df.merge(\n",
    "    who_clean_boys,\n",
    "    on='age_months_rounded',\n",
    "    how='left',\n",
    "    suffixes=('', '_who')  # Adding a suffix '_who' to differentiate the columns\n",
    ")\n",
    "\n",
    "# Identify missing heights for male patients\n",
    "boys_mask = (sepsis_df['sex_adm'] == 'Male') & (sepsis_df['muac_mm_adm'].isna())\n",
    "\n",
    "# Impute with WHO median height based on rounded age for boys\n",
    "sepsis_df.loc[boys_mask, 'muac_mm_adm'] = sepsis_df.loc[boys_mask, 'who_median_muac']\n",
    "\n",
    "# Check for missing values again\n",
    "sepsis_df['muac_mm_adm'].isna().sum()"
   ]
  },
  {
   "cell_type": "markdown",
   "id": "c7aea162-39ae-453d-91e4-293dd941588e",
   "metadata": {},
   "source": [
    "___\n",
    "**\"muac_mm_adm\"** was imputed by grouping the data based on age_group, weight quintiles (weight_group), and sex_adm, then filling missing values with the mean MUAC within each subgroup.\n",
    "___"
   ]
  },
  {
   "cell_type": "markdown",
   "id": "904a0f2b-e19d-4704-bbab-4d4bdc2f4c49",
   "metadata": {},
   "source": [
    "#### Imputing 'hematocrit_gpdl_adm' column"
   ]
  },
  {
   "cell_type": "code",
   "execution_count": 96,
   "id": "3d23fb86-c5f3-4026-a0eb-74005a5348eb",
   "metadata": {},
   "outputs": [
    {
     "name": "stdout",
     "output_type": "stream",
     "text": [
      "0\n"
     ]
    }
   ],
   "source": [
    "# Step 1: Define the age group bins\n",
    "def assign_age_group(age_months):\n",
    "    if age_months < 6:\n",
    "        return '3-6 month'\n",
    "    elif age_months < 12:\n",
    "        return '6-1yr'\n",
    "    elif age_months < 24:\n",
    "        return '1-2yr'\n",
    "    elif age_months < 36:\n",
    "        return '2-3yr'\n",
    "    elif age_months < 48:\n",
    "        return '3-4yr'\n",
    "    elif age_months < 60:\n",
    "        return '4-5yr'\n",
    "    elif age_months < 72:\n",
    "        return '5-6yr'\n",
    "    else:\n",
    "        return 'older'\n",
    "\n",
    "# Step 2: Create 'age_group' column\n",
    "sepsis_df['age_group'] = sepsis_df['agecalc_adm'].apply(assign_age_group)\n",
    "\n",
    "# Step 3: Group by age_group and sex_adm, then impute hematocrit\n",
    "sepsis_df['hematocrit_gpdl_adm'] = sepsis_df.groupby(['age_group', 'sex_adm'])['hematocrit_gpdl_adm']\\\n",
    "    .transform(lambda x: x.fillna(x.mean()))\n",
    "print(sepsis_df[\"hematocrit_gpdl_adm\"].isnull().sum())"
   ]
  },
  {
   "cell_type": "markdown",
   "id": "b24bc913-89bb-4049-b4d3-098f33f5bf51",
   "metadata": {},
   "source": [
    "___\n",
    "\" hematocrit_gpdl_adm \" was imputed using a logical, group-based approach. Since hematocrit levels vary by age and sex, first  patients were categorized into age groups and then grouped the data by both age_group and sex_adm.\n",
    "Within each group, missing hematocrit values were filled using the mean of that group, ensuring the imputation respects biologically relevant differences.\n",
    "___"
   ]
  },
  {
   "cell_type": "markdown",
   "id": "ed33fdcb-8037-4406-8cb4-4dcda6556561",
   "metadata": {},
   "source": [
    "#### Imputing 'lactate_mmolpl_adm' column"
   ]
  },
  {
   "cell_type": "code",
   "execution_count": 97,
   "id": "c73dfd45-5ebc-43ee-8d37-528701e6bb73",
   "metadata": {},
   "outputs": [],
   "source": [
    "# Create shock index\n",
    "sepsis_df['shockindex_heart_rate_sbp_adm'] = sepsis_df['hr_bpm_adm'] / sepsis_df['sysbp_mmhg_adm']\n",
    "\n",
    "# Create high-risk indicator based on SpO2 and shock index\n",
    "sepsis_df['high_risk'] = ((sepsis_df['spo2site1_pc_oxi_adm'] < 90) | \n",
    "                          (sepsis_df['shockindex_heart_rate_sbp_adm'] > 1)).astype(int)\n",
    "\n",
    "# Impute lactate using median within risk groups (only one transform needed)\n",
    "sepsis_df['lactate_mmolpl_adm'] = sepsis_df.groupby('high_risk')['lactate_mmolpl_adm']\\\n",
    "                                           .transform(lambda x: x.fillna(x.median()))\n"
   ]
  },
  {
   "cell_type": "markdown",
   "id": "5702f560-28d2-4ad1-850d-1f30230a9829",
   "metadata": {},
   "source": [
    "___\n",
    "\"shockindex_heart_rate_sbp_adm\" was created to aid imputation of missing values in the \"lactate_mmolpl_adm\" column. It was derived from \"hr_bpm_adm\" and \"sysbp_mmhg_adm\"  columns. \n",
    "\n",
    "* Created a `high_risk` flag for patients with SpO₂ < 90 or shock index > 1.\n",
    "  These thresholds are clinically meaningful indicators of potential instability.\n",
    "* Imputed missing `lactate_mmolpl_adm` values using the median within each risk group.\n",
    "  This ensures imputation is done in a context-sensitive way, preserving group-level distribution patterns.\n",
    "  \n",
    "___"
   ]
  },
  {
   "cell_type": "markdown",
   "id": "a6d585fe-e272-481e-88c6-16587d6f9f4b",
   "metadata": {},
   "source": [
    "#### Imputing 'spo2site1_pc_oxi_adm' and 'spo2site1_pc_oxi_adm'"
   ]
  },
  {
   "cell_type": "code",
   "execution_count": 98,
   "id": "c4f28e3c-f4e1-4b0e-b285-7c065f1af97d",
   "metadata": {},
   "outputs": [],
   "source": [
    "# Use spo2site2 to fill missing values in spo2site1\n",
    "sepsis_df['spo2site1_pc_oxi_adm'] = sepsis_df['spo2site1_pc_oxi_adm'].fillna(\n",
    "    sepsis_df['spo2site2_pc_oxi_adm']\n",
    ")\n",
    "\n",
    "# Use spo2site1 to fill missing values in spo2site2\n",
    "sepsis_df['spo2site2_pc_oxi_adm'] = sepsis_df['spo2site2_pc_oxi_adm'].fillna(\n",
    "    sepsis_df['spo2site1_pc_oxi_adm']\n",
    ")"
   ]
  },
  {
   "cell_type": "code",
   "execution_count": 99,
   "id": "e48af45e-50f2-4af7-9f23-e8e84a58757e",
   "metadata": {},
   "outputs": [
    {
     "name": "stdout",
     "output_type": "stream",
     "text": [
      "4\n",
      "4\n"
     ]
    }
   ],
   "source": [
    "# Checking if we still have missing values\n",
    "print(sepsis_df['spo2site1_pc_oxi_adm'].isnull().sum())\n",
    "print(sepsis_df['spo2site2_pc_oxi_adm'].isnull().sum())"
   ]
  },
  {
   "cell_type": "markdown",
   "id": "d453eff9-9e4e-4abf-80ce-afd2b077cbc1",
   "metadata": {},
   "source": [
    "##### Imputing the remaining missing values in both coulumns"
   ]
  },
  {
   "cell_type": "code",
   "execution_count": 100,
   "id": "ba78927a-8415-4aa0-87ba-99058a218fd3",
   "metadata": {},
   "outputs": [],
   "source": [
    "# Create age group\n",
    "sepsis_df['age_group2'] = sepsis_df['agecalc_adm'].apply(lambda x: '<1yr' if x < 1 else '≥1yr')\n",
    "\n",
    "# Impute SpO2 site 1\n",
    "sepsis_df['spo2site1_pc_oxi_adm'] = sepsis_df.groupby('age_group2')['spo2site1_pc_oxi_adm']\\\n",
    "                                             .transform(lambda x: x.fillna(x.median()))\n",
    "\n",
    "# Impute SpO2 site 2\n",
    "sepsis_df['spo2site2_pc_oxi_adm'] = sepsis_df.groupby('age_group2')['spo2site2_pc_oxi_adm']\\\n",
    "                                             .transform(lambda x: x.fillna(x.median()))"
   ]
  },
  {
   "cell_type": "markdown",
   "id": "0e26079f-c475-4d72-8dfa-a7f610771d6e",
   "metadata": {},
   "source": [
    "___\n",
    "The columns **'spo2site1\\_pc\\_oxi\\_adm'** and **'spo2site2\\_pc\\_oxi\\_adm'** represent oxygen saturation levels (percentage of hemoglobin carrying oxygen) from two different body sites. Since both measure similar values, **cross imputation** was used to fill missing values. However, 4 missing values were observed, suggesting that 4 rows were missing data for both columns. To account for age-related physiological differences (e.g., respiratory rate, oxygen saturation, heart rate), an **age\\_group2** variable was created to categorize patients as <1 year or ≥1 year. Missing SpO₂ values were then imputed using the median within each age group.\n",
    "___"
   ]
  },
  {
   "cell_type": "markdown",
   "id": "220afd0b-791f-4f84-afa6-4832e1bfd7ce",
   "metadata": {},
   "source": [
    "#### Imputing 'sqi1_perc_oxi_adm' and 'sqi2_perc_oxi_adm'"
   ]
  },
  {
   "cell_type": "code",
   "execution_count": 101,
   "id": "529b1b1e-f96a-4d7a-af3b-7217299ad338",
   "metadata": {},
   "outputs": [],
   "source": [
    "# Use cross-SQI imputation\n",
    "sepsis_df['sqi1_perc_oxi_adm'] = sepsis_df['sqi1_perc_oxi_adm'].fillna(sepsis_df['sqi2_perc_oxi_adm'])\n",
    "sepsis_df['sqi2_perc_oxi_adm'] = sepsis_df['sqi2_perc_oxi_adm'].fillna(sepsis_df['sqi1_perc_oxi_adm'])"
   ]
  },
  {
   "cell_type": "code",
   "execution_count": 102,
   "id": "6d072de2-31d0-4869-91d9-fb542d29c3ed",
   "metadata": {},
   "outputs": [
    {
     "name": "stdout",
     "output_type": "stream",
     "text": [
      "126\n",
      "126\n"
     ]
    }
   ],
   "source": [
    "# Checking if we still have missing values\n",
    "print(sepsis_df['sqi1_perc_oxi_adm'].isnull().sum())\n",
    "print(sepsis_df['sqi2_perc_oxi_adm'].isnull().sum())"
   ]
  },
  {
   "cell_type": "code",
   "execution_count": 103,
   "id": "53f87b5a-2108-4403-990b-1bc3c53759e6",
   "metadata": {},
   "outputs": [],
   "source": [
    "# Imputing the rest with median\n",
    "sepsis_df['sqi1_perc_oxi_adm'] = sepsis_df['sqi1_perc_oxi_adm'].fillna(sepsis_df['sqi1_perc_oxi_adm'].median())\n",
    "sepsis_df['sqi2_perc_oxi_adm'] = sepsis_df['sqi2_perc_oxi_adm'].fillna(sepsis_df['sqi2_perc_oxi_adm'].median())"
   ]
  },
  {
   "cell_type": "markdown",
   "id": "24d0cfd5-eafc-4f9f-ace8-87092a306a2f",
   "metadata": {},
   "source": [
    "___\n",
    "The columns **'sqi1\\_perc\\_oxi\\_adm'** and **'sqi2\\_perc\\_oxi\\_adm'** represent the best and second-best SpO₂ signal quality index at admission. \n",
    "* **`sqi1_perc_oxi_adm`** = Highest quality SpO₂ signal among all measured sites at admission.\n",
    "* **`sqi2_perc_oxi_adm`** = Second-best quality SpO₂ signal from a different site at admission.\n",
    "Since they are related, **cross-imputation** was applied. However, 126 rows remained missing for both columns, so the remaining missing values were filled using the median.\n",
    "___"
   ]
  },
  {
   "cell_type": "markdown",
   "id": "ce2750ba-12ad-48f1-aea3-47d6f0b2d3d8",
   "metadata": {},
   "source": [
    "#### **Imputing the columns that do not need logical imputing and have skewed distribution**"
   ]
  },
  {
   "cell_type": "code",
   "execution_count": 104,
   "id": "c66ccb1b-fe3f-4dbb-aa7f-9371f1e2795b",
   "metadata": {},
   "outputs": [],
   "source": [
    "# Select numerical columns with missing values\n",
    "num_cols_with_na = sepsis_df.select_dtypes(include=np.number).columns[sepsis_df.select_dtypes(include=np.number).isna().any()]\n",
    "# List of columns to exclude\n",
    "exclude_cols = ['muac_mm_adm', 'sysbp_mmhg_adm', 'diasbp_mmhg_adm', 'hematocrit_gpdl_adm',\n",
    "                'height_cm_adm', 'weight_kg_adm', 'lactate_mmolpl_adm', 'spo2site1_pc_oxi_adm',\n",
    "                'spo2site2_pc_oxi_adm', 'sqi1_perc_oxi_adm', 'sqi2_perc_oxi_adm']\n",
    "# Drop those columns from the list\n",
    "filtered_num_cols = [col for col in num_cols_with_na if col not in exclude_cols]\n",
    "\n",
    "# Impute the remaining numerical columns with median\n",
    "sepsis_df[filtered_num_cols] = sepsis_df[filtered_num_cols].apply(lambda col: col.fillna(col.median()))"
   ]
  },
  {
   "cell_type": "markdown",
   "id": "1c409631-8d64-4a8f-90b3-7d72a502be94",
   "metadata": {},
   "source": [
    "### 2. Categorical Variables with Missing Values"
   ]
  },
  {
   "cell_type": "markdown",
   "id": "6e5c3beb-a813-4880-beb8-88b79378a7cf",
   "metadata": {},
   "source": [
    "#### Imputing 'bcseye_adm' column"
   ]
  },
  {
   "cell_type": "markdown",
   "id": "b202e14e-2e43-492b-b80f-1098747afbd6",
   "metadata": {},
   "source": [
    "* This below code investigates whether missing values in the bcseye_adm variable (Blantyre Coma Scale – Eye Response) are associated with the availability of related coma scale components, specifically:\n",
    "                        \n",
    "                        - bcsmotor_adm – Motor Response\n",
    "                        - bcsverbal_adm – Verbal Response"
   ]
  },
  {
   "cell_type": "code",
   "execution_count": 105,
   "id": "28349f26-1e10-4033-a76e-a1ff6ab32d69",
   "metadata": {},
   "outputs": [
    {
     "name": "stdout",
     "output_type": "stream",
     "text": [
      "                               bcsmotor_adm  \\\n",
      "1388  No response or inappropriate response   \n",
      "\n",
      "                                          bcsverbal_adm  \n",
      "1388  Cries appropriately with pain, or, if verbal, ...  \n"
     ]
    }
   ],
   "source": [
    "# Identify rows where 'bcseye_adm' is missing\n",
    "missing_eye = sepsis_df['bcseye_adm'].isna()\n",
    "\n",
    "# Print the corresponding 'bcsmotor_adm' and 'bcsverbal_adm' values where 'bcseye_adm' is missing\n",
    "print(sepsis_df[missing_eye][['bcsmotor_adm', 'bcsverbal_adm']])"
   ]
  },
  {
   "cell_type": "code",
   "execution_count": 106,
   "id": "326cb722-ef9f-47c8-a51c-2d4ec4b2f76f",
   "metadata": {},
   "outputs": [
    {
     "name": "stdout",
     "output_type": "stream",
     "text": [
      "bcseye_adm                                                     NaN\n",
      "bcsmotor_adm                 No response or inappropriate response\n",
      "bcsverbal_adm    Cries appropriately with pain, or, if verbal, ...\n",
      "Name: 1388, dtype: object\n"
     ]
    }
   ],
   "source": [
    "# Verifying the exact patient record\n",
    "patient_1388 = sepsis_df.loc[1388, ['bcseye_adm', 'bcsmotor_adm', 'bcsverbal_adm']]\n",
    "print(patient_1388)"
   ]
  },
  {
   "cell_type": "code",
   "execution_count": 107,
   "id": "a29b0482-6bf0-48a3-967a-35ab7191087b",
   "metadata": {},
   "outputs": [
    {
     "name": "stdout",
     "output_type": "stream",
     "text": [
      "0\n"
     ]
    }
   ],
   "source": [
    "# Impute missing as \"NoFollow\" (most severe neurological status)\n",
    "sepsis_df['bcseye_adm'] = sepsis_df['bcseye_adm'].fillna('Fails to watch or follow')\n",
    "print(sepsis_df[\"bcseye_adm\"].isnull().sum())\n"
   ]
  },
  {
   "cell_type": "markdown",
   "id": "8f4b6f51-0890-405d-8dab-d822db36c8c9",
   "metadata": {},
   "source": [
    "* This output shows that even though bcseye_adm is missing for this patient (row 1388):\n",
    "                        \n",
    "                        - bcsmotor_adm is present but indicates very low motor responsiveness\n",
    "                        - bcsverbal_adm is present and shows some verbal responsiveness\n",
    "\n",
    "**Since bcsmotor_adm is very low and bcseye_adm is missing, it is reasonable to impute a worst-case value like \"Fails to watch or follow\" for bcseye_adm**"
   ]
  },
  {
   "cell_type": "markdown",
   "id": "c2d5e800-453b-4d92-b2b1-34e857ed579d",
   "metadata": {},
   "source": [
    "#### Imputing 'bcsverbal_adm' column"
   ]
  },
  {
   "cell_type": "code",
   "execution_count": 108,
   "id": "e4f324e7-9c8e-4d40-b530-356638599135",
   "metadata": {},
   "outputs": [
    {
     "name": "stdout",
     "output_type": "stream",
     "text": [
      "              bcseye_adm                          bcsmotor_adm\n",
      "507   Watches or follows  Withdraws limb from painful stimulus\n",
      "1205  Watches or follows  Withdraws limb from painful stimulus\n"
     ]
    }
   ],
   "source": [
    "# Identify rows where 'bcsverbal_adm' (verbal response) is missing\n",
    "missing_verbal = sepsis_df['bcsverbal_adm'].isna()\n",
    "\n",
    "# Display corresponding eye and motor responses for those rows\n",
    "print(sepsis_df[missing_verbal][['bcseye_adm', 'bcsmotor_adm']])"
   ]
  },
  {
   "cell_type": "markdown",
   "id": "832bc291-eadb-4605-a3ad-8fbdc6c6046a",
   "metadata": {},
   "source": [
    "* This code identifies all records where the verbal response (bcsverbal_adm) is missing and displays the corresponding eye and motor response values. It helps assess whether there is a consistent pattern that could be used to logically impute the missing verbal scores."
   ]
  },
  {
   "cell_type": "code",
   "execution_count": 109,
   "id": "39deb512-c7ac-4a02-95dd-526274a3d31c",
   "metadata": {},
   "outputs": [],
   "source": [
    "# Filter records with the same eye/motor scores to find the most frequent verbal response\n",
    "subgroup_mask = (\n",
    "    (sepsis_df['bcseye_adm'] == 'Watches or follows') & \n",
    "    (sepsis_df['bcsmotor_adm'] == 'Withdraws limb from painful stimulus')\n",
    ")\n",
    "mode_verbal = sepsis_df[subgroup_mask]['bcsverbal_adm'].mode()[0]  # Most common in this subgroup\n",
    "\n",
    "# Apply to missing cases\n",
    "sepsis_df.loc[[507, 1205], 'bcsverbal_adm'] = mode_verbal"
   ]
  },
  {
   "cell_type": "markdown",
   "id": "5b651d96-e126-47fc-8827-106cdc9ccc5e",
   "metadata": {},
   "source": [
    "* This code filters the dataset to records where both the eye and motor responses match the specified clinical patterns. It then identifies the most common (modal) verbal response within that subgroup. This modal value is then used to fill in the missing verbal response entries (rows 507 and 1205), ensuring the imputation is clinically consistent."
   ]
  },
  {
   "cell_type": "markdown",
   "id": "302dd3a4-3496-4a4d-84ca-93815f2fecb1",
   "metadata": {},
   "source": [
    "#### Imputing 'hivstatus_adm' column"
   ]
  },
  {
   "cell_type": "code",
   "execution_count": 110,
   "id": "1daaa2e0-bdfe-4b11-a095-3eef544fb6ea",
   "metadata": {},
   "outputs": [],
   "source": [
    "sepsis_df['hivstatus_adm'] = sepsis_df['hivstatus_adm'].fillna('NotTested')"
   ]
  },
  {
   "cell_type": "markdown",
   "id": "128bd2ba-4953-4ecf-b19d-f295e6e0d7b8",
   "metadata": {},
   "source": [
    "* The column **'hivstatus\\_adm'** was imputed with **'NotTested'** since it was challenging to reliably estimate the missing values using the same or related columns."
   ]
  },
  {
   "cell_type": "markdown",
   "id": "6302a522-0f00-4359-b30b-2d97c13d0fc5",
   "metadata": {},
   "source": [
    "#### Imputing 'hctpretransfusion_adm' column"
   ]
  },
  {
   "cell_type": "code",
   "execution_count": 111,
   "id": "490b3b86-d7a4-4057-9bc4-87d50a091c72",
   "metadata": {},
   "outputs": [
    {
     "data": {
      "text/plain": [
       "Text(0.5, 1.0, 'Boxplot of Hematocrit by Pre-Transfusion Status')"
      ]
     },
     "execution_count": 111,
     "metadata": {},
     "output_type": "execute_result"
    },
    {
     "data": {
      "image/png": "[encoded data removed]",
      "text/plain": [
       "<Figure size 640x480 with 1 Axes>"
      ]
     },
     "metadata": {},
     "output_type": "display_data"
    }
   ],
   "source": [
    "sns.boxplot(sepsis_df,x=\"hctpretransfusion_adm\",y=\"hematocrit_gpdl_adm\")\n",
    "plt.title(\"Boxplot of Hematocrit by Pre-Transfusion Status\")"
   ]
  },
  {
   "cell_type": "code",
   "execution_count": 112,
   "id": "8e52ecd4-efdf-4000-8dae-d99a576ac499",
   "metadata": {},
   "outputs": [],
   "source": [
    "# First, calculate mode (most frequent value)\n",
    "mode_value = sepsis_df['hctpretransfusion_adm'].mode()[0]\n",
    "\n",
    "# Define custom function\n",
    "def impute_hctpretransfusion(row):\n",
    "    if pd.isna(row['hctpretransfusion_adm']):\n",
    "        if row['hematocrit_gpdl_adm'] < 10 or row['hematocrit_gpdl_adm'] > 50:\n",
    "            return 'Yes'\n",
    "        else:\n",
    "            return mode_value\n",
    "    else:\n",
    "        return row['hctpretransfusion_adm']\n",
    "\n",
    "# Apply the function to fill missing values\n",
    "sepsis_df['hctpretransfusion_adm'] = sepsis_df.apply(impute_hctpretransfusion,axis=1)"
   ]
  },
  {
   "cell_type": "markdown",
   "id": "fdbfc0e2-8bf2-4bb4-a379-385305ed87ce",
   "metadata": {},
   "source": [
    "* **\"hctpretransfusion\\_adm\"** was imputed using a **distribution-based method** guided by a box plot analysis. Since the upper whisker for “No” responses was around 50 and the lower whisker around 10 (based on hematocrit values), missing entries with hematocrit values outside this range were classified as **\"Yes\"**. The remaining missing values were filled using the **mode**."
   ]
  },
  {
   "cell_type": "markdown",
   "id": "bcaaa316-e457-4383-9840-d2bcee848fd6",
   "metadata": {},
   "source": [
    "#### Imputing columns that do not need Logical Imputing with Mode"
   ]
  },
  {
   "cell_type": "code",
   "execution_count": 113,
   "id": "7ab8f3e3-980e-4749-8deb-dd31c0b97417",
   "metadata": {
    "scrolled": true
   },
   "outputs": [],
   "source": [
    "# List of categorical columns to exclude from imputation\n",
    "exclude_cat_cols = ['bcseye_adm', 'bcsverbal_adm', 'hivstatus_adm', 'hctpretransfusion_adm']\n",
    "\n",
    "# Select categorical columns with missing values\n",
    "cat_cols_with_na = [col for col in sepsis_df.select_dtypes(include='object').columns \n",
    "                    if sepsis_df[col].isna().sum() > 0]\n",
    "\n",
    "# Drop excluded columns\n",
    "filtered_cat_cols = [col for col in cat_cols_with_na if col not in exclude_cat_cols]\n",
    "\n",
    "# Impute remaining categorical columns with mode\n",
    "for col in filtered_cat_cols:\n",
    "    mode_val = sepsis_df[col].mode(dropna=True)[0]\n",
    "    sepsis_df[col] = sepsis_df[col].fillna(mode_val)"
   ]
  },
  {
   "cell_type": "markdown",
   "id": "e473b98d-d8ba-4599-bcdd-5f9729e8f0c9",
   "metadata": {},
   "source": [
    "### Checking for Missing Values after Imputation is done"
   ]
  },
  {
   "cell_type": "code",
   "execution_count": 114,
   "id": "c4b01339-d848-43bf-837d-b538dde3f74d",
   "metadata": {},
   "outputs": [
    {
     "data": {
      "text/plain": [
       "studyid_adm                      0\n",
       "agecalc_adm                      0\n",
       "height_cm_adm                    0\n",
       "weight_kg_adm                    0\n",
       "muac_mm_adm                      0\n",
       "hr_bpm_adm                       0\n",
       "rr_brpm_app_adm                  0\n",
       "sysbp_mmhg_adm                   0\n",
       "diasbp_mmhg_adm                  0\n",
       "temp_c_adm                       0\n",
       "spo2site1_pc_oxi_adm             0\n",
       "spo2site2_pc_oxi_adm             0\n",
       "momage_adm                       0\n",
       "momagefirstpreg_adm              0\n",
       "householdsize_adm                0\n",
       "alivechildren_adm                0\n",
       "deadchildren_adm                 0\n",
       "hematocrit_gpdl_adm              0\n",
       "lactate_mmolpl_adm               0\n",
       "glucose_mmolpl_adm               0\n",
       "sqi1_perc_oxi_adm                0\n",
       "sqi2_perc_oxi_adm                0\n",
       "sex_adm                          0\n",
       "spo2onoxy_adm                    0\n",
       "oxygenavail_adm                  0\n",
       "respdistress_adm                 0\n",
       "caprefill_adm                    0\n",
       "bcseye_adm                       0\n",
       "bcsmotor_adm                     0\n",
       "bcsverbal_adm                    0\n",
       "bcgscar_adm                      0\n",
       "vaccmeasles_adm                  0\n",
       "vaccpneumoc_adm                  0\n",
       "vaccpneumocsource_adm            0\n",
       "vaccdpt_adm                      0\n",
       "vaccdptsource_adm                0\n",
       "priorweekabx_adm                 0\n",
       "priorweekantimal_adm             0\n",
       "symptoms_adm___1                 0\n",
       "symptoms_adm___2                 0\n",
       "symptoms_adm___3                 0\n",
       "symptoms_adm___4                 0\n",
       "symptoms_adm___5                 0\n",
       "symptoms_adm___6                 0\n",
       "symptoms_adm___7                 0\n",
       "symptoms_adm___8                 0\n",
       "symptoms_adm___9                 0\n",
       "symptoms_adm___10                0\n",
       "symptoms_adm___11                0\n",
       "symptoms_adm___12                0\n",
       "symptoms_adm___13                0\n",
       "symptoms_adm___14                0\n",
       "symptoms_adm___15                0\n",
       "symptoms_adm___16                0\n",
       "symptoms_adm___18                0\n",
       "comorbidity_adm___1              0\n",
       "comorbidity_adm___2              0\n",
       "comorbidity_adm___3              0\n",
       "comorbidity_adm___4              0\n",
       "comorbidity_adm___5              0\n",
       "comorbidity_adm___6              0\n",
       "comorbidity_adm___7              0\n",
       "comorbidity_adm___8              0\n",
       "comorbidity_adm___9              0\n",
       "comorbidity_adm___10             0\n",
       "comorbidity_adm___11             0\n",
       "comorbidity_adm___12             0\n",
       "priorhosp_adm                    0\n",
       "prioryearwheeze_adm              0\n",
       "prioryearcough_adm               0\n",
       "diarrheaoften_adm                0\n",
       "tbcontact_adm                    0\n",
       "feedingstatus_adm                0\n",
       "exclbreastfed_adm                0\n",
       "totalbreastfed_adm               0\n",
       "deliveryloc_adm                  0\n",
       "birthattend_adm                  0\n",
       "duedateknown_adm                 0\n",
       "birthdetail_adm___1              0\n",
       "birthdetail_adm___2              0\n",
       "birthdetail_adm___3              0\n",
       "birthdetail_adm___4              0\n",
       "birthdetail_adm___5              0\n",
       "birthdetail_adm___6              0\n",
       "travelmethod_adm                 0\n",
       "traveldist_adm                   0\n",
       "badhealthduration_adm            0\n",
       "caregiverage_adm                 0\n",
       "caregivermarried_adm             0\n",
       "momalive_adm                     0\n",
       "momageknown_adm                  0\n",
       "momagefirstpregknown_adm         0\n",
       "momedu_adm                       0\n",
       "momhiv_adm                       0\n",
       "watersource_adm                  0\n",
       "waterpure_adm                    0\n",
       "cookfuel_adm___1                 0\n",
       "cookfuel_adm___2                 0\n",
       "cookfuel_adm___3                 0\n",
       "cookfuel_adm___4                 0\n",
       "cookfuel_adm___5                 0\n",
       "cookfuel_adm___6                 0\n",
       "cookfuel_adm___7                 0\n",
       "cookloc_adm                      0\n",
       "lightfuel_adm                    0\n",
       "tobacco_adm                      0\n",
       "bednet_adm                       0\n",
       "hctpretransfusion_adm            0\n",
       "hivstatus_adm                    0\n",
       "malariastatuspos_adm             0\n",
       "lengthadm                        0\n",
       "caregiver_adm_new                0\n",
       "inhospital_mortality             0\n",
       "age_months_rounded               0\n",
       "who_median_height                0\n",
       "who_median_height_boys           0\n",
       "agecalc_adm_rounded              0\n",
       "who_median_muac                  0\n",
       "who_median_muac_who              0\n",
       "age_group                        0\n",
       "shockindex_heart_rate_sbp_adm    0\n",
       "high_risk                        0\n",
       "age_group2                       0\n",
       "dtype: int64"
      ]
     },
     "execution_count": 114,
     "metadata": {},
     "output_type": "execute_result"
    }
   ],
   "source": [
    "sepsis_df.isnull().sum()"
   ]
  },
  {
   "cell_type": "markdown",
   "id": "f142be77-a3b2-450a-9d1a-2fa474e68717",
   "metadata": {},
   "source": [
    "* Observation : All columns do not contain missing value."
   ]
  },
  {
   "cell_type": "markdown",
   "id": "735dcf34-59d7-4234-86af-d533f8782a96",
   "metadata": {},
   "source": [
    "### Now we drop the columns that were added during the cleaning process"
   ]
  },
  {
   "cell_type": "code",
   "execution_count": 115,
   "id": "1052b453-e25b-4ffa-83c2-5ac3ecbd71b0",
   "metadata": {},
   "outputs": [],
   "source": [
    "# sepsis_df.columns.get_loc('inhospital_mortality')\n",
    "sepsis_df = sepsis_df.drop(sepsis_df.columns[113:], axis=1)"
   ]
  },
  {
   "cell_type": "markdown",
   "id": "43f02fbf-251d-494f-8f62-4d7e174066c1",
   "metadata": {},
   "source": [
    "#### *Saving the Cleaned DataSet in a New CSV file*"
   ]
  },
  {
   "cell_type": "code",
   "execution_count": 116,
   "id": "9dbb18cc-0c18-4048-8ccd-8e1980387913",
   "metadata": {},
   "outputs": [],
   "source": [
    "# sepsis_df.to_csv(\"sepsis_cleaned.csv\", index=False)"
   ]
  },
  {
   "cell_type": "markdown",
   "id": "a43ed36d-3575-41d5-9d14-a26a720fcbe4",
   "metadata": {},
   "source": [
    "### Hypothesis Testing\n",
    "\n",
    "To better understand which features are potentially associated with **in-hospital mortality**, we performed hypothesis testing for both **categorical** and **continuous** variables. This helps us identify variables that exhibit statistically significant differences between patients who **survived (0)** and those who **died (1)** during hospitalization.\n",
    "\n",
    "---\n",
    "\n",
    "#### Categorical Features – Chi-Square Test of Independence\n",
    "\n",
    "This test evaluates whether there is a significant association between each categorical variable and the target outcome.\n",
    "\n",
    "- **Null Hypothesis (H₀):** There is no association between the categorical feature and in-hospital mortality.  \n",
    "- **Alternative Hypothesis (H₁):** There is a significant association between the categorical feature and in-hospital mortality.\n",
    "\n",
    "---\n",
    "\n",
    "#### Continuous Features – Mann-Whitney U Test\n",
    "\n",
    "This non-parametric test is used to compare the distributions of two independent groups. It is preferred here due to the likely non-normal distribution of clinical measurements.\n",
    "\n",
    "- **Null Hypothesis (H₀):** The distributions of the continuous variable are equal for survivors and non-survivors.  \n",
    "- **Alternative Hypothesis (H₁):** The distributions of the continuous variable differ between survivors and non-survivors.\n",
    "\n",
    "---\n",
    "\n",
    "By identifying features with **low p-values** (typically **p < 0.01**), we can prioritize them in downstream modeling, as they may hold predictive value for mortality outcomes.\n",
    "\n"
   ]
  },
  {
   "cell_type": "code",
   "execution_count": 117,
   "id": "3e5b3836-5090-4fd7-a57f-372f0971c403",
   "metadata": {},
   "outputs": [
    {
     "name": "stdout",
     "output_type": "stream",
     "text": [
      "\n",
      "--- Chi-Square Test Results ---\n",
      "sex_adm: p-value = 0.5463\n",
      "spo2onoxy_adm: p-value = 0.0000\n",
      "oxygenavail_adm: p-value = 0.0000\n",
      "respdistress_adm: p-value = 0.0002\n",
      "caprefill_adm: p-value = 0.0064\n",
      "bcseye_adm: p-value = 0.0000\n",
      "bcsmotor_adm: p-value = 0.0000\n",
      "bcsverbal_adm: p-value = 0.0000\n",
      "bcgscar_adm: p-value = 0.0002\n",
      "vaccmeasles_adm: p-value = 0.8093\n",
      "vaccpneumoc_adm: p-value = 0.0492\n",
      "vaccpneumocsource_adm: p-value = 0.9819\n",
      "vaccdpt_adm: p-value = 0.0303\n",
      "vaccdptsource_adm: p-value = 0.7855\n",
      "priorweekabx_adm: p-value = 0.9838\n",
      "priorweekantimal_adm: p-value = 0.7438\n",
      "symptoms_adm___1: p-value = 0.8541\n",
      "symptoms_adm___2: p-value = 0.0919\n",
      "symptoms_adm___3: p-value = 0.0365\n",
      "symptoms_adm___4: p-value = 0.1887\n",
      "symptoms_adm___5: p-value = 0.9805\n",
      "symptoms_adm___6: p-value = 0.7932\n",
      "symptoms_adm___7: p-value = 0.3056\n",
      "symptoms_adm___8: p-value = 0.6099\n",
      "symptoms_adm___9: p-value = 0.6950\n",
      "symptoms_adm___10: p-value = 0.7872\n",
      "symptoms_adm___11: p-value = 0.7196\n",
      "symptoms_adm___12: p-value = 0.5825\n",
      "symptoms_adm___13: p-value = 1.0000\n",
      "symptoms_adm___14: p-value = 0.0001\n",
      "symptoms_adm___15: p-value = 0.0000\n",
      "symptoms_adm___16: p-value = 0.7991\n",
      "comorbidity_adm___1: p-value = 0.8088\n",
      "comorbidity_adm___2: p-value = 1.0000\n",
      "comorbidity_adm___3: p-value = 1.0000\n",
      "comorbidity_adm___5: p-value = 0.1148\n",
      "comorbidity_adm___6: p-value = 0.9645\n",
      "comorbidity_adm___7: p-value = 0.1129\n",
      "comorbidity_adm___8: p-value = 1.0000\n",
      "comorbidity_adm___9: p-value = 1.0000\n",
      "comorbidity_adm___10: p-value = 0.0144\n",
      "comorbidity_adm___11: p-value = 0.2102\n",
      "comorbidity_adm___12: p-value = 0.4654\n",
      "priorhosp_adm: p-value = 0.0387\n",
      "prioryearwheeze_adm: p-value = 0.3286\n",
      "prioryearcough_adm: p-value = 0.2718\n",
      "diarrheaoften_adm: p-value = 0.0063\n",
      "tbcontact_adm: p-value = 0.9278\n",
      "feedingstatus_adm: p-value = 0.0000\n",
      "exclbreastfed_adm: p-value = 0.0487\n",
      "totalbreastfed_adm: p-value = 0.0018\n",
      "deliveryloc_adm: p-value = 0.0870\n",
      "birthattend_adm: p-value = 0.3591\n",
      "duedateknown_adm: p-value = 0.9241\n",
      "birthdetail_adm___1: p-value = 0.3663\n",
      "birthdetail_adm___2: p-value = 0.8986\n",
      "birthdetail_adm___3: p-value = 0.7022\n",
      "birthdetail_adm___4: p-value = 0.4469\n",
      "birthdetail_adm___5: p-value = 1.0000\n",
      "birthdetail_adm___6: p-value = 0.7991\n",
      "travelmethod_adm: p-value = 0.4160\n",
      "traveldist_adm: p-value = 0.2841\n",
      "badhealthduration_adm: p-value = 0.1562\n",
      "caregiverage_adm: p-value = 0.9928\n",
      "caregivermarried_adm: p-value = 0.0008\n",
      "momalive_adm: p-value = 1.0000\n",
      "momageknown_adm: p-value = 0.1359\n",
      "momagefirstpregknown_adm: p-value = 0.8210\n",
      "momedu_adm: p-value = 0.9716\n",
      "momhiv_adm: p-value = 0.1189\n",
      "watersource_adm: p-value = 0.3706\n",
      "waterpure_adm: p-value = 0.0050\n",
      "cookfuel_adm___1: p-value = 1.0000\n",
      "cookfuel_adm___2: p-value = 0.2757\n",
      "cookfuel_adm___3: p-value = 0.7388\n",
      "cookfuel_adm___4: p-value = 0.3358\n",
      "cookfuel_adm___5: p-value = 0.2450\n",
      "cookfuel_adm___6: p-value = 0.3083\n",
      "cookfuel_adm___7: p-value = 0.6214\n",
      "cookloc_adm: p-value = 0.6817\n",
      "lightfuel_adm: p-value = 0.4326\n",
      "tobacco_adm: p-value = 0.0310\n",
      "bednet_adm: p-value = 0.0023\n",
      "hctpretransfusion_adm: p-value = 0.0062\n",
      "hivstatus_adm: p-value = 0.0438\n",
      "malariastatuspos_adm: p-value = 0.3491\n",
      "caregiver_adm_new: p-value = 0.4686\n",
      "\n",
      "--- Mann-Whitney U Test Results ---\n",
      "studyid_adm: p-value = 0.8853\n",
      "agecalc_adm: p-value = 0.9968\n",
      "height_cm_adm: p-value = 0.2235\n",
      "weight_kg_adm: p-value = 0.0041\n",
      "muac_mm_adm: p-value = 0.0032\n",
      "hr_bpm_adm: p-value = 0.2516\n",
      "rr_brpm_app_adm: p-value = 0.0790\n",
      "sysbp_mmhg_adm: p-value = 0.1424\n",
      "diasbp_mmhg_adm: p-value = 0.2097\n",
      "temp_c_adm: p-value = 0.1450\n",
      "spo2site1_pc_oxi_adm: p-value = 0.2565\n",
      "spo2site2_pc_oxi_adm: p-value = 0.1975\n",
      "momage_adm: p-value = 0.0152\n",
      "momagefirstpreg_adm: p-value = 0.1331\n",
      "householdsize_adm: p-value = 0.9525\n",
      "alivechildren_adm: p-value = 0.5765\n",
      "deadchildren_adm: p-value = 0.3246\n",
      "hematocrit_gpdl_adm: p-value = 0.0335\n",
      "lactate_mmolpl_adm: p-value = 0.0019\n",
      "glucose_mmolpl_adm: p-value = 0.0586\n",
      "sqi1_perc_oxi_adm: p-value = 0.8305\n",
      "sqi2_perc_oxi_adm: p-value = 0.8297\n",
      "lengthadm: p-value = 0.1838\n"
     ]
    }
   ],
   "source": [
    "# Separate the target\n",
    "target = 'inhospital_mortality'\n",
    "\n",
    "# 1. Identify categorical and continuous features (excluding target)\n",
    "categorical_features = sepsis_df.select_dtypes(include=['object', 'category', 'bool']).columns.tolist()\n",
    "continuous_features = sepsis_df.select_dtypes(include=['int64', 'float64']).drop(columns=[target]).columns.tolist()\n",
    "\n",
    "# 2. Chi-square test for categorical features\n",
    "print(\"\\n--- Chi-Square Test Results ---\")\n",
    "for col in categorical_features:\n",
    "    contingency_table = pd.crosstab(sepsis_df[col], sepsis_df[target])\n",
    "    if contingency_table.shape[0] > 1:\n",
    "        chi2, p, dof, _ = stats.chi2_contingency(contingency_table)\n",
    "        print(f\"{col}: p-value = {p:.4f}\")\n",
    "\n",
    "# 3. Mann-Whitney U Test for continuous features (non-parametric)\n",
    "print(\"\\n--- Mann-Whitney U Test Results ---\")\n",
    "for col in continuous_features:\n",
    "    survived = sepsis_df[sepsis_df[target] == 0][col]\n",
    "    died = sepsis_df[sepsis_df[target] == 1][col]\n",
    "    u_stat, p_value = stats.mannwhitneyu(survived, died, alternative='two-sided')\n",
    "    print(f\"{col}: p-value = {p_value:.4f}\")\n"
   ]
  },
  {
   "cell_type": "markdown",
   "id": "e13b4c1b-9f1f-4bb5-8ef4-61b618c2a673",
   "metadata": {},
   "source": [
    "#### Identifying Significant Columns based on p values"
   ]
  },
  {
   "cell_type": "code",
   "execution_count": 118,
   "id": "27effd25-24a9-44b2-8c7a-d884a54fe965",
   "metadata": {},
   "outputs": [
    {
     "name": "stdout",
     "output_type": "stream",
     "text": [
      "Total insignificant features (p < 0.01): 20\n",
      "['spo2onoxy_adm', 'oxygenavail_adm', 'respdistress_adm', 'caprefill_adm', 'bcseye_adm', 'bcsmotor_adm', 'bcsverbal_adm', 'bcgscar_adm', 'symptoms_adm___14', 'symptoms_adm___15', 'diarrheaoften_adm', 'feedingstatus_adm', 'totalbreastfed_adm', 'caregivermarried_adm', 'waterpure_adm', 'bednet_adm', 'hctpretransfusion_adm', 'weight_kg_adm', 'muac_mm_adm', 'lactate_mmolpl_adm']\n"
     ]
    }
   ],
   "source": [
    "# 1. Separate categorical and continuous features\n",
    "target = 'inhospital_mortality'\n",
    "categorical_features = sepsis_df.select_dtypes(include=['object', 'category', 'bool']).columns.tolist()\n",
    "continuous_features = sepsis_df.select_dtypes(include=['int64', 'float64']).drop(columns=[target]).columns.tolist()\n",
    "\n",
    "# 2. Chi-Square test for categorical features\n",
    "significant_cat = []\n",
    "for col in categorical_features:\n",
    "    contingency = pd.crosstab(sepsis_df[col], sepsis_df[target])\n",
    "    if contingency.shape[0] > 1:\n",
    "        chi2, p, _, _ = stats.chi2_contingency(contingency)\n",
    "        if p < 0.01:\n",
    "            significant_cat.append(col)\n",
    "\n",
    "# 3. Mann-Whitney U Test for continuous features\n",
    "significant_cont = []\n",
    "for col in continuous_features:\n",
    "    group0 = sepsis_df[sepsis_df[target] == 0][col]\n",
    "    group1 = sepsis_df[sepsis_df[target] == 1][col]\n",
    "    try:\n",
    "        u_stat, p_value = stats.mannwhitneyu(group0, group1, alternative='two-sided')\n",
    "        if p_value < 0.01:\n",
    "            significant_cont.append(col)\n",
    "    except:\n",
    "        pass  # Skip if error due to too many NaNs or invalid inputs\n",
    "\n",
    "# 4. Combine and review\n",
    "significant_features = significant_cat + significant_cont\n",
    "print(f\"Total insignificant features (p < 0.01): {len(significant_features)}\")\n",
    "print(significant_features)"
   ]
  },
  {
   "cell_type": "markdown",
   "id": "0725bd8b-4680-4df7-ab4d-ccc64291d700",
   "metadata": {},
   "source": [
    "\n",
    "* After applying the Chi Square and Mann-Whitney U Test the following columns appeared as significant columns:\n",
    "\n",
    "*Categorical Variables*\n",
    "- 'spo2onoxy_adm'\n",
    "- 'oxygenavail_adm'\n",
    "- 'respdistress_adm'\n",
    "- 'caprefill_adm'\n",
    "- 'bcseye_adm'\n",
    "- 'bcsmotor_adm'\n",
    "- 'bcsverbal_adm'\n",
    "- 'bcgscar_adm'\n",
    "- 'symptoms_adm___14'\n",
    "- 'symptoms_adm___15'\n",
    "- 'diarrheaoften_adm'\n",
    "- 'feedingstatus_adm'\n",
    "- 'totalbreastfed_adm'\n",
    "- 'caregivermarried_adm'\n",
    "- 'waterpure_adm'\n",
    "- 'bednet_adm'\n",
    "- 'hctpretransfusion_adm'\n",
    "\n",
    " *Numerical Variables*\n",
    "- 'weight_kg_adm'\n",
    "- 'muac_mm_adm'\n",
    "- 'lactate_mmolpl_adm'\n"
   ]
  },
  {
   "cell_type": "markdown",
   "id": "7ca6cda7-9858-4e77-aa5b-a8958eef2720",
   "metadata": {},
   "source": [
    "___\n",
    "## Exploratory Data Analysis\n",
    "___"
   ]
  },
  {
   "cell_type": "markdown",
   "id": "5d6cae94-5168-42be-881e-c333127a673d",
   "metadata": {},
   "source": [
    "___\n",
    "### 1. Demographic Analysis\n",
    "___"
   ]
  },
  {
   "cell_type": "markdown",
   "id": "6a904eb9-164f-4e47-9bee-d4d3f25c7889",
   "metadata": {},
   "source": [
    "### *Distribution of age(in years)*"
   ]
  },
  {
   "cell_type": "code",
   "execution_count": 120,
   "id": "0b0151a0-8620-43a3-ad36-deb87575c220",
   "metadata": {},
   "outputs": [
    {
     "data": {
      "text/plain": [
       "Text(0, 0.5, 'Frequency')"
      ]
     },
     "execution_count": 120,
     "metadata": {},
     "output_type": "execute_result"
    },
    {
     "data": {
      "image/png": "[encoded data removed]",
      "text/plain": [
       "<Figure size 640x480 with 1 Axes>"
      ]
     },
     "metadata": {},
     "output_type": "display_data"
    }
   ],
   "source": [
    "plt.hist(sepsis_df[\"agecalc_adm\"]/12)\n",
    "plt.title(\"Distribution of age in years\")\n",
    "plt.xlabel(\"Age in years\")\n",
    "plt.ylabel(\"Frequency\")"
   ]
  },
  {
   "cell_type": "markdown",
   "id": "76148bcb-2742-42d5-ac72-8f52b75fa98e",
   "metadata": {},
   "source": [
    "___\n",
    "The plot displays a histogram showing the distribution of patient ages at admission, measured in years (`agecalc_adm`). The x-axis represents the age in years, and the y-axis represents the frequency or count of patients within each age bin.\n",
    "\n",
    "The histogram reveals a strong left-skewed distribution, indicating that the majority of patients admitted are in the younger age ranges.\n",
    "\n",
    "* The highest frequency of patients falls within the first bin, representing children likely under or around 1 year old.\n",
    "* The frequency of patients decreases steadily as age increases. Each subsequent age group has a progressively smaller number of patients compared to the preceding younger age group.\n",
    "* There are relatively few patients in the older age ranges depicted in the histogram (e.g., 4-5 years).\n",
    "\n",
    "In summary, the distribution of age at admission shows that the patient population is predominantly composed of younger children, with the number of admissions decreasing significantly with increasing age within the displayed range. This suggests that the study population might be focused on infants and very young children.___"
   ]
  },
  {
   "cell_type": "markdown",
   "id": "5b458d0b-d390-4629-b0e1-bc386feca738",
   "metadata": {},
   "source": [
    "### *Gender Distribution*"
   ]
  },
  {
   "cell_type": "code",
   "execution_count": 121,
   "id": "f40902b7-d459-486c-8166-1d810eee7a3a",
   "metadata": {},
   "outputs": [
    {
     "data": {
      "image/png": "[encoded data removed]",
      "text/plain": [
       "<Figure size 800x600 with 1 Axes>"
      ]
     },
     "metadata": {},
     "output_type": "display_data"
    }
   ],
   "source": [
    "gender_counts = sepsis_df['sex_adm'].value_counts()\n",
    "plt.figure(figsize=(8, 6))\n",
    "gender_counts.plot(kind='bar')\n",
    "plt.title('Gender Distribution')\n",
    "plt.xlabel('Gender')\n",
    "plt.ylabel('Count')\n",
    "plt.xticks(rotation=0)\n",
    "plt.show()"
   ]
  },
  {
   "cell_type": "markdown",
   "id": "f6d03d92-741e-47eb-a3d8-24af3ee954a7",
   "metadata": {},
   "source": [
    "___\n",
    "The plot displays a bar chart illustrating the gender distribution of the patients at admission, based on the variable `sex_adm` as described in the data dictionary. The x-axis represents the gender categories (\"Male\" and \"Female\"), and the y-axis represents the count or frequency of patients within each category.\n",
    "\n",
    "The bar chart shows the following:\n",
    "\n",
    "* The bar representing \"Male\" patients is taller than the bar representing \"Female\" patients.\n",
    "* The approximate count of male patients is around 1450.\n",
    "* The approximate count of female patients is around 1250.\n",
    "\n",
    "In summary, the gender distribution at admission indicates a slightly higher number of male patients compared to female patients within this dataset.\n",
    "___"
   ]
  },
  {
   "cell_type": "markdown",
   "id": "cd6a6156-89b7-4cd2-acb2-22bd6f4d3c5e",
   "metadata": {},
   "source": [
    "### *Vaccination Status*"
   ]
  },
  {
   "cell_type": "code",
   "execution_count": 122,
   "id": "b5485862-83f0-45a2-8f18-2ed2fb7fa727",
   "metadata": {},
   "outputs": [
    {
     "data": {
      "image/png": "[encoded data removed]",
      "text/plain": [
       "<Figure size 1500x1000 with 4 Axes>"
      ]
     },
     "metadata": {},
     "output_type": "display_data"
    }
   ],
   "source": [
    "vacc_cols = ['bcgscar_adm', 'vaccmeasles_adm', 'vaccpneumoc_adm', 'vaccdpt_adm']\n",
    "fig, axes = plt.subplots(2, 2, figsize=(15, 10))\n",
    "for col, ax in zip(vacc_cols, axes.flatten()):\n",
    "    sepsis_df[col].value_counts().plot(kind='bar', ax=ax)\n",
    "    ax.set_title(f'Distribution of {col}')\n",
    "    ax.set_xlabel('')\n",
    "plt.tight_layout()\n",
    "plt.show()"
   ]
  },
  {
   "cell_type": "markdown",
   "id": "36d9a06a-9938-4fdc-82cf-5ee75ba768d7",
   "metadata": {},
   "source": [
    "### **Encoding Categorical Variables**"
   ]
  },
  {
   "cell_type": "markdown",
   "id": "f6ed87bb-a7ba-4d51-a44d-a770e9e068a5",
   "metadata": {},
   "source": [
    "#### Understanding the Categorical Columns before Encoding"
   ]
  },
  {
   "cell_type": "code",
   "execution_count": 46,
   "id": "2737e336-55e6-45d6-b3b0-1f2fe1985db3",
   "metadata": {},
   "outputs": [
    {
     "name": "stdout",
     "output_type": "stream",
     "text": [
      "        Categorical Variable  Unique Values Count\n",
      "0          symptoms_adm___18                    1\n",
      "1        comorbidity_adm___4                    1\n",
      "2        comorbidity_adm___2                    2\n",
      "3        comorbidity_adm___3                    2\n",
      "4        comorbidity_adm___5                    2\n",
      "5        comorbidity_adm___6                    2\n",
      "6        comorbidity_adm___7                    2\n",
      "7        comorbidity_adm___8                    2\n",
      "8        comorbidity_adm___9                    2\n",
      "9       comorbidity_adm___10                    2\n",
      "10      comorbidity_adm___11                    2\n",
      "11      malariastatuspos_adm                    2\n",
      "12          duedateknown_adm                    2\n",
      "13       birthdetail_adm___1                    2\n",
      "14       birthdetail_adm___2                    2\n",
      "15       comorbidity_adm___1                    2\n",
      "16                   sex_adm                    2\n",
      "17       birthdetail_adm___5                    2\n",
      "18       birthdetail_adm___6                    2\n",
      "19              momalive_adm                    2\n",
      "20           momageknown_adm                    2\n",
      "21  momagefirstpregknown_adm                    2\n",
      "22             waterpure_adm                    2\n",
      "23          cookfuel_adm___1                    2\n",
      "24          cookfuel_adm___2                    2\n",
      "25          cookfuel_adm___3                    2\n",
      "26          cookfuel_adm___4                    2\n",
      "27          cookfuel_adm___5                    2\n",
      "28          cookfuel_adm___6                    2\n",
      "29          cookfuel_adm___7                    2\n",
      "30     hctpretransfusion_adm                    2\n",
      "31       birthdetail_adm___4                    2\n",
      "32       birthdetail_adm___3                    2\n",
      "33      comorbidity_adm___12                    2\n",
      "34         symptoms_adm___15                    2\n",
      "35             spo2onoxy_adm                    2\n",
      "36          respdistress_adm                    2\n",
      "37             caprefill_adm                    2\n",
      "38                bcseye_adm                    2\n",
      "39               bcgscar_adm                    2\n",
      "40     vaccpneumocsource_adm                    2\n",
      "41         symptoms_adm___16                    2\n",
      "42          symptoms_adm___1                    2\n",
      "43          symptoms_adm___2                    2\n",
      "44          symptoms_adm___3                    2\n",
      "45          symptoms_adm___4                    2\n",
      "46         vaccdptsource_adm                    2\n",
      "47          symptoms_adm___7                    2\n",
      "48          symptoms_adm___9                    2\n",
      "49         symptoms_adm___10                    2\n",
      "50         symptoms_adm___14                    2\n",
      "51         symptoms_adm___11                    2\n",
      "52         symptoms_adm___12                    2\n",
      "53         symptoms_adm___13                    2\n",
      "54          symptoms_adm___5                    2\n",
      "55          symptoms_adm___6                    2\n",
      "56          symptoms_adm___8                    2\n",
      "57             bcsverbal_adm                    3\n",
      "58              bcsmotor_adm                    3\n",
      "59          priorweekabx_adm                    3\n",
      "60                momhiv_adm                    3\n",
      "61           vaccmeasles_adm                    3\n",
      "62               cookloc_adm                    3\n",
      "63                bednet_adm                    3\n",
      "64             hivstatus_adm                    3\n",
      "65         feedingstatus_adm                    3\n",
      "66             tbcontact_adm                    3\n",
      "67         diarrheaoften_adm                    3\n",
      "68      priorweekantimal_adm                    3\n",
      "69           oxygenavail_adm                    4\n",
      "70        prioryearcough_adm                    4\n",
      "71         caregiver_adm_new                    4\n",
      "72       prioryearwheeze_adm                    4\n",
      "73          caregiverage_adm                    4\n",
      "74               vaccdpt_adm                    5\n",
      "75           vaccpneumoc_adm                    5\n",
      "76      caregivermarried_adm                    5\n",
      "77           deliveryloc_adm                    5\n",
      "78               tobacco_adm                    5\n",
      "79           birthattend_adm                    5\n",
      "80        totalbreastfed_adm                    6\n",
      "81           watersource_adm                    6\n",
      "82          travelmethod_adm                    6\n",
      "83     badhealthduration_adm                    6\n",
      "84                momedu_adm                    6\n",
      "85             priorhosp_adm                    6\n",
      "86            traveldist_adm                    7\n",
      "87             lightfuel_adm                    8\n",
      "88         exclbreastfed_adm                   10\n"
     ]
    }
   ],
   "source": [
    "# Identify categorical columns\n",
    "categorical_cols = sepsis_df.select_dtypes(include='object').columns\n",
    "\n",
    "# Count unique values in each categorical column\n",
    "cat_unique_counts = sepsis_df[categorical_cols].nunique().sort_values()\n",
    "\n",
    "# Create a summary DataFrame\n",
    "cat_summary = pd.DataFrame({\n",
    "    'Categorical Variable': cat_unique_counts.index,\n",
    "    'Unique Values Count': cat_unique_counts.values\n",
    "})\n",
    "\n",
    "# Display all rows\n",
    "pd.set_option('display.max_rows', None)\n",
    "\n",
    "# Print the full summary\n",
    "print(cat_summary)\n"
   ]
  },
  {
   "cell_type": "code",
   "execution_count": 47,
   "id": "6df3913e-69c4-4080-a1c7-ba1211a3ce1d",
   "metadata": {},
   "outputs": [
    {
     "name": "stdout",
     "output_type": "stream",
     "text": [
      "\n",
      "Column: sex_adm\n",
      "['Female' 'Male']\n",
      "\n",
      "Column: spo2onoxy_adm\n",
      "['No' 'Yes']\n",
      "\n",
      "Column: oxygenavail_adm\n",
      "['Oxygen available and not being used' 'Oxygen available and being used'\n",
      " 'Oxygen not available' 'Oxygen available but not enough']\n",
      "\n",
      "Column: respdistress_adm\n",
      "['No' 'Yes']\n",
      "\n",
      "Column: caprefill_adm\n",
      "['No' 'Yes']\n",
      "\n",
      "Column: bcseye_adm\n",
      "['Watches or follows' 'Fails to watch or follow']\n",
      "\n",
      "Column: bcsmotor_adm\n",
      "['Localizes painful stimulus' 'Withdraws limb from painful stimulus'\n",
      " 'No response or inappropriate response']\n",
      "\n",
      "Column: bcsverbal_adm\n",
      "['Cries appropriately with pain, or, if verbal, speaks'\n",
      " 'Moan or abnormal cry with pain' 'No vocal response to pain']\n",
      "\n",
      "Column: bcgscar_adm\n",
      "['Yes' 'No']\n",
      "\n",
      "Column: vaccmeasles_adm\n",
      "['Yes' 'No' 'Unknown']\n",
      "\n",
      "Column: vaccpneumoc_adm\n",
      "['3 doses' '2 doses' 'Unknown' '0 doses' '1 dose']\n",
      "\n",
      "Column: vaccpneumocsource_adm\n",
      "['Self report' 'Card']\n",
      "\n",
      "Column: vaccdpt_adm\n",
      "['3 doses' '2 doses' 'Unknown' '0 doses' '1 dose']\n",
      "\n",
      "Column: vaccdptsource_adm\n",
      "['Self report' 'Card']\n",
      "\n",
      "Column: priorweekabx_adm\n",
      "['Yes' 'No' 'Dont know']\n",
      "\n",
      "Column: priorweekantimal_adm\n",
      "['No' 'Yes' 'Dont know']\n",
      "\n",
      "Column: symptoms_adm___1\n",
      "['Unchecked' 'Checked']\n",
      "\n",
      "Column: symptoms_adm___2\n",
      "['Unchecked' 'Checked']\n",
      "\n",
      "Column: symptoms_adm___3\n",
      "['Unchecked' 'Checked']\n",
      "\n",
      "Column: symptoms_adm___4\n",
      "['Checked' 'Unchecked']\n",
      "\n",
      "Column: symptoms_adm___5\n",
      "['Unchecked' 'Checked']\n",
      "\n",
      "Column: symptoms_adm___6\n",
      "['Unchecked' 'Checked']\n",
      "\n",
      "Column: symptoms_adm___7\n",
      "['Unchecked' 'Checked']\n",
      "\n",
      "Column: symptoms_adm___8\n",
      "['Unchecked' 'Checked']\n",
      "\n",
      "Column: symptoms_adm___9\n",
      "['Unchecked' 'Checked']\n",
      "\n",
      "Column: symptoms_adm___10\n",
      "['Unchecked' 'Checked']\n",
      "\n",
      "Column: symptoms_adm___11\n",
      "['Unchecked' 'Checked']\n",
      "\n",
      "Column: symptoms_adm___12\n",
      "['Unchecked' 'Checked']\n",
      "\n",
      "Column: symptoms_adm___13\n",
      "['Unchecked' 'Checked']\n",
      "\n",
      "Column: symptoms_adm___14\n",
      "['Unchecked' 'Checked']\n",
      "\n",
      "Column: symptoms_adm___15\n",
      "['Unchecked' 'Checked']\n",
      "\n",
      "Column: symptoms_adm___16\n",
      "['Unchecked' 'Checked']\n",
      "\n",
      "Column: symptoms_adm___18\n",
      "['Unchecked']\n",
      "\n",
      "Column: comorbidity_adm___1\n",
      "['Unchecked' 'Checked']\n",
      "\n",
      "Column: comorbidity_adm___2\n",
      "['Unchecked' 'Checked']\n",
      "\n",
      "Column: comorbidity_adm___3\n",
      "['Unchecked' 'Checked']\n",
      "\n",
      "Column: comorbidity_adm___4\n",
      "['Unchecked']\n",
      "\n",
      "Column: comorbidity_adm___5\n",
      "['Unchecked' 'Checked']\n",
      "\n",
      "Column: comorbidity_adm___6\n",
      "['Unchecked' 'Checked']\n",
      "\n",
      "Column: comorbidity_adm___7\n",
      "['Unchecked' 'Checked']\n",
      "\n",
      "Column: comorbidity_adm___8\n",
      "['Unchecked' 'Checked']\n",
      "\n",
      "Column: comorbidity_adm___9\n",
      "['Unchecked' 'Checked']\n",
      "\n",
      "Column: comorbidity_adm___10\n",
      "['Unchecked' 'Checked']\n",
      "\n",
      "Column: comorbidity_adm___11\n",
      "['Checked' 'Unchecked']\n",
      "\n",
      "Column: comorbidity_adm___12\n",
      "['Unchecked' 'Checked']\n",
      "\n",
      "Column: priorhosp_adm\n",
      "['Never' '1 month - 1 year' '7 days - 1 month' '< 7 days' '> 1 year'\n",
      " 'Dont know']\n",
      "\n",
      "Column: prioryearwheeze_adm\n",
      "['No' 'Yes' 'Not applicable (< 6m old)' 'Dont know']\n",
      "\n",
      "Column: prioryearcough_adm\n",
      "['No' 'Yes' 'Not applicable (child < 6m old)' 'Dont know']\n",
      "\n",
      "Column: diarrheaoften_adm\n",
      "['No' 'Yes' 'Dont know']\n",
      "\n",
      "Column: tbcontact_adm\n",
      "['Yes' 'No' 'Dont know']\n",
      "\n",
      "Column: feedingstatus_adm\n",
      "['Feeding poorly' 'Not feeding at all' 'Feeding well']\n",
      "\n",
      "Column: exclbreastfed_adm\n",
      "['6 months' 'Unknown' '5 months' 'never exclusively breastfed' '3 months'\n",
      " '4 months' 'More than 6 months' '2 months' '1 month'\n",
      " 'Currently exclusively breastfed']\n",
      "\n",
      "Column: totalbreastfed_adm\n",
      "['>12 months' 'Still being breastfed' '7-12 months' '0-3 months'\n",
      " '4-6 months' 'Unknown']\n",
      "\n",
      "Column: deliveryloc_adm\n",
      "['Health centre' 'Hospital' 'Clinic' 'Home' 'Other']\n",
      "\n",
      "Column: birthattend_adm\n",
      "['Nurse / midwife' 'Doctor / Clinical officer'\n",
      " 'Traditional birth attendant' 'Relative' 'Other']\n",
      "\n",
      "Column: duedateknown_adm\n",
      "['Yes' 'No']\n",
      "\n",
      "Column: birthdetail_adm___1\n",
      "['Unchecked' 'Checked']\n",
      "\n",
      "Column: birthdetail_adm___2\n",
      "['Unchecked' 'Checked']\n",
      "\n",
      "Column: birthdetail_adm___3\n",
      "['Unchecked' 'Checked']\n",
      "\n",
      "Column: birthdetail_adm___4\n",
      "['Unchecked' 'Checked']\n",
      "\n",
      "Column: birthdetail_adm___5\n",
      "['Checked' 'Unchecked']\n",
      "\n",
      "Column: birthdetail_adm___6\n",
      "['Unchecked' 'Checked']\n",
      "\n",
      "Column: travelmethod_adm\n",
      "['Taxi/special hire' 'Motorcycle' 'Walking' 'Private vehicle' 'Ambulance'\n",
      " 'Other']\n",
      "\n",
      "Column: traveldist_adm\n",
      "['30 minutes - 1 hour' '4 - 8 hours' '1 - 2 hours' '2 - 3 hours'\n",
      " '< 30 minutes' '3 - 4 hours' '> 8 hours']\n",
      "\n",
      "Column: badhealthduration_adm\n",
      "['In good health prior to this illness' '< 1 week' '> 1 year'\n",
      " '1 month - 1 year' '1 week - 1 month' 'Unknown']\n",
      "\n",
      "Column: caregiverage_adm\n",
      "['> 18 years old' '> 50 years old' '< = 18 years old' 'N/A (in care)']\n",
      "\n",
      "Column: caregivermarried_adm\n",
      "['Married monogamous' 'Married polygamous' 'Widowed' 'Separated/divorced'\n",
      " 'Single']\n",
      "\n",
      "Column: momalive_adm\n",
      "['Yes' 'No']\n",
      "\n",
      "Column: momageknown_adm\n",
      "['Yes' 'No']\n",
      "\n",
      "Column: momagefirstpregknown_adm\n",
      "['Yes' 'No']\n",
      "\n",
      "Column: momedu_adm\n",
      "['Post secondary (including post S4 technical school)' 'S1-S6' 'P4-P7'\n",
      " '< = P3' 'No school' 'Dont know']\n",
      "\n",
      "Column: momhiv_adm\n",
      "['Negative' 'Positive' 'Unknown']\n",
      "\n",
      "Column: watersource_adm\n",
      "['Municipal water' 'Protected spring' 'Bore hole'\n",
      " 'Open source (unprotected, stagnant water, dam)' 'Fast running water'\n",
      " 'Slow running water']\n",
      "\n",
      "Column: waterpure_adm\n",
      "['Yes' 'No']\n",
      "\n",
      "Column: cookfuel_adm___1\n",
      "['Checked' 'Unchecked']\n",
      "\n",
      "Column: cookfuel_adm___2\n",
      "['Checked' 'Unchecked']\n",
      "\n",
      "Column: cookfuel_adm___3\n",
      "['Unchecked' 'Checked']\n",
      "\n",
      "Column: cookfuel_adm___4\n",
      "['Unchecked' 'Checked']\n",
      "\n",
      "Column: cookfuel_adm___5\n",
      "['Unchecked' 'Checked']\n",
      "\n",
      "Column: cookfuel_adm___6\n",
      "['Unchecked' 'Checked']\n",
      "\n",
      "Column: cookfuel_adm___7\n",
      "['Unchecked' 'Checked']\n",
      "\n",
      "Column: cookloc_adm\n",
      "['In a separate building/building space used as a kitchen'\n",
      " 'In the house where you sleep' 'Outdoors in the open']\n",
      "\n",
      "Column: lightfuel_adm\n",
      "['Electric bulbs (national grid)' 'Tadooba' 'Solar powered bulbs'\n",
      " 'Solar lantern' 'Battery-powered light' 'Other (specify):'\n",
      " 'Kerosene lamp' 'Candles']\n",
      "\n",
      "Column: tobacco_adm\n",
      "['Never' 'Daily' 'Weekly' 'Less than monthly' 'Monthly']\n",
      "\n",
      "Column: bednet_adm\n",
      "['Always' 'Sometimes' 'Never']\n",
      "\n",
      "Column: hctpretransfusion_adm\n",
      "['Yes' 'No']\n",
      "\n",
      "Column: hivstatus_adm\n",
      "['HIV negative' 'HIV positive' 'NotTested']\n",
      "\n",
      "Column: malariastatuspos_adm\n",
      "['No' 'Yes']\n",
      "\n",
      "Column: caregiver_adm_new\n",
      "['Mother' 'Grandparent' 'Father' 'Other']\n",
      "Total number of columns encoded: 89\n"
     ]
    }
   ],
   "source": [
    "# Display a few example values from each categorical column\n",
    "for col in categorical_cols:\n",
    "    print(f\"\\nColumn: {col}\")\n",
    "    print(sepsis_df[col].unique()[:10])  # Show up to 5 unique non-null values\n",
    "\n",
    "print(f\"Total number of columns encoded: {len(categorical_cols)}\")\n"
   ]
  },
  {
   "cell_type": "markdown",
   "id": "bf0a1e14-8a7b-4734-8b98-4a0f0500c93f",
   "metadata": {},
   "source": [
    "* In this project, we worked with a dataset that contains numerous categorical columns, many of which have binary or ordinal values. To efficiently transform these categorical features into numerical formats usable by machine learning models, we opted for Label Encoding and Ordinal Encoding, instead of One-Hot Encoding, for the following reasons:\n",
    "\n",
    "     #### ✅ *Reasons for Choosing Label and Ordinal Encoding*\n",
    "  \n",
    "\n",
    "\n",
    "**1. High Dimensionality Avoidance:**\n",
    "\n",
    "* One-hot encoding creates a new column for every category, which significantly increases the number of features when applied to many categorical variables (especially those with many unique values like symptoms, comorbidities, or delivery-related details).\n",
    "* This can lead to sparse and memory-inefficient datasets, making modeling and interpretation more complex.\n",
    "\n",
    "**2. Binary and Ordinal Variables:**\n",
    "\n",
    "* Many features in the dataset (e.g., Yes/No, Checked/Unchecked, or health status levels) are either binary or have a clear ordinal relationship (like symptom severity or education level).\n",
    "* For such variables, Label Encoding (for binary) and Ordinal Encoding (for ordered categories) are more appropriate and preserve the natural order of the values without unnecessary expansion.\n",
    "\n",
    "**3. Improved Model Efficiency:**\n",
    "\n",
    "* Tree-based models (e.g., Random Forests, XGBoost) and many other algorithms can natively handle label-encoded ordinal features well, as they do not assume equal distance between categories (unlike linear models).\n",
    "* This makes label/ordinal encoding both computationally efficient and compatible with many model types.\n",
    "\n",
    "**4. Domain Relevance:**\n",
    "\n",
    "* In healthcare data, some features have clinical meaning in their order (e.g., Feeding well, Feeding poorly, Not feeding at all). Using ordinal encoding respects this inherent structure, which one-hot encoding would ignore.\n",
    "\n",
    "     *🚫 Why Not One-Hot Encoding*\n",
    "\n",
    "* Leads to Feature Explosion: Many columns like symptoms, comorbidities, and cooking fuel types are already in multi-column format, and applying one-hot encoding again would duplicate or bloat the feature set unnecessarily.\n",
    "\n",
    "* Harder to Interpret: The model input becomes less interpretable with many sparse dummy variables.\n",
    "\n",
    "* Not Efficient for Modeling: Models may become slower and more prone to overfitting due to the large number of features created.\n",
    "\n"
   ]
  },
  {
   "cell_type": "markdown",
   "id": "8d9d438b-2406-4d38-88af-ebef5b58c61e",
   "metadata": {},
   "source": [
    "### Encoding Ordinal Variables"
   ]
  },
  {
   "cell_type": "markdown",
   "id": "7e349df2-163c-42e8-8a43-d3aa1038cd01",
   "metadata": {},
   "source": [
    "___\n",
    "*Ordinal encoding* was applied to several categorical columns in the Sepsis_df dataset. The encoding approach was based on assigning integer values in an order that reflects progression from the least favorable to the most favorable condition. The *smallest value (0)* was assigned to the *worst or least desirable condition, while the **largest value* was assigned to the *best or most desirable condition*.\n",
    "\n",
    "This method was chosen to preserve the inherent ordinal nature of certain variables, ensuring that their *relative severity, quality, or desirability* was maintained in numerical form.\n",
    "\n",
    "*Encoding Principle:*\n",
    "\n",
    "> Worst condition → 0\n",
    "> \n",
    "> Best condition → Highest number\n",
    "\n",
    "After each column was encoded, the original (uncoded) column was subsequently removed from the dataset.\n",
    "\n",
    "\n",
    "> Categories such as *'Don't know', **'N/A (in care)', **'Unknown', and **'Other'* represent uncertain or ambiguous information. To minimize the risk of *introducing noise* and *overvaluing uncertain data, all such categories were consistently assigned the **lowest ordinal value* during encoding.\n",
    "___\n",
    "\n"
   ]
  },
  {
   "cell_type": "markdown",
   "id": "ccab59d5-bc82-4203-aa89-4ae12fdbb59c",
   "metadata": {},
   "source": [
    "#### *Creating a copy of the original dataset before encoding*"
   ]
  },
  {
   "cell_type": "code",
   "execution_count": 990,
   "id": "e1d19314-d137-4205-8087-8a36fbfc4186",
   "metadata": {},
   "outputs": [],
   "source": [
    "sepsis_df_original=sepsis_df.copy()"
   ]
  },
  {
   "cell_type": "markdown",
   "id": "3ed62538-6049-4ec7-be76-84ed0faae5ce",
   "metadata": {},
   "source": [
    "##### **Encoding 'watersource_adm'**"
   ]
  },
  {
   "cell_type": "code",
   "execution_count": 48,
   "id": "7d7d94b2-0170-46c1-8211-60868ce0d826",
   "metadata": {},
   "outputs": [
    {
     "name": "stdout",
     "output_type": "stream",
     "text": [
      "0    5.0\n",
      "1    3.0\n",
      "2    4.0\n",
      "3    5.0\n",
      "4    5.0\n",
      "Name: watersource_adm_encoded, dtype: float64\n"
     ]
    }
   ],
   "source": [
    "# Define the custom order for water sources\n",
    "watersource_order = [\n",
    "    'Open source (unprotected, stagnant water, dam)',\n",
    "    'Slow running water',\n",
    "    'Fast running water',\n",
    "    'Protected spring',\n",
    "    'Bore hole',\n",
    "    'Municipal water'\n",
    "]\n",
    "\n",
    "# Initialize the OrdinalEncoder with the specified order\n",
    "encoder = OrdinalEncoder(categories=[watersource_order])\n",
    "\n",
    "# Reshape and encode the column\n",
    "sepsis_df['watersource_adm_encoded'] = encoder.fit_transform(\n",
    "    sepsis_df[['watersource_adm']]\n",
    ")\n",
    "#drop the original column\n",
    "sepsis_df=sepsis_df.drop(columns=[\"watersource_adm\"])\n",
    "# Optionally view the result\n",
    "print(sepsis_df['watersource_adm_encoded'].head())"
   ]
  },
  {
   "cell_type": "markdown",
   "id": "622e8c13-c36c-421e-9cb6-93ed4d25ca74",
   "metadata": {},
   "source": [
    "##### **Encoding \"vaccpneumoc_adm\"**"
   ]
  },
  {
   "cell_type": "code",
   "execution_count": 49,
   "id": "15a8d563-7612-4f3f-84be-d222c5db5e5a",
   "metadata": {},
   "outputs": [
    {
     "name": "stdout",
     "output_type": "stream",
     "text": [
      "0    4.0\n",
      "1    3.0\n",
      "2    4.0\n",
      "3    4.0\n",
      "4    4.0\n",
      "Name: vaccpneumoc_adm_encoded, dtype: float64\n"
     ]
    }
   ],
   "source": [
    "# Define the custom order for water sources\n",
    "vaccpneumoc_order = [\n",
    "    \"Unknown\",\n",
    "    '0 doses',\n",
    "    '1 dose',\n",
    "    '2 doses',\n",
    "    '3 doses'    \n",
    "]\n",
    "\n",
    "# Initialize the OrdinalEncoder with the specified order\n",
    "encoder = OrdinalEncoder(categories=[vaccpneumoc_order])\n",
    "\n",
    "# Reshape and encode the column\n",
    "sepsis_df['vaccpneumoc_adm_encoded'] = encoder.fit_transform(\n",
    "    sepsis_df[[\"vaccpneumoc_adm\"]]\n",
    ")\n",
    "#drop the original column\n",
    "sepsis_df=sepsis_df.drop(columns=[\"vaccpneumoc_adm\"])\n",
    "# Optionally view the result\n",
    "print(sepsis_df['vaccpneumoc_adm_encoded'].head())"
   ]
  },
  {
   "cell_type": "markdown",
   "id": "e8d2d242-75f1-4647-950c-c2b729b050b9",
   "metadata": {},
   "source": [
    "* \"Unknown\" is assigned the lowest rank in the ordinal encoding because it represents missing or unverified information. By placing it at the bottom, the model is less likely to interpret it as having clinical significance or progression compared to known vaccination levels."
   ]
  },
  {
   "cell_type": "markdown",
   "id": "8663cf03-3abd-488c-8f3d-23528ca7d8db",
   "metadata": {},
   "source": [
    "##### **Encoding \"vaccdpt_adm\"**"
   ]
  },
  {
   "cell_type": "code",
   "execution_count": 50,
   "id": "ae46fec5-3acc-4688-aeda-5dbf09f0e7ca",
   "metadata": {},
   "outputs": [
    {
     "name": "stdout",
     "output_type": "stream",
     "text": [
      "0    4.0\n",
      "1    3.0\n",
      "2    4.0\n",
      "3    4.0\n",
      "4    4.0\n",
      "Name: vaccdpt_adm_encoded, dtype: float64\n"
     ]
    }
   ],
   "source": [
    "# Define the custom order for water sources\n",
    "vaccdpt_order = [\n",
    "    \"Unknown\",\n",
    "    '0 doses',\n",
    "    '1 dose',\n",
    "    '2 doses',\n",
    "    '3 doses'    \n",
    "]\n",
    "\n",
    "# Initialize the OrdinalEncoder with the specified order\n",
    "encoder = OrdinalEncoder(categories=[vaccdpt_order])\n",
    "\n",
    "# Reshape and encode the column\n",
    "sepsis_df['vaccdpt_adm_encoded'] = encoder.fit_transform(\n",
    "    sepsis_df[[\"vaccdpt_adm\"]]\n",
    ")\n",
    "#drop the original column\n",
    "sepsis_df=sepsis_df.drop(columns=[\"vaccdpt_adm\"])\n",
    "# Optionally view the result\n",
    "print(sepsis_df['vaccdpt_adm_encoded'].head())"
   ]
  },
  {
   "cell_type": "markdown",
   "id": "29da0e8a-2c12-4a34-bcb4-f914e5b9e249",
   "metadata": {},
   "source": [
    "* \"Unknown\" is assigned the lowest rank in the ordinal encoding because it represents missing or unverified information. By placing it at the bottom, the model is less likely to interpret it as having clinical significance or progression compared to known vaccination levels."
   ]
  },
  {
   "cell_type": "markdown",
   "id": "e88071fa-f662-4212-93fb-462012e26a7f",
   "metadata": {},
   "source": [
    "##### **Encoding \"tobacco_adm\"**"
   ]
  },
  {
   "cell_type": "code",
   "execution_count": 51,
   "id": "625f5463-fcdd-448c-a30f-e5d878db30e1",
   "metadata": {},
   "outputs": [
    {
     "name": "stdout",
     "output_type": "stream",
     "text": [
      "0    0.0\n",
      "1    0.0\n",
      "2    0.0\n",
      "3    0.0\n",
      "4    0.0\n",
      "Name: tobacco_adm_encoded, dtype: float64\n"
     ]
    }
   ],
   "source": [
    "# Define the custom order for water sources\n",
    "tobacco_order = [\n",
    "    \"Never\",\n",
    "    'Daily',\n",
    "    'Weekly',\n",
    "    'Less than monthly',\n",
    "    'Monthly'    \n",
    "]\n",
    "\n",
    "# Initialize the OrdinalEncoder with the specified order\n",
    "encoder = OrdinalEncoder(categories=[tobacco_order])\n",
    "\n",
    "# Reshape and encode the column\n",
    "sepsis_df['tobacco_adm_encoded'] = encoder.fit_transform(\n",
    "    sepsis_df[['tobacco_adm']]\n",
    ")\n",
    "#drop the original column\n",
    "sepsis_df=sepsis_df.drop(columns=[\"tobacco_adm\"])\n",
    "# Optionally view the result\n",
    "print(sepsis_df['tobacco_adm_encoded'].head())"
   ]
  },
  {
   "cell_type": "markdown",
   "id": "dd7193fd-80b3-4d37-a2cd-f35a9a36a9aa",
   "metadata": {},
   "source": [
    "##### **Encoding \"traveldist_adm\"**"
   ]
  },
  {
   "cell_type": "code",
   "execution_count": 52,
   "id": "f4e6c1a7-e6e2-4167-bf3f-1319c752359f",
   "metadata": {},
   "outputs": [
    {
     "name": "stdout",
     "output_type": "stream",
     "text": [
      "0    1.0\n",
      "1    1.0\n",
      "2    5.0\n",
      "3    1.0\n",
      "4    1.0\n",
      "Name: traveldist_adm_encoded, dtype: float64\n"
     ]
    }
   ],
   "source": [
    "# Define the custom order for water sources\n",
    "traveldist_order = [\n",
    "    \"< 30 minutes\",\n",
    "    '30 minutes - 1 hour',\n",
    "    '1 - 2 hours',\n",
    "    '2 - 3 hours',\n",
    "    '3 - 4 hours',\n",
    "    \"4 - 8 hours\",\n",
    "    \"> 8 hours\"    \n",
    "]\n",
    "\n",
    "# Initialize the OrdinalEncoder with the specified order\n",
    "encoder = OrdinalEncoder(categories=[traveldist_order])\n",
    "\n",
    "# Reshape and encode the column\n",
    "sepsis_df['traveldist_adm_encoded'] = encoder.fit_transform(\n",
    "    sepsis_df[['traveldist_adm']]\n",
    ")\n",
    "#drop the original column\n",
    "sepsis_df=sepsis_df.drop(columns=[\"traveldist_adm\"])\n",
    "# Optionally view the result\n",
    "print(sepsis_df['traveldist_adm_encoded'].head())"
   ]
  },
  {
   "cell_type": "markdown",
   "id": "29bd2352-f4e9-459c-a8fb-d32e056a3fc4",
   "metadata": {},
   "source": [
    "##### **Encoding \"feedingstatus_adm\"**"
   ]
  },
  {
   "cell_type": "code",
   "execution_count": 53,
   "id": "de64863d-7b63-41b2-a34a-c4a3208d673b",
   "metadata": {},
   "outputs": [
    {
     "name": "stdout",
     "output_type": "stream",
     "text": [
      "0    1.0\n",
      "1    0.0\n",
      "2    1.0\n",
      "3    1.0\n",
      "4    1.0\n",
      "Name: feedingstatus_adm_encoded, dtype: float64\n"
     ]
    }
   ],
   "source": [
    "# Define the custom order for water sources\n",
    "feedingstatus_order = [\n",
    "    \"Not feeding at all\",\n",
    "    'Feeding poorly',\n",
    "    'Feeding well',\n",
    "       \n",
    "]\n",
    "\n",
    "# Initialize the OrdinalEncoder with the specified order\n",
    "encoder = OrdinalEncoder(categories=[feedingstatus_order])\n",
    "\n",
    "# Reshape and encode the column\n",
    "sepsis_df['feedingstatus_adm_encoded'] = encoder.fit_transform(\n",
    "    sepsis_df[['feedingstatus_adm']]\n",
    ")\n",
    "#drop the original column\n",
    "sepsis_df=sepsis_df.drop(columns=[\"feedingstatus_adm\"])\n",
    "# Optionally view the result\n",
    "print(sepsis_df['feedingstatus_adm_encoded'].head())"
   ]
  },
  {
   "cell_type": "markdown",
   "id": "02102f36-614a-4875-9888-5832998e9849",
   "metadata": {},
   "source": [
    "##### **Encoding \"deliveryloc_adm\"**"
   ]
  },
  {
   "cell_type": "code",
   "execution_count": 54,
   "id": "23542c5c-fe07-4ebc-b42e-ca9a521448e9",
   "metadata": {},
   "outputs": [
    {
     "name": "stdout",
     "output_type": "stream",
     "text": [
      "0    2.0\n",
      "1    4.0\n",
      "2    4.0\n",
      "3    4.0\n",
      "4    4.0\n",
      "Name: deliveryloc_adm_encoded, dtype: float64\n"
     ]
    }
   ],
   "source": [
    "# Define the custom order for water sources\n",
    "deliveryloc_order = [\n",
    "    \"Other\",\n",
    "    'Home',\n",
    "    'Health centre',\n",
    "    \"Clinic\",\n",
    "    \"Hospital\"\n",
    "       \n",
    "]\n",
    "\n",
    "# Initialize the OrdinalEncoder with the specified order\n",
    "encoder = OrdinalEncoder(categories=[deliveryloc_order])\n",
    "\n",
    "# Reshape and encode the column\n",
    "sepsis_df['deliveryloc_adm_encoded'] = encoder.fit_transform(\n",
    "    sepsis_df[['deliveryloc_adm']]\n",
    ")\n",
    "#drop the original column\n",
    "sepsis_df=sepsis_df.drop(columns=[\"deliveryloc_adm\"])\n",
    "# Optionally view the result\n",
    "print(sepsis_df['deliveryloc_adm_encoded'].head())"
   ]
  },
  {
   "cell_type": "markdown",
   "id": "57e3ed9d-8cfc-4eef-be9e-2b74624bdb23",
   "metadata": {},
   "source": [
    "* In this case, \"Other\" is placed at the lowest rank in the ordinal encoding because it typically represents delivery locations that fall outside of standard healthcare settings. These locations are generally less equipped or less formal, and assigning them the lowest rank reflects their lower expected quality or formality of care compared to hospitals, clinics, or health centers."
   ]
  },
  {
   "cell_type": "markdown",
   "id": "69472374-d57a-4c81-bc39-b25983b8d5e8",
   "metadata": {},
   "source": [
    "##### **Encoding \"birthattend_adm\"**"
   ]
  },
  {
   "cell_type": "code",
   "execution_count": 55,
   "id": "85de1e07-6f9e-4a6a-9707-06ed59e0ae58",
   "metadata": {},
   "outputs": [
    {
     "name": "stdout",
     "output_type": "stream",
     "text": [
      "0    3.0\n",
      "1    4.0\n",
      "2    3.0\n",
      "3    3.0\n",
      "4    3.0\n",
      "Name: birthattend_adm_encoded, dtype: float64\n"
     ]
    }
   ],
   "source": [
    "# Define the custom order for water sources\n",
    "birthattend_order = [\n",
    "    \"Other\",\n",
    "    'Relative',\n",
    "    'Traditional birth attendant',\n",
    "    \"Nurse / midwife\",\n",
    "    \"Doctor / Clinical officer\"\n",
    "       \n",
    "]\n",
    "\n",
    "# Initialize the OrdinalEncoder with the specified order\n",
    "encoder = OrdinalEncoder(categories=[birthattend_order])\n",
    "\n",
    "# Reshape and encode the column\n",
    "sepsis_df['birthattend_adm_encoded'] = encoder.fit_transform(\n",
    "    sepsis_df[['birthattend_adm']]\n",
    ")\n",
    "#drop the original column\n",
    "sepsis_df=sepsis_df.drop(columns=[\"birthattend_adm\"])\n",
    "# Optionally view the result\n",
    "print(sepsis_df['birthattend_adm_encoded'].head())"
   ]
  },
  {
   "cell_type": "markdown",
   "id": "4a1a3e8d-ec10-44ed-916d-0c71ad49714b",
   "metadata": {},
   "source": [
    "* In this encoding, \"Other\" is assigned the lowest rank because it indicates an undefined or unconventional birth attendant, potentially lacking medical training or standardized care practices. The ranking reflects an ascending order of professional medical expertise and reliability, with \"Doctor / Clinical officer\" at the top due to their advanced clinical qualifications, which are associated with safer delivery outcomes."
   ]
  },
  {
   "cell_type": "markdown",
   "id": "81c7cd9d-e194-47e7-a428-deedcc547ab4",
   "metadata": {},
   "source": [
    "##### **Encoding \"bcseye_adm\"**"
   ]
  },
  {
   "cell_type": "code",
   "execution_count": 56,
   "id": "9bb889bf-0cd8-4a3c-8d4b-de96d7b770a3",
   "metadata": {},
   "outputs": [
    {
     "name": "stdout",
     "output_type": "stream",
     "text": [
      "0    1.0\n",
      "1    1.0\n",
      "2    1.0\n",
      "3    1.0\n",
      "4    1.0\n",
      "Name: bcseye_adm_encoded, dtype: float64\n"
     ]
    }
   ],
   "source": [
    "# Define the custom order for water sources\n",
    "bcseye_order = [    \n",
    "    'Fails to watch or follow',\n",
    "    \"Watches or follows\"      \n",
    "]\n",
    "\n",
    "# Initialize the OrdinalEncoder with the specified order\n",
    "encoder = OrdinalEncoder(categories=[bcseye_order])\n",
    "\n",
    "# Reshape and encode the column\n",
    "sepsis_df['bcseye_adm_encoded'] = encoder.fit_transform(\n",
    "    sepsis_df[['bcseye_adm']]\n",
    ")\n",
    "#drop the original column\n",
    "sepsis_df=sepsis_df.drop(columns=[\"bcseye_adm\"])\n",
    "# Optionally view the result\n",
    "print(sepsis_df['bcseye_adm_encoded'].head())"
   ]
  },
  {
   "cell_type": "markdown",
   "id": "7b361b31-2b8a-4ec4-bd06-c091a8a3899f",
   "metadata": {},
   "source": [
    "##### **Encoding \"bcsmotor_adm\"**"
   ]
  },
  {
   "cell_type": "code",
   "execution_count": 57,
   "id": "1c392796-3b29-45b8-bd75-d778052c5af3",
   "metadata": {},
   "outputs": [
    {
     "name": "stdout",
     "output_type": "stream",
     "text": [
      "0    1.0\n",
      "1    1.0\n",
      "2    1.0\n",
      "3    1.0\n",
      "4    1.0\n",
      "Name: bcsmotor_adm_encoded, dtype: float64\n"
     ]
    }
   ],
   "source": [
    "# Define the custom order for water sources\n",
    "bcsmotor_order = [\n",
    "        'No response or inappropriate response',\n",
    "        \"Localizes painful stimulus\",\n",
    "        \"Withdraws limb from painful stimulus\"       \n",
    "]\n",
    "\n",
    "# Initialize the OrdinalEncoder with the specified order\n",
    "encoder = OrdinalEncoder(categories=[bcsmotor_order])\n",
    "\n",
    "# Reshape and encode the column\n",
    "sepsis_df['bcsmotor_adm_encoded'] = encoder.fit_transform(\n",
    "    sepsis_df[['bcsmotor_adm']]\n",
    ")\n",
    "#drop the original column\n",
    "sepsis_df=sepsis_df.drop(columns=[\"bcsmotor_adm\"])\n",
    "# Optionally view the result\n",
    "print(sepsis_df['bcsmotor_adm_encoded'].head())"
   ]
  },
  {
   "cell_type": "markdown",
   "id": "8f163e74-04b9-4474-8c27-3b035615f7f0",
   "metadata": {},
   "source": [
    "##### **Encoding 'exclbreastfed_adm'**"
   ]
  },
  {
   "cell_type": "code",
   "execution_count": 58,
   "id": "4730d5bd-dbc1-40fb-bca5-42f10e5004cf",
   "metadata": {},
   "outputs": [
    {
     "name": "stdout",
     "output_type": "stream",
     "text": [
      "  exclbreastfed_adm  exclbreastfed_adm_encoded\n",
      "0          6 months                        8.0\n",
      "1          6 months                        8.0\n",
      "2          6 months                        8.0\n",
      "3           Unknown                        0.0\n",
      "4          6 months                        8.0\n"
     ]
    }
   ],
   "source": [
    "# Define your order\n",
    "excl_breastfed_order = [\n",
    "    'Unknown',\n",
    "    'never exclusively breastfed',\n",
    "    '1 month',\n",
    "    '2 months',\n",
    "    '3 months',\n",
    "    '4 months',\n",
    "    '5 months',\n",
    "    'Currently exclusively breastfed',\n",
    "    '6 months',\n",
    "    'More than 6 months',\n",
    "]\n",
    "\n",
    "# Instantiate the encoder with the defined order\n",
    "encoder = OrdinalEncoder(categories=[excl_breastfed_order])\n",
    "\n",
    "# Apply encoding\n",
    "sepsis_df['exclbreastfed_adm_encoded'] = encoder.fit_transform(sepsis_df[['exclbreastfed_adm']])\n",
    "print(sepsis_df[['exclbreastfed_adm', 'exclbreastfed_adm_encoded']].head())\n",
    "sepsis_df=sepsis_df.drop(columns=[\"exclbreastfed_adm\"])"
   ]
  },
  {
   "cell_type": "markdown",
   "id": "79750a60-6e4f-4c75-9286-c55065759bff",
   "metadata": {},
   "source": [
    "* > **\"Currently exclusively breastfed\"** was placed just above **\"5 months\"** in the ordinal scale because the **youngest child admitted in the dataset was 5 months old**. This implies that the **minimum exclusive breastfeeding duration** for this group is at least 5 months, justifying its position above the 5-month category."
   ]
  },
  {
   "cell_type": "markdown",
   "id": "93da816b-c9e4-4c57-bcac-8064dd6cd430",
   "metadata": {},
   "source": [
    "##### **Encoding 'oxygenavail_adm'**"
   ]
  },
  {
   "cell_type": "code",
   "execution_count": 59,
   "id": "220f8e1d-efbb-451a-80bb-e034878ef271",
   "metadata": {},
   "outputs": [
    {
     "name": "stdout",
     "output_type": "stream",
     "text": [
      "                       oxygenavail_adm  oxygenavail_adm_encoded\n",
      "0  Oxygen available and not being used                      3.0\n",
      "1  Oxygen available and not being used                      3.0\n",
      "2  Oxygen available and not being used                      3.0\n",
      "3  Oxygen available and not being used                      3.0\n",
      "4  Oxygen available and not being used                      3.0\n"
     ]
    }
   ],
   "source": [
    "# Define the updated logical order from worst to best for oxygen availability\n",
    "oxygen_order_updated = [\n",
    "    'Oxygen not available',\n",
    "    'Oxygen available but not enough',\n",
    "    'Oxygen available and being used',\n",
    "    'Oxygen available and not being used'\n",
    "]\n",
    "\n",
    "# Initialize the OrdinalEncoder with the specified category order\n",
    "encoder = OrdinalEncoder(categories=[oxygen_order_updated])\n",
    "\n",
    "# Apply the encoder to the 'oxygenavail_adm' column and create a new encoded column\n",
    "sepsis_df['oxygenavail_adm_encoded'] = encoder.fit_transform(sepsis_df[['oxygenavail_adm']])\n",
    "\n",
    "# Display the original and encoded columns for verification\n",
    "print(sepsis_df[['oxygenavail_adm', 'oxygenavail_adm_encoded']].head())\n",
    "\n",
    "# Drop the original (non-encoded) column to clean up the dataset\n",
    "sepsis_df = sepsis_df.drop(columns=[\"oxygenavail_adm\"])"
   ]
  },
  {
   "cell_type": "markdown",
   "id": "4c88d43f-cd3b-46f4-961a-e9bcd47bf5b0",
   "metadata": {},
   "source": [
    "* > Taking into consideration that oxygen availability is a positive factor, the situation **\"Oxygen available and not being used\"** was interpreted as more favorable than **\"Oxygen available and being used\"**. This implies that the child was in better condition and did not require oxygen, despite its availability—indicating a less severe illness."
   ]
  },
  {
   "cell_type": "markdown",
   "id": "77934eb5-12c9-4259-8c89-e0f806cae457",
   "metadata": {},
   "source": [
    "##### **Encoding 'bcsverbal_adm'**"
   ]
  },
  {
   "cell_type": "code",
   "execution_count": 60,
   "id": "a3070126-52b4-4c41-af75-fd6e4f7631fd",
   "metadata": {},
   "outputs": [
    {
     "name": "stdout",
     "output_type": "stream",
     "text": [
      "                                       bcsverbal_adm  bcsverbal_adm_encoded\n",
      "0  Cries appropriately with pain, or, if verbal, ...                    2.0\n",
      "1  Cries appropriately with pain, or, if verbal, ...                    2.0\n",
      "2  Cries appropriately with pain, or, if verbal, ...                    2.0\n",
      "3  Cries appropriately with pain, or, if verbal, ...                    2.0\n",
      "4  Cries appropriately with pain, or, if verbal, ...                    2.0\n"
     ]
    }
   ],
   "source": [
    "# Define the logical order (worst → best) for the 'bcsverbal_adm' categories\n",
    "verbal_order = [\n",
    "    'No vocal response to pain',\n",
    "    'Moan or abnormal cry with pain',\n",
    "    'Cries appropriately with pain, or, if verbal, speaks'\n",
    "]\n",
    "\n",
    "encoder = OrdinalEncoder(categories=[verbal_order])\n",
    "\n",
    "sepsis_df['bcsverbal_adm_encoded'] = encoder.fit_transform(sepsis_df[['bcsverbal_adm']])\n",
    "\n",
    "# Display the original and encoded columns for verification\n",
    "print(sepsis_df[['bcsverbal_adm', 'bcsverbal_adm_encoded']].head())\n",
    "\n",
    "# Drop the original (non-encoded) column to clean up the dataset\n",
    "sepsis_df = sepsis_df.drop(columns=[\"bcsverbal_adm\"])"
   ]
  },
  {
   "cell_type": "markdown",
   "id": "83d32b0b-cf7b-44aa-81cf-41b06536e84a",
   "metadata": {},
   "source": [
    "##### **Encoding 'priorhosp_adm'**"
   ]
  },
  {
   "cell_type": "code",
   "execution_count": 61,
   "id": "9d376903-5618-4459-bd4b-c882f80f1419",
   "metadata": {},
   "outputs": [
    {
     "name": "stdout",
     "output_type": "stream",
     "text": [
      "      priorhosp_adm  priorhosp_adm_encoded\n",
      "0             Never                    5.0\n",
      "1             Never                    5.0\n",
      "2  1 month - 1 year                    2.0\n",
      "3  7 days - 1 month                    3.0\n",
      "4  7 days - 1 month                    3.0\n"
     ]
    }
   ],
   "source": [
    "# Define the logical order (worst → best)\n",
    "priorhosp_order = [\n",
    "    'Dont know',\n",
    "    '> 1 year',\n",
    "    '1 month - 1 year',\n",
    "    '7 days - 1 month',\n",
    "    '< 7 days',\n",
    "    'Never'\n",
    "]\n",
    "\n",
    "encoder = OrdinalEncoder(categories=[priorhosp_order])\n",
    "\n",
    "sepsis_df['priorhosp_adm_encoded'] = encoder.fit_transform(sepsis_df[['priorhosp_adm']])\n",
    "# Display the original and encoded columns for verification\n",
    "print(sepsis_df[['priorhosp_adm', 'priorhosp_adm_encoded']].head())\n",
    "\n",
    "# Drop the original (non-encoded) column to clean up the dataset\n",
    "sepsis_df = sepsis_df.drop(columns=[\"priorhosp_adm\"])"
   ]
  },
  {
   "cell_type": "markdown",
   "id": "f17be4d9-808c-4ab1-939f-536f995ee40f",
   "metadata": {},
   "source": [
    "##### **Encoding 'totalbreastfed_adm'**"
   ]
  },
  {
   "cell_type": "code",
   "execution_count": 62,
   "id": "785054df-0504-41e6-ac19-8c56d1b4ee2b",
   "metadata": {},
   "outputs": [
    {
     "name": "stdout",
     "output_type": "stream",
     "text": [
      "      totalbreastfed_adm  totalbreastfed_adm_encoded\n",
      "0             >12 months                         5.0\n",
      "1  Still being breastfed                         2.0\n",
      "2  Still being breastfed                         2.0\n",
      "3             >12 months                         5.0\n",
      "4  Still being breastfed                         2.0\n"
     ]
    }
   ],
   "source": [
    "# Define the logical order (worst → best)\n",
    "breastfeeding_order = ['Unknown', '0-3 months','Still being breastfed', '4-6 months', '7-12 months', '>12 months']\n",
    "\n",
    "# Initialize the OrdinalEncoder with the specified categories\n",
    "encoder = OrdinalEncoder(categories=[breastfeeding_order])\n",
    "\n",
    "# Apply the encoding to the 'totalbreastfed_adm' column\n",
    "sepsis_df['totalbreastfed_adm_encoded'] = encoder.fit_transform(sepsis_df[['totalbreastfed_adm']])\n",
    "print(sepsis_df[['totalbreastfed_adm', 'totalbreastfed_adm_encoded']].head())\n",
    "\n",
    "# Drop the original (non-encoded) column to clean up the dataset\n",
    "sepsis_df = sepsis_df.drop(columns=[\"totalbreastfed_adm\"])"
   ]
  },
  {
   "cell_type": "markdown",
   "id": "0a22e416-c324-4e15-8a05-bf67fbd1653d",
   "metadata": {},
   "source": [
    "* > **\"Still being breastfed\"** was placed just above **'0-3 months'** in the ordinal scale because the **youngest child admitted in the dataset was 5 months old**. While it could be reasonable for this category to fall after **'4-6 months'**, the **uncertainty of the data** regarding the exact breastfeeding duration could introduce noise into the model. As a result, this category was positioned above **'0-3 months'** to avoid overvaluing uncertain data."
   ]
  },
  {
   "cell_type": "markdown",
   "id": "559b94af-cb69-44ba-a7cf-d31a3287238d",
   "metadata": {},
   "source": [
    "##### **Encoding 'bednet_adm'**"
   ]
  },
  {
   "cell_type": "code",
   "execution_count": 63,
   "id": "69a79429-346f-405c-9b4e-a77ec1745b6e",
   "metadata": {},
   "outputs": [
    {
     "name": "stdout",
     "output_type": "stream",
     "text": [
      "  bednet_adm  bednet_adm_encoded\n",
      "0     Always                 2.0\n",
      "1     Always                 2.0\n",
      "2     Always                 2.0\n",
      "3     Always                 2.0\n",
      "4  Sometimes                 1.0\n"
     ]
    }
   ],
   "source": [
    "# Define the logical order (worst → best)\n",
    "bednet_order = ['Never', 'Sometimes', 'Always']\n",
    "\n",
    "# Initialize the OrdinalEncoder with the specified categories\n",
    "encoder = OrdinalEncoder(categories=[bednet_order])\n",
    "\n",
    "# Apply the encoding to the 'bednet_adm' column\n",
    "sepsis_df['bednet_adm_encoded'] = encoder.fit_transform(sepsis_df[['bednet_adm']])\n",
    "print(sepsis_df[['bednet_adm', 'bednet_adm_encoded']].head())\n",
    "\n",
    "# Drop the original (non-encoded) column to clean up the dataset\n",
    "sepsis_df = sepsis_df.drop(columns=[\"bednet_adm\"])"
   ]
  },
  {
   "cell_type": "markdown",
   "id": "bdb05743-23d8-4c83-b0df-2649e4ec889e",
   "metadata": {},
   "source": [
    "##### **Encoding 'badhealthduration_adm'**"
   ]
  },
  {
   "cell_type": "code",
   "execution_count": 64,
   "id": "bc857e99-fdbc-4789-8084-6696ea30b514",
   "metadata": {},
   "outputs": [
    {
     "name": "stdout",
     "output_type": "stream",
     "text": [
      "                  badhealthduration_adm  badhealthduration_adm_encoded\n",
      "0  In good health prior to this illness                            5.0\n",
      "1  In good health prior to this illness                            5.0\n",
      "2  In good health prior to this illness                            5.0\n",
      "3  In good health prior to this illness                            5.0\n",
      "4                              < 1 week                            4.0\n"
     ]
    }
   ],
   "source": [
    "# Define the corrected logical order\n",
    "badhealth_order = ['Unknown', '> 1 year', '1 month - 1 year', '1 week - 1 month', '< 1 week', 'In good health prior to this illness']\n",
    "\n",
    "# Initialize the OrdinalEncoder with the specified categories\n",
    "encoder = OrdinalEncoder(categories=[badhealth_order])\n",
    "\n",
    "# Apply the encoding to the 'badhealthduration_adm' column\n",
    "sepsis_df['badhealthduration_adm_encoded'] = encoder.fit_transform(sepsis_df[['badhealthduration_adm']])\n",
    "print(sepsis_df[['badhealthduration_adm', 'badhealthduration_adm_encoded']].head())\n",
    "\n",
    "# Drop the original (non-encoded) column to clean up the dataset\n",
    "sepsis_df = sepsis_df.drop(columns=[\"badhealthduration_adm\"])"
   ]
  },
  {
   "cell_type": "markdown",
   "id": "a8e55e66-4503-48b8-9f1c-d91c01b7efe2",
   "metadata": {},
   "source": [
    "##### **Encoding 'caregiverage_adm'**"
   ]
  },
  {
   "cell_type": "code",
   "execution_count": 65,
   "id": "da1fcf70-6fc2-408e-adc0-3cd1c82acc37",
   "metadata": {},
   "outputs": [
    {
     "name": "stdout",
     "output_type": "stream",
     "text": [
      "  caregiverage_adm  caregiverage_adm_encoded\n",
      "0   > 18 years old                       2.0\n",
      "1   > 18 years old                       2.0\n",
      "2   > 18 years old                       2.0\n",
      "3   > 18 years old                       2.0\n",
      "4   > 18 years old                       2.0\n"
     ]
    }
   ],
   "source": [
    "# Define the logical order for the caregiver age\n",
    "caregiver_age_order = ['N/A (in care)', '< = 18 years old', '> 18 years old', '> 50 years old']\n",
    "\n",
    "# Initialize the OrdinalEncoder with the specified categories\n",
    "encoder = OrdinalEncoder(categories=[caregiver_age_order])\n",
    "\n",
    "# Apply the encoding to the 'caregiverage_adm' column\n",
    "sepsis_df['caregiverage_adm_encoded'] = encoder.fit_transform(sepsis_df[['caregiverage_adm']])\n",
    "print(sepsis_df[['caregiverage_adm', 'caregiverage_adm_encoded']].head())\n",
    "\n",
    "# Drop the original (non-encoded) column to clean up the dataset\n",
    "sepsis_df = sepsis_df.drop(columns=[\"caregiverage_adm\"])"
   ]
  },
  {
   "cell_type": "markdown",
   "id": "7cb76549-fc7a-4282-ba6a-147d359eefd2",
   "metadata": {},
   "source": [
    "##### **Encoding 'momedu_adm'**"
   ]
  },
  {
   "cell_type": "code",
   "execution_count": 66,
   "id": "ae60676f-6c9e-4d56-97fb-f3f95f3122a6",
   "metadata": {},
   "outputs": [
    {
     "name": "stdout",
     "output_type": "stream",
     "text": [
      "                                          momedu_adm  momedu_adm_encoded\n",
      "0  Post secondary (including post S4 technical sc...                 5.0\n",
      "1  Post secondary (including post S4 technical sc...                 5.0\n",
      "2                                              S1-S6                 4.0\n",
      "3  Post secondary (including post S4 technical sc...                 5.0\n",
      "4                                              P4-P7                 3.0\n"
     ]
    }
   ],
   "source": [
    "# Define the logical order for education level\n",
    "education_order = ['Dont know','No school',  '< = P3', 'P4-P7', 'S1-S6', 'Post secondary (including post S4 technical school)']\n",
    "\n",
    "# Initialize the OrdinalEncoder with the specified categories\n",
    "encoder = OrdinalEncoder(categories=[education_order])\n",
    "\n",
    "# Apply the encoding to the 'momedu_adm' column\n",
    "sepsis_df['momedu_adm_encoded'] = encoder.fit_transform(sepsis_df[['momedu_adm']])\n",
    "\n",
    "print(sepsis_df[['momedu_adm', 'momedu_adm_encoded']].head())\n",
    "\n",
    "# Drop the original (non-encoded) column to clean up the dataset\n",
    "sepsis_df = sepsis_df.drop(columns=[\"momedu_adm\"])"
   ]
  },
  {
   "cell_type": "code",
   "execution_count": 67,
   "id": "f0bdcf52-264e-4a0d-8b26-7ea138985b06",
   "metadata": {},
   "outputs": [
    {
     "name": "stdout",
     "output_type": "stream",
     "text": [
      "\n",
      "Column: watersource_adm_encoded\n",
      "[5. 3. 4. 0. 2. 1.]\n",
      "\n",
      "Column: vaccpneumoc_adm_encoded\n",
      "[4. 3. 0. 1. 2.]\n",
      "\n",
      "Column: vaccdpt_adm_encoded\n",
      "[4. 3. 0. 1. 2.]\n",
      "\n",
      "Column: tobacco_adm_encoded\n",
      "[0. 1. 2. 3. 4.]\n",
      "\n",
      "Column: traveldist_adm_encoded\n",
      "[1. 5. 2. 3. 0. 4. 6.]\n",
      "\n",
      "Column: feedingstatus_adm_encoded\n",
      "[1. 0. 2.]\n",
      "\n",
      "Column: deliveryloc_adm_encoded\n",
      "[2. 4. 3. 1. 0.]\n",
      "\n",
      "Column: birthattend_adm_encoded\n",
      "[3. 4. 2. 1. 0.]\n",
      "\n",
      "Column: bcseye_adm_encoded\n",
      "[1. 0.]\n",
      "\n",
      "Column: bcsmotor_adm_encoded\n",
      "[1. 2. 0.]\n",
      "\n",
      "Column: exclbreastfed_adm_encoded\n",
      "[8. 0. 6. 1. 4. 5. 9. 3. 2. 7.]\n",
      "\n",
      "Column: oxygenavail_adm_encoded\n",
      "[3. 2. 0. 1.]\n",
      "\n",
      "Column: bcsverbal_adm_encoded\n",
      "[2. 1. 0.]\n",
      "\n",
      "Column: priorhosp_adm_encoded\n",
      "[5. 2. 3. 4. 1. 0.]\n",
      "\n",
      "Column: totalbreastfed_adm_encoded\n",
      "[5. 2. 4. 1. 3. 0.]\n",
      "\n",
      "Column: bednet_adm_encoded\n",
      "[2. 1. 0.]\n",
      "\n",
      "Column: badhealthduration_adm_encoded\n",
      "[5. 4. 1. 2. 3. 0.]\n",
      "\n",
      "Column: caregiverage_adm_encoded\n",
      "[2. 3. 1. 0.]\n",
      "\n",
      "Column: momedu_adm_encoded\n",
      "[5. 4. 3. 2. 1. 0.]\n",
      "Total number of columns encoded: 19\n"
     ]
    }
   ],
   "source": [
    "# List of already encoded columns\n",
    "already_encoded = [\n",
    "    'watersource_adm_encoded','vaccpneumoc_adm_encoded','vaccdpt_adm_encoded', 'tobacco_adm_encoded', 'traveldist_adm_encoded', 'feedingstatus_adm_encoded',\n",
    "    'deliveryloc_adm_encoded', 'birthattend_adm_encoded', 'bcseye_adm_encoded', 'bcsmotor_adm_encoded',\n",
    "    'exclbreastfed_adm_encoded', 'oxygenavail_adm_encoded', 'bcsverbal_adm_encoded',\n",
    "    'priorhosp_adm_encoded', 'totalbreastfed_adm_encoded', 'bednet_adm_encoded',\n",
    "    'badhealthduration_adm_encoded', 'caregiverage_adm_encoded', 'momedu_adm_encoded'\n",
    "]\n",
    "\n",
    "# Display a few example values from each categorical column\n",
    "for col in already_encoded:\n",
    "    print(f\"\\nColumn: {col}\")\n",
    "    print(sepsis_df[col].unique()[:10])  # Show up to 10 unique non-null values\n",
    "\n",
    "print(f\"Total number of columns encoded: {len(already_encoded)}\")"
   ]
  },
  {
   "cell_type": "markdown",
   "id": "b18592d9-3c12-4331-8f79-046beec21326",
   "metadata": {},
   "source": [
    "### Encoding Nominal Variables"
   ]
  },
  {
   "cell_type": "code",
   "execution_count": 68,
   "id": "b76cff3a-f505-4b9b-a7eb-69aac6180efa",
   "metadata": {},
   "outputs": [
    {
     "name": "stdout",
     "output_type": "stream",
     "text": [
      "Label encoding applied to the following columns:\n",
      "['sex_adm', 'spo2onoxy_adm', 'respdistress_adm', 'caprefill_adm', 'bcgscar_adm', 'vaccmeasles_adm', 'vaccpneumocsource_adm', 'vaccdptsource_adm', 'priorweekabx_adm', 'priorweekantimal_adm', 'symptoms_adm___1', 'symptoms_adm___2', 'symptoms_adm___3', 'symptoms_adm___4', 'symptoms_adm___5', 'symptoms_adm___6', 'symptoms_adm___7', 'symptoms_adm___8', 'symptoms_adm___9', 'symptoms_adm___10', 'symptoms_adm___11', 'symptoms_adm___12', 'symptoms_adm___13', 'symptoms_adm___14', 'symptoms_adm___15', 'symptoms_adm___16', 'symptoms_adm___18', 'comorbidity_adm___1', 'comorbidity_adm___2', 'comorbidity_adm___3', 'comorbidity_adm___4', 'comorbidity_adm___5', 'comorbidity_adm___6', 'comorbidity_adm___7', 'comorbidity_adm___8', 'comorbidity_adm___9', 'comorbidity_adm___10', 'comorbidity_adm___11', 'comorbidity_adm___12', 'prioryearwheeze_adm', 'prioryearcough_adm', 'diarrheaoften_adm', 'tbcontact_adm', 'duedateknown_adm', 'birthdetail_adm___1', 'birthdetail_adm___2', 'birthdetail_adm___3', 'birthdetail_adm___4', 'birthdetail_adm___5', 'birthdetail_adm___6', 'travelmethod_adm', 'caregivermarried_adm', 'momalive_adm', 'momageknown_adm', 'momagefirstpregknown_adm', 'momhiv_adm', 'waterpure_adm', 'cookfuel_adm___1', 'cookfuel_adm___2', 'cookfuel_adm___3', 'cookfuel_adm___4', 'cookfuel_adm___5', 'cookfuel_adm___6', 'cookfuel_adm___7', 'cookloc_adm', 'lightfuel_adm', 'hctpretransfusion_adm', 'hivstatus_adm', 'malariastatuspos_adm', 'caregiver_adm_new']\n"
     ]
    }
   ],
   "source": [
    "# List of already encoded columns\n",
    "already_encoded = [\n",
    "    'watersource_adm_encoded','vaccpneumoc_adm_encoded','vaccdpt_adm_encoded', 'tobacco_adm_encoded', 'traveldist_adm_encoded', 'feedingstatus_adm_encoded',\n",
    "    'deliveryloc_adm_encoded', 'birthattend_adm_encoded', 'bcseye_adm_encoded', 'bcsmotor_adm_encoded',\n",
    "    'exclbreastfed_adm_encoded', 'oxygenavail_adm_encoded', 'bcsverbal_adm_encoded',\n",
    "    'priorhosp_adm_encoded', 'totalbreastfed_adm_encoded', 'bednet_adm_encoded',\n",
    "    'badhealthduration_adm_encoded', 'caregiverage_adm_encoded', 'momedu_adm_encoded'\n",
    "]\n",
    "\n",
    "# Get all object or category dtype columns (i.e., categorical)\n",
    "nominal_cols = sepsis_df.select_dtypes(include=['object', 'category']).columns.tolist()\n",
    "\n",
    "# Filter to get columns that haven't been encoded yet\n",
    "to_encode = [col for col in nominal_cols if col not in already_encoded]\n",
    "\n",
    "# Apply LabelEncoder to each of these remaining columns\n",
    "le = LabelEncoder()\n",
    "for col in to_encode:\n",
    "    sepsis_df[col] = le.fit_transform(sepsis_df[col].astype(str))  # convert to string to handle 'Unknown' etc.\n",
    "\n",
    "print(\"Label encoding applied to the following columns:\")\n",
    "print(to_encode)"
   ]
  },
  {
   "cell_type": "code",
   "execution_count": 69,
   "id": "a4db8d3e-3f76-49d7-a08f-cb40cc1621a5",
   "metadata": {},
   "outputs": [
    {
     "name": "stdout",
     "output_type": "stream",
     "text": [
      "Total number of columns encoded: 70\n"
     ]
    }
   ],
   "source": [
    "print(f\"Total number of columns encoded: {len(to_encode)}\")"
   ]
  },
  {
   "cell_type": "markdown",
   "id": "290e075f-f8cd-4060-b4e8-cef61fd9a54f",
   "metadata": {},
   "source": [
    "#### *🧾 Why Label Encoding Was Applied to Remaining Categorical Columns*\n",
    "\n",
    "* After identifying a list of columns that were already encoded, we detected other categorical columns that still needed transformation. These remaining columns were non-numeric and not yet encoded, so we applied Label Encoding to convert them into numeric values.\n",
    "\n",
    "*Label Encoding was chosen here because:*\n",
    "\n",
    "* These columns lack a natural order, making one-hot encoding possible, but we avoided it to prevent dimensionality explosion.\n",
    "\n",
    "* The dataset already had many features, and label encoding ensures compactness without creating additional columns.\n",
    "\n",
    "* Most of these features are binary or have a limited number of categories, so label encoding is efficient and appropriate.\n",
    "\n"
   ]
  },
  {
   "cell_type": "code",
   "execution_count": 70,
   "id": "3e134577-aebf-4fb7-a814-3dcf24a21e5b",
   "metadata": {
    "scrolled": true
   },
   "outputs": [
    {
     "name": "stdout",
     "output_type": "stream",
     "text": [
      "\n",
      "sex_adm:\n",
      "   sex_adm\n",
      "0        0\n",
      "2        1\n",
      "\n",
      "spo2onoxy_adm:\n",
      "    spo2onoxy_adm\n",
      "0               0\n",
      "15              1\n",
      "\n",
      "respdistress_adm:\n",
      "    respdistress_adm\n",
      "0                  0\n",
      "15                 1\n",
      "\n",
      "caprefill_adm:\n",
      "   caprefill_adm\n",
      "0              0\n",
      "8              1\n",
      "\n",
      "bcgscar_adm:\n",
      "    bcgscar_adm\n",
      "17            0\n",
      "0             1\n",
      "\n",
      "vaccmeasles_adm:\n",
      "   vaccmeasles_adm\n",
      "2                0\n",
      "5                1\n",
      "0                2\n",
      "\n",
      "vaccpneumocsource_adm:\n",
      "    vaccpneumocsource_adm\n",
      "16                      0\n",
      "0                       1\n"
     ]
    }
   ],
   "source": [
    "for col in nominal_cols[:7]:  # Check first 7 as sample\n",
    "    print(f\"\\n{col}:\")\n",
    "    print(sepsis_df[[col]].drop_duplicates().sort_values(col))"
   ]
  },
  {
   "cell_type": "code",
   "execution_count": 72,
   "id": "bd518034-2a83-453c-ad57-f82016675947",
   "metadata": {},
   "outputs": [
    {
     "name": "stdout",
     "output_type": "stream",
     "text": [
      "   studyid_adm  agecalc_adm  height_cm_adm  weight_kg_adm  muac_mm_adm  \\\n",
      "0            1         16.8           79.8           11.6        150.0   \n",
      "1            2         46.1           93.0           13.6        151.0   \n",
      "2            3          7.9           68.2            8.2        148.0   \n",
      "3            4         38.2           95.0           12.0        138.0   \n",
      "4            5         16.1           83.0           12.0        165.0   \n",
      "5            6         29.6           84.0           10.0        138.0   \n",
      "6            7         45.1          102.2           11.0        145.0   \n",
      "\n",
      "   hr_bpm_adm  rr_brpm_app_adm  sysbp_mmhg_adm  diasbp_mmhg_adm  temp_c_adm  \\\n",
      "0       130.0             23.0            92.0             54.0        36.3   \n",
      "1       115.0             35.0            72.0             42.0        36.8   \n",
      "2       150.0             56.0            94.0             51.0        37.2   \n",
      "3       134.0             38.0            94.0             57.0        37.6   \n",
      "4       163.0             61.0           107.0             73.0        38.7   \n",
      "5       128.0             49.0            95.0             46.0        38.3   \n",
      "6       128.0             35.0            75.0             37.0        39.0   \n",
      "\n",
      "   ...  bcsmotor_adm_encoded  exclbreastfed_adm_encoded  \\\n",
      "0  ...                   1.0                        8.0   \n",
      "1  ...                   1.0                        8.0   \n",
      "2  ...                   1.0                        8.0   \n",
      "3  ...                   1.0                        0.0   \n",
      "4  ...                   1.0                        8.0   \n",
      "5  ...                   1.0                        8.0   \n",
      "6  ...                   1.0                        8.0   \n",
      "\n",
      "   oxygenavail_adm_encoded  bcsverbal_adm_encoded  priorhosp_adm_encoded  \\\n",
      "0                      3.0                    2.0                    5.0   \n",
      "1                      3.0                    2.0                    5.0   \n",
      "2                      3.0                    2.0                    2.0   \n",
      "3                      3.0                    2.0                    3.0   \n",
      "4                      3.0                    2.0                    3.0   \n",
      "5                      3.0                    2.0                    5.0   \n",
      "6                      3.0                    2.0                    5.0   \n",
      "\n",
      "   totalbreastfed_adm_encoded  bednet_adm_encoded  \\\n",
      "0                         5.0                 2.0   \n",
      "1                         2.0                 2.0   \n",
      "2                         2.0                 2.0   \n",
      "3                         5.0                 2.0   \n",
      "4                         2.0                 1.0   \n",
      "5                         5.0                 2.0   \n",
      "6                         5.0                 2.0   \n",
      "\n",
      "   badhealthduration_adm_encoded  caregiverage_adm_encoded  momedu_adm_encoded  \n",
      "0                            5.0                       2.0                 5.0  \n",
      "1                            5.0                       2.0                 5.0  \n",
      "2                            5.0                       2.0                 4.0  \n",
      "3                            5.0                       2.0                 5.0  \n",
      "4                            4.0                       2.0                 3.0  \n",
      "5                            5.0                       2.0                 3.0  \n",
      "6                            5.0                       2.0                 3.0  \n",
      "\n",
      "[7 rows x 113 columns]\n"
     ]
    }
   ],
   "source": [
    "#print(f\"Total number of total columns: {sepsis_df.columns}\")\n",
    "print(sepsis_df.head(7))"
   ]
  },
  {
   "cell_type": "markdown",
   "id": "b1c4d01b-b281-4ca1-b997-bb921eb19841",
   "metadata": {},
   "source": [
    "### Random Forest Feature Importance Analysis"
   ]
  },
  {
   "cell_type": "markdown",
   "id": "a42bc847-bbea-4fc0-8235-607c265fab57",
   "metadata": {},
   "source": [
    "* The discrepancy between your hypothesis test results and Random Forest feature importance is expected but needs careful interpretation. Here's why they differ and how to reconcile them:\n",
    "\n",
    "**Key Reasons for Differences**\r\n",
    "\n",
    "1. Different Statistical Approaches\n",
    "* Hypothesis Tests: Measure univariate associations (one feature vs. target)\n",
    "* Random Forest: Captures multivariate interactions (how features work together)\n",
    "\n",
    "2. Handling of Feature Interactions\n",
    "* A feature may appear insignificant in hypothesis tests but become critical in RF when combined with others (e.g., lactate + bcsmotor_adm).\n",
    "\n",
    "3. Class Imbalance Handling\n",
    "* Your RF uses class_weight='balanced', while hypothesis tests may not account for imbalance.\n",
    "* Encoding Differences\n",
    "* Hypothesis tests treat encoded features as numeric, while RF uses splits on encoded values. on encoded values."
   ]
  },
  {
   "cell_type": "code",
   "execution_count": 1045,
   "id": "87470853-fb63-4066-89e4-4033f891c3a1",
   "metadata": {},
   "outputs": [],
   "source": [
    "sepsis_df['inhospital_mortality'] = sepsis_df['inhospital_mortality'].astype(int)"
   ]
  },
  {
   "cell_type": "code",
   "execution_count": 1046,
   "id": "2835d7de-18e3-4160-bfa1-b24f1bd1562e",
   "metadata": {},
   "outputs": [],
   "source": [
    "# # Separate features (X) and target (y)\n",
    "# X = sepsis_df.drop(columns=['inhospital_mortality'])  # Assuming 'inhospital_mortality' is your target\n",
    "# y = sepsis_df['inhospital_mortality']\n",
    "\n",
    "# # Initialize and train Random Forest\n",
    "# rf = RandomForestClassifier(\n",
    "#     n_estimators=200,\n",
    "#     max_depth=10,\n",
    "#     class_weight='balanced',  # Handles class imbalance\n",
    "#     random_state=42\n",
    "# )\n",
    "# rf.fit(X, y)\n",
    "\n",
    "# # Get feature importances\n",
    "# importances = rf.feature_importances_\n",
    "# feature_names = X.columns"
   ]
  },
  {
   "cell_type": "code",
   "execution_count": 1047,
   "id": "d2ed32e2-9d89-4796-b556-10417a966262",
   "metadata": {},
   "outputs": [],
   "source": [
    "# # Sort features by importance\n",
    "# sorted_idx = np.argsort(importances)[-20:]  # Top 20 features\n",
    "# plt.figure(figsize=(10, 8))\n",
    "# plt.barh(range(len(sorted_idx)), importances[sorted_idx], align='center')\n",
    "# plt.yticks(range(len(sorted_idx)), [feature_names[i] for i in sorted_idx])\n",
    "# plt.xlabel(\"Random Forest Feature Importance\")\n",
    "# plt.title(\"Top 20 Predictive Features for Pediatric Sepsis Mortality\")\n",
    "# plt.tight_layout()\n",
    "# plt.show()"
   ]
  },
  {
   "cell_type": "code",
   "execution_count": 1048,
   "id": "61103826-b3ff-4033-a233-6a9184d80a70",
   "metadata": {},
   "outputs": [],
   "source": [
    "# # Step 1: Define features (X) and target (y)\n",
    "# X = sepsis_df.drop(columns='inhospital_mortality')  # Replace with actual target column\n",
    "# y = sepsis_df['inhospital_mortality']\n",
    "\n",
    "# # Step 2: Train-test split\n",
    "# X_train, X_test, y_train, y_test = train_test_split(X, y, test_size=0.2, random_state=42)\n",
    "\n",
    "# # Step 3: Initialize and fit RandomForest\n",
    "# rf_model = RandomForestClassifier(n_estimators=100, random_state=42)\n",
    "# rf_model.fit(X_train, y_train)\n",
    "\n",
    "# # Step 4: Get feature importances\n",
    "# importances = rf_model.feature_importances_\n",
    "# feature_names = X.columns\n",
    "# feature_importance_df = pd.DataFrame({\n",
    "#     'Feature': feature_names,\n",
    "#     'Importance': importances\n",
    "# }).sort_values(by='Importance', ascending=False)\n",
    "\n",
    "# # Step 5: Plot top 20 features\n",
    "# plt.figure(figsize=(10, 8))\n",
    "# sns.barplot(x='Importance', y='Feature', data=feature_importance_df.head(20), palette='viridis')\n",
    "# plt.title('Top 20 Important Features from Random Forest')\n",
    "# plt.xlabel('Importance Score')\n",
    "# plt.ylabel('Feature Name')\n",
    "# plt.tight_layout()\n",
    "# plt.show()\n"
   ]
  },
  {
   "cell_type": "code",
   "execution_count": 1049,
   "id": "005290ad-2b0b-4ed6-9924-8df6ae44b204",
   "metadata": {
    "scrolled": true
   },
   "outputs": [],
   "source": [
    "# # 1. Separate features and target\n",
    "# X = sepsis_df.drop(columns=['inhospital_mortality'])  # Replace with your actual target column name\n",
    "# y = sepsis_df['inhospital_mortality']\n",
    "\n",
    "# # 2. Fit Random Forest with class_weight='balanced' to handle class imbalance\n",
    "# rf = RandomForestClassifier(n_estimators=100, random_state=42, class_weight='balanced')\n",
    "# rf.fit(X, y)\n",
    "\n",
    "# # 3. Create DataFrame of feature importances\n",
    "# importances = rf.feature_importances_\n",
    "# features = X.columns\n",
    "# importance_df = pd.DataFrame({'Feature': features, 'Importance': importances})\n",
    "\n",
    "# # 4. Sort by importance\n",
    "# importance_df = importance_df.sort_values(by='Importance', ascending=False).reset_index(drop=True)\n",
    "\n",
    "# # 5. Display top 30 features\n",
    "# print(\"Top 30 Important Features:\")\n",
    "# print(importance_df.head(20))\n",
    "\n",
    "# # Optional: select top N features for modeling\n",
    "# top_n = 50\n",
    "# top_features = importance_df['Feature'].head(top_n).tolist()\n",
    "# X_top = X[top_features]  # This is the reduced feature set for further modeling\n"
   ]
  },
  {
   "cell_type": "code",
   "execution_count": 1050,
   "id": "79f190d7-de52-4db0-a8f5-9a161c6425e1",
   "metadata": {},
   "outputs": [],
   "source": [
    "# # Step 1: Drop unwanted symptom columns from sepsis_df\n",
    "# # Drop columns that start with 'symptoms_adm_' or 'symptoms_dis_'\n",
    "# sepsis_df = sepsis_df.drop(columns=[col for col in sepsis_df.columns if col.startswith('symptoms_adm_') or col.startswith('symptoms_dis_') or col.startswith('cookfuel_adm_') or col.startswith('comorbidity_adm_') or col.startswith('birthdetail_adm_')])"
   ]
  },
  {
   "cell_type": "code",
   "execution_count": 1051,
   "id": "9dbfa418-8583-41f1-8d1b-3a0153c397f2",
   "metadata": {
    "scrolled": true
   },
   "outputs": [],
   "source": [
    "# print(sepsis_df.dtypes.sort_index())\n"
   ]
  },
  {
   "cell_type": "markdown",
   "id": "04a2421f-94f9-49d1-9b0b-cf18c6574bd5",
   "metadata": {},
   "source": [
    "### Random Forest Predictive Model"
   ]
  },
  {
   "cell_type": "code",
   "execution_count": 1053,
   "id": "21294d37-d872-4ee2-8b6f-eec7064208d2",
   "metadata": {},
   "outputs": [],
   "source": [
    "# #sepsis_df.drop('studyid_adm', axis=1, inplace=True)\n",
    "\n",
    "# # 1. Define features and target\n",
    "# X = sepsis_df.drop(columns=['inhospital_mortality'])\n",
    "# y = sepsis_df['inhospital_mortality']\n",
    "\n",
    "# # 2. Initial RF to rank features\n",
    "# rf_initial = RandomForestClassifier(\n",
    "#     n_estimators=200,\n",
    "#     class_weight='balanced',\n",
    "#     random_state=42\n",
    "# )\n",
    "# rf_initial.fit(X, y)\n",
    "\n",
    "# # 3. Top 30 features\n",
    "# importance_df = pd.DataFrame({\n",
    "#     'Feature': X.columns,\n",
    "#     'Importance': rf_initial.feature_importances_\n",
    "# }).sort_values('Importance', ascending=False)\n",
    "\n",
    "# top_30_features = importance_df.head(30)['Feature'].tolist()\n",
    "# print(\"Top 30 features by importance:\")\n",
    "# print(top_30_features)\n",
    "\n",
    "# X_top = X[top_30_features]\n",
    "\n",
    "# # 4. Apply SMOTE to handle class imbalance\n",
    "# sm = SMOTE(random_state=42)\n",
    "# X_resampled, y_resampled = sm.fit_resample(X_top, y)\n",
    "\n",
    "# # 5. Train-test split (after resampling)\n",
    "# X_train, X_test, y_train, y_test = train_test_split(\n",
    "#     X_resampled, y_resampled, test_size=0.2, random_state=42, stratify=y_resampled\n",
    "# )\n",
    "\n",
    "# # 6. Train optimized RF\n",
    "# rf_final = RandomForestClassifier(\n",
    "#     n_estimators=200,\n",
    "#     max_depth=10,\n",
    "#     min_samples_split=5,\n",
    "#     class_weight='balanced',\n",
    "#     random_state=42\n",
    "# )\n",
    "# rf_final.fit(X_train, y_train)\n",
    "\n",
    "# # 7. Evaluate\n",
    "# y_pred = rf_final.predict(X_test)\n",
    "# y_proba = rf_final.predict_proba(X_test)[:, 1]\n",
    "\n",
    "# print(\"\\nFinal Model Performance (after SMOTE):\")\n",
    "# print(f\"AUC-ROC: {roc_auc_score(y_test, y_proba):.3f}\")\n",
    "# print(classification_report(y_test, y_pred))\n",
    "\n",
    "# # 8. Visualize Feature Importance\n",
    "# plt.figure(figsize=(10, 8))\n",
    "# sns.barplot(x='Importance', y='Feature', \n",
    "#             data=importance_df.head(30), \n",
    "#             palette='viridis')\n",
    "# plt.title('Top 30 Features by Importance')\n",
    "# plt.tight_layout()\n",
    "# plt.show()\n"
   ]
  },
  {
   "cell_type": "code",
   "execution_count": 1054,
   "id": "956f17e7-50b2-49ad-b5a4-d6752a57a77d",
   "metadata": {},
   "outputs": [],
   "source": [
    "# print(f\"Original samples: {len(y)}\")\n",
    "# print(f\"After SMOTE: {len(y_resampled)}\")\n",
    "# print(f\"Test set size: {len(y_test)}\")"
   ]
  },
  {
   "cell_type": "code",
   "execution_count": 1055,
   "id": "2da66e15-8b98-4c32-9b14-833a9fd571aa",
   "metadata": {},
   "outputs": [],
   "source": [
    "# # Try without SMOTE first\n",
    "# X_train, X_test, y_train, y_test = train_test_split(\n",
    "#     X_top, y, test_size=0.2, random_state=42, stratify=y\n",
    "# )\n",
    "# rf_final.fit(X_train, y_train)\n",
    "# # Re-evaluate"
   ]
  },
  {
   "cell_type": "code",
   "execution_count": 1056,
   "id": "c2faff09-80ef-448e-90e4-57fa840f98d1",
   "metadata": {},
   "outputs": [],
   "source": [
    "# train_sizes, train_scores, test_scores = learning_curve(\n",
    "#     rf_final, X_top, y, cv=5, n_jobs=-1\n",
    "# )\n",
    "# plt.plot(train_sizes, np.mean(train_scores, axis=1), label='Train')\n",
    "# plt.plot(train_sizes, np.mean(test_scores, axis=1), label='Test')"
   ]
  },
  {
   "cell_type": "code",
   "execution_count": 1057,
   "id": "aa54488d-00f6-402b-945d-daafb3a13609",
   "metadata": {},
   "outputs": [],
   "source": [
    "# 1. Drop unnecessary columns if needed\n",
    "sepsis_df.drop('studyid_adm', axis=1, inplace=True)"
   ]
  },
  {
   "cell_type": "code",
   "execution_count": 1058,
   "id": "43ee5020-756e-4e37-aa9e-1cd9eddaaa8e",
   "metadata": {},
   "outputs": [],
   "source": [
    "# # 1. Define features and target\n",
    "# X = sepsis_df.drop(columns=['inhospital_mortality'])\n",
    "# y = sepsis_df['inhospital_mortality']\n",
    "\n",
    "# # 2. Train-test split before any processing\n",
    "# X_train, X_test, y_train, y_test = train_test_split(\n",
    "#     X, y, test_size=0.2, random_state=42, stratify=y\n",
    "# )\n",
    "\n",
    "# # 3. Apply SMOTE only to training data\n",
    "# sm = SMOTE(random_state=42, sampling_strategy=0.8)  # Slightly undersample majority class\n",
    "# X_train_resampled, y_train_resampled = sm.fit_resample(X_train, y_train)\n",
    "\n",
    "# # 4. Feature selection using RF feature importance with cross-validation\n",
    "# rf_selector = RandomForestClassifier(\n",
    "#     n_estimators=100,\n",
    "#     class_weight='balanced_subsample',  # Different for each tree\n",
    "#     random_state=42\n",
    "# )\n",
    "\n",
    "# # Use RFECV for feature selection with cross-validation\n",
    "# from sklearn.feature_selection import RFECV\n",
    "# selector = RFECV(rf_selector, step=1, cv=StratifiedKFold(5), \n",
    "#                 scoring='recall', n_jobs=-1)\n",
    "# selector.fit(X_train_resampled, y_train_resampled)\n",
    "\n",
    "# selected_features = X.columns[selector.support_]\n",
    "# print(f\"Selected {len(selected_features)} features:\")\n",
    "# print(selected_features)\n",
    "\n",
    "# # 5. Optimized Random Forest with class weights\n",
    "# rf_final = RandomForestClassifier(\n",
    "#     n_estimators=200,\n",
    "#     max_depth=8,  # Slightly shallower to prevent overfitting\n",
    "#     min_samples_split=10,\n",
    "#     min_samples_leaf=5,\n",
    "#     class_weight={0: 1, 1: 3},  # Higher weight for positive class\n",
    "#     random_state=42\n",
    "# )\n",
    "\n",
    "# # 6. Cross-validate before final training\n",
    "# cv_scores = cross_val_score(rf_final, X_train_resampled[selected_features], \n",
    "#                            y_train_resampled, cv=5, scoring='recall')\n",
    "# print(f\"\\nCross-validated recall: {cv_scores.mean():.3f} ± {cv_scores.std():.3f}\")\n",
    "\n",
    "# # 7. Train final model\n",
    "# rf_final.fit(X_train_resampled[selected_features], y_train_resampled)\n",
    "\n",
    "# # 8. Evaluate on test set\n",
    "# y_pred = rf_final.predict(X_test[selected_features])\n",
    "# y_proba = rf_final.predict_proba(X_test[selected_features])[:, 1]\n",
    "\n",
    "# print(\"\\nTest Set Performance:\")\n",
    "# print(f\"AUC-ROC: {roc_auc_score(y_test, y_proba):.3f}\")\n",
    "# print(f\"Recall (Positive Class): {recall_score(y_test, y_pred, pos_label=1):.3f}\")\n",
    "# print(classification_report(y_test, y_pred))\n",
    "\n",
    "# # 9. Check for overfitting\n",
    "# train_recall = recall_score(y_train_resampled, \n",
    "#                           rf_final.predict(X_train_resampled[selected_features]), \n",
    "#                           pos_label=1)\n",
    "# test_recall = recall_score(y_test, y_pred, pos_label=1)\n",
    "\n",
    "# print(f\"\\nTrain Recall: {train_recall:.3f}, Test Recall: {test_recall:.3f}\")\n",
    "# print(f\"Difference: {abs(train_recall - test_recall):.3f} (should be < 0.15)\")\n",
    "\n",
    "# # 10. Adjust prediction threshold if needed (after model training)\n",
    "# from sklearn.metrics import precision_recall_curve\n",
    "\n",
    "# precisions, recalls, thresholds = precision_recall_curve(\n",
    "#     y_test, rf_final.predict_proba(X_test[selected_features])[:, 1])\n",
    "\n",
    "# # Find threshold that gives best recall while precision > 0.5\n",
    "# optimal_idx = np.argmax((recalls > 0.5) & (precisions > 0.3))\n",
    "# optimal_threshold = thresholds[optimal_idx]\n",
    "\n",
    "# print(f\"\\nOptimal threshold: {optimal_threshold:.3f}\")\n",
    "\n",
    "# # Make predictions with adjusted threshold\n",
    "# y_pred_adj = (rf_final.predict_proba(X_test[selected_features])[:, 1] >= optimal_threshold).astype(int)\n",
    "\n",
    "# print(\"\\nAdjusted Threshold Performance:\")\n",
    "# print(classification_report(y_test, y_pred_adj))"
   ]
  },
  {
   "cell_type": "markdown",
   "id": "6ba60e13-2444-45ca-b869-8879a08a0dd8",
   "metadata": {},
   "source": [
    "#### Dropping 'studyid_adm' column"
   ]
  },
  {
   "cell_type": "code",
   "execution_count": null,
   "id": "2c01a7b6-0d11-4c4e-81bb-206f6101b1da",
   "metadata": {},
   "outputs": [],
   "source": [
    "# sepsis_df.drop('studyid_adm', axis=1, inplace=True)"
   ]
  },
  {
   "cell_type": "markdown",
   "id": "e90bc7dd-f9ef-460e-afb4-fa5c11dc20d3",
   "metadata": {},
   "source": [
    "### Dropping Certain Columns not necessary for the model"
   ]
  },
  {
   "cell_type": "code",
   "execution_count": 1085,
   "id": "48f5a83c-8bb8-41f1-a392-1b8458f42c5c",
   "metadata": {},
   "outputs": [
    {
     "name": "stdout",
     "output_type": "stream",
     "text": [
      "Drop these low-variance columns:\n",
      "['symptoms_adm___5', 'symptoms_adm___15', 'symptoms_adm___16', 'symptoms_adm___18', 'comorbidity_adm___1', 'comorbidity_adm___2', 'comorbidity_adm___3', 'comorbidity_adm___4', 'comorbidity_adm___5', 'comorbidity_adm___6', 'comorbidity_adm___7', 'comorbidity_adm___8', 'comorbidity_adm___9', 'comorbidity_adm___10', 'comorbidity_adm___12', 'birthdetail_adm___2', 'birthdetail_adm___3', 'birthdetail_adm___4', 'birthdetail_adm___6', 'momalive_adm', 'cookfuel_adm___3', 'cookfuel_adm___4', 'cookfuel_adm___6', 'cookfuel_adm___7']\n"
     ]
    }
   ],
   "source": [
    "# Define the target column (we will exclude it from variance filtering)\n",
    "target_col = 'inhospital_mortality'\n",
    "\n",
    "# Get feature columns only (exclude target)\n",
    "feature_cols = [col for col in sepsis_df.columns if col != target_col]\n",
    "\n",
    "# Set the threshold (e.g., 3% for binary features → 0.0291 variance)\n",
    "threshold = 0.03\n",
    "var_threshold = threshold * (1 - threshold)\n",
    "\n",
    "# Apply VarianceThreshold\n",
    "selector = VarianceThreshold(threshold=var_threshold)\n",
    "selector.fit(sepsis_df[feature_cols])\n",
    "\n",
    "# Keep only high-variance columns\n",
    "selected_cols = sepsis_df[feature_cols].columns[selector.get_support()].tolist()\n",
    "\n",
    "# Ensure 'symptoms_adm_15' is retained even if it has low variance\n",
    "if 'symptoms_adm_15' not in selected_cols and 'symptoms_adm_15' in feature_cols:\n",
    "    selected_cols.append('symptoms_adm_15')\n",
    "\n",
    "# Columns to drop (excluding 'symptoms_adm_15' explicitly)\n",
    "dropped_cols = [col for col in feature_cols if col not in selected_cols and col != 'symptoms_adm_15']\n",
    "\n",
    "print(\"Drop these low-variance columns:\")\n",
    "print(dropped_cols)\n",
    "\n",
    "# Update the dataframe, keeping selected features and the target column\n",
    "sepsis_df = sepsis_df[selected_cols + [target_col]]\n"
   ]
  },
  {
   "cell_type": "code",
   "execution_count": 1090,
   "id": "ec543af3-b5d1-4ceb-b41c-787122aa7022",
   "metadata": {},
   "outputs": [
    {
     "name": "stdout",
     "output_type": "stream",
     "text": [
      "Top 30 features by importance:\n",
      "['bcsverbal_adm_encoded', 'oxygenavail_adm_encoded', 'bcseye_adm_encoded', 'feedingstatus_adm_encoded', 'bcsmotor_adm_encoded', 'travelmethod_adm', 'exclbreastfed_adm_encoded', 'deliveryloc_adm_encoded', 'muac_mm_adm', 'watersource_adm_encoded', 'priorweekantimal_adm', 'symptoms_adm___14', 'bcgscar_adm', 'bednet_adm_encoded', 'rr_brpm_app_adm', 'alivechildren_adm', 'lactate_mmolpl_adm', 'deadchildren_adm', 'sex_adm', 'cookfuel_adm___2', 'weight_kg_adm', 'vaccdpt_adm_encoded', 'hr_bpm_adm', 'malariastatuspos_adm', 'vaccpneumoc_adm_encoded', 'priorhosp_adm_encoded', 'temp_c_adm', 'agecalc_adm', 'sqi2_perc_oxi_adm', 'height_cm_adm']\n",
      "\n",
      "Best parameters for high recall: {'class_weight': 'balanced', 'max_depth': 10, 'min_samples_leaf': 1, 'min_samples_split': 2, 'n_estimators': 200}\n",
      "Threshold: 0.10, Precision: 0.080, Recall: 0.667, F2: 0.270\n",
      "Threshold: 0.15, Precision: 0.111, Recall: 0.625, F2: 0.325\n",
      "Threshold: 0.20, Precision: 0.106, Recall: 0.417, F2: 0.263\n",
      "\n",
      "Best threshold for high recall: 0.15\n",
      "\n",
      "Final Model Performance with Optimal Threshold:\n",
      "AUC-ROC: 0.752\n",
      "              precision    recall  f1-score   support\n",
      "\n",
      "           0       0.98      0.77      0.86       514\n",
      "           1       0.11      0.62      0.19        24\n",
      "\n",
      "    accuracy                           0.76       538\n",
      "   macro avg       0.54      0.70      0.52       538\n",
      "weighted avg       0.94      0.76      0.83       538\n",
      "\n",
      "\n",
      "Cross-Validation Results (SMOTE inside each fold):\n",
      "Mean Recall: 0.653 (±0.108)\n",
      "Mean Precision: 0.152 (±0.018)\n",
      "Mean F1: 0.245 (±0.028)\n",
      "Mean AUC-ROC: 0.827 (±0.040)\n"
     ]
    },
    {
     "data": {
      "image/png": "[encoded data removed]",
      "text/plain": [
       "<Figure size 1000x800 with 1 Axes>"
      ]
     },
     "metadata": {},
     "output_type": "display_data"
    },
    {
     "ename": "NameError",
     "evalue": "name 'precision_recall_curve' is not defined",
     "output_type": "error",
     "traceback": [
      "\u001b[1;31m---------------------------------------------------------------------------\u001b[0m",
      "\u001b[1;31mNameError\u001b[0m                                 Traceback (most recent call last)",
      "Cell \u001b[1;32mIn[1090], line 162\u001b[0m\n\u001b[0;32m    160\u001b[0m \u001b[38;5;66;03m# 15. Visualize Precision-Recall curve\u001b[39;00m\n\u001b[0;32m    161\u001b[0m plt\u001b[38;5;241m.\u001b[39mfigure(figsize\u001b[38;5;241m=\u001b[39m(\u001b[38;5;241m8\u001b[39m, \u001b[38;5;241m6\u001b[39m))\n\u001b[1;32m--> 162\u001b[0m precision, recall, thresholds \u001b[38;5;241m=\u001b[39m \u001b[43mprecision_recall_curve\u001b[49m(y_test, y_proba)\n\u001b[0;32m    163\u001b[0m plt\u001b[38;5;241m.\u001b[39mplot(recall, precision, marker\u001b[38;5;241m=\u001b[39m\u001b[38;5;124m'\u001b[39m\u001b[38;5;124m.\u001b[39m\u001b[38;5;124m'\u001b[39m)\n\u001b[0;32m    164\u001b[0m plt\u001b[38;5;241m.\u001b[39maxvline(x\u001b[38;5;241m=\u001b[39mrecall_score(y_test, y_pred_optimal), color\u001b[38;5;241m=\u001b[39m\u001b[38;5;124m'\u001b[39m\u001b[38;5;124mr\u001b[39m\u001b[38;5;124m'\u001b[39m, linestyle\u001b[38;5;241m=\u001b[39m\u001b[38;5;124m'\u001b[39m\u001b[38;5;124m--\u001b[39m\u001b[38;5;124m'\u001b[39m, \n\u001b[0;32m    165\u001b[0m            label\u001b[38;5;241m=\u001b[39m\u001b[38;5;124mf\u001b[39m\u001b[38;5;124m'\u001b[39m\u001b[38;5;124mOptimal Threshold (\u001b[39m\u001b[38;5;132;01m{\u001b[39;00mbest_threshold\u001b[38;5;132;01m:\u001b[39;00m\u001b[38;5;124m.2f\u001b[39m\u001b[38;5;132;01m}\u001b[39;00m\u001b[38;5;124m)\u001b[39m\u001b[38;5;124m'\u001b[39m)\n",
      "\u001b[1;31mNameError\u001b[0m: name 'precision_recall_curve' is not defined"
     ]
    },
    {
     "data": {
      "text/plain": [
       "<Figure size 800x600 with 0 Axes>"
      ]
     },
     "metadata": {},
     "output_type": "display_data"
    }
   ],
   "source": [
    "# 1. Drop unnecessary columns if needed\n",
    "#sepsis_df.drop('studyid_adm', axis=1, inplace=True)\n",
    "\n",
    "# 2. Define features and target\n",
    "X = sepsis_df.drop(columns=['inhospital_mortality'])\n",
    "y = sepsis_df['inhospital_mortality']\n",
    "\n",
    "# 3. Train-test split before applying SMOTE (ensure test set remains unseen)\n",
    "X_train, X_test, y_train, y_test = train_test_split(\n",
    "    X, y, test_size=0.2, random_state=42, stratify=y\n",
    ")\n",
    "\n",
    "# 4. Apply SMOTE only to the training set\n",
    "# Use a higher sampling_strategy to further balance the minority class\n",
    "sm = SMOTE(random_state=42, sampling_strategy=0.7)  # Increased from default 1.0\n",
    "X_train_resampled, y_train_resampled = sm.fit_resample(X_train, y_train)\n",
    "\n",
    "# 5. Initial RF to rank features\n",
    "rf_initial = RandomForestClassifier(\n",
    "    n_estimators=200,\n",
    "    class_weight='balanced_subsample',  # Changed to balanced_subsample for better handling of imbalance\n",
    "    random_state=42\n",
    ")\n",
    "rf_initial.fit(X_train_resampled, y_train_resampled)\n",
    "\n",
    "# 6. Top 30 features by importance\n",
    "importance_df = pd.DataFrame({\n",
    "    'Feature': X.columns,\n",
    "    'Importance': rf_initial.feature_importances_\n",
    "}).sort_values('Importance', ascending=False)\n",
    "top_30_features = importance_df.head(30)['Feature'].tolist()\n",
    "print(\"Top 30 features by importance:\")\n",
    "print(top_30_features)\n",
    "X_top = X[top_30_features]\n",
    "\n",
    "# 7. Split data again using only top features to prevent data leakage\n",
    "X_train_top = X_train[top_30_features]\n",
    "X_test_top = X_test[top_30_features]\n",
    "\n",
    "# Re-apply SMOTE to the training data with top features\n",
    "X_train_top_resampled, y_train_resampled = sm.fit_resample(X_train_top, y_train)\n",
    "\n",
    "# 8. Parameter tuning with focus on recall\n",
    "# Use GridSearchCV with recall as scoring metric\n",
    "from sklearn.model_selection import GridSearchCV\n",
    "\n",
    "param_grid = {\n",
    "    'n_estimators': [200, 300],\n",
    "    'max_depth': [10, 15, None],\n",
    "    'min_samples_split': [2, 5],\n",
    "    'min_samples_leaf': [1, 2, 4],\n",
    "    'class_weight': ['balanced', 'balanced_subsample']\n",
    "}\n",
    "\n",
    "grid_search = GridSearchCV(\n",
    "    RandomForestClassifier(random_state=42),\n",
    "    param_grid=param_grid,\n",
    "    cv=StratifiedKFold(n_splits=5, shuffle=True, random_state=42),\n",
    "    scoring='recall',  # Focus on recall\n",
    "    n_jobs=-1\n",
    ")\n",
    "\n",
    "grid_search.fit(X_train_top_resampled, y_train_resampled)\n",
    "best_params = grid_search.best_params_\n",
    "print(f\"\\nBest parameters for high recall: {best_params}\")\n",
    "\n",
    "# 9. Train optimized RF using best parameters\n",
    "rf_final = RandomForestClassifier(\n",
    "    **best_params,\n",
    "    random_state=42\n",
    ")\n",
    "rf_final.fit(X_train_top_resampled, y_train_resampled)\n",
    "\n",
    "# 10. Custom threshold tuning for better recall\n",
    "# First get predictions with probability\n",
    "y_proba = rf_final.predict_proba(X_test_top)[:, 1]\n",
    "\n",
    "# Find optimal threshold that maximizes recall while maintaining reasonable precision\n",
    "thresholds = np.arange(0.1, 0.25, 0.05)  # Lower thresholds favor recall\n",
    "best_threshold = 0.5\n",
    "best_f2 = 0  # Using F2 score which weighs recall higher than precision\n",
    "\n",
    "for threshold in thresholds:\n",
    "    # Apply threshold\n",
    "    y_pred_threshold = (y_proba >= threshold).astype(int)\n",
    "    # Calculate F2 score (weighs recall higher)\n",
    "    f2 = fbeta_score(y_test, y_pred_threshold, beta=2)\n",
    "    precision = precision_score(y_test, y_pred_threshold, zero_division=0)\n",
    "    recall = recall_score(y_test, y_pred_threshold)\n",
    "    \n",
    "    print(f\"Threshold: {threshold:.2f}, Precision: {precision:.3f}, Recall: {recall:.3f}, F2: {f2:.3f}\")\n",
    "    \n",
    "    if f2 > best_f2:\n",
    "        best_f2 = f2\n",
    "        best_threshold = threshold\n",
    "\n",
    "print(f\"\\nBest threshold for high recall: {best_threshold:.2f}\")\n",
    "\n",
    "# Apply the optimal threshold\n",
    "y_pred_optimal = (y_proba >= best_threshold).astype(int)\n",
    "\n",
    "# 11. Evaluate with optimal threshold\n",
    "print(\"\\nFinal Model Performance with Optimal Threshold:\")\n",
    "print(f\"AUC-ROC: {roc_auc_score(y_test, y_proba):.3f}\")\n",
    "print(classification_report(y_test, y_pred_optimal))\n",
    "\n",
    "\n",
    "# 13. Check for overfitting\n",
    "# Redefine pipeline with SMOTE and RandomForest\n",
    "pipeline = Pipeline([\n",
    "    ('smote', SMOTE(random_state=42, sampling_strategy=0.7)),\n",
    "    ('rf', RandomForestClassifier(**best_params, random_state=42))\n",
    "])\n",
    "\n",
    "cv = StratifiedKFold(n_splits=5, shuffle=True, random_state=42)\n",
    "\n",
    "cv_recall_scores = []\n",
    "cv_precision_scores = []\n",
    "cv_f1_scores = []\n",
    "cv_auc_scores = []\n",
    "\n",
    "for train_idx, val_idx in cv.split(X_train_top, y_train):\n",
    "    X_cv_train, X_cv_val = X_train_top.iloc[train_idx], X_train_top.iloc[val_idx]\n",
    "    y_cv_train, y_cv_val = y_train.iloc[train_idx], y_train.iloc[val_idx]\n",
    "\n",
    "    # Fit pipeline (SMOTE will be applied only on training fold)\n",
    "    pipeline.fit(X_cv_train, y_cv_train)\n",
    "\n",
    "    # Predict probabilities and apply optimal threshold\n",
    "    y_cv_proba = pipeline.predict_proba(X_cv_val)[:, 1]\n",
    "    y_cv_pred = (y_cv_proba >= best_threshold).astype(int)\n",
    "\n",
    "    # Record metrics\n",
    "    cv_recall_scores.append(recall_score(y_cv_val, y_cv_pred))\n",
    "    cv_precision_scores.append(precision_score(y_cv_val, y_cv_pred, zero_division=0))\n",
    "    cv_f1_scores.append(f1_score(y_cv_val, y_cv_pred))\n",
    "    cv_auc_scores.append(roc_auc_score(y_cv_val, y_cv_proba))\n",
    "\n",
    "print(\"\\nCross-Validation Results (SMOTE inside each fold):\")\n",
    "print(f\"Mean Recall: {np.mean(cv_recall_scores):.3f} (±{np.std(cv_recall_scores):.3f})\")\n",
    "print(f\"Mean Precision: {np.mean(cv_precision_scores):.3f} (±{np.std(cv_precision_scores):.3f})\")\n",
    "print(f\"Mean F1: {np.mean(cv_f1_scores):.3f} (±{np.std(cv_f1_scores):.3f})\")\n",
    "print(f\"Mean AUC-ROC: {np.mean(cv_auc_scores):.3f} (±{np.std(cv_auc_scores):.3f})\")\n",
    "\n",
    "# # 14. Visualize Feature Importance\n",
    "# plt.figure(figsize=(10, 8))\n",
    "# top_features_df = pd.DataFrame({\n",
    "#     'Feature': top_30_features,\n",
    "#     'Importance': rf_final.feature_importances_\n",
    "# }).sort_values('Importance', ascending=False)\n",
    "\n",
    "# sns.barplot(x='Importance', y='Feature', \n",
    "#             data=top_features_df, \n",
    "#             palette='viridis')\n",
    "# plt.title('Feature Importance in High-Recall Model')\n",
    "# plt.tight_layout()\n",
    "# plt.savefig('high_recall_feature_importance.png')\n",
    "# plt.show()\n",
    "\n",
    "# 15. Visualize Precision-Recall curve\n",
    "plt.figure(figsize=(8, 6))\n",
    "precision, recall, thresholds = precision_recall_curve(y_test, y_proba)\n",
    "plt.plot(recall, precision, marker='.')\n",
    "plt.axvline(x=recall_score(y_test, y_pred_optimal), color='r', linestyle='--', \n",
    "           label=f'Optimal Threshold ({best_threshold:.2f})')\n",
    "plt.xlabel('Recall')\n",
    "plt.ylabel('Precision')\n",
    "plt.title('Precision-Recall Curve')\n",
    "plt.legend()\n",
    "plt.grid(True)\n",
    "plt.savefig('precision_recall_curve.png')\n",
    "plt.show()\n",
    "\n",
    "# 16. Visualize ROC curve\n",
    "plt.figure(figsize=(8, 6))\n",
    "fpr, tpr, _ = roc_curve(y_test, y_proba)\n",
    "plt.plot(fpr, tpr)\n",
    "plt.plot([0, 1], [0, 1], 'k--')\n",
    "plt.xlabel('False Positive Rate')\n",
    "plt.ylabel('True Positive Rate')\n",
    "plt.title(f'ROC Curve (AUC = {roc_auc_score(y_test, y_proba):.3f})')\n",
    "plt.grid(True)\n",
    "plt.savefig('roc_curve.png')\n",
    "plt.show()"
   ]
  },
  {
   "cell_type": "markdown",
   "id": "3d6bbe8e-e002-41e0-9c21-7174b529382a",
   "metadata": {},
   "source": [
    "✅ Top 30 Important Features\n",
    "- The model identified the most important factors influencing in-hospital mortality. Key features include:\n",
    "- Consciousness levels (bcsverbal_adm_encoded, bcseye_adm_encoded, bcsmotor_adm_encoded)\n",
    "- Oxygen availability (oxygenavail_adm_encoded)\n",
    "- Feeding status and nutritional status (feedingstatus_adm_encoded, muac_mm_adm)\n",
    "- Travel method, water source, and malaria status\n",
    "→ These help assess both the clinical and socioeconomic conditions of the patient."
   ]
  },
  {
   "cell_type": "markdown",
   "id": "c18eebd2-4a02-4e7a-acc2-593b89137889",
   "metadata": {},
   "source": [
    "- Handled class imbalance (many more survivors than deaths) using SMOTE, which synthetically adds more samples for the rare “death” cases.\n",
    "### Model Type:\n",
    "- I used Random Forest Classifier, which is an ensemble of decision trees.\n",
    "- It makes predictions by voting across many decision trees to improve accuracy\n",
    "\n",
    "### Hyperparameter Tuning:\n",
    "\n",
    "- I adjusted the model to improve its ability to catch actual deaths (high recall).\n",
    "- Important parameters tuned: number of trees, tree depth, and how the model splits the data.\n",
    "\n",
    "### Performance Summary:\n",
    "\n",
    "- Recall: The model correctly identified ~63% of actual deaths.\n",
    "- Precision: Out of all predicted deaths, only ~11% were true deaths.\n",
    "- AUC-ROC: 0.75, which means the model is fairly good at distinguishing between survival and death.\n",
    "- Cross-validation showed consistent performance, especially in recall."
   ]
  },
  {
   "cell_type": "markdown",
   "id": "ee23faff-c096-49b0-8035-1cf5a9dd1b6f",
   "metadata": {},
   "source": [
    "### Identify high-risk patients based on predicted death probability"
   ]
  },
  {
   "cell_type": "code",
   "execution_count": null,
   "id": "dd20b2ec-09e3-47c1-a10e-de29aabef378",
   "metadata": {},
   "outputs": [],
   "source": [
    "# 17. Identify high-risk patients based on predicted death probability\n",
    "\n",
    "# Predict probabilities of death\n",
    "death_probabilities = rf_final.predict_proba(X_test_top)[:, 1]\n",
    "\n",
    "# Create a DataFrame to store results\n",
    "high_risk_df = X_test_top.copy()\n",
    "high_risk_df['Predicted_Probability_of_Death'] = death_probabilities\n",
    "high_risk_df['High_Risk_Flag'] = (death_probabilities >= best_threshold).astype(int)\n",
    "\n",
    "# Add index as patient ID if no ID column is available\n",
    "high_risk_df.reset_index(inplace=True)\n",
    "high_risk_df.rename(columns={'index': 'Patient_ID'}, inplace=True)\n",
    "\n",
    "# Filter for high-risk patients only\n",
    "high_risk_only = high_risk_df[high_risk_df['High_Risk_Flag'] == 1]\n",
    "\n",
    "# Sort by probability descending\n",
    "high_risk_only_sorted = high_risk_only.sort_values(by='Predicted_Probability_of_Death', ascending=False)\n",
    "\n",
    "# Display top high-risk patients\n",
    "print(\"\\nTop High-Risk Patients (Most Urgent Cases):\")\n",
    "print(high_risk_only_sorted[['Patient_ID', 'Predicted_Probability_of_Death'] + top_30_features].head(10))\n",
    "\n",
    "# Optional: save to CSV\n",
    "high_risk_only_sorted.to_csv('high_risk_patients.csv', index=False)\n",
    "print(\"\\nSaved high-risk patients to 'high_risk_patients.csv'\")\n"
   ]
  },
  {
   "cell_type": "markdown",
   "id": "1f887c38-1635-4f00-b004-24fc08aa63eb",
   "metadata": {},
   "source": [
    "### View top 10 high-risk patients"
   ]
  },
  {
   "cell_type": "code",
   "execution_count": null,
   "id": "009c3f60-8300-42b9-a99e-4e884ead0e13",
   "metadata": {},
   "outputs": [],
   "source": [
    "# Create a DataFrame with test set predictions\n",
    "risk_ranking_df = X_test_top.copy()\n",
    "risk_ranking_df['True_Label'] = y_test.values\n",
    "risk_ranking_df['Predicted_Probability'] = y_proba\n",
    "\n",
    "# Sort patients by predicted probability (descending = highest risk first)\n",
    "risk_ranking_df = risk_ranking_df.sort_values('Predicted_Probability', ascending=False)\n",
    "\n",
    "# Optional: assign rank\n",
    "risk_ranking_df['Risk_Rank'] = np.arange(1, len(risk_ranking_df) + 1)\n",
    "\n",
    "# View top 10 high-risk patients\n",
    "print(risk_ranking_df.head(10))\n"
   ]
  },
  {
   "cell_type": "code",
   "execution_count": null,
   "id": "b46b36ca-c215-4e09-9021-f71d3879a021",
   "metadata": {},
   "outputs": [],
   "source": [
    "len(sepsis_df.columns)"
   ]
  },
  {
   "cell_type": "code",
   "execution_count": null,
   "id": "3c129274-db4f-443e-95dc-7ab9f78867cb",
   "metadata": {},
   "outputs": [],
   "source": [
    "from sklearn.model_selection import cross_val_score\n",
    "\n",
    "# Perform 5-fold cross-validation using AUC-ROC as the scoring metric\n",
    "cross_val_scores = cross_val_score(rf_final, X_resampled, y_resampled, cv=5, scoring='roc_auc')\n",
    "\n",
    "# Print individual fold scores and the average\n",
    "print(\"Cross-Validation AUC-ROC Scores:\", cross_val_scores)\n",
    "print(f\"Mean AUC-ROC: {cross_val_scores.mean():.3f}\")\n"
   ]
  },
  {
   "cell_type": "markdown",
   "id": "21fccfcf-c814-4b19-8a61-cadf77068159",
   "metadata": {},
   "source": [
    "### EDA"
   ]
  },
  {
   "cell_type": "code",
   "execution_count": null,
   "id": "3c1fe1ef-1b04-4dfd-9a7d-04fdd25232f2",
   "metadata": {},
   "outputs": [],
   "source": [
    "selected_columns = [\n",
    "    # Demographics & Vitals\n",
    "    \"agecalc_adm\", \"sex_adm\", \"height_cm_adm\", \"weight_kg_adm\", \"muac_mm_adm\",\n",
    "    \"hr_bpm_adm\", \"rr_brpm_app_adm\", \"sysbp_mmhg_adm\", \"diasbp_mmhg_adm\",\n",
    "    \"temp_c_adm\", \"spo2site1_pc_oxi_adm\", \"spo2onoxy_adm\", \"oxygenavail_adm_encoded\",\n",
    "\n",
    "    # Clinical Signs & Severity\n",
    "    \"respdistress_adm\", \"caprefill_adm\",\n",
    "    \"bcseye_adm_encoded\", \"bcsmotor_adm_encoded\", \"bcsverbal_adm_encoded\",\n",
    "\n",
    "    # Vaccination & Medication History\n",
    "    \"bcgscar_adm\", \"vaccmeasles_adm\", \"vaccpneumoc_adm_encoded\", \"vaccdpt_adm_encoded\",\n",
    "    \"priorweekabx_adm\", \"priorweekantimal_adm\", \"hivstatus_adm\", \"malariastatuspos_adm\",\n",
    "\n",
    "    # Symptoms\n",
    "    \"symptoms_adm___1\", \"symptoms_adm___2\", \"symptoms_adm___3\",\n",
    "    \"symptoms_adm___4\", \"symptoms_adm___6\",\n",
    "    \"symptoms_adm___7\", \"symptoms_adm___8\", \"symptoms_adm___9\",\n",
    "    \"symptoms_adm___10\", \"symptoms_adm___11\", \"symptoms_adm___12\",\n",
    "    \"symptoms_adm___14\", \"symptoms_adm___15\", \"symptoms_adm___18\",\n",
    "\n",
    "    # Comorbidity\n",
    "    \"comorbidity_adm___10\",\n",
    "    \"comorbidity_adm___12\",  \n",
    "    \"comorbidity_adm___11\",\n",
    "\n",
    "    # Target Variable\n",
    "    'inhospital_mortality'\n",
    "]\n",
    "\n",
    "# Keep only the selected columns\n",
    "sepsis_df = sepsis_df[selected_columns]\n"
   ]
  },
  {
   "cell_type": "code",
   "execution_count": null,
   "id": "856c9187-d279-49c1-8515-6e35d6bc6d1f",
   "metadata": {},
   "outputs": [],
   "source": [
    "print(sepsis_df.columns)"
   ]
  },
  {
   "cell_type": "code",
   "execution_count": null,
   "id": "c0a5c2f9-648a-440f-983b-986125f9ba26",
   "metadata": {},
   "outputs": [],
   "source": [
    "continuous_cols = [\n",
    "    \"agecalc_adm\", \"height_cm_adm\", \"weight_kg_adm\", \"muac_mm_adm\", \n",
    "    \"hr_bpm_adm\", \"rr_brpm_app_adm\", \"sysbp_mmhg_adm\", \"diasbp_mmhg_adm\", \n",
    "    \"temp_c_adm\", \"spo2site1_pc_oxi_adm\"\n",
    "]\n",
    "\n",
    "for col in continuous_cols:\n",
    "    sns.kdeplot(data=sepsis_df, x=col, hue='inhospital_mortality', common_norm=False)\n",
    "    plt.title(f'{col} Distribution by Mortality')\n",
    "    plt.tight_layout()\n",
    "    plt.show()"
   ]
  },
  {
   "cell_type": "code",
   "execution_count": null,
   "id": "dadc8cea-5dbc-48a4-b001-c67faf40b9e3",
   "metadata": {},
   "outputs": [],
   "source": [
    "import matplotlib.pyplot as plt\n",
    "import seaborn as sns\n",
    "\n",
    "# List of continuous columns\n",
    "continuous_cols = [\n",
    "    \"agecalc_adm\", \"height_cm_adm\", \"weight_kg_adm\", \"muac_mm_adm\", \n",
    "    \"hr_bpm_adm\", \"rr_brpm_app_adm\", \"sysbp_mmhg_adm\", \"diasbp_mmhg_adm\", \n",
    "    \"temp_c_adm\", \"spo2site1_pc_oxi_adm\"\n",
    "]\n",
    "\n",
    "# Set up subplots grid\n",
    "n_cols = 2\n",
    "n_rows = (len(continuous_cols) + 1) // n_cols\n",
    "\n",
    "fig, axes = plt.subplots(n_rows, n_cols, figsize=(14, n_rows * 4))\n",
    "axes = axes.flatten()\n",
    "\n",
    "# Plot KDEs\n",
    "for i, col in enumerate(continuous_cols):\n",
    "    sns.kdeplot(data=sepsis_df, x=col, hue='inhospital_mortality', ax=axes[i], common_norm=False)\n",
    "    axes[i].set_title(f'{col} Distribution by Mortality')\n",
    "\n",
    "# Remove unused subplots\n",
    "for j in range(i + 1, len(axes)):\n",
    "    fig.delaxes(axes[j])\n",
    "\n",
    "plt.tight_layout()\n",
    "plt.savefig(\"kde_distributions_by_mortality.png\", dpi=300)  # Save the figure\n",
    "plt.show()\n"
   ]
  },
  {
   "cell_type": "code",
   "execution_count": null,
   "id": "de9435a4-c6c5-4aed-927b-9a6ccf9cfeab",
   "metadata": {},
   "outputs": [],
   "source": [
    "categorical_cols = [\n",
    "    \"sex_adm\", \"oxygenavail_adm_encoded\", \"respdistress_adm\", \"caprefill_adm\",\n",
    "    \"bcseye_adm_encoded\", \"bcsmotor_adm_encoded\", \"bcsverbal_adm_encoded\",\n",
    "    \"bcgscar_adm\", \"vaccmeasles_adm\", \"vaccpneumoc_adm_encoded\", \"vaccdpt_adm_encoded\",\n",
    "    \"priorweekabx_adm\", \"priorweekantimal_adm\"\n",
    "]\n",
    "\n",
    "for col in categorical_cols:\n",
    "    sns.barplot(x=col, y='inhospital_mortality', data=sepsis_df)\n",
    "    plt.title(f'Mortality Rate by {col}')\n",
    "    plt.tight_layout()\n",
    "    plt.show()\n"
   ]
  },
  {
   "cell_type": "code",
   "execution_count": null,
   "id": "64947626-fa70-4f00-aa06-f1c9b418540a",
   "metadata": {},
   "outputs": [],
   "source": [
    "symptom_cols = [\n",
    "    \"symptoms_adm___1\", \"symptoms_adm___2\", \"symptoms_adm___3\", \"symptoms_adm___4\",\n",
    "    \"symptoms_adm___6\", \"symptoms_adm___7\", \"symptoms_adm___8\", \"symptoms_adm___9\",\n",
    "    \"symptoms_adm___10\", \"symptoms_adm___11\", \"symptoms_adm___12\", \"symptoms_adm___14\",\n",
    "    \"symptoms_adm___15\", \"symptoms_adm___18\"\n",
    "]\n",
    "\n",
    "symptom_mortality = sepsis_df.groupby('inhospital_mortality')[symptom_cols].mean().T\n",
    "\n",
    "sns.heatmap(symptom_mortality, annot=True, cmap='coolwarm')\n",
    "plt.title('Symptom Frequency by Mortality Outcome')\n",
    "plt.xlabel('Mortality (0 = Death, 1 = Alive)')\n",
    "plt.tight_layout()\n",
    "plt.show()\n"
   ]
  },
  {
   "cell_type": "code",
   "execution_count": null,
   "id": "1b3990c0-8e68-4d3a-b575-b340c2aae9e2",
   "metadata": {},
   "outputs": [],
   "source": [
    "comorb_cols = [\"comorbidity_adm___10\", \"comorbidity_adm___12\", \"comorbidity_adm___11\"]\n",
    "\n",
    "for col in comorb_cols:\n",
    "    sns.barplot(x=col, y='inhospital_mortality', data=sepsis_df)\n",
    "    plt.title(f'Mortality Rate by {col}')\n",
    "    plt.tight_layout()\n",
    "    plt.show()"
   ]
  },
  {
   "cell_type": "code",
   "execution_count": null,
   "id": "89bd17ec-68f7-4ef5-b58d-1135cc555f09",
   "metadata": {},
   "outputs": [],
   "source": [
    "from sklearn.ensemble import RandomForestClassifier\n",
    "\n",
    "X = sepsis_df.drop(columns='inhospital_mortality')\n",
    "y = sepsis_df['inhospital_mortality']\n",
    "\n",
    "model = RandomForestClassifier(random_state=42)\n",
    "model.fit(X, y)\n",
    "\n",
    "import pandas as pd\n",
    "feature_importance = pd.Series(model.feature_importances_, index=X.columns).sort_values(ascending=False)\n",
    "\n",
    "plt.figure(figsize=(10, 6))\n",
    "sns.barplot(x=feature_importance[:20], y=feature_importance.index[:20])\n",
    "plt.title(\"Top 20 Feature Importances\")\n",
    "plt.tight_layout()\n",
    "plt.show()"
   ]
  },
  {
   "cell_type": "code",
   "execution_count": null,
   "id": "73282968-5889-4cfc-a986-863e6e0b9bf6",
   "metadata": {},
   "outputs": [],
   "source": [
    "import plotly.express as px\n",
    "\n",
    "fig = px.histogram(sepsis_df, x='hivstatus_adm', color='inhospital_mortality', barmode='group',\n",
    "                   title='Survival Status by HIV Admission Status',\n",
    "                   labels={'hivstatus_adm': 'HIV Status', 'inhospital_mortality': 'Outcome'})\n",
    "fig.update_layout(legend_title_text='Patient Status')\n",
    "fig.show()\n"
   ]
  },
  {
   "cell_type": "code",
   "execution_count": null,
   "id": "a624c4e5-eb13-4e09-88db-28f444638ab3",
   "metadata": {},
   "outputs": [],
   "source": [
    "print(sepsis_df[\"hivstatus_adm\"].unique())\n",
    "\n",
    "sepsis_df.columns"
   ]
  },
  {
   "cell_type": "code",
   "execution_count": null,
   "id": "18eb998b-8dcb-4f31-91a4-c119ee4fbc3f",
   "metadata": {},
   "outputs": [],
   "source": [
    "import pandas as pd\n",
    "import plotly.express as px\n",
    "\n",
    "# Melt the dataframe to long format\n",
    "comorbidity_df = sepsis_df.melt(\n",
    "    id_vars='inhospital_mortality',\n",
    "    value_vars=['comorbidity_adm___10', 'comorbidity_adm___11', 'comorbidity_adm___12'],\n",
    "    var_name='Comorbidity',\n",
    "    value_name='Presence'  # 1 = present, 0 = absent\n",
    ")\n",
    "\n",
    "# Plot the grouped histogram\n",
    "fig = px.histogram(comorbidity_df, x='Comorbidity', color='inhospital_mortality', barmode='group',\n",
    "                   title='Survival Status by Comorbidities',\n",
    "                   labels={'inhospital_mortality': 'Outcome', 'Comorbidity': 'Comorbidity Type'})\n",
    "fig.update_layout(legend_title_text='Patient Status')\n",
    "fig.show()\n"
   ]
  },
  {
   "cell_type": "code",
   "execution_count": null,
   "id": "4dd8e414-1243-4d5c-8a2c-229d2091bab0",
   "metadata": {},
   "outputs": [],
   "source": [
    "# Calculate counts for each comorbidity and in-hospital mortality combination\n",
    "comorbidity_counts = comorbidity_df.groupby(['Comorbidity', 'Presence', 'inhospital_mortality']).size().reset_index(name='count')\n",
    "\n",
    "# Format the report for each comorbidity\n",
    "for comorbidity in ['comorbidity_adm___10', 'comorbidity_adm___11', 'comorbidity_adm___12']:\n",
    "    print(f\"### {comorbidity} Analysis\")\n",
    "    comorbidity_data = comorbidity_counts[comorbidity_counts['Comorbidity'] == comorbidity]\n",
    "    print(comorbidity_data.to_string(index=False))\n",
    "    print(\"\\n\")\n"
   ]
  },
  {
   "cell_type": "markdown",
   "id": "04322999-0aab-417f-a6e0-a5c45e3d1e55",
   "metadata": {},
   "source": [
    "### 1. For Patients with \"Other Co-Morbidity\" (comorbidity_adm___10 = yes):\n",
    "\n",
    "- Survived: 2556\n",
    "- Died: 116\n",
    "\n",
    "    - Total Patients: 2556 + 116 = 2672\n",
    "    - To calculate the survival percentage:\n",
    "\n",
    "Survival Rate = (Survived Total Patients) × 100\n",
    "Survival Rate=(Total Patients Survived)×100\n",
    "Survival Rate= (2556/2672)×100 = 95.65%\n",
    "Survival Rate=(2672/2556)×100=95.65%\n",
    "\n",
    "- So, the survival rate among patients with \"Other Co-Morbidity\" is approximately 95.65%.\n",
    "\n",
    "### 2. For Patients without \"Other Co-Morbidity\" (comorbidity_adm___10 = no):\n",
    "\n",
    "- Survived: 11\n",
    "- Died: 3\n",
    "\n",
    "  - Total Patients: 11 + 3 = 14\n",
    "  - To calculate the survival percentage:\n",
    "\n",
    "Survival Rate = (Survived Total Patients) × 100\n",
    "Survival Rate=(Total Patients Survived)×100\n",
    "Survival Rate= 11/14)×100 = 78.57%\n",
    "\n",
    "- So, the survival rate among patients without \"Other Co-Morbidity\" is approximately 78.57%.\n",
    "\n",
    "Summary:\n",
    "Patients with \"Other Co-Morbidity\": 95.65% survival rate\n",
    "\n",
    "Patients without \"Other Co-Morbidity\": 78.57% survival rate\n",
    "\n",
    "* The survival rate is significantly higher for those with \"Other Co-Morbidity\", although it's important to remember that this group represents less than 1% of the total population, so the generalizability of this comparison is limited.\n",
    "\n",
    "### 3. For comorbidity_adm___11 (None):\n",
    "*  Patients with \"comorbidity_adm___11\": 94% survival rate\n",
    "* Patients without \"comorbidity_adm___11\": 95.77% survival rate\n",
    "\n",
    "### 4. For comorbidity_adm___12 (Unknown):\n",
    "* Patients with \"comorbidity_adm___12\": 95.66% survival rate\n",
    "* Patients without \"comorbidity_adm___12\": 93.15% survival rate"
   ]
  },
  {
   "cell_type": "code",
   "execution_count": null,
   "id": "3a182978-44d9-4e8a-b08e-9e07f3f3d85f",
   "metadata": {
    "scrolled": true
   },
   "outputs": [],
   "source": [
    "# 1. Distribution of malaria status\n",
    "fig1 = px.pie(sepsis_df, names='malariastatuspos_adm', title='Malaria Status Distribution')\n",
    "fig1.show()\n",
    "\n",
    "# 2. Malaria status vs In-hospital Mortality (Stacked Bar Plot)\n",
    "fig2 = px.bar(sepsis_df, x='malariastatuspos_adm', color='inhospital_mortality',\n",
    "              title='Malaria Status vs In-hospital Mortality',\n",
    "              labels={'malariastatuspos_adm': 'Malaria Status (0: Negative, 1: Positive)',\n",
    "                      'inhospital_mortality': 'In-hospital Mortality (0: Survived, 1: Died)'},\n",
    "              color_discrete_map={0: 'green', 1: 'red'}, barmode='stack')\n",
    "fig2.show()"
   ]
  },
  {
   "cell_type": "code",
   "execution_count": null,
   "id": "ca325d7f-5729-4178-a76e-647ae252bc79",
   "metadata": {},
   "outputs": [],
   "source": [
    "sepsis_df['malariastatuspos_adm'] = sepsis_df['malariastatuspos_adm'].astype('category')\n",
    "sepsis_df['inhospital_mortality'] = sepsis_df['inhospital_mortality'].astype('category')\n"
   ]
  },
  {
   "cell_type": "code",
   "execution_count": null,
   "id": "93dbc61a-30c8-440c-9205-a53a5a5ff395",
   "metadata": {},
   "outputs": [],
   "source": [
    "import plotly.express as px\n",
    "\n",
    "# Check the unique values to ensure proper color mapping\n",
    "print(sepsis_df['inhospital_mortality'].unique())\n",
    "\n",
    "# 2. Malaria status vs In-hospital Mortality (Stacked Bar Plot)\n",
    "fig2 = px.bar(sepsis_df, \n",
    "              x='malariastatuspos_adm', \n",
    "              color='inhospital_mortality',\n",
    "              title='Malaria Status vs In-hospital Mortality',\n",
    "              labels={'malariastatuspos_adm': 'Malaria Status (0: Negative, 1: Positive)',\n",
    "                      'inhospital_mortality': 'In-hospital Mortality (0: Survived, 1: Died)'},\n",
    "              color_discrete_map={0: 'green', 1: 'red'},  # Custom color mapping\n",
    "              barmode='stack')\n",
    "\n",
    "# Update axis labels to show clearer categories\n",
    "fig2.update_layout(xaxis=dict(tickmode='array', tickvals=[0, 1], ticktext=['Negative', 'Positive']))\n",
    "\n",
    "# Show the plot\n",
    "fig2.show()\n"
   ]
  },
  {
   "cell_type": "code",
   "execution_count": null,
   "id": "83231d5c-b561-42fd-bf03-ca2dc38eb85b",
   "metadata": {},
   "outputs": [],
   "source": [
    "# Check counts for each combination of malaria status and in-hospital mortality\n",
    "count_data = sepsis_df.groupby(['malariastatuspos_adm', 'inhospital_mortality']).size().reset_index(name='count')\n",
    "print(count_data)\n"
   ]
  },
  {
   "cell_type": "code",
   "execution_count": null,
   "id": "b5bba212-7e81-4352-ab18-8c3f0fe9cef0",
   "metadata": {},
   "outputs": [],
   "source": [
    "import plotly.express as px\n",
    "\n",
    "# Plot using the grouped data\n",
    "fig2 = px.bar(count_data, \n",
    "              x='malariastatuspos_adm', \n",
    "              y='count', \n",
    "              color='inhospital_mortality',\n",
    "              title='Malaria Status vs In-hospital Mortality',\n",
    "              labels={'malariastatuspos_adm': 'Malaria Status (0: Negative, 1: Positive)',\n",
    "                      'inhospital_mortality': 'In-hospital Mortality (0: Survived, 1: Died)'},\n",
    "              color_discrete_map={0: 'green', 1: 'red'},  # Custom color mapping\n",
    "              barmode='stack')\n",
    "\n",
    "# Update axis labels to show clearer categories\n",
    "fig2.update_layout(xaxis=dict(tickmode='array', tickvals=[0, 1], ticktext=['Negative', 'Positive']))\n",
    "\n",
    "# Show the plot\n",
    "fig2.show()\n"
   ]
  },
  {
   "cell_type": "markdown",
   "id": "fb9bccf6-57d5-464f-920d-ffc11aa27120",
   "metadata": {},
   "source": [
    "#### Malaria Negative (0) Group:\n",
    "* The majority of patients who are negative for malaria survive (1761).\n",
    "* A relatively small number of malaria-negative patients die (87).\n",
    "\n",
    "#### Malaria Positive (1) Group:\n",
    "* A significant number of malaria-positive patients survive (806), but fewer than those who are malaria-negative.\n",
    "* The number of malaria-positive patients who die (32) is relatively low compared to the number who survive (806)."
   ]
  }
 ],
 "metadata": {
  "kernelspec": {
   "display_name": "Python [conda env:base] *",
   "language": "python",
   "name": "conda-base-py"
  },
  "language_info": {
   "codemirror_mode": {
    "name": "ipython",
    "version": 3
   },
   "file_extension": ".py",
   "mimetype": "text/x-python",
   "name": "python",
   "nbconvert_exporter": "python",
   "pygments_lexer": "ipython3",
   "version": "3.12.7"
  }
 },
 "nbformat": 4,
 "nbformat_minor": 5
}
