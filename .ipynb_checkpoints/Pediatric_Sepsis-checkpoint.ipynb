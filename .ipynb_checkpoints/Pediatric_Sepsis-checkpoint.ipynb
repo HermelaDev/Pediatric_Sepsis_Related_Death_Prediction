{
 "cells": [
  {
   "cell_type": "markdown",
   "id": "7cab3984-973d-4e2e-83e0-3d9c8ac3887e",
   "metadata": {},
   "source": [
    "### Pediatric Sepsis: In-hospital Mortality Prediction"
   ]
  },
  {
   "cell_type": "code",
   "execution_count": 336,
   "id": "107d5e92-c24f-4343-b7d5-b01348b20ee0",
   "metadata": {},
   "outputs": [],
   "source": [
    "import pandas as pd\n",
    "import numpy as np\n",
    "import matplotlib.pyplot as plt\n",
    "import seaborn as sns\n",
    "\n",
    "from sklearn.ensemble import RandomForestRegressor\n",
    "from sklearn.experimental import enable_iterative_imputer\n",
    "from sklearn.impute import IterativeImputer\n",
    "\n",
    "from scipy import stats\n",
    "from scipy.stats import chi2_contingency\n",
    "from scipy.stats import mannwhitneyu\n",
    "\n",
    "from sklearn.preprocessing import OrdinalEncoder\n",
    "\n",
    "import warnings\n",
    "warnings.filterwarnings(\"ignore\")"
   ]
  },
  {
   "cell_type": "markdown",
   "id": "3bada3eb-22b2-4cc7-9d1f-48960c59cf5c",
   "metadata": {},
   "source": [
    "### Importing the dataset"
   ]
  },
  {
   "cell_type": "code",
   "execution_count": 240,
   "id": "f258da47-b3e9-495d-a247-2b29f8adfd8d",
   "metadata": {},
   "outputs": [
    {
     "data": {
      "text/html": [
       "<div>\n",
       "<style scoped>\n",
       "    .dataframe tbody tr th:only-of-type {\n",
       "        vertical-align: middle;\n",
       "    }\n",
       "\n",
       "    .dataframe tbody tr th {\n",
       "        vertical-align: top;\n",
       "    }\n",
       "\n",
       "    .dataframe thead th {\n",
       "        text-align: right;\n",
       "    }\n",
       "</style>\n",
       "<table border=\"1\" class=\"dataframe\">\n",
       "  <thead>\n",
       "    <tr style=\"text-align: right;\">\n",
       "      <th></th>\n",
       "      <th>studyid_adm</th>\n",
       "      <th>agecalc_adm</th>\n",
       "      <th>height_cm_adm</th>\n",
       "      <th>weight_kg_adm</th>\n",
       "      <th>muac_mm_adm</th>\n",
       "      <th>hr_bpm_adm</th>\n",
       "      <th>rr_brpm_app_adm</th>\n",
       "      <th>sysbp_mmhg_adm</th>\n",
       "      <th>diasbp_mmhg_adm</th>\n",
       "      <th>temp_c_adm</th>\n",
       "      <th>...</th>\n",
       "      <th>cookloc_adm</th>\n",
       "      <th>lightfuel_adm</th>\n",
       "      <th>tobacco_adm</th>\n",
       "      <th>bednet_adm</th>\n",
       "      <th>hctpretransfusion_adm</th>\n",
       "      <th>hivstatus_adm</th>\n",
       "      <th>malariastatuspos_adm</th>\n",
       "      <th>lengthadm</th>\n",
       "      <th>caregiver_adm_new</th>\n",
       "      <th>inhospital_mortality</th>\n",
       "    </tr>\n",
       "  </thead>\n",
       "  <tbody>\n",
       "    <tr>\n",
       "      <th>0</th>\n",
       "      <td>1</td>\n",
       "      <td>16.8</td>\n",
       "      <td>79.8</td>\n",
       "      <td>11.6</td>\n",
       "      <td>150.0</td>\n",
       "      <td>130.0</td>\n",
       "      <td>23.0</td>\n",
       "      <td>92.0</td>\n",
       "      <td>54.0</td>\n",
       "      <td>36.3</td>\n",
       "      <td>...</td>\n",
       "      <td>In a separate building/building space used as ...</td>\n",
       "      <td>Electric bulbs (national grid)</td>\n",
       "      <td>Never</td>\n",
       "      <td>Always</td>\n",
       "      <td>Yes</td>\n",
       "      <td>HIV negative</td>\n",
       "      <td>No</td>\n",
       "      <td>2</td>\n",
       "      <td>Mother</td>\n",
       "      <td>0</td>\n",
       "    </tr>\n",
       "    <tr>\n",
       "      <th>1</th>\n",
       "      <td>2</td>\n",
       "      <td>46.1</td>\n",
       "      <td>93.0</td>\n",
       "      <td>13.6</td>\n",
       "      <td>151.0</td>\n",
       "      <td>115.0</td>\n",
       "      <td>35.0</td>\n",
       "      <td>72.0</td>\n",
       "      <td>42.0</td>\n",
       "      <td>36.8</td>\n",
       "      <td>...</td>\n",
       "      <td>In a separate building/building space used as ...</td>\n",
       "      <td>Tadooba</td>\n",
       "      <td>Never</td>\n",
       "      <td>Always</td>\n",
       "      <td>Yes</td>\n",
       "      <td>HIV negative</td>\n",
       "      <td>Yes</td>\n",
       "      <td>5</td>\n",
       "      <td>Mother</td>\n",
       "      <td>0</td>\n",
       "    </tr>\n",
       "    <tr>\n",
       "      <th>2</th>\n",
       "      <td>3</td>\n",
       "      <td>7.9</td>\n",
       "      <td>68.2</td>\n",
       "      <td>8.2</td>\n",
       "      <td>148.0</td>\n",
       "      <td>150.0</td>\n",
       "      <td>56.0</td>\n",
       "      <td>94.0</td>\n",
       "      <td>51.0</td>\n",
       "      <td>37.2</td>\n",
       "      <td>...</td>\n",
       "      <td>In a separate building/building space used as ...</td>\n",
       "      <td>Tadooba</td>\n",
       "      <td>Never</td>\n",
       "      <td>Always</td>\n",
       "      <td>Yes</td>\n",
       "      <td>HIV negative</td>\n",
       "      <td>No</td>\n",
       "      <td>4</td>\n",
       "      <td>Mother</td>\n",
       "      <td>0</td>\n",
       "    </tr>\n",
       "    <tr>\n",
       "      <th>3</th>\n",
       "      <td>4</td>\n",
       "      <td>38.2</td>\n",
       "      <td>95.0</td>\n",
       "      <td>12.0</td>\n",
       "      <td>138.0</td>\n",
       "      <td>134.0</td>\n",
       "      <td>38.0</td>\n",
       "      <td>94.0</td>\n",
       "      <td>57.0</td>\n",
       "      <td>37.6</td>\n",
       "      <td>...</td>\n",
       "      <td>In the house where you sleep</td>\n",
       "      <td>Electric bulbs (national grid)</td>\n",
       "      <td>Never</td>\n",
       "      <td>Always</td>\n",
       "      <td>NaN</td>\n",
       "      <td>HIV negative</td>\n",
       "      <td>Yes</td>\n",
       "      <td>5</td>\n",
       "      <td>Mother</td>\n",
       "      <td>0</td>\n",
       "    </tr>\n",
       "    <tr>\n",
       "      <th>4</th>\n",
       "      <td>5</td>\n",
       "      <td>16.1</td>\n",
       "      <td>83.0</td>\n",
       "      <td>12.0</td>\n",
       "      <td>165.0</td>\n",
       "      <td>163.0</td>\n",
       "      <td>61.0</td>\n",
       "      <td>107.0</td>\n",
       "      <td>73.0</td>\n",
       "      <td>38.7</td>\n",
       "      <td>...</td>\n",
       "      <td>Outdoors in the open</td>\n",
       "      <td>Electric bulbs (national grid)</td>\n",
       "      <td>Never</td>\n",
       "      <td>Sometimes</td>\n",
       "      <td>Yes</td>\n",
       "      <td>HIV negative</td>\n",
       "      <td>Yes</td>\n",
       "      <td>7</td>\n",
       "      <td>Mother</td>\n",
       "      <td>0</td>\n",
       "    </tr>\n",
       "  </tbody>\n",
       "</table>\n",
       "<p>5 rows × 138 columns</p>\n",
       "</div>"
      ],
      "text/plain": [
       "   studyid_adm  agecalc_adm  height_cm_adm  weight_kg_adm  muac_mm_adm  \\\n",
       "0            1         16.8           79.8           11.6        150.0   \n",
       "1            2         46.1           93.0           13.6        151.0   \n",
       "2            3          7.9           68.2            8.2        148.0   \n",
       "3            4         38.2           95.0           12.0        138.0   \n",
       "4            5         16.1           83.0           12.0        165.0   \n",
       "\n",
       "   hr_bpm_adm  rr_brpm_app_adm  sysbp_mmhg_adm  diasbp_mmhg_adm  temp_c_adm  \\\n",
       "0       130.0             23.0            92.0             54.0        36.3   \n",
       "1       115.0             35.0            72.0             42.0        36.8   \n",
       "2       150.0             56.0            94.0             51.0        37.2   \n",
       "3       134.0             38.0            94.0             57.0        37.6   \n",
       "4       163.0             61.0           107.0             73.0        38.7   \n",
       "\n",
       "   ...                                        cookloc_adm  \\\n",
       "0  ...  In a separate building/building space used as ...   \n",
       "1  ...  In a separate building/building space used as ...   \n",
       "2  ...  In a separate building/building space used as ...   \n",
       "3  ...                       In the house where you sleep   \n",
       "4  ...                               Outdoors in the open   \n",
       "\n",
       "                    lightfuel_adm  tobacco_adm  bednet_adm  \\\n",
       "0  Electric bulbs (national grid)        Never      Always   \n",
       "1                         Tadooba        Never      Always   \n",
       "2                         Tadooba        Never      Always   \n",
       "3  Electric bulbs (national grid)        Never      Always   \n",
       "4  Electric bulbs (national grid)        Never   Sometimes   \n",
       "\n",
       "   hctpretransfusion_adm  hivstatus_adm  malariastatuspos_adm  lengthadm  \\\n",
       "0                    Yes   HIV negative                    No          2   \n",
       "1                    Yes   HIV negative                   Yes          5   \n",
       "2                    Yes   HIV negative                    No          4   \n",
       "3                    NaN   HIV negative                   Yes          5   \n",
       "4                    Yes   HIV negative                   Yes          7   \n",
       "\n",
       "   caregiver_adm_new  inhospital_mortality  \n",
       "0             Mother                     0  \n",
       "1             Mother                     0  \n",
       "2             Mother                     0  \n",
       "3             Mother                     0  \n",
       "4             Mother                     0  \n",
       "\n",
       "[5 rows x 138 columns]"
      ]
     },
     "execution_count": 240,
     "metadata": {},
     "output_type": "execute_result"
    }
   ],
   "source": [
    "sepsis_df = pd.read_csv(\"SyntheticData_Training.csv\") \n",
    "# pd.set_option('display.max_columns', None)\n",
    "# pd.set_option('display.max_rows', None)\n",
    "sepsis_df.head()"
   ]
  },
  {
   "cell_type": "markdown",
   "id": "4d92dd2e-7d28-463d-bc3a-e837c0471b49",
   "metadata": {},
   "source": [
    "### Looking into the data structure"
   ]
  },
  {
   "cell_type": "code",
   "execution_count": 242,
   "id": "b1c1288f-47ad-4b3a-8306-cc9a8e0db645",
   "metadata": {},
   "outputs": [
    {
     "name": "stdout",
     "output_type": "stream",
     "text": [
      "<class 'pandas.core.frame.DataFrame'>\n",
      "RangeIndex: 2686 entries, 0 to 2685\n",
      "Columns: 138 entries, studyid_adm to inhospital_mortality\n",
      "dtypes: float64(23), int64(3), object(112)\n",
      "memory usage: 2.8+ MB\n"
     ]
    }
   ],
   "source": [
    "sepsis_df.info()\n",
    "pd.set_option('display.max_rows', None)"
   ]
  },
  {
   "cell_type": "code",
   "execution_count": 244,
   "id": "2f04a8a9-8fc3-4863-b067-ff42095c10ac",
   "metadata": {},
   "outputs": [
    {
     "data": {
      "text/plain": [
       "0"
      ]
     },
     "execution_count": 244,
     "metadata": {},
     "output_type": "execute_result"
    }
   ],
   "source": [
    "sepsis_df.duplicated().sum()"
   ]
  },
  {
   "cell_type": "markdown",
   "id": "5f6a28e1-7ddc-46e2-a876-6705559f1425",
   "metadata": {},
   "source": [
    "### Understanding the Column Characteristics"
   ]
  },
  {
   "cell_type": "code",
   "execution_count": 246,
   "id": "16041621-0aa8-47d1-b2f5-34ce47757cb5",
   "metadata": {
    "scrolled": true
   },
   "outputs": [
    {
     "name": "stdout",
     "output_type": "stream",
     "text": [
      "                       Column Data Type  Missing Values  Missing %  \\\n",
      "0                 studyid_adm     int64               0   0.000000   \n",
      "1                 agecalc_adm   float64               0   0.000000   \n",
      "2               height_cm_adm   float64              14   0.521221   \n",
      "3               weight_kg_adm   float64               9   0.335071   \n",
      "4                 muac_mm_adm   float64              13   0.483991   \n",
      "5                  hr_bpm_adm   float64               1   0.037230   \n",
      "6             rr_brpm_app_adm   float64               5   0.186150   \n",
      "7              sysbp_mmhg_adm   float64               2   0.074460   \n",
      "8             diasbp_mmhg_adm   float64               1   0.037230   \n",
      "9                  temp_c_adm   float64               1   0.037230   \n",
      "10       spo2site1_pc_oxi_adm   float64               4   0.148920   \n",
      "11       spo2site2_pc_oxi_adm   float64             205   7.632167   \n",
      "12              spo2other_adm   float64            2505  93.261355   \n",
      "13                 momage_adm   float64              19   0.707372   \n",
      "14        momagefirstpreg_adm   float64             224   8.339538   \n",
      "15          householdsize_adm   float64               3   0.111690   \n",
      "16          alivechildren_adm   float64               4   0.148920   \n",
      "17           deadchildren_adm   float64               1   0.037230   \n",
      "18        hematocrit_gpdl_adm   float64             457  17.014147   \n",
      "19         lactate_mmolpl_adm   float64             464  17.274758   \n",
      "20        lactate2_mmolpl_adm   float64            2217  82.539092   \n",
      "21         glucose_mmolpl_adm   float64               9   0.335071   \n",
      "22          sqi1_perc_oxi_adm   float64             130   4.839911   \n",
      "23          sqi2_perc_oxi_adm   float64             207   7.706627   \n",
      "24                    sex_adm    object               0   0.000000   \n",
      "25              spo2onoxy_adm    object               4   0.148920   \n",
      "26            oxygenavail_adm    object               0   0.000000   \n",
      "27           respdistress_adm    object               2   0.074460   \n",
      "28              caprefill_adm    object               1   0.037230   \n",
      "29                 bcseye_adm    object               1   0.037230   \n",
      "30               bcsmotor_adm    object               0   0.000000   \n",
      "31              bcsverbal_adm    object               2   0.074460   \n",
      "32           admitabx_adm___1    object               0   0.000000   \n",
      "33           admitabx_adm___2    object               0   0.000000   \n",
      "34           admitabx_adm___3    object               0   0.000000   \n",
      "35           admitabx_adm___4    object               0   0.000000   \n",
      "36           admitabx_adm___5    object               0   0.000000   \n",
      "37           admitabx_adm___6    object               0   0.000000   \n",
      "38           admitabx_adm___7    object               0   0.000000   \n",
      "39           admitabx_adm___8    object               0   0.000000   \n",
      "40           admitabx_adm___9    object               0   0.000000   \n",
      "41          admitabx_adm___10    object               0   0.000000   \n",
      "42          admitabx_adm___11    object               0   0.000000   \n",
      "43          admitabx_adm___12    object               0   0.000000   \n",
      "44          admitabx_adm___13    object               0   0.000000   \n",
      "45          admitabx_adm___14    object               0   0.000000   \n",
      "46          admitabx_adm___15    object               0   0.000000   \n",
      "47          admitabx_adm___16    object               0   0.000000   \n",
      "48          admitabx_adm___17    object               0   0.000000   \n",
      "49          admitabx_adm___18    object               0   0.000000   \n",
      "50          admitabx_adm___19    object               0   0.000000   \n",
      "51          admitabx_adm___20    object               0   0.000000   \n",
      "52          admitabx_adm___21    object               0   0.000000   \n",
      "53                bcgscar_adm    object               0   0.000000   \n",
      "54            vaccmeasles_adm    object               2   0.074460   \n",
      "55      vaccmeaslessource_adm    object             946  35.219657   \n",
      "56            vaccpneumoc_adm    object               0   0.000000   \n",
      "57      vaccpneumocsource_adm    object             185   6.887565   \n",
      "58                vaccdpt_adm    object               2   0.074460   \n",
      "59          vaccdptsource_adm    object             143   5.323902   \n",
      "60           priorweekabx_adm    object               0   0.000000   \n",
      "61       priorweekantimal_adm    object               1   0.037230   \n",
      "62           symptoms_adm___1    object               0   0.000000   \n",
      "63           symptoms_adm___2    object               0   0.000000   \n",
      "64           symptoms_adm___3    object               0   0.000000   \n",
      "65           symptoms_adm___4    object               0   0.000000   \n",
      "66           symptoms_adm___5    object               0   0.000000   \n",
      "67           symptoms_adm___6    object               0   0.000000   \n",
      "68           symptoms_adm___7    object               0   0.000000   \n",
      "69           symptoms_adm___8    object               0   0.000000   \n",
      "70           symptoms_adm___9    object               0   0.000000   \n",
      "71          symptoms_adm___10    object               0   0.000000   \n",
      "72          symptoms_adm___11    object               0   0.000000   \n",
      "73          symptoms_adm___12    object               0   0.000000   \n",
      "74          symptoms_adm___13    object               0   0.000000   \n",
      "75          symptoms_adm___14    object               0   0.000000   \n",
      "76          symptoms_adm___15    object               0   0.000000   \n",
      "77          symptoms_adm___16    object               0   0.000000   \n",
      "78          symptoms_adm___18    object               0   0.000000   \n",
      "79        comorbidity_adm___1    object               0   0.000000   \n",
      "80        comorbidity_adm___2    object               0   0.000000   \n",
      "81        comorbidity_adm___3    object               0   0.000000   \n",
      "82        comorbidity_adm___4    object               0   0.000000   \n",
      "83        comorbidity_adm___5    object               0   0.000000   \n",
      "84        comorbidity_adm___6    object               0   0.000000   \n",
      "85        comorbidity_adm___7    object               0   0.000000   \n",
      "86        comorbidity_adm___8    object               0   0.000000   \n",
      "87        comorbidity_adm___9    object               0   0.000000   \n",
      "88       comorbidity_adm___10    object               0   0.000000   \n",
      "89       comorbidity_adm___11    object               0   0.000000   \n",
      "90       comorbidity_adm___12    object               0   0.000000   \n",
      "91              priorhosp_adm    object               5   0.186150   \n",
      "92        prioryearwheeze_adm    object               2   0.074460   \n",
      "93         prioryearcough_adm    object               0   0.000000   \n",
      "94          diarrheaoften_adm    object               0   0.000000   \n",
      "95              tbcontact_adm    object               0   0.000000   \n",
      "96          feedingstatus_adm    object               0   0.000000   \n",
      "97          exclbreastfed_adm    object               1   0.037230   \n",
      "98       nonexclbreastfed_adm    object            2603  96.909903   \n",
      "99         totalbreastfed_adm    object               2   0.074460   \n",
      "100           deliveryloc_adm    object               2   0.074460   \n",
      "101           birthattend_adm    object              30   1.116902   \n",
      "102          duedateknown_adm    object               0   0.000000   \n",
      "103       birthdetail_adm___1    object               0   0.000000   \n",
      "104       birthdetail_adm___2    object               0   0.000000   \n",
      "105       birthdetail_adm___3    object               0   0.000000   \n",
      "106       birthdetail_adm___4    object               0   0.000000   \n",
      "107       birthdetail_adm___5    object               0   0.000000   \n",
      "108       birthdetail_adm___6    object               0   0.000000   \n",
      "109          travelmethod_adm    object               1   0.037230   \n",
      "110            traveldist_adm    object               1   0.037230   \n",
      "111     badhealthduration_adm    object               4   0.148920   \n",
      "112          caregiverage_adm    object               2   0.074460   \n",
      "113      caregivermarried_adm    object               0   0.000000   \n",
      "114              momalive_adm    object               1   0.037230   \n",
      "115           momageknown_adm    object              22   0.819062   \n",
      "116  momagefirstpregknown_adm    object               1   0.037230   \n",
      "117                momedu_adm    object               0   0.000000   \n",
      "118                momhiv_adm    object               6   0.223380   \n",
      "119           watersource_adm    object               2   0.074460   \n",
      "120             waterpure_adm    object               2   0.074460   \n",
      "121          cookfuel_adm___1    object               0   0.000000   \n",
      "122          cookfuel_adm___2    object               0   0.000000   \n",
      "123          cookfuel_adm___3    object               0   0.000000   \n",
      "124          cookfuel_adm___4    object               0   0.000000   \n",
      "125          cookfuel_adm___5    object               0   0.000000   \n",
      "126          cookfuel_adm___6    object               0   0.000000   \n",
      "127          cookfuel_adm___7    object               0   0.000000   \n",
      "128               cookloc_adm    object               2   0.074460   \n",
      "129             lightfuel_adm    object               3   0.111690   \n",
      "130               tobacco_adm    object               0   0.000000   \n",
      "131                bednet_adm    object               3   0.111690   \n",
      "132     hctpretransfusion_adm    object              43   1.600894   \n",
      "133             hivstatus_adm    object               5   0.186150   \n",
      "134      malariastatuspos_adm    object               2   0.074460   \n",
      "135                 lengthadm     int64               0   0.000000   \n",
      "136         caregiver_adm_new    object               3   0.111690   \n",
      "137      inhospital_mortality     int64               0   0.000000   \n",
      "\n",
      "     Unique Values  \n",
      "0             2686  \n",
      "1              451  \n",
      "2              365  \n",
      "3              262  \n",
      "4               98  \n",
      "5              135  \n",
      "6               80  \n",
      "7               79  \n",
      "8               75  \n",
      "9               55  \n",
      "10              42  \n",
      "11              38  \n",
      "12              21  \n",
      "13              35  \n",
      "14              23  \n",
      "15              15  \n",
      "16              12  \n",
      "17               9  \n",
      "18              55  \n",
      "19             107  \n",
      "20              68  \n",
      "21             144  \n",
      "22              79  \n",
      "23              96  \n",
      "24               2  \n",
      "25               2  \n",
      "26               4  \n",
      "27               2  \n",
      "28               2  \n",
      "29               2  \n",
      "30               3  \n",
      "31               3  \n",
      "32               2  \n",
      "33               2  \n",
      "34               2  \n",
      "35               2  \n",
      "36               2  \n",
      "37               2  \n",
      "38               2  \n",
      "39               2  \n",
      "40               2  \n",
      "41               2  \n",
      "42               2  \n",
      "43               2  \n",
      "44               2  \n",
      "45               2  \n",
      "46               2  \n",
      "47               2  \n",
      "48               2  \n",
      "49               2  \n",
      "50               2  \n",
      "51               2  \n",
      "52               2  \n",
      "53               2  \n",
      "54               3  \n",
      "55               2  \n",
      "56               5  \n",
      "57               2  \n",
      "58               5  \n",
      "59               2  \n",
      "60               3  \n",
      "61               3  \n",
      "62               2  \n",
      "63               2  \n",
      "64               2  \n",
      "65               2  \n",
      "66               2  \n",
      "67               2  \n",
      "68               2  \n",
      "69               2  \n",
      "70               2  \n",
      "71               2  \n",
      "72               2  \n",
      "73               2  \n",
      "74               2  \n",
      "75               2  \n",
      "76               2  \n",
      "77               2  \n",
      "78               1  \n",
      "79               2  \n",
      "80               2  \n",
      "81               2  \n",
      "82               1  \n",
      "83               2  \n",
      "84               2  \n",
      "85               2  \n",
      "86               2  \n",
      "87               2  \n",
      "88               2  \n",
      "89               2  \n",
      "90               2  \n",
      "91               6  \n",
      "92               4  \n",
      "93               4  \n",
      "94               3  \n",
      "95               3  \n",
      "96               3  \n",
      "97              10  \n",
      "98               5  \n",
      "99               6  \n",
      "100              5  \n",
      "101              5  \n",
      "102              2  \n",
      "103              2  \n",
      "104              2  \n",
      "105              2  \n",
      "106              2  \n",
      "107              2  \n",
      "108              2  \n",
      "109              6  \n",
      "110              7  \n",
      "111              6  \n",
      "112              4  \n",
      "113              5  \n",
      "114              2  \n",
      "115              2  \n",
      "116              2  \n",
      "117              6  \n",
      "118              3  \n",
      "119              6  \n",
      "120              2  \n",
      "121              2  \n",
      "122              2  \n",
      "123              2  \n",
      "124              2  \n",
      "125              2  \n",
      "126              2  \n",
      "127              2  \n",
      "128              3  \n",
      "129              8  \n",
      "130              5  \n",
      "131              3  \n",
      "132              2  \n",
      "133              2  \n",
      "134              2  \n",
      "135             38  \n",
      "136              4  \n",
      "137              2  \n"
     ]
    }
   ],
   "source": [
    "#Create a summary DataFrame of column characteristics\n",
    "\n",
    "column_summary= pd.DataFrame({'Column': sepsis_df.columns, \n",
    "                              'Data Type': sepsis_df.dtypes.values,\n",
    "                              'Missing Values': sepsis_df.isnull().sum().values,\n",
    "                              'Missing %': (sepsis_df.isnull().mean() * 100).values,\n",
    "                              'Unique Values': sepsis_df.nunique().values})\n",
    "\n",
    "\n",
    "\n",
    "# Display all rows in the column summary\n",
    "pd.set_option('display.max_rows', None)\n",
    "\n",
    "# Print\n",
    "print(column_summary)"
   ]
  },
  {
   "cell_type": "markdown",
   "id": "3fa4c56d-1be6-41b6-8d41-8d8c0225cbf7",
   "metadata": {},
   "source": [
    "## Data Cleaning"
   ]
  },
  {
   "cell_type": "markdown",
   "id": "e29a295b-3f69-41ac-adb9-3d0180e227fa",
   "metadata": {},
   "source": [
    "### Dropping columns\n",
    "\n",
    "#### 1. Dropping the Intervention Columns"
   ]
  },
  {
   "cell_type": "markdown",
   "id": "f59cbc71-aef6-4f2c-b8d6-367e816d9a32",
   "metadata": {},
   "source": [
    "Dropped intervention columns: These variables represent treatments that, while powerful predictors, are excluded due to their post-admission nature. The model, however, relies on data available at the time of admission."
   ]
  },
  {
   "cell_type": "code",
   "execution_count": 248,
   "id": "6af380f2-945f-47fe-abbd-b7e2baaa326b",
   "metadata": {},
   "outputs": [
    {
     "name": "stdout",
     "output_type": "stream",
     "text": [
      "Remaining columns: 117\n",
      "Dropped intervention columns: ['admitabx_adm___1', 'admitabx_adm___2', 'admitabx_adm___3', 'admitabx_adm___4', 'admitabx_adm___5', 'admitabx_adm___6', 'admitabx_adm___7', 'admitabx_adm___8', 'admitabx_adm___9', 'admitabx_adm___10', 'admitabx_adm___11', 'admitabx_adm___12', 'admitabx_adm___13', 'admitabx_adm___14', 'admitabx_adm___15', 'admitabx_adm___16', 'admitabx_adm___17', 'admitabx_adm___18', 'admitabx_adm___19', 'admitabx_adm___20', 'admitabx_adm___21']\n"
     ]
    }
   ],
   "source": [
    "# Removing leading/trailing whitespace\n",
    "sepsis_df.columns = sepsis_df.columns.str.strip()\n",
    "\n",
    "# Define the intervention columns we want to drop\n",
    "intervention_cols = [f\"admitabx_adm___{i}\" for i in range(1, 22)]\n",
    "\n",
    "# Dropping them\n",
    "sepsis_df.drop(columns=intervention_cols, inplace=True, errors='ignore')\n",
    "\n",
    "# Confirming\n",
    "print(\"Remaining columns:\", sepsis_df.shape[1])\n",
    "print(\"Dropped intervention columns:\", intervention_cols)\n"
   ]
  },
  {
   "cell_type": "markdown",
   "id": "a2b56d36-9ee8-4ac3-a7e9-ce315fa3e321",
   "metadata": {},
   "source": [
    "#### 2. Dropping other additional Columns"
   ]
  },
  {
   "cell_type": "code",
   "execution_count": 250,
   "id": "1ce0710d-87ce-451c-a99d-c07881901300",
   "metadata": {},
   "outputs": [],
   "source": [
    "# Dropping unnecessary columns\n",
    "sepsis_df = sepsis_df.drop([\"spo2other_adm\",\"lactate2_mmolpl_adm\",\"nonexclbreastfed_adm\",\"vaccmeaslessource_adm\"], axis=1)"
   ]
  },
  {
   "cell_type": "markdown",
   "id": "2876357b-b63c-46be-92f5-e504e5a4b6ca",
   "metadata": {},
   "source": [
    "#### Justification for dropping\n",
    "___\n",
    "* **\"spo2other\\_adm\" dropped:** Represents oxygen saturation with another device (redundant), and has 93.3% missing values.\n",
    "* **\"lactate2\\_mmolpl\\_adm\" dropped:** A similar measurement is available, and it has 82.54% missing values.\n",
    "* **\"nonexclbreastfed\\_adm\" dropped:** Represents non-exclusive breastfeeding details, with 96.91% missing values.\n",
    "* **\"vaccmeaslessource\\_adm\" dropped:** Represents the source of information regarding measles vaccination (found to be less important), with 35.22% missing values.\n",
    "___"
   ]
  },
  {
   "cell_type": "markdown",
   "id": "17468e6c-e236-4e0b-87e1-036d8f7d52bc",
   "metadata": {},
   "source": [
    "### Handling Missing Values"
   ]
  },
  {
   "cell_type": "markdown",
   "id": "b3ac8b16-4679-4787-a2e4-34b418cb5c2f",
   "metadata": {},
   "source": [
    "#### 1. Numerical Variables with Missing Values"
   ]
  },
  {
   "cell_type": "markdown",
   "id": "2817125e-a0f4-4844-8c50-ff86546162ec",
   "metadata": {},
   "source": [
    "*Clean numeric-columns*"
   ]
  },
  {
   "cell_type": "code",
   "execution_count": 252,
   "id": "ab36b883-4101-424b-95a9-d1e8ac3ce29b",
   "metadata": {},
   "outputs": [
    {
     "name": "stdout",
     "output_type": "stream",
     "text": [
      "Columns with fairly symmetric distributions: ['muac_mm_adm', 'sysbp_mmhg_adm', 'diasbp_mmhg_adm', 'hematocrit_gpdl_adm']\n"
     ]
    }
   ],
   "source": [
    "# Get columns that have at least one missing value\n",
    "cols_with_missing = sepsis_df.columns[sepsis_df.isnull().any()].tolist()\n",
    "\n",
    "# Create a new DataFrame with only those columns\n",
    "df_missing_subset = sepsis_df[cols_with_missing]\n",
    "\n",
    "# Select numeric columns only\n",
    "numeric_cols = df_missing_subset.select_dtypes(include='number')\n",
    "\n",
    "# Calculate skewness for each numeric column\n",
    "skewness = numeric_cols.skew()\n",
    "\n",
    "# Filter columns where skewness is between -0.5 and +0.5\n",
    "symmetric_cols = skewness[(skewness > -0.5) & (skewness < 0.5)].index.tolist()\n",
    "\n",
    "print(\"Columns with fairly symmetric distributions:\", symmetric_cols)"
   ]
  },
  {
   "cell_type": "markdown",
   "id": "635ec45c-0a9f-474a-9bad-be7bcc478880",
   "metadata": {},
   "source": [
    "___\n",
    "Columns with fairly symmetric distributions (skewness between -0.5 and 0.5) were identified using the `.skew()` function and separated for imputation using the **mean**. For columns with more skewed distributions (skewness < -0.5 or > 0.5), the **median** will be used instead, as it's more robust to outliers.\n",
    "___"
   ]
  },
  {
   "cell_type": "markdown",
   "id": "8cb65460-6afe-4967-97b3-5ce68aad6b30",
   "metadata": {},
   "source": [
    "#### Imputing the columns with fairly symmetric distributions using mean"
   ]
  },
  {
   "cell_type": "code",
   "execution_count": 254,
   "id": "f7d6c377-54f2-4f3b-819b-60b4eb1fc4d0",
   "metadata": {},
   "outputs": [],
   "source": [
    "sepsis_df[['sysbp_mmhg_adm', 'diasbp_mmhg_adm']] = sepsis_df[['sysbp_mmhg_adm', 'diasbp_mmhg_adm']].fillna(sepsis_df[['sysbp_mmhg_adm', 'diasbp_mmhg_adm']].mean())"
   ]
  },
  {
   "cell_type": "markdown",
   "id": "7f1951cf-c465-44d2-8184-aae4f2883646",
   "metadata": {},
   "source": [
    "#### Imputing 'height_cm_adm' column"
   ]
  },
  {
   "cell_type": "code",
   "execution_count": 256,
   "id": "3aa0d477-7356-42b3-b601-47587e84a6a5",
   "metadata": {},
   "outputs": [
    {
     "data": {
      "text/html": [
       "<div>\n",
       "<style scoped>\n",
       "    .dataframe tbody tr th:only-of-type {\n",
       "        vertical-align: middle;\n",
       "    }\n",
       "\n",
       "    .dataframe tbody tr th {\n",
       "        vertical-align: top;\n",
       "    }\n",
       "\n",
       "    .dataframe thead th {\n",
       "        text-align: right;\n",
       "    }\n",
       "</style>\n",
       "<table border=\"1\" class=\"dataframe\">\n",
       "  <thead>\n",
       "    <tr style=\"text-align: right;\">\n",
       "      <th></th>\n",
       "      <th>weight_kg_adm</th>\n",
       "      <th>agecalc_adm</th>\n",
       "      <th>sex_adm</th>\n",
       "    </tr>\n",
       "  </thead>\n",
       "  <tbody>\n",
       "    <tr>\n",
       "      <th>370</th>\n",
       "      <td>13.0</td>\n",
       "      <td>23.3</td>\n",
       "      <td>Male</td>\n",
       "    </tr>\n",
       "    <tr>\n",
       "      <th>430</th>\n",
       "      <td>NaN</td>\n",
       "      <td>29.0</td>\n",
       "      <td>Male</td>\n",
       "    </tr>\n",
       "    <tr>\n",
       "      <th>858</th>\n",
       "      <td>NaN</td>\n",
       "      <td>30.1</td>\n",
       "      <td>Female</td>\n",
       "    </tr>\n",
       "    <tr>\n",
       "      <th>928</th>\n",
       "      <td>NaN</td>\n",
       "      <td>26.9</td>\n",
       "      <td>Male</td>\n",
       "    </tr>\n",
       "    <tr>\n",
       "      <th>956</th>\n",
       "      <td>5.8</td>\n",
       "      <td>22.0</td>\n",
       "      <td>Male</td>\n",
       "    </tr>\n",
       "    <tr>\n",
       "      <th>1025</th>\n",
       "      <td>NaN</td>\n",
       "      <td>15.5</td>\n",
       "      <td>Male</td>\n",
       "    </tr>\n",
       "    <tr>\n",
       "      <th>1178</th>\n",
       "      <td>13.0</td>\n",
       "      <td>52.2</td>\n",
       "      <td>Female</td>\n",
       "    </tr>\n",
       "    <tr>\n",
       "      <th>1360</th>\n",
       "      <td>NaN</td>\n",
       "      <td>21.2</td>\n",
       "      <td>Female</td>\n",
       "    </tr>\n",
       "    <tr>\n",
       "      <th>1785</th>\n",
       "      <td>9.0</td>\n",
       "      <td>22.5</td>\n",
       "      <td>Male</td>\n",
       "    </tr>\n",
       "    <tr>\n",
       "      <th>1855</th>\n",
       "      <td>9.0</td>\n",
       "      <td>10.6</td>\n",
       "      <td>Male</td>\n",
       "    </tr>\n",
       "    <tr>\n",
       "      <th>1887</th>\n",
       "      <td>NaN</td>\n",
       "      <td>55.7</td>\n",
       "      <td>Female</td>\n",
       "    </tr>\n",
       "    <tr>\n",
       "      <th>2336</th>\n",
       "      <td>8.5</td>\n",
       "      <td>8.4</td>\n",
       "      <td>Female</td>\n",
       "    </tr>\n",
       "    <tr>\n",
       "      <th>2353</th>\n",
       "      <td>NaN</td>\n",
       "      <td>18.9</td>\n",
       "      <td>Male</td>\n",
       "    </tr>\n",
       "    <tr>\n",
       "      <th>2356</th>\n",
       "      <td>NaN</td>\n",
       "      <td>22.0</td>\n",
       "      <td>Male</td>\n",
       "    </tr>\n",
       "  </tbody>\n",
       "</table>\n",
       "</div>"
      ],
      "text/plain": [
       "      weight_kg_adm  agecalc_adm sex_adm\n",
       "370            13.0         23.3    Male\n",
       "430             NaN         29.0    Male\n",
       "858             NaN         30.1  Female\n",
       "928             NaN         26.9    Male\n",
       "956             5.8         22.0    Male\n",
       "1025            NaN         15.5    Male\n",
       "1178           13.0         52.2  Female\n",
       "1360            NaN         21.2  Female\n",
       "1785            9.0         22.5    Male\n",
       "1855            9.0         10.6    Male\n",
       "1887            NaN         55.7  Female\n",
       "2336            8.5          8.4  Female\n",
       "2353            NaN         18.9    Male\n",
       "2356            NaN         22.0    Male"
      ]
     },
     "execution_count": 256,
     "metadata": {},
     "output_type": "execute_result"
    }
   ],
   "source": [
    "# Show relevant info where height is missing\n",
    "sepsis_df.loc[sepsis_df['height_cm_adm'].isnull(), ['weight_kg_adm', 'agecalc_adm', 'sex_adm']]"
   ]
  },
  {
   "cell_type": "markdown",
   "id": "5f6fd6a4-939f-431b-91da-3d75ce26e6f2",
   "metadata": {},
   "source": [
    "* To handle missing values in the height_cm_adm column, the approach involves imputing the missing heights using the WHO median height-for-age data. The patient's age in months is rounded to the nearest whole number to align with the WHO data, which includes median height values for different age months. The missing values in the height_cm_adm column are then filled with the corresponding median height from the WHO dataset based on the patient's rounded age.\n",
    "  \n",
    "* This method ensures that the imputed heights are age-appropriate and based on established growth standards, improving the overall quality of the dataset for analysis."
   ]
  },
  {
   "cell_type": "markdown",
   "id": "0a93abf3-3469-41f5-9676-3d1bcb966f57",
   "metadata": {},
   "source": [
    "##### *For Female*"
   ]
  },
  {
   "cell_type": "code",
   "execution_count": 258,
   "id": "1e424f1d-b435-4af4-98fa-bfb51716b9f8",
   "metadata": {},
   "outputs": [],
   "source": [
    "# Loading the WHO dataset for girls\n",
    "who_girls = pd.read_csv(\"girls_length_height_for_age.csv\")"
   ]
  },
  {
   "cell_type": "code",
   "execution_count": 260,
   "id": "337bb5f4-8757-47de-be98-cb19444d94d3",
   "metadata": {},
   "outputs": [],
   "source": [
    "# Round age to match WHO months\n",
    "sepsis_df['age_months_rounded'] = sepsis_df['agecalc_adm'].round().astype(int)\n",
    "\n",
    "# Prepare WHO data\n",
    "who_clean = who_girls[['Months', 'Median']].rename(columns={\n",
    "    'Months': 'age_months_rounded',\n",
    "    'Median': 'who_median_height'\n",
    "})\n",
    "\n",
    "# Merge on the rounded age\n",
    "sepsis_df = sepsis_df.merge(\n",
    "    who_clean,\n",
    "    on='age_months_rounded',\n",
    "    how='left'\n",
    ")"
   ]
  },
  {
   "cell_type": "markdown",
   "id": "5d2de59e-bf98-4bd7-b8c2-5933215b376c",
   "metadata": {},
   "source": [
    "* The patient's age in months is rounded to the nearest whole number to align with the WHO data. The WHO median height-for-age data for girls is then cleaned and merged with the sepsis dataset based on the rounded age.\n",
    "\n",
    "* This ensures that each patient is matched with the appropriate WHO median height based on their age."
   ]
  },
  {
   "cell_type": "code",
   "execution_count": 262,
   "id": "793e20aa-7666-4975-bf32-2939a45e25d2",
   "metadata": {},
   "outputs": [],
   "source": [
    "# Identify missing heights for female patients\n",
    "girls_mask = (sepsis_df['sex_adm'] == 'Female') & (sepsis_df['height_cm_adm'].isna())\n",
    "\n",
    "# Impute with WHO median height based on rounded age\n",
    "sepsis_df.loc[girls_mask, 'height_cm_adm'] = sepsis_df.loc[girls_mask, 'who_median_height']"
   ]
  },
  {
   "cell_type": "markdown",
   "id": "558148ce-1662-40a9-a8b9-4b23009bd7b2",
   "metadata": {},
   "source": [
    "* This code identifies missing height values for female patients by creating a mask where the sex_adm is 'Female' and height_cm_adm is null.\n",
    "\n",
    "* Then, for these patients, the missing height values are imputed using the corresponding WHO median height based on the patient's rounded age in months."
   ]
  },
  {
   "cell_type": "markdown",
   "id": "209d52f5-6b16-4214-8088-01e6f9abce91",
   "metadata": {},
   "source": [
    "##### *For Male*"
   ]
  },
  {
   "cell_type": "code",
   "execution_count": 264,
   "id": "eb8e610d-9b57-4a9e-9dfa-000de20225d3",
   "metadata": {},
   "outputs": [],
   "source": [
    "# Loading the WHO dataset for boys\n",
    "who_boys = pd.read_csv(\"boys_length_height_for_age.csv\")"
   ]
  },
  {
   "cell_type": "code",
   "execution_count": 266,
   "id": "063d635b-0aa1-4ed9-a616-71be988c3091",
   "metadata": {},
   "outputs": [],
   "source": [
    "# Round age to match WHO months\n",
    "sepsis_df['age_months_rounded'] = sepsis_df['agecalc_adm'].round().astype(int)\n",
    "\n",
    "# Prepare WHO data\n",
    "who_clean_boys = who_boys[['Months', 'Median']].rename(columns={\n",
    "    'Months': 'age_months_rounded',\n",
    "    'Median': 'who_median_height_boys'\n",
    "})\n",
    "\n",
    "# Merge on the rounded age\n",
    "sepsis_df = sepsis_df.merge(\n",
    "    who_clean_boys,\n",
    "    on='age_months_rounded',\n",
    "    how='left'\n",
    ")"
   ]
  },
  {
   "cell_type": "markdown",
   "id": "bbbddd32-8e38-4eac-a3d2-debc394a1c82",
   "metadata": {},
   "source": [
    "* In this process, the age calculation of the children in the sepsis dataset is rounded to the nearest whole month using the agecalc_adm column. This rounded age is stored in a new column age_months_rounded.\n",
    "\n",
    "* Next, the WHO data for boys is prepared by extracting the relevant columns (Months and Median) from the who_boys dataset and renaming them to age_months_rounded and who_median_height_boys, ensuring consistency with the sepsis dataset.\n",
    "\n",
    "* Finally, the two datasets are merged based on the rounded age (age_months_rounded), allowing the sepsis dataset to be enriched with the WHO median height for boys based on the rounded age, creating a column called who_median_height_boys in the sepsis_df."
   ]
  },
  {
   "cell_type": "code",
   "execution_count": 268,
   "id": "2f7b2091-3555-420e-8997-7c5cc0c27070",
   "metadata": {},
   "outputs": [
    {
     "data": {
      "text/plain": [
       "0"
      ]
     },
     "execution_count": 268,
     "metadata": {},
     "output_type": "execute_result"
    }
   ],
   "source": [
    "# Identify missing heights for male patients\n",
    "boys_mask = (sepsis_df['sex_adm'] == 'Male') & (sepsis_df['height_cm_adm'].isna())\n",
    "\n",
    "# Impute with WHO median height based on rounded age for boys\n",
    "sepsis_df.loc[boys_mask, 'height_cm_adm'] = sepsis_df.loc[boys_mask, 'who_median_height_boys']\n",
    "\n",
    "# Check for missing values again\n",
    "sepsis_df['height_cm_adm'].isna().sum()"
   ]
  },
  {
   "cell_type": "markdown",
   "id": "41d76f78-4507-46dc-995b-6a069a1f1e37",
   "metadata": {},
   "source": [
    "* This process identifies missing height values (height_cm_adm) for male patients in the dataset.\n",
    "* For those missing values, the heights are imputed using the WHO median height for boys based on the rounded age.\n",
    "* After the imputation, the number of remaining missing height values is checked to confirm the success of the imputation of the **height_cm_adm** column."
   ]
  },
  {
   "cell_type": "markdown",
   "id": "85528972-458a-4b5b-91b9-ba9956a47a72",
   "metadata": {},
   "source": [
    "#### Imputing 'weight_kg_adm' column"
   ]
  },
  {
   "cell_type": "markdown",
   "id": "b57bb4bd-108b-4e9c-a2c4-e156d0e2397a",
   "metadata": {},
   "source": [
    "* To impute missing weight values in the dataset, we used a reference-based approach leveraging the WHO weight-for-age data. By rounding the age of each patient to the nearest integer, we matched it with the corresponding median weight for boys and girls from the WHO dataset. This allowed us to impute missing weights based on the median value for the given age and sex, ensuring a more accurate and contextually relevant imputation method."
   ]
  },
  {
   "cell_type": "code",
   "execution_count": 270,
   "id": "7c03ca2d-b958-4b42-9cba-bd28e313e044",
   "metadata": {},
   "outputs": [],
   "source": [
    "# Load WHO data\n",
    "boys_wfa = pd.read_csv(\"boys_weight_for_age.csv\")  \n",
    "girls_wfa = pd.read_csv(\"girls_weight_for_age.csv\") "
   ]
  },
  {
   "cell_type": "code",
   "execution_count": 272,
   "id": "c96522e7-e7bd-4417-841a-d81103f8478d",
   "metadata": {},
   "outputs": [
    {
     "data": {
      "text/plain": [
       "0"
      ]
     },
     "execution_count": 272,
     "metadata": {},
     "output_type": "execute_result"
    }
   ],
   "source": [
    "# Round the age to the nearest integer\n",
    "sepsis_df['agecalc_adm_rounded'] = sepsis_df['agecalc_adm'].round().astype(int)\n",
    "\n",
    "# Function to impute missing weight values\n",
    "def impute_weight(row):\n",
    "    if pd.isna(row['weight_kg_adm']):\n",
    "        if row['sex_adm'] == 'Male':\n",
    "            # Get the median weight for boys based on the agecalc_adm\n",
    "            ref = boys_wfa[boys_wfa['Months'] == row['agecalc_adm_rounded']]['Median'].values[0]\n",
    "        else:\n",
    "            # Get the median weight for girls based on the agecalc_adm\n",
    "            ref = girls_wfa[girls_wfa['Months'] == row['agecalc_adm_rounded']]['Median'].values[0]\n",
    "        return ref\n",
    "    return row['weight_kg_adm']\n",
    "\n",
    "# Apply the imputation to the dataset\n",
    "sepsis_df['weight_kg_adm'] = sepsis_df.apply(impute_weight, axis=1)\n",
    "\n",
    "# Check for missing values again\n",
    "sepsis_df['weight_kg_adm'].isna().sum()"
   ]
  },
  {
   "cell_type": "markdown",
   "id": "8e6ea814-3953-48ec-b5fa-d444d9f0877b",
   "metadata": {},
   "source": [
    "* The process of imputing missing values in the weight_kg_adm column begins by loading the WHO weight-for-age datasets for boys and girls. The age column (agecalc_adm) in the sepsis_df dataset is then rounded to the nearest integer to match the age format used in the WHO datasets. A custom function, impute_weight, is created to fill in missing values.\n",
    "* For each row with a missing weight, the function checks the sex of the patient and retrieves the corresponding median weight from the appropriate WHO dataset (boys or girls) based on the rounded age. This median value is then used to impute the missing weight.\n",
    "* The function is applied to the entire dataset, and the weight_kg_adm column is updated accordingly. Finally, a check is performed to confirm that there are no remaining missing values in the weight column, ensuring successful imputation."
   ]
  },
  {
   "cell_type": "markdown",
   "id": "54396397-3771-4145-acd8-60e19e890b02",
   "metadata": {},
   "source": [
    "#### Imputing MUAC based on age"
   ]
  },
  {
   "cell_type": "code",
   "execution_count": 274,
   "id": "70a4d116-74ba-407d-88f2-488b9cb42d7d",
   "metadata": {},
   "outputs": [
    {
     "data": {
      "text/plain": [
       "0"
      ]
     },
     "execution_count": 274,
     "metadata": {},
     "output_type": "execute_result"
    }
   ],
   "source": [
    "# Loading the WHO dataset for girls\n",
    "who_girls = pd.read_csv(\"./acfa-girls-3-5-zscores.csv\")\n",
    "\n",
    "# Round age to match WHO months\n",
    "sepsis_df['age_months_rounded'] = sepsis_df['agecalc_adm'].round().astype(int)\n",
    "\n",
    "# Prepare WHO data\n",
    "who_clean = who_girls[['Month', 'SD0']].rename(columns={\n",
    "    'Month': 'age_months_rounded',\n",
    "    'SD0': 'who_median_muac'\n",
    "})\n",
    "\n",
    "# Merge on the rounded age\n",
    "sepsis_df = sepsis_df.merge(\n",
    "    who_clean,\n",
    "    on='age_months_rounded',\n",
    "    how='left',\n",
    "    suffixes=('', '_who')  # Adding a suffix '_who' to differentiate the columns\n",
    ")\n",
    "\n",
    "# Identify missing muac for female patients\n",
    "girls_mask = (sepsis_df['sex_adm'] == 'Female') & (sepsis_df['muac_mm_adm'].isna())\n",
    "\n",
    "# Impute with WHO median muac based on rounded age\n",
    "sepsis_df.loc[girls_mask, 'muac_mm_adm'] = sepsis_df.loc[girls_mask, 'who_median_muac']\n",
    "\n",
    "# Loading the WHO dataset for boys\n",
    "who_boys = pd.read_csv(\"./acfa-boys-3-5-zscores.csv\")\n",
    "\n",
    "# Round age to match WHO months\n",
    "sepsis_df['age_months_rounded'] = sepsis_df['agecalc_adm'].round().astype(int)\n",
    "\n",
    "# Prepare WHO data\n",
    "who_clean_boys = who_boys[['Month', 'SD0']].rename(columns={\n",
    "    'Month': 'age_months_rounded',\n",
    "    'SD0': 'who_median_muac'\n",
    "})\n",
    "\n",
    "# Merge on the rounded age\n",
    "sepsis_df = sepsis_df.merge(\n",
    "    who_clean_boys,\n",
    "    on='age_months_rounded',\n",
    "    how='left',\n",
    "    suffixes=('', '_who')  # Adding a suffix '_who' to differentiate the columns\n",
    ")\n",
    "\n",
    "# Identify missing heights for male patients\n",
    "boys_mask = (sepsis_df['sex_adm'] == 'Male') & (sepsis_df['muac_mm_adm'].isna())\n",
    "\n",
    "# Impute with WHO median height based on rounded age for boys\n",
    "sepsis_df.loc[boys_mask, 'muac_mm_adm'] = sepsis_df.loc[boys_mask, 'who_median_muac']\n",
    "\n",
    "# Check for missing values again\n",
    "sepsis_df['muac_mm_adm'].isna().sum()"
   ]
  },
  {
   "cell_type": "markdown",
   "id": "c7aea162-39ae-453d-91e4-293dd941588e",
   "metadata": {},
   "source": [
    "___\n",
    "**\"muac_mm_adm\"** was imputed by grouping the data based on age_group, weight quintiles (weight_group), and sex_adm, then filling missing values with the mean MUAC within each subgroup.\n",
    "___"
   ]
  },
  {
   "cell_type": "markdown",
   "id": "904a0f2b-e19d-4704-bbab-4d4bdc2f4c49",
   "metadata": {},
   "source": [
    "#### Imputing 'hematocrit_gpdl_adm' column"
   ]
  },
  {
   "cell_type": "code",
   "execution_count": 276,
   "id": "3d23fb86-c5f3-4026-a0eb-74005a5348eb",
   "metadata": {},
   "outputs": [
    {
     "name": "stdout",
     "output_type": "stream",
     "text": [
      "0\n"
     ]
    }
   ],
   "source": [
    "# Step 1: Define the age group bins\n",
    "def assign_age_group(age_months):\n",
    "    if age_months < 6:\n",
    "        return '3-6 month'\n",
    "    elif age_months < 12:\n",
    "        return '6-1yr'\n",
    "    elif age_months < 24:\n",
    "        return '1-2yr'\n",
    "    elif age_months < 36:\n",
    "        return '2-3yr'\n",
    "    elif age_months < 48:\n",
    "        return '3-4yr'\n",
    "    elif age_months < 60:\n",
    "        return '4-5yr'\n",
    "    elif age_months < 72:\n",
    "        return '5-6yr'\n",
    "    else:\n",
    "        return 'older'\n",
    "\n",
    "# Step 2: Create 'age_group' column\n",
    "sepsis_df['age_group'] = sepsis_df['agecalc_adm'].apply(assign_age_group)\n",
    "\n",
    "# Step 3: Group by age_group and sex_adm, then impute hematocrit\n",
    "sepsis_df['hematocrit_gpdl_adm'] = sepsis_df.groupby(['age_group', 'sex_adm'])['hematocrit_gpdl_adm']\\\n",
    "    .transform(lambda x: x.fillna(x.mean()))\n",
    "print(sepsis_df[\"hematocrit_gpdl_adm\"].isnull().sum())"
   ]
  },
  {
   "cell_type": "markdown",
   "id": "b24bc913-89bb-4049-b4d3-098f33f5bf51",
   "metadata": {},
   "source": [
    "___\n",
    "\" hematocrit_gpdl_adm \" was imputed using a logical, group-based approach. Since hematocrit levels vary by age and sex, first  patients were categorized into age groups and then grouped the data by both age_group and sex_adm.\n",
    "Within each group, missing hematocrit values were filled using the mean of that group, ensuring the imputation respects biologically relevant differences.\n",
    "___"
   ]
  },
  {
   "cell_type": "markdown",
   "id": "ed33fdcb-8037-4406-8cb4-4dcda6556561",
   "metadata": {},
   "source": [
    "#### Imputing 'lactate_mmolpl_adm' column"
   ]
  },
  {
   "cell_type": "code",
   "execution_count": 278,
   "id": "c73dfd45-5ebc-43ee-8d37-528701e6bb73",
   "metadata": {},
   "outputs": [],
   "source": [
    "# Create shock index\n",
    "sepsis_df['shockindex_heart_rate_sbp_adm'] = sepsis_df['hr_bpm_adm'] / sepsis_df['sysbp_mmhg_adm']\n",
    "\n",
    "# Create high-risk indicator based on SpO2 and shock index\n",
    "sepsis_df['high_risk'] = ((sepsis_df['spo2site1_pc_oxi_adm'] < 90) | \n",
    "                          (sepsis_df['shockindex_heart_rate_sbp_adm'] > 1)).astype(int)\n",
    "\n",
    "# Impute lactate using median within risk groups (only one transform needed)\n",
    "sepsis_df['lactate_mmolpl_adm'] = sepsis_df.groupby('high_risk')['lactate_mmolpl_adm']\\\n",
    "                                           .transform(lambda x: x.fillna(x.median()))\n"
   ]
  },
  {
   "cell_type": "markdown",
   "id": "5702f560-28d2-4ad1-850d-1f30230a9829",
   "metadata": {},
   "source": [
    "___\n",
    "\"shockindex_heart_rate_sbp_adm\" was created to aid imputation of missing values in the \"lactate_mmolpl_adm\" column. It was derived from \"hr_bpm_adm\" and \"sysbp_mmhg_adm\"  columns. \n",
    "\n",
    "* Created a `high_risk` flag for patients with SpO₂ < 90 or shock index > 1.\n",
    "  These thresholds are clinically meaningful indicators of potential instability.\n",
    "* Imputed missing `lactate_mmolpl_adm` values using the median within each risk group.\n",
    "  This ensures imputation is done in a context-sensitive way, preserving group-level distribution patterns.\n",
    "  \n",
    "___"
   ]
  },
  {
   "cell_type": "markdown",
   "id": "a6d585fe-e272-481e-88c6-16587d6f9f4b",
   "metadata": {},
   "source": [
    "#### Imputing 'spo2site1_pc_oxi_adm' and 'spo2site1_pc_oxi_adm'"
   ]
  },
  {
   "cell_type": "code",
   "execution_count": 280,
   "id": "c4f28e3c-f4e1-4b0e-b285-7c065f1af97d",
   "metadata": {},
   "outputs": [],
   "source": [
    "# Use spo2site2 to fill missing values in spo2site1\n",
    "sepsis_df['spo2site1_pc_oxi_adm'] = sepsis_df['spo2site1_pc_oxi_adm'].fillna(\n",
    "    sepsis_df['spo2site2_pc_oxi_adm']\n",
    ")\n",
    "\n",
    "# Use spo2site1 to fill missing values in spo2site2\n",
    "sepsis_df['spo2site2_pc_oxi_adm'] = sepsis_df['spo2site2_pc_oxi_adm'].fillna(\n",
    "    sepsis_df['spo2site1_pc_oxi_adm']\n",
    ")"
   ]
  },
  {
   "cell_type": "code",
   "execution_count": 284,
   "id": "e48af45e-50f2-4af7-9f23-e8e84a58757e",
   "metadata": {},
   "outputs": [
    {
     "name": "stdout",
     "output_type": "stream",
     "text": [
      "4\n",
      "4\n"
     ]
    }
   ],
   "source": [
    "# Checking if we still have missing values\n",
    "print(sepsis_df['spo2site1_pc_oxi_adm'].isnull().sum())\n",
    "print(sepsis_df['spo2site2_pc_oxi_adm'].isnull().sum())"
   ]
  },
  {
   "cell_type": "markdown",
   "id": "d453eff9-9e4e-4abf-80ce-afd2b077cbc1",
   "metadata": {},
   "source": [
    "##### Imputing the remaining missing values in both coulumns"
   ]
  },
  {
   "cell_type": "code",
   "execution_count": 286,
   "id": "ba78927a-8415-4aa0-87ba-99058a218fd3",
   "metadata": {},
   "outputs": [],
   "source": [
    "# Create age group\n",
    "sepsis_df['age_group2'] = sepsis_df['agecalc_adm'].apply(lambda x: '<1yr' if x < 1 else '≥1yr')\n",
    "\n",
    "# Impute SpO2 site 1\n",
    "sepsis_df['spo2site1_pc_oxi_adm'] = sepsis_df.groupby('age_group2')['spo2site1_pc_oxi_adm']\\\n",
    "                                             .transform(lambda x: x.fillna(x.median()))\n",
    "\n",
    "# Impute SpO2 site 2\n",
    "sepsis_df['spo2site2_pc_oxi_adm'] = sepsis_df.groupby('age_group2')['spo2site2_pc_oxi_adm']\\\n",
    "                                             .transform(lambda x: x.fillna(x.median()))"
   ]
  },
  {
   "cell_type": "markdown",
   "id": "0e26079f-c475-4d72-8dfa-a7f610771d6e",
   "metadata": {},
   "source": [
    "___\n",
    "The columns **'spo2site1\\_pc\\_oxi\\_adm'** and **'spo2site2\\_pc\\_oxi\\_adm'** represent oxygen saturation levels (percentage of hemoglobin carrying oxygen) from two different body sites. Since both measure similar values, **cross imputation** was used to fill missing values. However, 4 missing values were observed, suggesting that 4 rows were missing data for both columns. To account for age-related physiological differences (e.g., respiratory rate, oxygen saturation, heart rate), an **age\\_group2** variable was created to categorize patients as <1 year or ≥1 year. Missing SpO₂ values were then imputed using the median within each age group.\n",
    "___"
   ]
  },
  {
   "cell_type": "markdown",
   "id": "220afd0b-791f-4f84-afa6-4832e1bfd7ce",
   "metadata": {},
   "source": [
    "#### Imputing 'sqi1_perc_oxi_adm' and 'sqi2_perc_oxi_adm'"
   ]
  },
  {
   "cell_type": "code",
   "execution_count": 288,
   "id": "529b1b1e-f96a-4d7a-af3b-7217299ad338",
   "metadata": {},
   "outputs": [],
   "source": [
    "# Use cross-SQI imputation\n",
    "sepsis_df['sqi1_perc_oxi_adm'] = sepsis_df['sqi1_perc_oxi_adm'].fillna(sepsis_df['sqi2_perc_oxi_adm'])\n",
    "sepsis_df['sqi2_perc_oxi_adm'] = sepsis_df['sqi2_perc_oxi_adm'].fillna(sepsis_df['sqi1_perc_oxi_adm'])"
   ]
  },
  {
   "cell_type": "code",
   "execution_count": 290,
   "id": "6d072de2-31d0-4869-91d9-fb542d29c3ed",
   "metadata": {},
   "outputs": [
    {
     "name": "stdout",
     "output_type": "stream",
     "text": [
      "126\n",
      "126\n"
     ]
    }
   ],
   "source": [
    "# Checking if we still have missing values\n",
    "print(sepsis_df['sqi1_perc_oxi_adm'].isnull().sum())\n",
    "print(sepsis_df['sqi2_perc_oxi_adm'].isnull().sum())"
   ]
  },
  {
   "cell_type": "code",
   "execution_count": 292,
   "id": "53f87b5a-2108-4403-990b-1bc3c53759e6",
   "metadata": {},
   "outputs": [],
   "source": [
    "# Imputing the rest with median\n",
    "sepsis_df['sqi1_perc_oxi_adm'] = sepsis_df['sqi1_perc_oxi_adm'].fillna(sepsis_df['sqi1_perc_oxi_adm'].median())\n",
    "sepsis_df['sqi2_perc_oxi_adm'] = sepsis_df['sqi2_perc_oxi_adm'].fillna(sepsis_df['sqi2_perc_oxi_adm'].median())"
   ]
  },
  {
   "cell_type": "markdown",
   "id": "24d0cfd5-eafc-4f9f-ace8-87092a306a2f",
   "metadata": {},
   "source": [
    "___\n",
    "The columns **'sqi1\\_perc\\_oxi\\_adm'** and **'sqi2\\_perc\\_oxi\\_adm'** represent the best and second-best SpO₂ signal quality index at admission. \n",
    "* **`sqi1_perc_oxi_adm`** = Highest quality SpO₂ signal among all measured sites at admission.\n",
    "* **`sqi2_perc_oxi_adm`** = Second-best quality SpO₂ signal from a different site at admission.\n",
    "Since they are related, **cross-imputation** was applied. However, 126 rows remained missing for both columns, so the remaining missing values were filled using the median.\n",
    "___"
   ]
  },
  {
   "cell_type": "markdown",
   "id": "ce2750ba-12ad-48f1-aea3-47d6f0b2d3d8",
   "metadata": {},
   "source": [
    "#### **Imputing the columns that do not need logical imputing and have skewed distribution**"
   ]
  },
  {
   "cell_type": "code",
   "execution_count": 300,
   "id": "c66ccb1b-fe3f-4dbb-aa7f-9371f1e2795b",
   "metadata": {},
   "outputs": [],
   "source": [
    "# Select numerical columns with missing values\n",
    "num_cols_with_na = sepsis_df.select_dtypes(include=np.number).columns[sepsis_df.select_dtypes(include=np.number).isna().any()]\n",
    "# List of columns to exclude\n",
    "exclude_cols = ['muac_mm_adm', 'sysbp_mmhg_adm', 'diasbp_mmhg_adm', 'hematocrit_gpdl_adm',\n",
    "                'height_cm_adm', 'weight_kg_adm', 'lactate_mmolpl_adm', 'spo2site1_pc_oxi_adm',\n",
    "                'spo2site2_pc_oxi_adm', 'sqi1_perc_oxi_adm', 'sqi2_perc_oxi_adm']\n",
    "# Drop those columns from the list\n",
    "filtered_num_cols = [col for col in num_cols_with_na if col not in exclude_cols]\n",
    "\n",
    "# Impute the remaining numerical columns with median\n",
    "sepsis_df[filtered_num_cols] = sepsis_df[filtered_num_cols].apply(lambda col: col.fillna(col.median()))"
   ]
  },
  {
   "cell_type": "markdown",
   "id": "1c409631-8d64-4a8f-90b3-7d72a502be94",
   "metadata": {},
   "source": [
    "### 2. Categorical Variables with Missing Values"
   ]
  },
  {
   "cell_type": "markdown",
   "id": "6e5c3beb-a813-4880-beb8-88b79378a7cf",
   "metadata": {},
   "source": [
    "#### Imputing 'bcseye_adm' column"
   ]
  },
  {
   "cell_type": "markdown",
   "id": "b202e14e-2e43-492b-b80f-1098747afbd6",
   "metadata": {},
   "source": [
    "* This below code investigates whether missing values in the bcseye_adm variable (Blantyre Coma Scale – Eye Response) are associated with the availability of related coma scale components, specifically:\n",
    "                        \n",
    "                        - bcsmotor_adm – Motor Response\n",
    "                        - bcsverbal_adm – Verbal Response"
   ]
  },
  {
   "cell_type": "code",
   "execution_count": 302,
   "id": "28349f26-1e10-4033-a76e-a1ff6ab32d69",
   "metadata": {},
   "outputs": [
    {
     "name": "stdout",
     "output_type": "stream",
     "text": [
      "                               bcsmotor_adm  \\\n",
      "1388  No response or inappropriate response   \n",
      "\n",
      "                                          bcsverbal_adm  \n",
      "1388  Cries appropriately with pain, or, if verbal, ...  \n"
     ]
    }
   ],
   "source": [
    "# Identify rows where 'bcseye_adm' is missing\n",
    "missing_eye = sepsis_df['bcseye_adm'].isna()\n",
    "\n",
    "# Print the corresponding 'bcsmotor_adm' and 'bcsverbal_adm' values where 'bcseye_adm' is missing\n",
    "print(sepsis_df[missing_eye][['bcsmotor_adm', 'bcsverbal_adm']])"
   ]
  },
  {
   "cell_type": "code",
   "execution_count": 304,
   "id": "326cb722-ef9f-47c8-a51c-2d4ec4b2f76f",
   "metadata": {},
   "outputs": [
    {
     "name": "stdout",
     "output_type": "stream",
     "text": [
      "bcseye_adm                                                     NaN\n",
      "bcsmotor_adm                 No response or inappropriate response\n",
      "bcsverbal_adm    Cries appropriately with pain, or, if verbal, ...\n",
      "Name: 1388, dtype: object\n"
     ]
    }
   ],
   "source": [
    "# Verifying the exact patient record\n",
    "patient_1388 = sepsis_df.loc[1388, ['bcseye_adm', 'bcsmotor_adm', 'bcsverbal_adm']]\n",
    "print(patient_1388)"
   ]
  },
  {
   "cell_type": "code",
   "execution_count": 306,
   "id": "a29b0482-6bf0-48a3-967a-35ab7191087b",
   "metadata": {},
   "outputs": [
    {
     "name": "stdout",
     "output_type": "stream",
     "text": [
      "0\n"
     ]
    }
   ],
   "source": [
    "# Impute missing as \"NoFollow\" (most severe neurological status)\n",
    "sepsis_df['bcseye_adm'] = sepsis_df['bcseye_adm'].fillna('Fails to watch or follow')\n",
    "print(sepsis_df[\"bcseye_adm\"].isnull().sum())\n"
   ]
  },
  {
   "cell_type": "markdown",
   "id": "8f4b6f51-0890-405d-8dab-d822db36c8c9",
   "metadata": {},
   "source": [
    "* This output shows that even though bcseye_adm is missing for this patient (row 1388):\n",
    "                        \n",
    "                        - bcsmotor_adm is present but indicates very low motor responsiveness\n",
    "                        - bcsverbal_adm is present and shows some verbal responsiveness\n",
    "\n",
    "**Since bcsmotor_adm is very low and bcseye_adm is missing, it is reasonable to impute a worst-case value like \"Fails to watch or follow\" for bcseye_adm**"
   ]
  },
  {
   "cell_type": "markdown",
   "id": "c2d5e800-453b-4d92-b2b1-34e857ed579d",
   "metadata": {},
   "source": [
    "#### Imputing 'bcsverbal_adm' column"
   ]
  },
  {
   "cell_type": "code",
   "execution_count": 308,
   "id": "e4f324e7-9c8e-4d40-b530-356638599135",
   "metadata": {},
   "outputs": [
    {
     "name": "stdout",
     "output_type": "stream",
     "text": [
      "              bcseye_adm                          bcsmotor_adm\n",
      "507   Watches or follows  Withdraws limb from painful stimulus\n",
      "1205  Watches or follows  Withdraws limb from painful stimulus\n"
     ]
    }
   ],
   "source": [
    "# Identify rows where 'bcsverbal_adm' (verbal response) is missing\n",
    "missing_verbal = sepsis_df['bcsverbal_adm'].isna()\n",
    "\n",
    "# Display corresponding eye and motor responses for those rows\n",
    "print(sepsis_df[missing_verbal][['bcseye_adm', 'bcsmotor_adm']])"
   ]
  },
  {
   "cell_type": "markdown",
   "id": "832bc291-eadb-4605-a3ad-8fbdc6c6046a",
   "metadata": {},
   "source": [
    "* This code identifies all records where the verbal response (bcsverbal_adm) is missing and displays the corresponding eye and motor response values. It helps assess whether there is a consistent pattern that could be used to logically impute the missing verbal scores."
   ]
  },
  {
   "cell_type": "code",
   "execution_count": 310,
   "id": "39deb512-c7ac-4a02-95dd-526274a3d31c",
   "metadata": {},
   "outputs": [],
   "source": [
    "# Filter records with the same eye/motor scores to find the most frequent verbal response\n",
    "subgroup_mask = (\n",
    "    (sepsis_df['bcseye_adm'] == 'Watches or follows') & \n",
    "    (sepsis_df['bcsmotor_adm'] == 'Withdraws limb from painful stimulus')\n",
    ")\n",
    "mode_verbal = sepsis_df[subgroup_mask]['bcsverbal_adm'].mode()[0]  # Most common in this subgroup\n",
    "\n",
    "# Apply to missing cases\n",
    "sepsis_df.loc[[507, 1205], 'bcsverbal_adm'] = mode_verbal"
   ]
  },
  {
   "cell_type": "markdown",
   "id": "5b651d96-e126-47fc-8827-106cdc9ccc5e",
   "metadata": {},
   "source": [
    "* This code filters the dataset to records where both the eye and motor responses match the specified clinical patterns. It then identifies the most common (modal) verbal response within that subgroup. This modal value is then used to fill in the missing verbal response entries (rows 507 and 1205), ensuring the imputation is clinically consistent."
   ]
  },
  {
   "cell_type": "markdown",
   "id": "302dd3a4-3496-4a4d-84ca-93815f2fecb1",
   "metadata": {},
   "source": [
    "#### Imputing 'hivstatus_adm' column"
   ]
  },
  {
   "cell_type": "code",
   "execution_count": 312,
   "id": "1daaa2e0-bdfe-4b11-a095-3eef544fb6ea",
   "metadata": {},
   "outputs": [],
   "source": [
    "sepsis_df['hivstatus_adm'] = sepsis_df['hivstatus_adm'].fillna('NotTested')"
   ]
  },
  {
   "cell_type": "markdown",
   "id": "128bd2ba-4953-4ecf-b19d-f295e6e0d7b8",
   "metadata": {},
   "source": [
    "* The column **'hivstatus\\_adm'** was imputed with **'NotTested'** since it was challenging to reliably estimate the missing values using the same or related columns."
   ]
  },
  {
   "cell_type": "markdown",
   "id": "6302a522-0f00-4359-b30b-2d97c13d0fc5",
   "metadata": {},
   "source": [
    "#### Imputing 'hctpretransfusion_adm' column"
   ]
  },
  {
   "cell_type": "code",
   "execution_count": 314,
   "id": "490b3b86-d7a4-4057-9bc4-87d50a091c72",
   "metadata": {},
   "outputs": [
    {
     "data": {
      "text/plain": [
       "Text(0.5, 1.0, 'Boxplot of Hematocrit by Pre-Transfusion Status')"
      ]
     },
     "execution_count": 314,
     "metadata": {},
     "output_type": "execute_result"
    },
    {
     "data": {
      "image/png": "[encoded data removed]",
      "text/plain": [
       "<Figure size 640x480 with 1 Axes>"
      ]
     },
     "metadata": {},
     "output_type": "display_data"
    }
   ],
   "source": [
    "sns.boxplot(sepsis_df,x=\"hctpretransfusion_adm\",y=\"hematocrit_gpdl_adm\")\n",
    "plt.title(\"Boxplot of Hematocrit by Pre-Transfusion Status\")"
   ]
  },
  {
   "cell_type": "code",
   "execution_count": 316,
   "id": "8e52ecd4-efdf-4000-8dae-d99a576ac499",
   "metadata": {},
   "outputs": [],
   "source": [
    "# First, calculate mode (most frequent value)\n",
    "mode_value = sepsis_df['hctpretransfusion_adm'].mode()[0]\n",
    "\n",
    "# Define custom function\n",
    "def impute_hctpretransfusion(row):\n",
    "    if pd.isna(row['hctpretransfusion_adm']):\n",
    "        if row['hematocrit_gpdl_adm'] < 10 or row['hematocrit_gpdl_adm'] > 50:\n",
    "            return 'Yes'\n",
    "        else:\n",
    "            return mode_value\n",
    "    else:\n",
    "        return row['hctpretransfusion_adm']\n",
    "\n",
    "# Apply the function to fill missing values\n",
    "sepsis_df['hctpretransfusion_adm'] = sepsis_df.apply(impute_hctpretransfusion,axis=1)"
   ]
  },
  {
   "cell_type": "markdown",
   "id": "fdbfc0e2-8bf2-4bb4-a379-385305ed87ce",
   "metadata": {},
   "source": [
    "* **\"hctpretransfusion\\_adm\"** was imputed using a **distribution-based method** guided by a box plot analysis. Since the upper whisker for “No” responses was around 50 and the lower whisker around 10 (based on hematocrit values), missing entries with hematocrit values outside this range were classified as **\"Yes\"**. The remaining missing values were filled using the **mode**."
   ]
  },
  {
   "cell_type": "markdown",
   "id": "bcaaa316-e457-4383-9840-d2bcee848fd6",
   "metadata": {},
   "source": [
    "#### Imputing columns that do not need Logical Imputing with Mode"
   ]
  },
  {
   "cell_type": "code",
   "execution_count": 318,
   "id": "7ab8f3e3-980e-4749-8deb-dd31c0b97417",
   "metadata": {
    "scrolled": true
   },
   "outputs": [],
   "source": [
    "# List of categorical columns to exclude from imputation\n",
    "exclude_cat_cols = ['bcseye_adm', 'bcsverbal_adm', 'hivstatus_adm', 'hctpretransfusion_adm']\n",
    "\n",
    "# Select categorical columns with missing values\n",
    "cat_cols_with_na = [col for col in sepsis_df.select_dtypes(include='object').columns \n",
    "                    if sepsis_df[col].isna().sum() > 0]\n",
    "\n",
    "# Drop excluded columns\n",
    "filtered_cat_cols = [col for col in cat_cols_with_na if col not in exclude_cat_cols]\n",
    "\n",
    "# Impute remaining categorical columns with mode\n",
    "for col in filtered_cat_cols:\n",
    "    mode_val = sepsis_df[col].mode(dropna=True)[0]\n",
    "    sepsis_df[col] = sepsis_df[col].fillna(mode_val)"
   ]
  },
  {
   "cell_type": "markdown",
   "id": "e473b98d-d8ba-4599-bcdd-5f9729e8f0c9",
   "metadata": {},
   "source": [
    "### Checking for Missing Values after Imputation is done"
   ]
  },
  {
   "cell_type": "code",
   "execution_count": 320,
   "id": "c4b01339-d848-43bf-837d-b538dde3f74d",
   "metadata": {},
   "outputs": [
    {
     "data": {
      "text/plain": [
       "studyid_adm                      0\n",
       "agecalc_adm                      0\n",
       "height_cm_adm                    0\n",
       "weight_kg_adm                    0\n",
       "muac_mm_adm                      0\n",
       "hr_bpm_adm                       0\n",
       "rr_brpm_app_adm                  0\n",
       "sysbp_mmhg_adm                   0\n",
       "diasbp_mmhg_adm                  0\n",
       "temp_c_adm                       0\n",
       "spo2site1_pc_oxi_adm             0\n",
       "spo2site2_pc_oxi_adm             0\n",
       "momage_adm                       0\n",
       "momagefirstpreg_adm              0\n",
       "householdsize_adm                0\n",
       "alivechildren_adm                0\n",
       "deadchildren_adm                 0\n",
       "hematocrit_gpdl_adm              0\n",
       "lactate_mmolpl_adm               0\n",
       "glucose_mmolpl_adm               0\n",
       "sqi1_perc_oxi_adm                0\n",
       "sqi2_perc_oxi_adm                0\n",
       "sex_adm                          0\n",
       "spo2onoxy_adm                    0\n",
       "oxygenavail_adm                  0\n",
       "respdistress_adm                 0\n",
       "caprefill_adm                    0\n",
       "bcseye_adm                       0\n",
       "bcsmotor_adm                     0\n",
       "bcsverbal_adm                    0\n",
       "bcgscar_adm                      0\n",
       "vaccmeasles_adm                  0\n",
       "vaccpneumoc_adm                  0\n",
       "vaccpneumocsource_adm            0\n",
       "vaccdpt_adm                      0\n",
       "vaccdptsource_adm                0\n",
       "priorweekabx_adm                 0\n",
       "priorweekantimal_adm             0\n",
       "symptoms_adm___1                 0\n",
       "symptoms_adm___2                 0\n",
       "symptoms_adm___3                 0\n",
       "symptoms_adm___4                 0\n",
       "symptoms_adm___5                 0\n",
       "symptoms_adm___6                 0\n",
       "symptoms_adm___7                 0\n",
       "symptoms_adm___8                 0\n",
       "symptoms_adm___9                 0\n",
       "symptoms_adm___10                0\n",
       "symptoms_adm___11                0\n",
       "symptoms_adm___12                0\n",
       "symptoms_adm___13                0\n",
       "symptoms_adm___14                0\n",
       "symptoms_adm___15                0\n",
       "symptoms_adm___16                0\n",
       "symptoms_adm___18                0\n",
       "comorbidity_adm___1              0\n",
       "comorbidity_adm___2              0\n",
       "comorbidity_adm___3              0\n",
       "comorbidity_adm___4              0\n",
       "comorbidity_adm___5              0\n",
       "comorbidity_adm___6              0\n",
       "comorbidity_adm___7              0\n",
       "comorbidity_adm___8              0\n",
       "comorbidity_adm___9              0\n",
       "comorbidity_adm___10             0\n",
       "comorbidity_adm___11             0\n",
       "comorbidity_adm___12             0\n",
       "priorhosp_adm                    0\n",
       "prioryearwheeze_adm              0\n",
       "prioryearcough_adm               0\n",
       "diarrheaoften_adm                0\n",
       "tbcontact_adm                    0\n",
       "feedingstatus_adm                0\n",
       "exclbreastfed_adm                0\n",
       "totalbreastfed_adm               0\n",
       "deliveryloc_adm                  0\n",
       "birthattend_adm                  0\n",
       "duedateknown_adm                 0\n",
       "birthdetail_adm___1              0\n",
       "birthdetail_adm___2              0\n",
       "birthdetail_adm___3              0\n",
       "birthdetail_adm___4              0\n",
       "birthdetail_adm___5              0\n",
       "birthdetail_adm___6              0\n",
       "travelmethod_adm                 0\n",
       "traveldist_adm                   0\n",
       "badhealthduration_adm            0\n",
       "caregiverage_adm                 0\n",
       "caregivermarried_adm             0\n",
       "momalive_adm                     0\n",
       "momageknown_adm                  0\n",
       "momagefirstpregknown_adm         0\n",
       "momedu_adm                       0\n",
       "momhiv_adm                       0\n",
       "watersource_adm                  0\n",
       "waterpure_adm                    0\n",
       "cookfuel_adm___1                 0\n",
       "cookfuel_adm___2                 0\n",
       "cookfuel_adm___3                 0\n",
       "cookfuel_adm___4                 0\n",
       "cookfuel_adm___5                 0\n",
       "cookfuel_adm___6                 0\n",
       "cookfuel_adm___7                 0\n",
       "cookloc_adm                      0\n",
       "lightfuel_adm                    0\n",
       "tobacco_adm                      0\n",
       "bednet_adm                       0\n",
       "hctpretransfusion_adm            0\n",
       "hivstatus_adm                    0\n",
       "malariastatuspos_adm             0\n",
       "lengthadm                        0\n",
       "caregiver_adm_new                0\n",
       "inhospital_mortality             0\n",
       "age_months_rounded               0\n",
       "who_median_height                0\n",
       "who_median_height_boys           0\n",
       "agecalc_adm_rounded              0\n",
       "who_median_muac                  0\n",
       "who_median_muac_who              0\n",
       "age_group                        0\n",
       "shockindex_heart_rate_sbp_adm    0\n",
       "high_risk                        0\n",
       "age_group2                       0\n",
       "dtype: int64"
      ]
     },
     "execution_count": 320,
     "metadata": {},
     "output_type": "execute_result"
    }
   ],
   "source": [
    "sepsis_df.isnull().sum()"
   ]
  },
  {
   "cell_type": "markdown",
   "id": "f142be77-a3b2-450a-9d1a-2fa474e68717",
   "metadata": {},
   "source": [
    "* Observation : All columns do not contain missing value."
   ]
  },
  {
   "cell_type": "markdown",
   "id": "735dcf34-59d7-4234-86af-d533f8782a96",
   "metadata": {},
   "source": [
    "### Now we drop the columns that were added during the cleaning process"
   ]
  },
  {
   "cell_type": "code",
   "execution_count": 322,
   "id": "1052b453-e25b-4ffa-83c2-5ac3ecbd71b0",
   "metadata": {},
   "outputs": [],
   "source": [
    "sepsis_df.columns.get_loc('inhospital_mortality')\n",
    "sepsis_df = sepsis_df.drop(sepsis_df.columns[113:], axis=1)"
   ]
  },
  {
   "cell_type": "markdown",
   "id": "a43ed36d-3575-41d5-9d14-a26a720fcbe4",
   "metadata": {},
   "source": [
    "### Hypothesis Testing\n",
    "\n",
    "To better understand which features are potentially associated with **in-hospital mortality**, we performed hypothesis testing for both **categorical** and **continuous** variables. This helps us identify variables that exhibit statistically significant differences between patients who **survived (0)** and those who **died (1)** during hospitalization.\n",
    "\n",
    "---\n",
    "\n",
    "#### Categorical Features – Chi-Square Test of Independence\n",
    "\n",
    "This test evaluates whether there is a significant association between each categorical variable and the target outcome.\n",
    "\n",
    "- **Null Hypothesis (H₀):** There is no association between the categorical feature and in-hospital mortality.  \n",
    "- **Alternative Hypothesis (H₁):** There is a significant association between the categorical feature and in-hospital mortality.\n",
    "\n",
    "---\n",
    "\n",
    "#### Continuous Features – Mann-Whitney U Test\n",
    "\n",
    "This non-parametric test is used to compare the distributions of two independent groups. It is preferred here due to the likely non-normal distribution of clinical measurements.\n",
    "\n",
    "- **Null Hypothesis (H₀):** The distributions of the continuous variable are equal for survivors and non-survivors.  \n",
    "- **Alternative Hypothesis (H₁):** The distributions of the continuous variable differ between survivors and non-survivors.\n",
    "\n",
    "---\n",
    "\n",
    "By identifying features with **low p-values** (typically **p < 0.01**), we can prioritize them in downstream modeling, as they may hold predictive value for mortality outcomes.\n",
    "\n"
   ]
  },
  {
   "cell_type": "code",
   "execution_count": 324,
   "id": "3e5b3836-5090-4fd7-a57f-372f0971c403",
   "metadata": {},
   "outputs": [
    {
     "name": "stdout",
     "output_type": "stream",
     "text": [
      "\n",
      "--- Chi-Square Test Results ---\n",
      "sex_adm: p-value = 0.5463\n",
      "spo2onoxy_adm: p-value = 0.0000\n",
      "oxygenavail_adm: p-value = 0.0000\n",
      "respdistress_adm: p-value = 0.0002\n",
      "caprefill_adm: p-value = 0.0064\n",
      "bcseye_adm: p-value = 0.0000\n",
      "bcsmotor_adm: p-value = 0.0000\n",
      "bcsverbal_adm: p-value = 0.0000\n",
      "bcgscar_adm: p-value = 0.0002\n",
      "vaccmeasles_adm: p-value = 0.8093\n",
      "vaccpneumoc_adm: p-value = 0.0492\n",
      "vaccpneumocsource_adm: p-value = 0.9819\n",
      "vaccdpt_adm: p-value = 0.0303\n",
      "vaccdptsource_adm: p-value = 0.7855\n",
      "priorweekabx_adm: p-value = 0.9838\n",
      "priorweekantimal_adm: p-value = 0.7438\n",
      "symptoms_adm___1: p-value = 0.8541\n",
      "symptoms_adm___2: p-value = 0.0919\n",
      "symptoms_adm___3: p-value = 0.0365\n",
      "symptoms_adm___4: p-value = 0.1887\n",
      "symptoms_adm___5: p-value = 0.9805\n",
      "symptoms_adm___6: p-value = 0.7932\n",
      "symptoms_adm___7: p-value = 0.3056\n",
      "symptoms_adm___8: p-value = 0.6099\n",
      "symptoms_adm___9: p-value = 0.6950\n",
      "symptoms_adm___10: p-value = 0.7872\n",
      "symptoms_adm___11: p-value = 0.7196\n",
      "symptoms_adm___12: p-value = 0.5825\n",
      "symptoms_adm___13: p-value = 1.0000\n",
      "symptoms_adm___14: p-value = 0.0001\n",
      "symptoms_adm___15: p-value = 0.0000\n",
      "symptoms_adm___16: p-value = 0.7991\n",
      "comorbidity_adm___1: p-value = 0.8088\n",
      "comorbidity_adm___2: p-value = 1.0000\n",
      "comorbidity_adm___3: p-value = 1.0000\n",
      "comorbidity_adm___5: p-value = 0.1148\n",
      "comorbidity_adm___6: p-value = 0.9645\n",
      "comorbidity_adm___7: p-value = 0.1129\n",
      "comorbidity_adm___8: p-value = 1.0000\n",
      "comorbidity_adm___9: p-value = 1.0000\n",
      "comorbidity_adm___10: p-value = 0.0144\n",
      "comorbidity_adm___11: p-value = 0.2102\n",
      "comorbidity_adm___12: p-value = 0.4654\n",
      "priorhosp_adm: p-value = 0.0387\n",
      "prioryearwheeze_adm: p-value = 0.3286\n",
      "prioryearcough_adm: p-value = 0.2718\n",
      "diarrheaoften_adm: p-value = 0.0063\n",
      "tbcontact_adm: p-value = 0.9278\n",
      "feedingstatus_adm: p-value = 0.0000\n",
      "exclbreastfed_adm: p-value = 0.0487\n",
      "totalbreastfed_adm: p-value = 0.0018\n",
      "deliveryloc_adm: p-value = 0.0870\n",
      "birthattend_adm: p-value = 0.3591\n",
      "duedateknown_adm: p-value = 0.9241\n",
      "birthdetail_adm___1: p-value = 0.3663\n",
      "birthdetail_adm___2: p-value = 0.8986\n",
      "birthdetail_adm___3: p-value = 0.7022\n",
      "birthdetail_adm___4: p-value = 0.4469\n",
      "birthdetail_adm___5: p-value = 1.0000\n",
      "birthdetail_adm___6: p-value = 0.7991\n",
      "travelmethod_adm: p-value = 0.4160\n",
      "traveldist_adm: p-value = 0.2841\n",
      "badhealthduration_adm: p-value = 0.1562\n",
      "caregiverage_adm: p-value = 0.9928\n",
      "caregivermarried_adm: p-value = 0.0008\n",
      "momalive_adm: p-value = 1.0000\n",
      "momageknown_adm: p-value = 0.1359\n",
      "momagefirstpregknown_adm: p-value = 0.8210\n",
      "momedu_adm: p-value = 0.9716\n",
      "momhiv_adm: p-value = 0.1189\n",
      "watersource_adm: p-value = 0.3706\n",
      "waterpure_adm: p-value = 0.0050\n",
      "cookfuel_adm___1: p-value = 1.0000\n",
      "cookfuel_adm___2: p-value = 0.2757\n",
      "cookfuel_adm___3: p-value = 0.7388\n",
      "cookfuel_adm___4: p-value = 0.3358\n",
      "cookfuel_adm___5: p-value = 0.2450\n",
      "cookfuel_adm___6: p-value = 0.3083\n",
      "cookfuel_adm___7: p-value = 0.6214\n",
      "cookloc_adm: p-value = 0.6817\n",
      "lightfuel_adm: p-value = 0.4326\n",
      "tobacco_adm: p-value = 0.0310\n",
      "bednet_adm: p-value = 0.0023\n",
      "hctpretransfusion_adm: p-value = 0.0062\n",
      "hivstatus_adm: p-value = 0.0438\n",
      "malariastatuspos_adm: p-value = 0.3491\n",
      "caregiver_adm_new: p-value = 0.4686\n",
      "\n",
      "--- Mann-Whitney U Test Results ---\n",
      "studyid_adm: p-value = 0.8853\n",
      "agecalc_adm: p-value = 0.9968\n",
      "height_cm_adm: p-value = 0.2235\n",
      "weight_kg_adm: p-value = 0.0041\n",
      "muac_mm_adm: p-value = 0.0032\n",
      "hr_bpm_adm: p-value = 0.2516\n",
      "rr_brpm_app_adm: p-value = 0.0790\n",
      "sysbp_mmhg_adm: p-value = 0.1424\n",
      "diasbp_mmhg_adm: p-value = 0.2097\n",
      "temp_c_adm: p-value = 0.1450\n",
      "spo2site1_pc_oxi_adm: p-value = 0.2565\n",
      "spo2site2_pc_oxi_adm: p-value = 0.1975\n",
      "momage_adm: p-value = 0.0152\n",
      "momagefirstpreg_adm: p-value = 0.1331\n",
      "householdsize_adm: p-value = 0.9525\n",
      "alivechildren_adm: p-value = 0.5765\n",
      "deadchildren_adm: p-value = 0.3246\n",
      "hematocrit_gpdl_adm: p-value = 0.0335\n",
      "lactate_mmolpl_adm: p-value = 0.0019\n",
      "glucose_mmolpl_adm: p-value = 0.0586\n",
      "sqi1_perc_oxi_adm: p-value = 0.8305\n",
      "sqi2_perc_oxi_adm: p-value = 0.8297\n",
      "lengthadm: p-value = 0.1838\n"
     ]
    }
   ],
   "source": [
    "# Separate the target\n",
    "target = 'inhospital_mortality'\n",
    "\n",
    "# 1. Identify categorical and continuous features (excluding target)\n",
    "categorical_features = sepsis_df.select_dtypes(include=['object', 'category', 'bool']).columns.tolist()\n",
    "continuous_features = sepsis_df.select_dtypes(include=['int64', 'float64']).drop(columns=[target]).columns.tolist()\n",
    "\n",
    "# 2. Chi-square test for categorical features\n",
    "print(\"\\n--- Chi-Square Test Results ---\")\n",
    "for col in categorical_features:\n",
    "    contingency_table = pd.crosstab(sepsis_df[col], sepsis_df[target])\n",
    "    if contingency_table.shape[0] > 1:\n",
    "        chi2, p, dof, _ = stats.chi2_contingency(contingency_table)\n",
    "        print(f\"{col}: p-value = {p:.4f}\")\n",
    "\n",
    "# 3. Mann-Whitney U Test for continuous features (non-parametric)\n",
    "print(\"\\n--- Mann-Whitney U Test Results ---\")\n",
    "for col in continuous_features:\n",
    "    survived = sepsis_df[sepsis_df[target] == 0][col]\n",
    "    died = sepsis_df[sepsis_df[target] == 1][col]\n",
    "    u_stat, p_value = stats.mannwhitneyu(survived, died, alternative='two-sided')\n",
    "    print(f\"{col}: p-value = {p_value:.4f}\")\n"
   ]
  },
  {
   "cell_type": "markdown",
   "id": "e13b4c1b-9f1f-4bb5-8ef4-61b618c2a673",
   "metadata": {},
   "source": [
    "#### Identifying Significant Columns based on p values"
   ]
  },
  {
   "cell_type": "code",
   "execution_count": 326,
   "id": "27effd25-24a9-44b2-8c7a-d884a54fe965",
   "metadata": {},
   "outputs": [
    {
     "name": "stdout",
     "output_type": "stream",
     "text": [
      "Total insignificant features (p < 0.01): 20\n",
      "['spo2onoxy_adm', 'oxygenavail_adm', 'respdistress_adm', 'caprefill_adm', 'bcseye_adm', 'bcsmotor_adm', 'bcsverbal_adm', 'bcgscar_adm', 'symptoms_adm___14', 'symptoms_adm___15', 'diarrheaoften_adm', 'feedingstatus_adm', 'totalbreastfed_adm', 'caregivermarried_adm', 'waterpure_adm', 'bednet_adm', 'hctpretransfusion_adm', 'weight_kg_adm', 'muac_mm_adm', 'lactate_mmolpl_adm']\n"
     ]
    }
   ],
   "source": [
    "# 1. Separate categorical and continuous features\n",
    "target = 'inhospital_mortality'\n",
    "categorical_features = sepsis_df.select_dtypes(include=['object', 'category', 'bool']).columns.tolist()\n",
    "continuous_features = sepsis_df.select_dtypes(include=['int64', 'float64']).drop(columns=[target]).columns.tolist()\n",
    "\n",
    "# 2. Chi-Square test for categorical features\n",
    "significant_cat = []\n",
    "for col in categorical_features:\n",
    "    contingency = pd.crosstab(sepsis_df[col], sepsis_df[target])\n",
    "    if contingency.shape[0] > 1:\n",
    "        chi2, p, _, _ = stats.chi2_contingency(contingency)\n",
    "        if p < 0.01:\n",
    "            significant_cat.append(col)\n",
    "\n",
    "# 3. Mann-Whitney U Test for continuous features\n",
    "significant_cont = []\n",
    "for col in continuous_features:\n",
    "    group0 = sepsis_df[sepsis_df[target] == 0][col]\n",
    "    group1 = sepsis_df[sepsis_df[target] == 1][col]\n",
    "    try:\n",
    "        u_stat, p_value = stats.mannwhitneyu(group0, group1, alternative='two-sided')\n",
    "        if p_value < 0.01:\n",
    "            significant_cont.append(col)\n",
    "    except:\n",
    "        pass  # Skip if error due to too many NaNs or invalid inputs\n",
    "\n",
    "# 4. Combine and review\n",
    "significant_features = significant_cat + significant_cont\n",
    "print(f\"Total insignificant features (p < 0.01): {len(significant_features)}\")\n",
    "print(significant_features)"
   ]
  },
  {
   "cell_type": "markdown",
   "id": "0725bd8b-4680-4df7-ab4d-ccc64291d700",
   "metadata": {},
   "source": [
    "\n",
    "* After applying the Chi Square and Mann-Whitney U Test the following columns appeared as significant columns:\n",
    "\n",
    "*Categorical Variables*\n",
    "- 'spo2onoxy_adm'\n",
    "- 'oxygenavail_adm'\n",
    "- 'respdistress_adm'\n",
    "- 'caprefill_adm'\n",
    "- 'bcseye_adm'\n",
    "- 'bcsmotor_adm'\n",
    "- 'bcsverbal_adm'\n",
    "- 'bcgscar_adm'\n",
    "- 'symptoms_adm___14'\n",
    "- 'symptoms_adm___15'\n",
    "- 'diarrheaoften_adm'\n",
    "- 'feedingstatus_adm'\n",
    "- 'totalbreastfed_adm'\n",
    "- 'caregivermarried_adm'\n",
    "- 'waterpure_adm'\n",
    "- 'bednet_adm'\n",
    "- 'hctpretransfusion_adm'\n",
    "\n",
    " *Numerical Variables*\n",
    "- 'weight_kg_adm'\n",
    "- 'muac_mm_adm'\n",
    "- 'lactate_mmolpl_adm'\n"
   ]
  },
  {
   "cell_type": "markdown",
   "id": "36d9a06a-9938-4fdc-82cf-5ee75ba768d7",
   "metadata": {},
   "source": [
    "### **Encoding Categorical Variables**"
   ]
  },
  {
   "cell_type": "markdown",
   "id": "f6ed87bb-a7ba-4d51-a44d-a770e9e068a5",
   "metadata": {},
   "source": [
    "#### Understanding the Categorical Columns before Encoding"
   ]
  },
  {
   "cell_type": "code",
   "execution_count": 328,
   "id": "2737e336-55e6-45d6-b3b0-1f2fe1985db3",
   "metadata": {},
   "outputs": [
    {
     "name": "stdout",
     "output_type": "stream",
     "text": [
      "        Categorical Variable  Unique Values Count\n",
      "0          symptoms_adm___18                    1\n",
      "1        comorbidity_adm___4                    1\n",
      "2        comorbidity_adm___2                    2\n",
      "3        comorbidity_adm___3                    2\n",
      "4        comorbidity_adm___5                    2\n",
      "5        comorbidity_adm___6                    2\n",
      "6        comorbidity_adm___7                    2\n",
      "7        comorbidity_adm___8                    2\n",
      "8        comorbidity_adm___9                    2\n",
      "9       comorbidity_adm___10                    2\n",
      "10      comorbidity_adm___11                    2\n",
      "11      malariastatuspos_adm                    2\n",
      "12          duedateknown_adm                    2\n",
      "13       birthdetail_adm___1                    2\n",
      "14       birthdetail_adm___2                    2\n",
      "15       comorbidity_adm___1                    2\n",
      "16                   sex_adm                    2\n",
      "17       birthdetail_adm___5                    2\n",
      "18       birthdetail_adm___6                    2\n",
      "19              momalive_adm                    2\n",
      "20           momageknown_adm                    2\n",
      "21  momagefirstpregknown_adm                    2\n",
      "22             waterpure_adm                    2\n",
      "23          cookfuel_adm___1                    2\n",
      "24          cookfuel_adm___2                    2\n",
      "25          cookfuel_adm___3                    2\n",
      "26          cookfuel_adm___4                    2\n",
      "27          cookfuel_adm___5                    2\n",
      "28          cookfuel_adm___6                    2\n",
      "29          cookfuel_adm___7                    2\n",
      "30     hctpretransfusion_adm                    2\n",
      "31       birthdetail_adm___4                    2\n",
      "32       birthdetail_adm___3                    2\n",
      "33      comorbidity_adm___12                    2\n",
      "34         symptoms_adm___15                    2\n",
      "35             spo2onoxy_adm                    2\n",
      "36          respdistress_adm                    2\n",
      "37             caprefill_adm                    2\n",
      "38                bcseye_adm                    2\n",
      "39               bcgscar_adm                    2\n",
      "40     vaccpneumocsource_adm                    2\n",
      "41         symptoms_adm___16                    2\n",
      "42          symptoms_adm___1                    2\n",
      "43          symptoms_adm___2                    2\n",
      "44          symptoms_adm___3                    2\n",
      "45          symptoms_adm___4                    2\n",
      "46         vaccdptsource_adm                    2\n",
      "47          symptoms_adm___7                    2\n",
      "48          symptoms_adm___9                    2\n",
      "49         symptoms_adm___10                    2\n",
      "50         symptoms_adm___14                    2\n",
      "51         symptoms_adm___11                    2\n",
      "52         symptoms_adm___12                    2\n",
      "53         symptoms_adm___13                    2\n",
      "54          symptoms_adm___5                    2\n",
      "55          symptoms_adm___6                    2\n",
      "56          symptoms_adm___8                    2\n",
      "57             bcsverbal_adm                    3\n",
      "58              bcsmotor_adm                    3\n",
      "59          priorweekabx_adm                    3\n",
      "60                momhiv_adm                    3\n",
      "61           vaccmeasles_adm                    3\n",
      "62               cookloc_adm                    3\n",
      "63                bednet_adm                    3\n",
      "64             hivstatus_adm                    3\n",
      "65         feedingstatus_adm                    3\n",
      "66             tbcontact_adm                    3\n",
      "67         diarrheaoften_adm                    3\n",
      "68      priorweekantimal_adm                    3\n",
      "69           oxygenavail_adm                    4\n",
      "70        prioryearcough_adm                    4\n",
      "71         caregiver_adm_new                    4\n",
      "72       prioryearwheeze_adm                    4\n",
      "73          caregiverage_adm                    4\n",
      "74               vaccdpt_adm                    5\n",
      "75           vaccpneumoc_adm                    5\n",
      "76      caregivermarried_adm                    5\n",
      "77           deliveryloc_adm                    5\n",
      "78               tobacco_adm                    5\n",
      "79           birthattend_adm                    5\n",
      "80        totalbreastfed_adm                    6\n",
      "81           watersource_adm                    6\n",
      "82          travelmethod_adm                    6\n",
      "83     badhealthduration_adm                    6\n",
      "84                momedu_adm                    6\n",
      "85             priorhosp_adm                    6\n",
      "86            traveldist_adm                    7\n",
      "87             lightfuel_adm                    8\n",
      "88         exclbreastfed_adm                   10\n"
     ]
    }
   ],
   "source": [
    "# Identify categorical columns\n",
    "categorical_cols = sepsis_df.select_dtypes(include='object').columns\n",
    "\n",
    "# Count unique values in each categorical column\n",
    "cat_unique_counts = sepsis_df[categorical_cols].nunique().sort_values()\n",
    "\n",
    "# Create a summary DataFrame\n",
    "cat_summary = pd.DataFrame({\n",
    "    'Categorical Variable': cat_unique_counts.index,\n",
    "    'Unique Values Count': cat_unique_counts.values\n",
    "})\n",
    "\n",
    "# Display all rows\n",
    "pd.set_option('display.max_rows', None)\n",
    "\n",
    "# Print the full summary\n",
    "print(cat_summary)\n"
   ]
  },
  {
   "cell_type": "code",
   "execution_count": 330,
   "id": "6df3913e-69c4-4080-a1c7-ba1211a3ce1d",
   "metadata": {},
   "outputs": [
    {
     "name": "stdout",
     "output_type": "stream",
     "text": [
      "\n",
      "Column: sex_adm\n",
      "['Female' 'Male']\n",
      "\n",
      "Column: spo2onoxy_adm\n",
      "['No' 'Yes']\n",
      "\n",
      "Column: oxygenavail_adm\n",
      "['Oxygen available and not being used' 'Oxygen available and being used'\n",
      " 'Oxygen not available' 'Oxygen available but not enough']\n",
      "\n",
      "Column: respdistress_adm\n",
      "['No' 'Yes']\n",
      "\n",
      "Column: caprefill_adm\n",
      "['No' 'Yes']\n",
      "\n",
      "Column: bcseye_adm\n",
      "['Watches or follows' 'Fails to watch or follow']\n",
      "\n",
      "Column: bcsmotor_adm\n",
      "['Localizes painful stimulus' 'Withdraws limb from painful stimulus'\n",
      " 'No response or inappropriate response']\n",
      "\n",
      "Column: bcsverbal_adm\n",
      "['Cries appropriately with pain, or, if verbal, speaks'\n",
      " 'Moan or abnormal cry with pain' 'No vocal response to pain']\n",
      "\n",
      "Column: bcgscar_adm\n",
      "['Yes' 'No']\n",
      "\n",
      "Column: vaccmeasles_adm\n",
      "['Yes' 'No' 'Unknown']\n",
      "\n",
      "Column: vaccpneumoc_adm\n",
      "['3 doses' '2 doses' 'Unknown' '0 doses' '1 dose']\n",
      "\n",
      "Column: vaccpneumocsource_adm\n",
      "['Self report' 'Card']\n",
      "\n",
      "Column: vaccdpt_adm\n",
      "['3 doses' '2 doses' 'Unknown' '0 doses' '1 dose']\n",
      "\n",
      "Column: vaccdptsource_adm\n",
      "['Self report' 'Card']\n",
      "\n",
      "Column: priorweekabx_adm\n",
      "['Yes' 'No' 'Dont know']\n",
      "\n",
      "Column: priorweekantimal_adm\n",
      "['No' 'Yes' 'Dont know']\n",
      "\n",
      "Column: symptoms_adm___1\n",
      "['Unchecked' 'Checked']\n",
      "\n",
      "Column: symptoms_adm___2\n",
      "['Unchecked' 'Checked']\n",
      "\n",
      "Column: symptoms_adm___3\n",
      "['Unchecked' 'Checked']\n",
      "\n",
      "Column: symptoms_adm___4\n",
      "['Checked' 'Unchecked']\n",
      "\n",
      "Column: symptoms_adm___5\n",
      "['Unchecked' 'Checked']\n",
      "\n",
      "Column: symptoms_adm___6\n",
      "['Unchecked' 'Checked']\n",
      "\n",
      "Column: symptoms_adm___7\n",
      "['Unchecked' 'Checked']\n",
      "\n",
      "Column: symptoms_adm___8\n",
      "['Unchecked' 'Checked']\n",
      "\n",
      "Column: symptoms_adm___9\n",
      "['Unchecked' 'Checked']\n",
      "\n",
      "Column: symptoms_adm___10\n",
      "['Unchecked' 'Checked']\n",
      "\n",
      "Column: symptoms_adm___11\n",
      "['Unchecked' 'Checked']\n",
      "\n",
      "Column: symptoms_adm___12\n",
      "['Unchecked' 'Checked']\n",
      "\n",
      "Column: symptoms_adm___13\n",
      "['Unchecked' 'Checked']\n",
      "\n",
      "Column: symptoms_adm___14\n",
      "['Unchecked' 'Checked']\n",
      "\n",
      "Column: symptoms_adm___15\n",
      "['Unchecked' 'Checked']\n",
      "\n",
      "Column: symptoms_adm___16\n",
      "['Unchecked' 'Checked']\n",
      "\n",
      "Column: symptoms_adm___18\n",
      "['Unchecked']\n",
      "\n",
      "Column: comorbidity_adm___1\n",
      "['Unchecked' 'Checked']\n",
      "\n",
      "Column: comorbidity_adm___2\n",
      "['Unchecked' 'Checked']\n",
      "\n",
      "Column: comorbidity_adm___3\n",
      "['Unchecked' 'Checked']\n",
      "\n",
      "Column: comorbidity_adm___4\n",
      "['Unchecked']\n",
      "\n",
      "Column: comorbidity_adm___5\n",
      "['Unchecked' 'Checked']\n",
      "\n",
      "Column: comorbidity_adm___6\n",
      "['Unchecked' 'Checked']\n",
      "\n",
      "Column: comorbidity_adm___7\n",
      "['Unchecked' 'Checked']\n",
      "\n",
      "Column: comorbidity_adm___8\n",
      "['Unchecked' 'Checked']\n",
      "\n",
      "Column: comorbidity_adm___9\n",
      "['Unchecked' 'Checked']\n",
      "\n",
      "Column: comorbidity_adm___10\n",
      "['Unchecked' 'Checked']\n",
      "\n",
      "Column: comorbidity_adm___11\n",
      "['Checked' 'Unchecked']\n",
      "\n",
      "Column: comorbidity_adm___12\n",
      "['Unchecked' 'Checked']\n",
      "\n",
      "Column: priorhosp_adm\n",
      "['Never' '1 month - 1 year' '7 days - 1 month' '< 7 days' '> 1 year']\n",
      "\n",
      "Column: prioryearwheeze_adm\n",
      "['No' 'Yes' 'Not applicable (< 6m old)' 'Dont know']\n",
      "\n",
      "Column: prioryearcough_adm\n",
      "['No' 'Yes' 'Not applicable (child < 6m old)' 'Dont know']\n",
      "\n",
      "Column: diarrheaoften_adm\n",
      "['No' 'Yes' 'Dont know']\n",
      "\n",
      "Column: tbcontact_adm\n",
      "['Yes' 'No' 'Dont know']\n",
      "\n",
      "Column: feedingstatus_adm\n",
      "['Feeding poorly' 'Not feeding at all' 'Feeding well']\n",
      "\n",
      "Column: exclbreastfed_adm\n",
      "['6 months' 'Unknown' '5 months' 'never exclusively breastfed' '3 months']\n",
      "\n",
      "Column: totalbreastfed_adm\n",
      "['>12 months' 'Still being breastfed' '7-12 months' '0-3 months'\n",
      " '4-6 months']\n",
      "\n",
      "Column: deliveryloc_adm\n",
      "['Health centre' 'Hospital' 'Clinic' 'Home' 'Other']\n",
      "\n",
      "Column: birthattend_adm\n",
      "['Nurse / midwife' 'Doctor / Clinical officer'\n",
      " 'Traditional birth attendant' 'Relative' 'Other']\n",
      "\n",
      "Column: duedateknown_adm\n",
      "['Yes' 'No']\n",
      "\n",
      "Column: birthdetail_adm___1\n",
      "['Unchecked' 'Checked']\n",
      "\n",
      "Column: birthdetail_adm___2\n",
      "['Unchecked' 'Checked']\n",
      "\n",
      "Column: birthdetail_adm___3\n",
      "['Unchecked' 'Checked']\n",
      "\n",
      "Column: birthdetail_adm___4\n",
      "['Unchecked' 'Checked']\n",
      "\n",
      "Column: birthdetail_adm___5\n",
      "['Checked' 'Unchecked']\n",
      "\n",
      "Column: birthdetail_adm___6\n",
      "['Unchecked' 'Checked']\n",
      "\n",
      "Column: travelmethod_adm\n",
      "['Taxi/special hire' 'Motorcycle' 'Walking' 'Private vehicle' 'Ambulance']\n",
      "\n",
      "Column: traveldist_adm\n",
      "['30 minutes - 1 hour' '4 - 8 hours' '1 - 2 hours' '2 - 3 hours'\n",
      " '< 30 minutes']\n",
      "\n",
      "Column: badhealthduration_adm\n",
      "['In good health prior to this illness' '< 1 week' '> 1 year'\n",
      " '1 month - 1 year' '1 week - 1 month']\n",
      "\n",
      "Column: caregiverage_adm\n",
      "['> 18 years old' '> 50 years old' '< = 18 years old' 'N/A (in care)']\n",
      "\n",
      "Column: caregivermarried_adm\n",
      "['Married monogamous' 'Married polygamous' 'Widowed' 'Separated/divorced'\n",
      " 'Single']\n",
      "\n",
      "Column: momalive_adm\n",
      "['Yes' 'No']\n",
      "\n",
      "Column: momageknown_adm\n",
      "['Yes' 'No']\n",
      "\n",
      "Column: momagefirstpregknown_adm\n",
      "['Yes' 'No']\n",
      "\n",
      "Column: momedu_adm\n",
      "['Post secondary (including post S4 technical school)' 'S1-S6' 'P4-P7'\n",
      " '< = P3' 'No school']\n",
      "\n",
      "Column: momhiv_adm\n",
      "['Negative' 'Positive' 'Unknown']\n",
      "\n",
      "Column: watersource_adm\n",
      "['Municipal water' 'Protected spring' 'Bore hole'\n",
      " 'Open source (unprotected, stagnant water, dam)' 'Fast running water']\n",
      "\n",
      "Column: waterpure_adm\n",
      "['Yes' 'No']\n",
      "\n",
      "Column: cookfuel_adm___1\n",
      "['Checked' 'Unchecked']\n",
      "\n",
      "Column: cookfuel_adm___2\n",
      "['Checked' 'Unchecked']\n",
      "\n",
      "Column: cookfuel_adm___3\n",
      "['Unchecked' 'Checked']\n",
      "\n",
      "Column: cookfuel_adm___4\n",
      "['Unchecked' 'Checked']\n",
      "\n",
      "Column: cookfuel_adm___5\n",
      "['Unchecked' 'Checked']\n",
      "\n",
      "Column: cookfuel_adm___6\n",
      "['Unchecked' 'Checked']\n",
      "\n",
      "Column: cookfuel_adm___7\n",
      "['Unchecked' 'Checked']\n",
      "\n",
      "Column: cookloc_adm\n",
      "['In a separate building/building space used as a kitchen'\n",
      " 'In the house where you sleep' 'Outdoors in the open']\n",
      "\n",
      "Column: lightfuel_adm\n",
      "['Electric bulbs (national grid)' 'Tadooba' 'Solar powered bulbs'\n",
      " 'Solar lantern' 'Battery-powered light']\n",
      "\n",
      "Column: tobacco_adm\n",
      "['Never' 'Daily' 'Weekly' 'Less than monthly' 'Monthly']\n",
      "\n",
      "Column: bednet_adm\n",
      "['Always' 'Sometimes' 'Never']\n",
      "\n",
      "Column: hctpretransfusion_adm\n",
      "['Yes' 'No']\n",
      "\n",
      "Column: hivstatus_adm\n",
      "['HIV negative' 'HIV positive' 'NotTested']\n",
      "\n",
      "Column: malariastatuspos_adm\n",
      "['No' 'Yes']\n",
      "\n",
      "Column: caregiver_adm_new\n",
      "['Mother' 'Grandparent' 'Father' 'Other']\n"
     ]
    }
   ],
   "source": [
    "# Display a few example values from each categorical column\n",
    "for col in categorical_cols:\n",
    "    print(f\"\\nColumn: {col}\")\n",
    "    print(sepsis_df[col].dropna().unique()[:5])  # Show up to 5 unique non-null values\n"
   ]
  },
  {
   "cell_type": "markdown",
   "id": "8d9d438b-2406-4d38-88af-ebef5b58c61e",
   "metadata": {},
   "source": [
    "### Encoding Ordinal Variables"
   ]
  },
  {
   "cell_type": "markdown",
   "id": "7e349df2-163c-42e8-8a43-d3aa1038cd01",
   "metadata": {},
   "source": [
    "___\n",
    "*Ordinal encoding* was applied to several categorical columns in the Sepsis_df dataset. The encoding approach was based on assigning integer values in an order that reflects progression from the least favorable to the most favorable condition. The *smallest value (0)* was assigned to the *worst or least desirable condition, while the **largest value* was assigned to the *best or most desirable condition*.\n",
    "\n",
    "This method was chosen to preserve the inherent ordinal nature of certain variables, ensuring that their *relative severity, quality, or desirability* was maintained in numerical form.\n",
    "\n",
    "*Encoding Principle:*\n",
    "\n",
    "> Worst condition → 0\n",
    "> \n",
    "> Best condition → Highest number\n",
    "\n",
    "After each column was encoded, the original (uncoded) column was subsequently removed from the dataset.\n",
    "\n",
    "\n",
    "> Categories such as *'Don't know', **'N/A (in care)', **'Unknown', and **'Other'* represent uncertain or ambiguous information. To minimize the risk of *introducing noise* and *overvaluing uncertain data, all such categories were consistently assigned the **lowest ordinal value* during encoding.\n",
    "___\n",
    "\n"
   ]
  },
  {
   "cell_type": "markdown",
   "id": "ccab59d5-bc82-4203-aa89-4ae12fdbb59c",
   "metadata": {},
   "source": [
    "#### *Creating a copy of the original dataset before encoding*"
   ]
  },
  {
   "cell_type": "code",
   "execution_count": 332,
   "id": "e1d19314-d137-4205-8087-8a36fbfc4186",
   "metadata": {},
   "outputs": [],
   "source": [
    "sepsis_df_original=sepsis_df.copy()"
   ]
  },
  {
   "cell_type": "markdown",
   "id": "3ed62538-6049-4ec7-be76-84ed0faae5ce",
   "metadata": {},
   "source": [
    "##### **Encoding 'watersource_adm'**"
   ]
  },
  {
   "cell_type": "code",
   "execution_count": 338,
   "id": "7d7d94b2-0170-46c1-8211-60868ce0d826",
   "metadata": {},
   "outputs": [
    {
     "name": "stdout",
     "output_type": "stream",
     "text": [
      "0    5.0\n",
      "1    3.0\n",
      "2    4.0\n",
      "3    5.0\n",
      "4    5.0\n",
      "Name: watersource_adm_encoded, dtype: float64\n"
     ]
    }
   ],
   "source": [
    "# Define the custom order for water sources\n",
    "watersource_order = [\n",
    "    'Open source (unprotected, stagnant water, dam)',\n",
    "    'Slow running water',\n",
    "    'Fast running water',\n",
    "    'Protected spring',\n",
    "    'Bore hole',\n",
    "    'Municipal water'\n",
    "]\n",
    "\n",
    "# Initialize the OrdinalEncoder with the specified order\n",
    "encoder = OrdinalEncoder(categories=[watersource_order])\n",
    "\n",
    "# Reshape and encode the column\n",
    "sepsis_df['watersource_adm_encoded'] = encoder.fit_transform(\n",
    "    sepsis_df[['watersource_adm']]\n",
    ")\n",
    "#drop the original column\n",
    "sepsis_df=sepsis_df.drop(columns=[\"watersource_adm\"])\n",
    "# Optionally view the result\n",
    "print(sepsis_df['watersource_adm_encoded'].head())"
   ]
  },
  {
   "cell_type": "markdown",
   "id": "622e8c13-c36c-421e-9cb6-93ed4d25ca74",
   "metadata": {},
   "source": [
    "##### **Encoding \"vaccpneumoc_adm\"**"
   ]
  },
  {
   "cell_type": "code",
   "execution_count": 340,
   "id": "15a8d563-7612-4f3f-84be-d222c5db5e5a",
   "metadata": {},
   "outputs": [
    {
     "name": "stdout",
     "output_type": "stream",
     "text": [
      "0    4.0\n",
      "1    3.0\n",
      "2    4.0\n",
      "3    4.0\n",
      "4    4.0\n",
      "Name: vaccpneumoc_adm_encoded, dtype: float64\n"
     ]
    }
   ],
   "source": [
    "# Define the custom order for water sources\n",
    "vaccpneumoc_order = [\n",
    "    \"Unknown\",\n",
    "    '0 doses',\n",
    "    '1 dose',\n",
    "    '2 doses',\n",
    "    '3 doses'    \n",
    "]\n",
    "\n",
    "# Initialize the OrdinalEncoder with the specified order\n",
    "encoder = OrdinalEncoder(categories=[vaccpneumoc_order])\n",
    "\n",
    "# Reshape and encode the column\n",
    "sepsis_df['vaccpneumoc_adm_encoded'] = encoder.fit_transform(\n",
    "    sepsis_df[[\"vaccpneumoc_adm\"]]\n",
    ")\n",
    "#drop the original column\n",
    "sepsis_df=sepsis_df.drop(columns=[\"vaccpneumoc_adm\"])\n",
    "# Optionally view the result\n",
    "print(sepsis_df['vaccpneumoc_adm_encoded'].head())"
   ]
  },
  {
   "cell_type": "markdown",
   "id": "e8d2d242-75f1-4647-950c-c2b729b050b9",
   "metadata": {},
   "source": [
    "* \"Unknown\" is assigned the lowest rank in the ordinal encoding because it represents missing or unverified information. By placing it at the bottom, the model is less likely to interpret it as having clinical significance or progression compared to known vaccination levels."
   ]
  },
  {
   "cell_type": "markdown",
   "id": "8663cf03-3abd-488c-8f3d-23528ca7d8db",
   "metadata": {},
   "source": [
    "##### **Encoding \"vaccdpt_adm\"**"
   ]
  },
  {
   "cell_type": "code",
   "execution_count": 342,
   "id": "ae46fec5-3acc-4688-aeda-5dbf09f0e7ca",
   "metadata": {},
   "outputs": [
    {
     "name": "stdout",
     "output_type": "stream",
     "text": [
      "0    4.0\n",
      "1    3.0\n",
      "2    4.0\n",
      "3    4.0\n",
      "4    4.0\n",
      "Name: vaccdpt_adm_encoded, dtype: float64\n"
     ]
    }
   ],
   "source": [
    "# Define the custom order for water sources\n",
    "vaccdpt_order = [\n",
    "    \"Unknown\",\n",
    "    '0 doses',\n",
    "    '1 dose',\n",
    "    '2 doses',\n",
    "    '3 doses'    \n",
    "]\n",
    "\n",
    "# Initialize the OrdinalEncoder with the specified order\n",
    "encoder = OrdinalEncoder(categories=[vaccdpt_order])\n",
    "\n",
    "# Reshape and encode the column\n",
    "sepsis_df['vaccdpt_adm_encoded'] = encoder.fit_transform(\n",
    "    sepsis_df[[\"vaccdpt_adm\"]]\n",
    ")\n",
    "#drop the original column\n",
    "sepsis_df=sepsis_df.drop(columns=[\"vaccdpt_adm\"])\n",
    "# Optionally view the result\n",
    "print(sepsis_df['vaccdpt_adm_encoded'].head())"
   ]
  },
  {
   "cell_type": "markdown",
   "id": "29da0e8a-2c12-4a34-bcb4-f914e5b9e249",
   "metadata": {},
   "source": [
    "* \"Unknown\" is assigned the lowest rank in the ordinal encoding because it represents missing or unverified information. By placing it at the bottom, the model is less likely to interpret it as having clinical significance or progression compared to known vaccination levels."
   ]
  },
  {
   "cell_type": "markdown",
   "id": "e88071fa-f662-4212-93fb-462012e26a7f",
   "metadata": {},
   "source": [
    "##### **Encoding \"tobacco_adm\"**"
   ]
  },
  {
   "cell_type": "code",
   "execution_count": 344,
   "id": "625f5463-fcdd-448c-a30f-e5d878db30e1",
   "metadata": {},
   "outputs": [
    {
     "name": "stdout",
     "output_type": "stream",
     "text": [
      "0    0.0\n",
      "1    0.0\n",
      "2    0.0\n",
      "3    0.0\n",
      "4    0.0\n",
      "Name: tobacco_adm_encoded, dtype: float64\n"
     ]
    }
   ],
   "source": [
    "# Define the custom order for water sources\n",
    "tobacco_order = [\n",
    "    \"Never\",\n",
    "    'Daily',\n",
    "    'Weekly',\n",
    "    'Less than monthly',\n",
    "    'Monthly'    \n",
    "]\n",
    "\n",
    "# Initialize the OrdinalEncoder with the specified order\n",
    "encoder = OrdinalEncoder(categories=[tobacco_order])\n",
    "\n",
    "# Reshape and encode the column\n",
    "sepsis_df['tobacco_adm_encoded'] = encoder.fit_transform(\n",
    "    sepsis_df[['tobacco_adm']]\n",
    ")\n",
    "#drop the original column\n",
    "sepsis_df=sepsis_df.drop(columns=[\"tobacco_adm\"])\n",
    "# Optionally view the result\n",
    "print(sepsis_df['tobacco_adm_encoded'].head())"
   ]
  },
  {
   "cell_type": "markdown",
   "id": "dd7193fd-80b3-4d37-a2cd-f35a9a36a9aa",
   "metadata": {},
   "source": [
    "##### **Encoding \"traveldist_adm\"**"
   ]
  },
  {
   "cell_type": "code",
   "execution_count": 346,
   "id": "f4e6c1a7-e6e2-4167-bf3f-1319c752359f",
   "metadata": {},
   "outputs": [
    {
     "name": "stdout",
     "output_type": "stream",
     "text": [
      "0    1.0\n",
      "1    1.0\n",
      "2    5.0\n",
      "3    1.0\n",
      "4    1.0\n",
      "Name: traveldist_adm_encoded, dtype: float64\n"
     ]
    }
   ],
   "source": [
    "# Define the custom order for water sources\n",
    "traveldist_order = [\n",
    "    \"< 30 minutes\",\n",
    "    '30 minutes - 1 hour',\n",
    "    '1 - 2 hours',\n",
    "    '2 - 3 hours',\n",
    "    '3 - 4 hours',\n",
    "    \"4 - 8 hours\",\n",
    "    \"> 8 hours\"    \n",
    "]\n",
    "\n",
    "# Initialize the OrdinalEncoder with the specified order\n",
    "encoder = OrdinalEncoder(categories=[traveldist_order])\n",
    "\n",
    "# Reshape and encode the column\n",
    "sepsis_df['traveldist_adm_encoded'] = encoder.fit_transform(\n",
    "    sepsis_df[['traveldist_adm']]\n",
    ")\n",
    "#drop the original column\n",
    "sepsis_df=sepsis_df.drop(columns=[\"traveldist_adm\"])\n",
    "# Optionally view the result\n",
    "print(sepsis_df['traveldist_adm_encoded'].head())"
   ]
  },
  {
   "cell_type": "markdown",
   "id": "29bd2352-f4e9-459c-a8fb-d32e056a3fc4",
   "metadata": {},
   "source": [
    "##### **Encoding \"feedingstatus_adm\"**"
   ]
  },
  {
   "cell_type": "code",
   "execution_count": 348,
   "id": "de64863d-7b63-41b2-a34a-c4a3208d673b",
   "metadata": {},
   "outputs": [
    {
     "name": "stdout",
     "output_type": "stream",
     "text": [
      "0    1.0\n",
      "1    0.0\n",
      "2    1.0\n",
      "3    1.0\n",
      "4    1.0\n",
      "Name: feedingstatus_adm_encoded, dtype: float64\n"
     ]
    }
   ],
   "source": [
    "# Define the custom order for water sources\n",
    "feedingstatus_order = [\n",
    "    \"Not feeding at all\",\n",
    "    'Feeding poorly',\n",
    "    'Feeding well',\n",
    "       \n",
    "]\n",
    "\n",
    "# Initialize the OrdinalEncoder with the specified order\n",
    "encoder = OrdinalEncoder(categories=[feedingstatus_order])\n",
    "\n",
    "# Reshape and encode the column\n",
    "sepsis_df['feedingstatus_adm_encoded'] = encoder.fit_transform(\n",
    "    sepsis_df[['feedingstatus_adm']]\n",
    ")\n",
    "#drop the original column\n",
    "sepsis_df=sepsis_df.drop(columns=[\"feedingstatus_adm\"])\n",
    "# Optionally view the result\n",
    "print(sepsis_df['feedingstatus_adm_encoded'].head())"
   ]
  },
  {
   "cell_type": "markdown",
   "id": "02102f36-614a-4875-9888-5832998e9849",
   "metadata": {},
   "source": [
    "##### **Encoding \"deliveryloc_adm\"**"
   ]
  },
  {
   "cell_type": "code",
   "execution_count": 350,
   "id": "23542c5c-fe07-4ebc-b42e-ca9a521448e9",
   "metadata": {},
   "outputs": [
    {
     "name": "stdout",
     "output_type": "stream",
     "text": [
      "0    2.0\n",
      "1    4.0\n",
      "2    4.0\n",
      "3    4.0\n",
      "4    4.0\n",
      "Name: deliveryloc_adm_encoded, dtype: float64\n"
     ]
    }
   ],
   "source": [
    "# Define the custom order for water sources\n",
    "deliveryloc_order = [\n",
    "    \"Other\",\n",
    "    'Home',\n",
    "    'Health centre',\n",
    "    \"Clinic\",\n",
    "    \"Hospital\"\n",
    "       \n",
    "]\n",
    "\n",
    "# Initialize the OrdinalEncoder with the specified order\n",
    "encoder = OrdinalEncoder(categories=[deliveryloc_order])\n",
    "\n",
    "# Reshape and encode the column\n",
    "sepsis_df['deliveryloc_adm_encoded'] = encoder.fit_transform(\n",
    "    sepsis_df[['deliveryloc_adm']]\n",
    ")\n",
    "#drop the original column\n",
    "sepsis_df=sepsis_df.drop(columns=[\"deliveryloc_adm\"])\n",
    "# Optionally view the result\n",
    "print(sepsis_df['deliveryloc_adm_encoded'].head())"
   ]
  },
  {
   "cell_type": "markdown",
   "id": "57e3ed9d-8cfc-4eef-be9e-2b74624bdb23",
   "metadata": {},
   "source": [
    "* In this case, \"Other\" is placed at the lowest rank in the ordinal encoding because it typically represents delivery locations that fall outside of standard healthcare settings. These locations are generally less equipped or less formal, and assigning them the lowest rank reflects their lower expected quality or formality of care compared to hospitals, clinics, or health centers."
   ]
  },
  {
   "cell_type": "markdown",
   "id": "69472374-d57a-4c81-bc39-b25983b8d5e8",
   "metadata": {},
   "source": [
    "##### **Encoding \"birthattend_adm\"**"
   ]
  },
  {
   "cell_type": "code",
   "execution_count": 352,
   "id": "85de1e07-6f9e-4a6a-9707-06ed59e0ae58",
   "metadata": {},
   "outputs": [
    {
     "name": "stdout",
     "output_type": "stream",
     "text": [
      "0    3.0\n",
      "1    4.0\n",
      "2    3.0\n",
      "3    3.0\n",
      "4    3.0\n",
      "Name: birthattend_adm_encoded, dtype: float64\n"
     ]
    }
   ],
   "source": [
    "# Define the custom order for water sources\n",
    "birthattend_order = [\n",
    "    \"Other\",\n",
    "    'Relative',\n",
    "    'Traditional birth attendant',\n",
    "    \"Nurse / midwife\",\n",
    "    \"Doctor / Clinical officer\"\n",
    "       \n",
    "]\n",
    "\n",
    "# Initialize the OrdinalEncoder with the specified order\n",
    "encoder = OrdinalEncoder(categories=[birthattend_order])\n",
    "\n",
    "# Reshape and encode the column\n",
    "sepsis_df['birthattend_adm_encoded'] = encoder.fit_transform(\n",
    "    sepsis_df[['birthattend_adm']]\n",
    ")\n",
    "#drop the original column\n",
    "sepsis_df=sepsis_df.drop(columns=[\"birthattend_adm\"])\n",
    "# Optionally view the result\n",
    "print(sepsis_df['birthattend_adm_encoded'].head())"
   ]
  },
  {
   "cell_type": "markdown",
   "id": "4a1a3e8d-ec10-44ed-916d-0c71ad49714b",
   "metadata": {},
   "source": [
    "* In this encoding, \"Other\" is assigned the lowest rank because it indicates an undefined or unconventional birth attendant, potentially lacking medical training or standardized care practices. The ranking reflects an ascending order of professional medical expertise and reliability, with \"Doctor / Clinical officer\" at the top due to their advanced clinical qualifications, which are associated with safer delivery outcomes."
   ]
  },
  {
   "cell_type": "markdown",
   "id": "81c7cd9d-e194-47e7-a428-deedcc547ab4",
   "metadata": {},
   "source": [
    "##### **Encoding \"bcseye_adm\"**"
   ]
  },
  {
   "cell_type": "code",
   "execution_count": 354,
   "id": "9bb889bf-0cd8-4a3c-8d4b-de96d7b770a3",
   "metadata": {},
   "outputs": [
    {
     "name": "stdout",
     "output_type": "stream",
     "text": [
      "0    1.0\n",
      "1    1.0\n",
      "2    1.0\n",
      "3    1.0\n",
      "4    1.0\n",
      "Name: bcseye_adm_encoded, dtype: float64\n"
     ]
    }
   ],
   "source": [
    "# Define the custom order for water sources\n",
    "bcseye_order = [    \n",
    "    'Fails to watch or follow',\n",
    "    \"Watches or follows\"      \n",
    "]\n",
    "\n",
    "# Initialize the OrdinalEncoder with the specified order\n",
    "encoder = OrdinalEncoder(categories=[bcseye_order])\n",
    "\n",
    "# Reshape and encode the column\n",
    "sepsis_df['bcseye_adm_encoded'] = encoder.fit_transform(\n",
    "    sepsis_df[['bcseye_adm']]\n",
    ")\n",
    "#drop the original column\n",
    "sepsis_df=sepsis_df.drop(columns=[\"bcseye_adm\"])\n",
    "# Optionally view the result\n",
    "print(sepsis_df['bcseye_adm_encoded'].head())"
   ]
  },
  {
   "cell_type": "markdown",
   "id": "7b361b31-2b8a-4ec4-bd06-c091a8a3899f",
   "metadata": {},
   "source": [
    "##### **Encoding \"bcsmotor_adm\"**"
   ]
  },
  {
   "cell_type": "code",
   "execution_count": 356,
   "id": "1c392796-3b29-45b8-bd75-d778052c5af3",
   "metadata": {},
   "outputs": [
    {
     "name": "stdout",
     "output_type": "stream",
     "text": [
      "0    1.0\n",
      "1    1.0\n",
      "2    1.0\n",
      "3    1.0\n",
      "4    1.0\n",
      "Name: bcsmotor_adm_encoded, dtype: float64\n"
     ]
    }
   ],
   "source": [
    "# Define the custom order for water sources\n",
    "bcsmotor_order = [\n",
    "        'No response or inappropriate response',\n",
    "        \"Localizes painful stimulus\",\n",
    "        \"Withdraws limb from painful stimulus\"       \n",
    "]\n",
    "\n",
    "# Initialize the OrdinalEncoder with the specified order\n",
    "encoder = OrdinalEncoder(categories=[bcsmotor_order])\n",
    "\n",
    "# Reshape and encode the column\n",
    "sepsis_df['bcsmotor_adm_encoded'] = encoder.fit_transform(\n",
    "    sepsis_df[['bcsmotor_adm']]\n",
    ")\n",
    "#drop the original column\n",
    "sepsis_df=sepsis_df.drop(columns=[\"bcsmotor_adm\"])\n",
    "# Optionally view the result\n",
    "print(sepsis_df['bcsmotor_adm_encoded'].head())"
   ]
  },
  {
   "cell_type": "markdown",
   "id": "8f163e74-04b9-4474-8c27-3b035615f7f0",
   "metadata": {},
   "source": [
    "##### **Encoding 'exclbreastfed_adm'**"
   ]
  },
  {
   "cell_type": "code",
   "execution_count": 358,
   "id": "4730d5bd-dbc1-40fb-bca5-42f10e5004cf",
   "metadata": {},
   "outputs": [
    {
     "name": "stdout",
     "output_type": "stream",
     "text": [
      "  exclbreastfed_adm  exclbreastfed_adm_encoded\n",
      "0          6 months                        8.0\n",
      "1          6 months                        8.0\n",
      "2          6 months                        8.0\n",
      "3           Unknown                        0.0\n",
      "4          6 months                        8.0\n"
     ]
    }
   ],
   "source": [
    "# Define your order\n",
    "excl_breastfed_order = [\n",
    "    'Unknown',\n",
    "    'never exclusively breastfed',\n",
    "    '1 month',\n",
    "    '2 months',\n",
    "    '3 months',\n",
    "    '4 months',\n",
    "    '5 months',\n",
    "    'Currently exclusively breastfed',\n",
    "    '6 months',\n",
    "    'More than 6 months',\n",
    "]\n",
    "\n",
    "# Instantiate the encoder with the defined order\n",
    "encoder = OrdinalEncoder(categories=[excl_breastfed_order])\n",
    "\n",
    "# Apply encoding\n",
    "sepsis_df['exclbreastfed_adm_encoded'] = encoder.fit_transform(sepsis_df[['exclbreastfed_adm']])\n",
    "print(sepsis_df[['exclbreastfed_adm', 'exclbreastfed_adm_encoded']].head())\n",
    "Sepsis_df=sepsis_df.drop(columns=[\"exclbreastfed_adm\"])"
   ]
  },
  {
   "cell_type": "markdown",
   "id": "79750a60-6e4f-4c75-9286-c55065759bff",
   "metadata": {},
   "source": [
    "* > **\"Currently exclusively breastfed\"** was placed just above **\"5 months\"** in the ordinal scale because the **youngest child admitted in the dataset was 5 months old**. This implies that the **minimum exclusive breastfeeding duration** for this group is at least 5 months, justifying its position above the 5-month category."
   ]
  },
  {
   "cell_type": "markdown",
   "id": "93da816b-c9e4-4c57-bcac-8064dd6cd430",
   "metadata": {},
   "source": [
    "##### **Encoding 'oxygenavail_adm'**"
   ]
  },
  {
   "cell_type": "code",
   "execution_count": 360,
   "id": "220f8e1d-efbb-451a-80bb-e034878ef271",
   "metadata": {},
   "outputs": [
    {
     "name": "stdout",
     "output_type": "stream",
     "text": [
      "                       oxygenavail_adm  oxygenavail_adm_encoded\n",
      "0  Oxygen available and not being used                      3.0\n",
      "1  Oxygen available and not being used                      3.0\n",
      "2  Oxygen available and not being used                      3.0\n",
      "3  Oxygen available and not being used                      3.0\n",
      "4  Oxygen available and not being used                      3.0\n"
     ]
    }
   ],
   "source": [
    "# Define the updated logical order from worst to best for oxygen availability\n",
    "oxygen_order_updated = [\n",
    "    'Oxygen not available',\n",
    "    'Oxygen available but not enough',\n",
    "    'Oxygen available and being used',\n",
    "    'Oxygen available and not being used'\n",
    "]\n",
    "\n",
    "# Initialize the OrdinalEncoder with the specified category order\n",
    "encoder = OrdinalEncoder(categories=[oxygen_order_updated])\n",
    "\n",
    "# Apply the encoder to the 'oxygenavail_adm' column and create a new encoded column\n",
    "sepsis_df['oxygenavail_adm_encoded'] = encoder.fit_transform(sepsis_df[['oxygenavail_adm']])\n",
    "\n",
    "# Display the original and encoded columns for verification\n",
    "print(sepsis_df[['oxygenavail_adm', 'oxygenavail_adm_encoded']].head())\n",
    "\n",
    "# Drop the original (non-encoded) column to clean up the dataset\n",
    "sepsis_df = sepsis_df.drop(columns=[\"oxygenavail_adm\"])"
   ]
  },
  {
   "cell_type": "markdown",
   "id": "4c88d43f-cd3b-46f4-961a-e9bcd47bf5b0",
   "metadata": {},
   "source": [
    "* > Taking into consideration that oxygen availability is a positive factor, the situation **\"Oxygen available and not being used\"** was interpreted as more favorable than **\"Oxygen available and being used\"**. This implies that the child was in better condition and did not require oxygen, despite its availability—indicating a less severe illness."
   ]
  },
  {
   "cell_type": "markdown",
   "id": "77934eb5-12c9-4259-8c89-e0f806cae457",
   "metadata": {},
   "source": [
    "##### **Encoding 'bcsverbal_adm'**"
   ]
  },
  {
   "cell_type": "code",
   "execution_count": 362,
   "id": "a3070126-52b4-4c41-af75-fd6e4f7631fd",
   "metadata": {},
   "outputs": [
    {
     "name": "stdout",
     "output_type": "stream",
     "text": [
      "                                       bcsverbal_adm  bcsverbal_adm_encoded\n",
      "0  Cries appropriately with pain, or, if verbal, ...                    2.0\n",
      "1  Cries appropriately with pain, or, if verbal, ...                    2.0\n",
      "2  Cries appropriately with pain, or, if verbal, ...                    2.0\n",
      "3  Cries appropriately with pain, or, if verbal, ...                    2.0\n",
      "4  Cries appropriately with pain, or, if verbal, ...                    2.0\n"
     ]
    }
   ],
   "source": [
    "# Define the logical order (worst → best) for the 'bcsverbal_adm' categories\n",
    "verbal_order = [\n",
    "    'No vocal response to pain',\n",
    "    'Moan or abnormal cry with pain',\n",
    "    'Cries appropriately with pain, or, if verbal, speaks'\n",
    "]\n",
    "\n",
    "encoder = OrdinalEncoder(categories=[verbal_order])\n",
    "\n",
    "sepsis_df['bcsverbal_adm_encoded'] = encoder.fit_transform(sepsis_df[['bcsverbal_adm']])\n",
    "\n",
    "# Display the original and encoded columns for verification\n",
    "print(sepsis_df[['bcsverbal_adm', 'bcsverbal_adm_encoded']].head())\n",
    "\n",
    "# Drop the original (non-encoded) column to clean up the dataset\n",
    "sepsis_df = sepsis_df.drop(columns=[\"bcsverbal_adm\"])"
   ]
  },
  {
   "cell_type": "markdown",
   "id": "83d32b0b-cf7b-44aa-81cf-41b06536e84a",
   "metadata": {},
   "source": [
    "##### **Encoding 'priorhosp_adm'**"
   ]
  },
  {
   "cell_type": "code",
   "execution_count": 364,
   "id": "9d376903-5618-4459-bd4b-c882f80f1419",
   "metadata": {},
   "outputs": [
    {
     "name": "stdout",
     "output_type": "stream",
     "text": [
      "      priorhosp_adm  priorhosp_adm_encoded\n",
      "0             Never                    5.0\n",
      "1             Never                    5.0\n",
      "2  1 month - 1 year                    2.0\n",
      "3  7 days - 1 month                    3.0\n",
      "4  7 days - 1 month                    3.0\n"
     ]
    }
   ],
   "source": [
    "# Define the logical order (worst → best)\n",
    "priorhosp_order = [\n",
    "    'Dont know',\n",
    "    '> 1 year',\n",
    "    '1 month - 1 year',\n",
    "    '7 days - 1 month',\n",
    "    '< 7 days',\n",
    "    'Never'\n",
    "]\n",
    "\n",
    "encoder = OrdinalEncoder(categories=[priorhosp_order])\n",
    "\n",
    "sepsis_df['priorhosp_adm_encoded'] = encoder.fit_transform(sepsis_df[['priorhosp_adm']])\n",
    "# Display the original and encoded columns for verification\n",
    "print(sepsis_df[['priorhosp_adm', 'priorhosp_adm_encoded']].head())\n",
    "\n",
    "# Drop the original (non-encoded) column to clean up the dataset\n",
    "sepsis_df = sepsis_df.drop(columns=[\"priorhosp_adm\"])"
   ]
  },
  {
   "cell_type": "markdown",
   "id": "f17be4d9-808c-4ab1-939f-536f995ee40f",
   "metadata": {},
   "source": [
    "##### **Encoding 'totalbreastfed_adm'**"
   ]
  },
  {
   "cell_type": "code",
   "execution_count": 366,
   "id": "785054df-0504-41e6-ac19-8c56d1b4ee2b",
   "metadata": {},
   "outputs": [
    {
     "name": "stdout",
     "output_type": "stream",
     "text": [
      "      totalbreastfed_adm  totalbreastfed_adm_encoded\n",
      "0             >12 months                         5.0\n",
      "1  Still being breastfed                         2.0\n",
      "2  Still being breastfed                         2.0\n",
      "3             >12 months                         5.0\n",
      "4  Still being breastfed                         2.0\n"
     ]
    }
   ],
   "source": [
    "# Define the logical order (worst → best)\n",
    "breastfeeding_order = ['Unknown', '0-3 months','Still being breastfed', '4-6 months', '7-12 months', '>12 months']\n",
    "\n",
    "# Initialize the OrdinalEncoder with the specified categories\n",
    "encoder = OrdinalEncoder(categories=[breastfeeding_order])\n",
    "\n",
    "# Apply the encoding to the 'totalbreastfed_adm' column\n",
    "sepsis_df['totalbreastfed_adm_encoded'] = encoder.fit_transform(sepsis_df[['totalbreastfed_adm']])\n",
    "print(sepsis_df[['totalbreastfed_adm', 'totalbreastfed_adm_encoded']].head())\n",
    "\n",
    "# Drop the original (non-encoded) column to clean up the dataset\n",
    "sepsis_df = sepsis_df.drop(columns=[\"totalbreastfed_adm\"])"
   ]
  },
  {
   "cell_type": "markdown",
   "id": "0a22e416-c324-4e15-8a05-bf67fbd1653d",
   "metadata": {},
   "source": [
    "* > **\"Still being breastfed\"** was placed just above **'0-3 months'** in the ordinal scale because the **youngest child admitted in the dataset was 5 months old**. While it could be reasonable for this category to fall after **'4-6 months'**, the **uncertainty of the data** regarding the exact breastfeeding duration could introduce noise into the model. As a result, this category was positioned above **'0-3 months'** to avoid overvaluing uncertain data."
   ]
  },
  {
   "cell_type": "markdown",
   "id": "559b94af-cb69-44ba-a7cf-d31a3287238d",
   "metadata": {},
   "source": [
    "##### **Encoding 'bednet_adm'**"
   ]
  },
  {
   "cell_type": "code",
   "execution_count": 368,
   "id": "69a79429-346f-405c-9b4e-a77ec1745b6e",
   "metadata": {},
   "outputs": [
    {
     "name": "stdout",
     "output_type": "stream",
     "text": [
      "  bednet_adm  bednet_adm_encoded\n",
      "0     Always                 2.0\n",
      "1     Always                 2.0\n",
      "2     Always                 2.0\n",
      "3     Always                 2.0\n",
      "4  Sometimes                 1.0\n"
     ]
    }
   ],
   "source": [
    "# Define the logical order (worst → best)\n",
    "bednet_order = ['Never', 'Sometimes', 'Always']\n",
    "\n",
    "# Initialize the OrdinalEncoder with the specified categories\n",
    "encoder = OrdinalEncoder(categories=[bednet_order])\n",
    "\n",
    "# Apply the encoding to the 'bednet_adm' column\n",
    "sepsis_df['bednet_adm_encoded'] = encoder.fit_transform(sepsis_df[['bednet_adm']])\n",
    "print(sepsis_df[['bednet_adm', 'bednet_adm_encoded']].head())\n",
    "\n",
    "# Drop the original (non-encoded) column to clean up the dataset\n",
    "sepsis_df = sepsis_df.drop(columns=[\"bednet_adm\"])"
   ]
  },
  {
   "cell_type": "markdown",
   "id": "bdb05743-23d8-4c83-b0df-2649e4ec889e",
   "metadata": {},
   "source": [
    "##### **Encoding 'badhealthduration_adm'**"
   ]
  },
  {
   "cell_type": "code",
   "execution_count": 370,
   "id": "bc857e99-fdbc-4789-8084-6696ea30b514",
   "metadata": {},
   "outputs": [
    {
     "name": "stdout",
     "output_type": "stream",
     "text": [
      "                  badhealthduration_adm  badhealthduration_adm_encoded\n",
      "0  In good health prior to this illness                            5.0\n",
      "1  In good health prior to this illness                            5.0\n",
      "2  In good health prior to this illness                            5.0\n",
      "3  In good health prior to this illness                            5.0\n",
      "4                              < 1 week                            4.0\n"
     ]
    }
   ],
   "source": [
    "# Define the corrected logical order\n",
    "badhealth_order = ['Unknown', '> 1 year', '1 month - 1 year', '1 week - 1 month', '< 1 week', 'In good health prior to this illness']\n",
    "\n",
    "# Initialize the OrdinalEncoder with the specified categories\n",
    "encoder = OrdinalEncoder(categories=[badhealth_order])\n",
    "\n",
    "# Apply the encoding to the 'badhealthduration_adm' column\n",
    "sepsis_df['badhealthduration_adm_encoded'] = encoder.fit_transform(sepsis_df[['badhealthduration_adm']])\n",
    "print(sepsis_df[['badhealthduration_adm', 'badhealthduration_adm_encoded']].head())\n",
    "\n",
    "# Drop the original (non-encoded) column to clean up the dataset\n",
    "sepsis_df = sepsis_df.drop(columns=[\"badhealthduration_adm\"])"
   ]
  },
  {
   "cell_type": "markdown",
   "id": "a8e55e66-4503-48b8-9f1c-d91c01b7efe2",
   "metadata": {},
   "source": [
    "##### **Encoding 'caregiverage_adm'**"
   ]
  },
  {
   "cell_type": "code",
   "execution_count": 372,
   "id": "da1fcf70-6fc2-408e-adc0-3cd1c82acc37",
   "metadata": {},
   "outputs": [
    {
     "name": "stdout",
     "output_type": "stream",
     "text": [
      "  caregiverage_adm  caregiverage_adm_encoded\n",
      "0   > 18 years old                       2.0\n",
      "1   > 18 years old                       2.0\n",
      "2   > 18 years old                       2.0\n",
      "3   > 18 years old                       2.0\n",
      "4   > 18 years old                       2.0\n"
     ]
    }
   ],
   "source": [
    "# Define the logical order for the caregiver age\n",
    "caregiver_age_order = ['N/A (in care)', '< = 18 years old', '> 18 years old', '> 50 years old']\n",
    "\n",
    "# Initialize the OrdinalEncoder with the specified categories\n",
    "encoder = OrdinalEncoder(categories=[caregiver_age_order])\n",
    "\n",
    "# Apply the encoding to the 'caregiverage_adm' column\n",
    "sepsis_df['caregiverage_adm_encoded'] = encoder.fit_transform(sepsis_df[['caregiverage_adm']])\n",
    "print(sepsis_df[['caregiverage_adm', 'caregiverage_adm_encoded']].head())\n",
    "\n",
    "# Drop the original (non-encoded) column to clean up the dataset\n",
    "sepsis_df = sepsis_df.drop(columns=[\"caregiverage_adm\"])"
   ]
  },
  {
   "cell_type": "markdown",
   "id": "7cb76549-fc7a-4282-ba6a-147d359eefd2",
   "metadata": {},
   "source": [
    "##### **Encoding 'momedu_adm'**"
   ]
  },
  {
   "cell_type": "code",
   "execution_count": 374,
   "id": "ae60676f-6c9e-4d56-97fb-f3f95f3122a6",
   "metadata": {},
   "outputs": [
    {
     "name": "stdout",
     "output_type": "stream",
     "text": [
      "                                          momedu_adm  momedu_adm_encoded\n",
      "0  Post secondary (including post S4 technical sc...                 5.0\n",
      "1  Post secondary (including post S4 technical sc...                 5.0\n",
      "2                                              S1-S6                 4.0\n",
      "3  Post secondary (including post S4 technical sc...                 5.0\n",
      "4                                              P4-P7                 3.0\n"
     ]
    }
   ],
   "source": [
    "# Define the logical order for education level\n",
    "education_order = ['Dont know','No school',  '< = P3', 'P4-P7', 'S1-S6', 'Post secondary (including post S4 technical school)']\n",
    "\n",
    "# Initialize the OrdinalEncoder with the specified categories\n",
    "encoder = OrdinalEncoder(categories=[education_order])\n",
    "\n",
    "# Apply the encoding to the 'momedu_adm' column\n",
    "sepsis_df['momedu_adm_encoded'] = encoder.fit_transform(sepsis_df[['momedu_adm']])\n",
    "\n",
    "print(sepsis_df[['momedu_adm', 'momedu_adm_encoded']].head())\n",
    "\n",
    "# Drop the original (non-encoded) column to clean up the dataset\n",
    "sepsis_df = sepsis_df.drop(columns=[\"momedu_adm\"])"
   ]
  }
 ],
 "metadata": {
  "kernelspec": {
   "display_name": "Python 3 (ipykernel)",
   "language": "python",
   "name": "python3"
  },
  "language_info": {
   "codemirror_mode": {
    "name": "ipython",
    "version": 3
   },
   "file_extension": ".py",
   "mimetype": "text/x-python",
   "name": "python",
   "nbconvert_exporter": "python",
   "pygments_lexer": "ipython3",
   "version": "3.12.4"
  }
 },
 "nbformat": 4,
 "nbformat_minor": 5
}
