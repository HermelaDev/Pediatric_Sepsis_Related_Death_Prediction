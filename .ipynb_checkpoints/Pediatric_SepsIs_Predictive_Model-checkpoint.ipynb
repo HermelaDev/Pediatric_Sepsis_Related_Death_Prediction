{
 "cells": [
  {
   "cell_type": "markdown",
   "id": "41046db5",
   "metadata": {},
   "source": [
    "### **Predicting Pediatric In-Hospital Mortality from Admission Data**"
   ]
  },
  {
   "cell_type": "markdown",
   "id": "4a97372e",
   "metadata": {},
   "source": [
    "### *Import Necessary Libraries*"
   ]
  },
  {
   "cell_type": "code",
   "execution_count": 66,
   "id": "ee6fddaf",
   "metadata": {},
   "outputs": [],
   "source": [
    "import pandas as pd\n",
    "import warnings\n",
    "import seaborn as sns\n",
    "import matplotlib.pyplot as plt\n",
    "\n"
   ]
  },
  {
   "cell_type": "markdown",
   "id": "e93f613f",
   "metadata": {},
   "source": [
    "### *Load the dataset*"
   ]
  },
  {
   "cell_type": "code",
   "execution_count": 67,
   "id": "0980ba54",
   "metadata": {},
   "outputs": [],
   "source": [
    "# Import the CSV file named \"SyntheticData_Training.csv\" into a pandas DataFrame called Sepsis_df\n",
    "Sepsis_df = pd.read_csv(\"SyntheticData_Training.csv\")"
   ]
  },
  {
   "cell_type": "markdown",
   "id": "c59c22b7",
   "metadata": {},
   "source": [
    "### *Data Inspection*"
   ]
  },
  {
   "cell_type": "code",
   "execution_count": 68,
   "id": "b9129ac7",
   "metadata": {},
   "outputs": [
    {
     "data": {
      "application/vnd.microsoft.datawrangler.viewer.v0+json": {
       "columns": [
        {
         "name": "index",
         "rawType": "int64",
         "type": "integer"
        },
        {
         "name": "studyid_adm",
         "rawType": "int64",
         "type": "integer"
        },
        {
         "name": "agecalc_adm",
         "rawType": "float64",
         "type": "float"
        },
        {
         "name": "height_cm_adm",
         "rawType": "float64",
         "type": "float"
        },
        {
         "name": "weight_kg_adm",
         "rawType": "float64",
         "type": "float"
        },
        {
         "name": "muac_mm_adm",
         "rawType": "float64",
         "type": "float"
        },
        {
         "name": "hr_bpm_adm",
         "rawType": "float64",
         "type": "float"
        },
        {
         "name": "rr_brpm_app_adm",
         "rawType": "float64",
         "type": "float"
        },
        {
         "name": "sysbp_mmhg_adm",
         "rawType": "float64",
         "type": "float"
        },
        {
         "name": "diasbp_mmhg_adm",
         "rawType": "float64",
         "type": "float"
        },
        {
         "name": "temp_c_adm",
         "rawType": "float64",
         "type": "float"
        },
        {
         "name": "spo2site1_pc_oxi_adm",
         "rawType": "float64",
         "type": "float"
        },
        {
         "name": "spo2site2_pc_oxi_adm",
         "rawType": "float64",
         "type": "float"
        },
        {
         "name": "spo2other_adm",
         "rawType": "float64",
         "type": "float"
        },
        {
         "name": "momage_adm",
         "rawType": "float64",
         "type": "float"
        },
        {
         "name": "momagefirstpreg_adm",
         "rawType": "float64",
         "type": "float"
        },
        {
         "name": "householdsize_adm",
         "rawType": "float64",
         "type": "float"
        },
        {
         "name": "alivechildren_adm",
         "rawType": "float64",
         "type": "float"
        },
        {
         "name": "deadchildren_adm",
         "rawType": "float64",
         "type": "float"
        },
        {
         "name": "hematocrit_gpdl_adm",
         "rawType": "float64",
         "type": "float"
        },
        {
         "name": "lactate_mmolpl_adm",
         "rawType": "float64",
         "type": "float"
        },
        {
         "name": "lactate2_mmolpl_adm",
         "rawType": "float64",
         "type": "float"
        },
        {
         "name": "glucose_mmolpl_adm",
         "rawType": "float64",
         "type": "float"
        },
        {
         "name": "sqi1_perc_oxi_adm",
         "rawType": "float64",
         "type": "float"
        },
        {
         "name": "sqi2_perc_oxi_adm",
         "rawType": "float64",
         "type": "float"
        },
        {
         "name": "sex_adm",
         "rawType": "object",
         "type": "string"
        },
        {
         "name": "spo2onoxy_adm",
         "rawType": "object",
         "type": "string"
        },
        {
         "name": "oxygenavail_adm",
         "rawType": "object",
         "type": "string"
        },
        {
         "name": "respdistress_adm",
         "rawType": "object",
         "type": "string"
        },
        {
         "name": "caprefill_adm",
         "rawType": "object",
         "type": "string"
        },
        {
         "name": "bcseye_adm",
         "rawType": "object",
         "type": "string"
        },
        {
         "name": "bcsmotor_adm",
         "rawType": "object",
         "type": "string"
        },
        {
         "name": "bcsverbal_adm",
         "rawType": "object",
         "type": "string"
        },
        {
         "name": "admitabx_adm___1",
         "rawType": "object",
         "type": "string"
        },
        {
         "name": "admitabx_adm___2",
         "rawType": "object",
         "type": "string"
        },
        {
         "name": "admitabx_adm___3",
         "rawType": "object",
         "type": "string"
        },
        {
         "name": "admitabx_adm___4",
         "rawType": "object",
         "type": "string"
        },
        {
         "name": "admitabx_adm___5",
         "rawType": "object",
         "type": "string"
        },
        {
         "name": "admitabx_adm___6",
         "rawType": "object",
         "type": "string"
        },
        {
         "name": "admitabx_adm___7",
         "rawType": "object",
         "type": "string"
        },
        {
         "name": "admitabx_adm___8",
         "rawType": "object",
         "type": "string"
        },
        {
         "name": "admitabx_adm___9",
         "rawType": "object",
         "type": "string"
        },
        {
         "name": "admitabx_adm___10",
         "rawType": "object",
         "type": "string"
        },
        {
         "name": "admitabx_adm___11",
         "rawType": "object",
         "type": "string"
        },
        {
         "name": "admitabx_adm___12",
         "rawType": "object",
         "type": "string"
        },
        {
         "name": "admitabx_adm___13",
         "rawType": "object",
         "type": "string"
        },
        {
         "name": "admitabx_adm___14",
         "rawType": "object",
         "type": "string"
        },
        {
         "name": "admitabx_adm___15",
         "rawType": "object",
         "type": "string"
        },
        {
         "name": "admitabx_adm___16",
         "rawType": "object",
         "type": "string"
        },
        {
         "name": "admitabx_adm___17",
         "rawType": "object",
         "type": "string"
        },
        {
         "name": "admitabx_adm___18",
         "rawType": "object",
         "type": "string"
        },
        {
         "name": "admitabx_adm___19",
         "rawType": "object",
         "type": "string"
        },
        {
         "name": "admitabx_adm___20",
         "rawType": "object",
         "type": "string"
        },
        {
         "name": "admitabx_adm___21",
         "rawType": "object",
         "type": "string"
        },
        {
         "name": "bcgscar_adm",
         "rawType": "object",
         "type": "string"
        },
        {
         "name": "vaccmeasles_adm",
         "rawType": "object",
         "type": "string"
        },
        {
         "name": "vaccmeaslessource_adm",
         "rawType": "object",
         "type": "unknown"
        },
        {
         "name": "vaccpneumoc_adm",
         "rawType": "object",
         "type": "string"
        },
        {
         "name": "vaccpneumocsource_adm",
         "rawType": "object",
         "type": "string"
        },
        {
         "name": "vaccdpt_adm",
         "rawType": "object",
         "type": "string"
        },
        {
         "name": "vaccdptsource_adm",
         "rawType": "object",
         "type": "string"
        },
        {
         "name": "priorweekabx_adm",
         "rawType": "object",
         "type": "string"
        },
        {
         "name": "priorweekantimal_adm",
         "rawType": "object",
         "type": "string"
        },
        {
         "name": "symptoms_adm___1",
         "rawType": "object",
         "type": "string"
        },
        {
         "name": "symptoms_adm___2",
         "rawType": "object",
         "type": "string"
        },
        {
         "name": "symptoms_adm___3",
         "rawType": "object",
         "type": "string"
        },
        {
         "name": "symptoms_adm___4",
         "rawType": "object",
         "type": "string"
        },
        {
         "name": "symptoms_adm___5",
         "rawType": "object",
         "type": "string"
        },
        {
         "name": "symptoms_adm___6",
         "rawType": "object",
         "type": "string"
        },
        {
         "name": "symptoms_adm___7",
         "rawType": "object",
         "type": "string"
        },
        {
         "name": "symptoms_adm___8",
         "rawType": "object",
         "type": "string"
        },
        {
         "name": "symptoms_adm___9",
         "rawType": "object",
         "type": "string"
        },
        {
         "name": "symptoms_adm___10",
         "rawType": "object",
         "type": "string"
        },
        {
         "name": "symptoms_adm___11",
         "rawType": "object",
         "type": "string"
        },
        {
         "name": "symptoms_adm___12",
         "rawType": "object",
         "type": "string"
        },
        {
         "name": "symptoms_adm___13",
         "rawType": "object",
         "type": "string"
        },
        {
         "name": "symptoms_adm___14",
         "rawType": "object",
         "type": "string"
        },
        {
         "name": "symptoms_adm___15",
         "rawType": "object",
         "type": "string"
        },
        {
         "name": "symptoms_adm___16",
         "rawType": "object",
         "type": "string"
        },
        {
         "name": "symptoms_adm___18",
         "rawType": "object",
         "type": "string"
        },
        {
         "name": "comorbidity_adm___1",
         "rawType": "object",
         "type": "string"
        },
        {
         "name": "comorbidity_adm___2",
         "rawType": "object",
         "type": "string"
        },
        {
         "name": "comorbidity_adm___3",
         "rawType": "object",
         "type": "string"
        },
        {
         "name": "comorbidity_adm___4",
         "rawType": "object",
         "type": "string"
        },
        {
         "name": "comorbidity_adm___5",
         "rawType": "object",
         "type": "string"
        },
        {
         "name": "comorbidity_adm___6",
         "rawType": "object",
         "type": "string"
        },
        {
         "name": "comorbidity_adm___7",
         "rawType": "object",
         "type": "string"
        },
        {
         "name": "comorbidity_adm___8",
         "rawType": "object",
         "type": "string"
        },
        {
         "name": "comorbidity_adm___9",
         "rawType": "object",
         "type": "string"
        },
        {
         "name": "comorbidity_adm___10",
         "rawType": "object",
         "type": "string"
        },
        {
         "name": "comorbidity_adm___11",
         "rawType": "object",
         "type": "string"
        },
        {
         "name": "comorbidity_adm___12",
         "rawType": "object",
         "type": "string"
        },
        {
         "name": "priorhosp_adm",
         "rawType": "object",
         "type": "string"
        },
        {
         "name": "prioryearwheeze_adm",
         "rawType": "object",
         "type": "string"
        },
        {
         "name": "prioryearcough_adm",
         "rawType": "object",
         "type": "string"
        },
        {
         "name": "diarrheaoften_adm",
         "rawType": "object",
         "type": "string"
        },
        {
         "name": "tbcontact_adm",
         "rawType": "object",
         "type": "string"
        },
        {
         "name": "feedingstatus_adm",
         "rawType": "object",
         "type": "string"
        },
        {
         "name": "exclbreastfed_adm",
         "rawType": "object",
         "type": "string"
        },
        {
         "name": "nonexclbreastfed_adm",
         "rawType": "object",
         "type": "unknown"
        },
        {
         "name": "totalbreastfed_adm",
         "rawType": "object",
         "type": "string"
        },
        {
         "name": "deliveryloc_adm",
         "rawType": "object",
         "type": "string"
        },
        {
         "name": "birthattend_adm",
         "rawType": "object",
         "type": "string"
        },
        {
         "name": "duedateknown_adm",
         "rawType": "object",
         "type": "string"
        },
        {
         "name": "birthdetail_adm___1",
         "rawType": "object",
         "type": "string"
        },
        {
         "name": "birthdetail_adm___2",
         "rawType": "object",
         "type": "string"
        },
        {
         "name": "birthdetail_adm___3",
         "rawType": "object",
         "type": "string"
        },
        {
         "name": "birthdetail_adm___4",
         "rawType": "object",
         "type": "string"
        },
        {
         "name": "birthdetail_adm___5",
         "rawType": "object",
         "type": "string"
        },
        {
         "name": "birthdetail_adm___6",
         "rawType": "object",
         "type": "string"
        },
        {
         "name": "travelmethod_adm",
         "rawType": "object",
         "type": "string"
        },
        {
         "name": "traveldist_adm",
         "rawType": "object",
         "type": "string"
        },
        {
         "name": "badhealthduration_adm",
         "rawType": "object",
         "type": "string"
        },
        {
         "name": "caregiverage_adm",
         "rawType": "object",
         "type": "string"
        },
        {
         "name": "caregivermarried_adm",
         "rawType": "object",
         "type": "string"
        },
        {
         "name": "momalive_adm",
         "rawType": "object",
         "type": "string"
        },
        {
         "name": "momageknown_adm",
         "rawType": "object",
         "type": "string"
        },
        {
         "name": "momagefirstpregknown_adm",
         "rawType": "object",
         "type": "string"
        },
        {
         "name": "momedu_adm",
         "rawType": "object",
         "type": "string"
        },
        {
         "name": "momhiv_adm",
         "rawType": "object",
         "type": "string"
        },
        {
         "name": "watersource_adm",
         "rawType": "object",
         "type": "string"
        },
        {
         "name": "waterpure_adm",
         "rawType": "object",
         "type": "string"
        },
        {
         "name": "cookfuel_adm___1",
         "rawType": "object",
         "type": "string"
        },
        {
         "name": "cookfuel_adm___2",
         "rawType": "object",
         "type": "string"
        },
        {
         "name": "cookfuel_adm___3",
         "rawType": "object",
         "type": "string"
        },
        {
         "name": "cookfuel_adm___4",
         "rawType": "object",
         "type": "string"
        },
        {
         "name": "cookfuel_adm___5",
         "rawType": "object",
         "type": "string"
        },
        {
         "name": "cookfuel_adm___6",
         "rawType": "object",
         "type": "string"
        },
        {
         "name": "cookfuel_adm___7",
         "rawType": "object",
         "type": "string"
        },
        {
         "name": "cookloc_adm",
         "rawType": "object",
         "type": "string"
        },
        {
         "name": "lightfuel_adm",
         "rawType": "object",
         "type": "string"
        },
        {
         "name": "tobacco_adm",
         "rawType": "object",
         "type": "string"
        },
        {
         "name": "bednet_adm",
         "rawType": "object",
         "type": "string"
        },
        {
         "name": "hctpretransfusion_adm",
         "rawType": "object",
         "type": "unknown"
        },
        {
         "name": "hivstatus_adm",
         "rawType": "object",
         "type": "string"
        },
        {
         "name": "malariastatuspos_adm",
         "rawType": "object",
         "type": "string"
        },
        {
         "name": "lengthadm",
         "rawType": "int64",
         "type": "integer"
        },
        {
         "name": "caregiver_adm_new",
         "rawType": "object",
         "type": "string"
        },
        {
         "name": "inhospital_mortality",
         "rawType": "int64",
         "type": "integer"
        }
       ],
       "conversionMethod": "pd.DataFrame",
       "ref": "7d150813-3433-44d8-97ab-c4b8644e341e",
       "rows": [
        [
         "0",
         "1",
         "16.8",
         "79.8",
         "11.6",
         "150.0",
         "130.0",
         "23.0",
         "92.0",
         "54.0",
         "36.3",
         "99.0",
         "99.0",
         null,
         "27.0",
         "23.0",
         "6.0",
         "1.0",
         "0.0",
         "38.0",
         "2.2",
         null,
         "4.8",
         "98.0",
         "97.0",
         "Female",
         "No",
         "Oxygen available and not being used",
         "No",
         "No",
         "Watches or follows",
         "Localizes painful stimulus",
         "Cries appropriately with pain, or, if verbal, speaks",
         "Unchecked",
         "Unchecked",
         "Checked",
         "Unchecked",
         "Unchecked",
         "Unchecked",
         "Unchecked",
         "Checked",
         "Unchecked",
         "Unchecked",
         "Unchecked",
         "Unchecked",
         "Unchecked",
         "Unchecked",
         "Unchecked",
         "Unchecked",
         "Unchecked",
         "Unchecked",
         "Unchecked",
         "Unchecked",
         "Unchecked",
         "Yes",
         "Yes",
         "Self report",
         "3 doses",
         "Self report",
         "3 doses",
         "Self report",
         "Yes",
         "No",
         "Unchecked",
         "Unchecked",
         "Unchecked",
         "Checked",
         "Unchecked",
         "Unchecked",
         "Unchecked",
         "Unchecked",
         "Unchecked",
         "Unchecked",
         "Unchecked",
         "Unchecked",
         "Unchecked",
         "Unchecked",
         "Unchecked",
         "Unchecked",
         "Unchecked",
         "Unchecked",
         "Unchecked",
         "Unchecked",
         "Unchecked",
         "Unchecked",
         "Unchecked",
         "Unchecked",
         "Unchecked",
         "Unchecked",
         "Unchecked",
         "Checked",
         "Unchecked",
         "Never",
         "No",
         "No",
         "No",
         "Yes",
         "Feeding poorly",
         "6 months",
         null,
         ">12 months",
         "Health centre",
         "Nurse / midwife",
         "Yes",
         "Unchecked",
         "Unchecked",
         "Unchecked",
         "Unchecked",
         "Checked",
         "Unchecked",
         "Taxi/special hire",
         "30 minutes - 1 hour",
         "In good health prior to this illness",
         "> 18 years old",
         "Married monogamous",
         "Yes",
         "Yes",
         "Yes",
         "Post secondary (including post S4 technical school)",
         "Negative",
         "Municipal water",
         "Yes",
         "Checked",
         "Checked",
         "Unchecked",
         "Unchecked",
         "Unchecked",
         "Unchecked",
         "Unchecked",
         "In a separate building/building space used as a kitchen",
         "Electric bulbs (national grid)",
         "Never",
         "Always",
         "Yes",
         "HIV negative",
         "No",
         "2",
         "Mother",
         "0"
        ],
        [
         "1",
         "2",
         "46.1",
         "93.0",
         "13.6",
         "151.0",
         "115.0",
         "35.0",
         "72.0",
         "42.0",
         "36.8",
         "92.0",
         "91.0",
         null,
         "30.0",
         "25.0",
         "4.0",
         "2.0",
         "0.0",
         "42.0",
         "2.7",
         null,
         "7.2",
         "99.0",
         "85.0",
         "Female",
         "No",
         "Oxygen available and not being used",
         "No",
         "No",
         "Watches or follows",
         "Localizes painful stimulus",
         "Cries appropriately with pain, or, if verbal, speaks",
         "Checked",
         "Unchecked",
         "Unchecked",
         "Unchecked",
         "Unchecked",
         "Unchecked",
         "Unchecked",
         "Unchecked",
         "Checked",
         "Unchecked",
         "Unchecked",
         "Unchecked",
         "Unchecked",
         "Unchecked",
         "Unchecked",
         "Checked",
         "Unchecked",
         "Unchecked",
         "Unchecked",
         "Unchecked",
         "Unchecked",
         "Yes",
         "Yes",
         "Self report",
         "2 doses",
         "Self report",
         "2 doses",
         "Self report",
         "Yes",
         "No",
         "Unchecked",
         "Checked",
         "Unchecked",
         "Unchecked",
         "Unchecked",
         "Checked",
         "Unchecked",
         "Unchecked",
         "Checked",
         "Unchecked",
         "Unchecked",
         "Unchecked",
         "Unchecked",
         "Unchecked",
         "Unchecked",
         "Unchecked",
         "Unchecked",
         "Unchecked",
         "Unchecked",
         "Unchecked",
         "Unchecked",
         "Unchecked",
         "Unchecked",
         "Unchecked",
         "Unchecked",
         "Unchecked",
         "Unchecked",
         "Checked",
         "Unchecked",
         "Never",
         "No",
         "No",
         "No",
         "No",
         "Not feeding at all",
         "6 months",
         null,
         "Still being breastfed",
         "Hospital",
         "Doctor / Clinical officer",
         "No",
         "Unchecked",
         "Unchecked",
         "Unchecked",
         "Unchecked",
         "Checked",
         "Unchecked",
         "Motorcycle",
         "30 minutes - 1 hour",
         "In good health prior to this illness",
         "> 18 years old",
         "Married monogamous",
         "Yes",
         "Yes",
         "Yes",
         "Post secondary (including post S4 technical school)",
         "Negative",
         "Protected spring",
         "Yes",
         "Unchecked",
         "Checked",
         "Unchecked",
         "Unchecked",
         "Unchecked",
         "Unchecked",
         "Unchecked",
         "In a separate building/building space used as a kitchen",
         "Tadooba",
         "Never",
         "Always",
         "Yes",
         "HIV negative",
         "Yes",
         "5",
         "Mother",
         "0"
        ],
        [
         "2",
         "3",
         "7.9",
         "68.2",
         "8.2",
         "148.0",
         "150.0",
         "56.0",
         "94.0",
         "51.0",
         "37.2",
         "99.0",
         "99.0",
         null,
         "24.0",
         "19.0",
         "4.0",
         "2.0",
         "0.0",
         "40.0",
         "2.9",
         null,
         "5.0",
         "98.0",
         "97.0",
         "Male",
         "No",
         "Oxygen available and not being used",
         "No",
         "No",
         "Watches or follows",
         "Localizes painful stimulus",
         "Cries appropriately with pain, or, if verbal, speaks",
         "Checked",
         "Unchecked",
         "Unchecked",
         "Unchecked",
         "Unchecked",
         "Unchecked",
         "Unchecked",
         "Unchecked",
         "Checked",
         "Unchecked",
         "Unchecked",
         "Unchecked",
         "Unchecked",
         "Unchecked",
         "Unchecked",
         "Unchecked",
         "Unchecked",
         "Unchecked",
         "Unchecked",
         "Unchecked",
         "Unchecked",
         "Yes",
         "No",
         null,
         "3 doses",
         "Self report",
         "3 doses",
         "Self report",
         "Yes",
         "Yes",
         "Unchecked",
         "Unchecked",
         "Checked",
         "Unchecked",
         "Unchecked",
         "Unchecked",
         "Checked",
         "Unchecked",
         "Checked",
         "Checked",
         "Unchecked",
         "Unchecked",
         "Unchecked",
         "Unchecked",
         "Unchecked",
         "Unchecked",
         "Unchecked",
         "Unchecked",
         "Unchecked",
         "Unchecked",
         "Unchecked",
         "Checked",
         "Unchecked",
         "Unchecked",
         "Unchecked",
         "Unchecked",
         "Unchecked",
         "Unchecked",
         "Unchecked",
         "1 month - 1 year",
         "No",
         "Yes",
         "No",
         "No",
         "Feeding poorly",
         "6 months",
         null,
         "Still being breastfed",
         "Hospital",
         "Nurse / midwife",
         "Yes",
         "Unchecked",
         "Unchecked",
         "Unchecked",
         "Unchecked",
         "Checked",
         "Unchecked",
         "Motorcycle",
         "4 - 8 hours",
         "In good health prior to this illness",
         "> 18 years old",
         "Married monogamous",
         "Yes",
         "Yes",
         "Yes",
         "S1-S6",
         "Negative",
         "Bore hole",
         "Yes",
         "Checked",
         "Checked",
         "Unchecked",
         "Unchecked",
         "Unchecked",
         "Unchecked",
         "Unchecked",
         "In a separate building/building space used as a kitchen",
         "Tadooba",
         "Never",
         "Always",
         "Yes",
         "HIV negative",
         "No",
         "4",
         "Mother",
         "0"
        ],
        [
         "3",
         "4",
         "38.2",
         "95.0",
         "12.0",
         "138.0",
         "134.0",
         "38.0",
         "94.0",
         "57.0",
         "37.6",
         "98.0",
         "99.0",
         null,
         "31.0",
         "21.0",
         "5.0",
         "3.0",
         "0.0",
         null,
         null,
         "2.5",
         "11.7",
         "99.0",
         "99.0",
         "Female",
         "No",
         "Oxygen available and not being used",
         "No",
         "No",
         "Watches or follows",
         "Localizes painful stimulus",
         "Cries appropriately with pain, or, if verbal, speaks",
         "Unchecked",
         "Unchecked",
         "Unchecked",
         "Unchecked",
         "Unchecked",
         "Unchecked",
         "Unchecked",
         "Checked",
         "Unchecked",
         "Unchecked",
         "Unchecked",
         "Unchecked",
         "Unchecked",
         "Unchecked",
         "Unchecked",
         "Checked",
         "Unchecked",
         "Unchecked",
         "Unchecked",
         "Unchecked",
         "Unchecked",
         "Yes",
         "Yes",
         "Self report",
         "3 doses",
         "Self report",
         "3 doses",
         "Self report",
         "Yes",
         "Yes",
         "Unchecked",
         "Checked",
         "Unchecked",
         "Unchecked",
         "Unchecked",
         "Checked",
         "Unchecked",
         "Checked",
         "Unchecked",
         "Unchecked",
         "Unchecked",
         "Unchecked",
         "Unchecked",
         "Unchecked",
         "Unchecked",
         "Unchecked",
         "Unchecked",
         "Unchecked",
         "Unchecked",
         "Unchecked",
         "Unchecked",
         "Unchecked",
         "Unchecked",
         "Unchecked",
         "Unchecked",
         "Unchecked",
         "Unchecked",
         "Checked",
         "Unchecked",
         "7 days - 1 month",
         "No",
         "Yes",
         "No",
         "No",
         "Feeding poorly",
         "Unknown",
         null,
         ">12 months",
         "Hospital",
         "Nurse / midwife",
         "Yes",
         "Unchecked",
         "Unchecked",
         "Unchecked",
         "Unchecked",
         "Checked",
         "Unchecked",
         "Motorcycle",
         "30 minutes - 1 hour",
         "In good health prior to this illness",
         "> 18 years old",
         "Married monogamous",
         "Yes",
         "No",
         "Yes",
         "Post secondary (including post S4 technical school)",
         "Negative",
         "Municipal water",
         "Yes",
         "Checked",
         "Unchecked",
         "Unchecked",
         "Unchecked",
         "Unchecked",
         "Unchecked",
         "Unchecked",
         "In the house where you sleep",
         "Electric bulbs (national grid)",
         "Never",
         "Always",
         null,
         "HIV negative",
         "Yes",
         "5",
         "Mother",
         "0"
        ],
        [
         "4",
         "5",
         "16.1",
         "83.0",
         "12.0",
         "165.0",
         "163.0",
         "61.0",
         "107.0",
         "73.0",
         "38.7",
         "90.0",
         "90.0",
         null,
         "43.0",
         "22.0",
         "8.0",
         "4.0",
         "1.0",
         "42.0",
         "4.4",
         null,
         "5.8",
         "96.0",
         "46.0",
         "Female",
         "No",
         "Oxygen available and not being used",
         "No",
         "No",
         "Watches or follows",
         "Localizes painful stimulus",
         "Cries appropriately with pain, or, if verbal, speaks",
         "Checked",
         "Unchecked",
         "Unchecked",
         "Unchecked",
         "Unchecked",
         "Unchecked",
         "Unchecked",
         "Unchecked",
         "Checked",
         "Unchecked",
         "Unchecked",
         "Unchecked",
         "Unchecked",
         "Unchecked",
         "Unchecked",
         "Checked",
         "Unchecked",
         "Unchecked",
         "Unchecked",
         "Unchecked",
         "Unchecked",
         "Yes",
         "Yes",
         "Self report",
         "3 doses",
         "Self report",
         "3 doses",
         "Self report",
         "No",
         "No",
         "Unchecked",
         "Checked",
         "Unchecked",
         "Checked",
         "Unchecked",
         "Checked",
         "Unchecked",
         "Unchecked",
         "Unchecked",
         "Unchecked",
         "Unchecked",
         "Unchecked",
         "Unchecked",
         "Unchecked",
         "Unchecked",
         "Unchecked",
         "Unchecked",
         "Unchecked",
         "Unchecked",
         "Unchecked",
         "Unchecked",
         "Unchecked",
         "Unchecked",
         "Unchecked",
         "Unchecked",
         "Unchecked",
         "Unchecked",
         "Checked",
         "Unchecked",
         "7 days - 1 month",
         "No",
         "No",
         "No",
         "No",
         "Feeding poorly",
         "6 months",
         null,
         "Still being breastfed",
         "Hospital",
         "Nurse / midwife",
         "Yes",
         "Unchecked",
         "Unchecked",
         "Unchecked",
         "Unchecked",
         "Checked",
         "Unchecked",
         "Motorcycle",
         "30 minutes - 1 hour",
         "< 1 week",
         "> 18 years old",
         "Married polygamous",
         "Yes",
         "Yes",
         "Yes",
         "P4-P7",
         "Negative",
         "Municipal water",
         "Yes",
         "Checked",
         "Unchecked",
         "Unchecked",
         "Unchecked",
         "Unchecked",
         "Unchecked",
         "Unchecked",
         "Outdoors in the open",
         "Electric bulbs (national grid)",
         "Never",
         "Sometimes",
         "Yes",
         "HIV negative",
         "Yes",
         "7",
         "Mother",
         "0"
        ]
       ],
       "shape": {
        "columns": 138,
        "rows": 5
       }
      },
      "text/html": [
       "<div>\n",
       "<style scoped>\n",
       "    .dataframe tbody tr th:only-of-type {\n",
       "        vertical-align: middle;\n",
       "    }\n",
       "\n",
       "    .dataframe tbody tr th {\n",
       "        vertical-align: top;\n",
       "    }\n",
       "\n",
       "    .dataframe thead th {\n",
       "        text-align: right;\n",
       "    }\n",
       "</style>\n",
       "<table border=\"1\" class=\"dataframe\">\n",
       "  <thead>\n",
       "    <tr style=\"text-align: right;\">\n",
       "      <th></th>\n",
       "      <th>studyid_adm</th>\n",
       "      <th>agecalc_adm</th>\n",
       "      <th>height_cm_adm</th>\n",
       "      <th>weight_kg_adm</th>\n",
       "      <th>muac_mm_adm</th>\n",
       "      <th>hr_bpm_adm</th>\n",
       "      <th>rr_brpm_app_adm</th>\n",
       "      <th>sysbp_mmhg_adm</th>\n",
       "      <th>diasbp_mmhg_adm</th>\n",
       "      <th>temp_c_adm</th>\n",
       "      <th>...</th>\n",
       "      <th>cookloc_adm</th>\n",
       "      <th>lightfuel_adm</th>\n",
       "      <th>tobacco_adm</th>\n",
       "      <th>bednet_adm</th>\n",
       "      <th>hctpretransfusion_adm</th>\n",
       "      <th>hivstatus_adm</th>\n",
       "      <th>malariastatuspos_adm</th>\n",
       "      <th>lengthadm</th>\n",
       "      <th>caregiver_adm_new</th>\n",
       "      <th>inhospital_mortality</th>\n",
       "    </tr>\n",
       "  </thead>\n",
       "  <tbody>\n",
       "    <tr>\n",
       "      <th>0</th>\n",
       "      <td>1</td>\n",
       "      <td>16.8</td>\n",
       "      <td>79.8</td>\n",
       "      <td>11.6</td>\n",
       "      <td>150.0</td>\n",
       "      <td>130.0</td>\n",
       "      <td>23.0</td>\n",
       "      <td>92.0</td>\n",
       "      <td>54.0</td>\n",
       "      <td>36.3</td>\n",
       "      <td>...</td>\n",
       "      <td>In a separate building/building space used as ...</td>\n",
       "      <td>Electric bulbs (national grid)</td>\n",
       "      <td>Never</td>\n",
       "      <td>Always</td>\n",
       "      <td>Yes</td>\n",
       "      <td>HIV negative</td>\n",
       "      <td>No</td>\n",
       "      <td>2</td>\n",
       "      <td>Mother</td>\n",
       "      <td>0</td>\n",
       "    </tr>\n",
       "    <tr>\n",
       "      <th>1</th>\n",
       "      <td>2</td>\n",
       "      <td>46.1</td>\n",
       "      <td>93.0</td>\n",
       "      <td>13.6</td>\n",
       "      <td>151.0</td>\n",
       "      <td>115.0</td>\n",
       "      <td>35.0</td>\n",
       "      <td>72.0</td>\n",
       "      <td>42.0</td>\n",
       "      <td>36.8</td>\n",
       "      <td>...</td>\n",
       "      <td>In a separate building/building space used as ...</td>\n",
       "      <td>Tadooba</td>\n",
       "      <td>Never</td>\n",
       "      <td>Always</td>\n",
       "      <td>Yes</td>\n",
       "      <td>HIV negative</td>\n",
       "      <td>Yes</td>\n",
       "      <td>5</td>\n",
       "      <td>Mother</td>\n",
       "      <td>0</td>\n",
       "    </tr>\n",
       "    <tr>\n",
       "      <th>2</th>\n",
       "      <td>3</td>\n",
       "      <td>7.9</td>\n",
       "      <td>68.2</td>\n",
       "      <td>8.2</td>\n",
       "      <td>148.0</td>\n",
       "      <td>150.0</td>\n",
       "      <td>56.0</td>\n",
       "      <td>94.0</td>\n",
       "      <td>51.0</td>\n",
       "      <td>37.2</td>\n",
       "      <td>...</td>\n",
       "      <td>In a separate building/building space used as ...</td>\n",
       "      <td>Tadooba</td>\n",
       "      <td>Never</td>\n",
       "      <td>Always</td>\n",
       "      <td>Yes</td>\n",
       "      <td>HIV negative</td>\n",
       "      <td>No</td>\n",
       "      <td>4</td>\n",
       "      <td>Mother</td>\n",
       "      <td>0</td>\n",
       "    </tr>\n",
       "    <tr>\n",
       "      <th>3</th>\n",
       "      <td>4</td>\n",
       "      <td>38.2</td>\n",
       "      <td>95.0</td>\n",
       "      <td>12.0</td>\n",
       "      <td>138.0</td>\n",
       "      <td>134.0</td>\n",
       "      <td>38.0</td>\n",
       "      <td>94.0</td>\n",
       "      <td>57.0</td>\n",
       "      <td>37.6</td>\n",
       "      <td>...</td>\n",
       "      <td>In the house where you sleep</td>\n",
       "      <td>Electric bulbs (national grid)</td>\n",
       "      <td>Never</td>\n",
       "      <td>Always</td>\n",
       "      <td>NaN</td>\n",
       "      <td>HIV negative</td>\n",
       "      <td>Yes</td>\n",
       "      <td>5</td>\n",
       "      <td>Mother</td>\n",
       "      <td>0</td>\n",
       "    </tr>\n",
       "    <tr>\n",
       "      <th>4</th>\n",
       "      <td>5</td>\n",
       "      <td>16.1</td>\n",
       "      <td>83.0</td>\n",
       "      <td>12.0</td>\n",
       "      <td>165.0</td>\n",
       "      <td>163.0</td>\n",
       "      <td>61.0</td>\n",
       "      <td>107.0</td>\n",
       "      <td>73.0</td>\n",
       "      <td>38.7</td>\n",
       "      <td>...</td>\n",
       "      <td>Outdoors in the open</td>\n",
       "      <td>Electric bulbs (national grid)</td>\n",
       "      <td>Never</td>\n",
       "      <td>Sometimes</td>\n",
       "      <td>Yes</td>\n",
       "      <td>HIV negative</td>\n",
       "      <td>Yes</td>\n",
       "      <td>7</td>\n",
       "      <td>Mother</td>\n",
       "      <td>0</td>\n",
       "    </tr>\n",
       "  </tbody>\n",
       "</table>\n",
       "<p>5 rows × 138 columns</p>\n",
       "</div>"
      ],
      "text/plain": [
       "   studyid_adm  agecalc_adm  height_cm_adm  weight_kg_adm  muac_mm_adm  \\\n",
       "0            1         16.8           79.8           11.6        150.0   \n",
       "1            2         46.1           93.0           13.6        151.0   \n",
       "2            3          7.9           68.2            8.2        148.0   \n",
       "3            4         38.2           95.0           12.0        138.0   \n",
       "4            5         16.1           83.0           12.0        165.0   \n",
       "\n",
       "   hr_bpm_adm  rr_brpm_app_adm  sysbp_mmhg_adm  diasbp_mmhg_adm  temp_c_adm  \\\n",
       "0       130.0             23.0            92.0             54.0        36.3   \n",
       "1       115.0             35.0            72.0             42.0        36.8   \n",
       "2       150.0             56.0            94.0             51.0        37.2   \n",
       "3       134.0             38.0            94.0             57.0        37.6   \n",
       "4       163.0             61.0           107.0             73.0        38.7   \n",
       "\n",
       "   ...                                        cookloc_adm  \\\n",
       "0  ...  In a separate building/building space used as ...   \n",
       "1  ...  In a separate building/building space used as ...   \n",
       "2  ...  In a separate building/building space used as ...   \n",
       "3  ...                       In the house where you sleep   \n",
       "4  ...                               Outdoors in the open   \n",
       "\n",
       "                    lightfuel_adm  tobacco_adm  bednet_adm  \\\n",
       "0  Electric bulbs (national grid)        Never      Always   \n",
       "1                         Tadooba        Never      Always   \n",
       "2                         Tadooba        Never      Always   \n",
       "3  Electric bulbs (national grid)        Never      Always   \n",
       "4  Electric bulbs (national grid)        Never   Sometimes   \n",
       "\n",
       "   hctpretransfusion_adm  hivstatus_adm  malariastatuspos_adm  lengthadm  \\\n",
       "0                    Yes   HIV negative                    No          2   \n",
       "1                    Yes   HIV negative                   Yes          5   \n",
       "2                    Yes   HIV negative                    No          4   \n",
       "3                    NaN   HIV negative                   Yes          5   \n",
       "4                    Yes   HIV negative                   Yes          7   \n",
       "\n",
       "   caregiver_adm_new  inhospital_mortality  \n",
       "0             Mother                     0  \n",
       "1             Mother                     0  \n",
       "2             Mother                     0  \n",
       "3             Mother                     0  \n",
       "4             Mother                     0  \n",
       "\n",
       "[5 rows x 138 columns]"
      ]
     },
     "execution_count": 68,
     "metadata": {},
     "output_type": "execute_result"
    }
   ],
   "source": [
    "# Display the first 5 rows of the DataFrame to quickly inspect the data\n",
    "Sepsis_df.head()"
   ]
  },
  {
   "cell_type": "markdown",
   "id": "5d52df16",
   "metadata": {},
   "source": [
    "*** Concise summary of the dataset ***"
   ]
  },
  {
   "cell_type": "code",
   "execution_count": 69,
   "id": "63475d74",
   "metadata": {},
   "outputs": [],
   "source": [
    "# # Configure pandas to display details for up to 150 columns in the .info() summary\n",
    "# #  By default, pandas displays a maximum of 100 columns in .info()\n",
    "# # If the DataFrame has more than 100 columns, the output is truncated.\n",
    "# pd.set_option('display.max_info_columns', 150)\n",
    "# Sepsis_df.info()"
   ]
  },
  {
   "cell_type": "markdown",
   "id": "3cbdc5ea",
   "metadata": {},
   "source": [
    "*** Supset dataframe for columns with missing values ***"
   ]
  },
  {
   "cell_type": "code",
   "execution_count": 70,
   "id": "912080ea",
   "metadata": {},
   "outputs": [
    {
     "name": "stdout",
     "output_type": "stream",
     "text": [
      "                          Missing Values  Missing Percentage\n",
      "height_cm_adm                         14                0.52\n",
      "weight_kg_adm                          9                0.34\n",
      "muac_mm_adm                           13                0.48\n",
      "hr_bpm_adm                             1                0.04\n",
      "rr_brpm_app_adm                        5                0.19\n",
      "sysbp_mmhg_adm                         2                0.07\n",
      "diasbp_mmhg_adm                        1                0.04\n",
      "temp_c_adm                             1                0.04\n",
      "spo2site1_pc_oxi_adm                   4                0.15\n",
      "spo2site2_pc_oxi_adm                 205                7.63\n",
      "spo2other_adm                       2505               93.26\n",
      "momage_adm                            19                0.71\n",
      "momagefirstpreg_adm                  224                8.34\n",
      "householdsize_adm                      3                0.11\n",
      "alivechildren_adm                      4                0.15\n",
      "deadchildren_adm                       1                0.04\n",
      "hematocrit_gpdl_adm                  457               17.01\n",
      "lactate_mmolpl_adm                   464               17.27\n",
      "lactate2_mmolpl_adm                 2217               82.54\n",
      "glucose_mmolpl_adm                     9                0.34\n",
      "sqi1_perc_oxi_adm                    130                4.84\n",
      "sqi2_perc_oxi_adm                    207                7.71\n",
      "spo2onoxy_adm                          4                0.15\n",
      "respdistress_adm                       2                0.07\n",
      "caprefill_adm                          1                0.04\n",
      "bcseye_adm                             1                0.04\n",
      "bcsverbal_adm                          2                0.07\n",
      "vaccmeasles_adm                        2                0.07\n",
      "vaccmeaslessource_adm                946               35.22\n",
      "vaccpneumocsource_adm                185                6.89\n",
      "vaccdpt_adm                            2                0.07\n",
      "vaccdptsource_adm                    143                5.32\n",
      "priorweekantimal_adm                   1                0.04\n",
      "priorhosp_adm                          5                0.19\n",
      "prioryearwheeze_adm                    2                0.07\n",
      "exclbreastfed_adm                      1                0.04\n",
      "nonexclbreastfed_adm                2603               96.91\n",
      "totalbreastfed_adm                     2                0.07\n",
      "deliveryloc_adm                        2                0.07\n",
      "birthattend_adm                       30                1.12\n",
      "travelmethod_adm                       1                0.04\n",
      "traveldist_adm                         1                0.04\n",
      "badhealthduration_adm                  4                0.15\n",
      "caregiverage_adm                       2                0.07\n",
      "momalive_adm                           1                0.04\n",
      "momageknown_adm                       22                0.82\n",
      "momagefirstpregknown_adm               1                0.04\n",
      "momhiv_adm                             6                0.22\n",
      "watersource_adm                        2                0.07\n",
      "waterpure_adm                          2                0.07\n",
      "cookloc_adm                            2                0.07\n",
      "lightfuel_adm                          3                0.11\n",
      "bednet_adm                             3                0.11\n",
      "hctpretransfusion_adm                 43                1.60\n",
      "hivstatus_adm                          5                0.19\n",
      "malariastatuspos_adm                   2                0.07\n",
      "caregiver_adm_new                      3                0.11\n"
     ]
    }
   ],
   "source": [
    "# Step 1: Get columns that have at least one missing value\n",
    "cols_with_missing = Sepsis_df.columns[Sepsis_df.isnull().any()].tolist()\n",
    "\n",
    "# Step 2: Calculate the number of missing values and the percentage of missing values for each column\n",
    "missing_values_count = Sepsis_df[cols_with_missing].isnull().sum()  # Count of missing values per column\n",
    "missing_percentage = Sepsis_df[cols_with_missing].isnull().mean() * 100  # Percentage of missing values per column\n",
    "missing_percentage = missing_percentage.round(2)\n",
    "\n",
    "# Step 3: Combine the results into a DataFrame for better readability\n",
    "missing_data_summary_df = pd.DataFrame({\n",
    "    'Missing Values': missing_values_count,\n",
    "    'Missing Percentage': missing_percentage\n",
    "})\n",
    "\n",
    "# Step 4: Filter to show only columns with missing values > 0%\n",
    "missing_data_summary_df = missing_data_summary_df[missing_data_summary_df['Missing Percentage'] > 0]\n",
    "\n",
    "# Print the summary of missing data for columns with missing values\n",
    "print(missing_data_summary_df)\n"
   ]
  },
  {
   "cell_type": "markdown",
   "id": "629c2fde",
   "metadata": {},
   "source": [
    "### *Data Cleaning*"
   ]
  },
  {
   "cell_type": "markdown",
   "id": "6c996f5a",
   "metadata": {},
   "source": [
    "*** Check for duplicate Values ***"
   ]
  },
  {
   "cell_type": "code",
   "execution_count": 71,
   "id": "51c7d173",
   "metadata": {},
   "outputs": [
    {
     "data": {
      "text/plain": [
       "0"
      ]
     },
     "execution_count": 71,
     "metadata": {},
     "output_type": "execute_result"
    }
   ],
   "source": [
    "Sepsis_df.duplicated().sum()"
   ]
  },
  {
   "cell_type": "markdown",
   "id": "ff73b8af",
   "metadata": {},
   "source": [
    "*** Drop certain columns ***"
   ]
  },
  {
   "cell_type": "code",
   "execution_count": 72,
   "id": "8f2143a1",
   "metadata": {},
   "outputs": [],
   "source": [
    "cols_to_drop = [col for col in Sepsis_df.columns if col.startswith('admitabx_')]\n",
    "Sepsis_df= Sepsis_df.drop(columns=cols_to_drop)\n"
   ]
  },
  {
   "cell_type": "markdown",
   "id": "4b85ba69",
   "metadata": {},
   "source": [
    "___\n",
    "Dropped intervention columns: These variables represent treatments that, while powerful predictors, are excluded due to their post-admission nature. The model, however, relies on data available at the time of admission.\n",
    "___"
   ]
  },
  {
   "cell_type": "code",
   "execution_count": 73,
   "id": "3a92d6d6",
   "metadata": {},
   "outputs": [],
   "source": [
    "Sepsis_df=Sepsis_df.drop(columns=[\"spo2other_adm\",\"lactate2_mmolpl_adm\",\"nonexclbreastfed_adm\",\"vaccmeaslessource_adm\"])"
   ]
  },
  {
   "cell_type": "markdown",
   "id": "97dc225f",
   "metadata": {},
   "source": [
    "___\n",
    "* **\"spo2other\\_adm\" dropped:** Represents oxygen saturation with another device (redundant), and has 93.3% missing values.\n",
    "* **\"lactate2\\_mmolpl\\_adm\" dropped:** A similar measurement is available, with 82.54% missing values.\n",
    "* **\"nonexclbreastfed\\_adm\" dropped:** Represents non-exclusive breastfeeding details, with 96.91% missing values.\n",
    "* **\"vaccmeaslessource\\_adm\" dropped:** Represents the source of information regarding measles vaccination (found to be less important), with 35.22% missing values.\n",
    "___"
   ]
  },
  {
   "cell_type": "markdown",
   "id": "e5295ed5",
   "metadata": {},
   "source": [
    "*** Clean Missing Values ***"
   ]
  },
  {
   "cell_type": "markdown",
   "id": "40c08c13",
   "metadata": {},
   "source": [
    "*Clean numeric-columns*"
   ]
  },
  {
   "cell_type": "code",
   "execution_count": 74,
   "id": "76b06b98",
   "metadata": {},
   "outputs": [],
   "source": [
    "# Step 1: Get columns that have at least one missing value\n",
    "cols_with_missing = Sepsis_df.columns[Sepsis_df.isnull().any()].tolist()\n",
    "\n",
    "# Step 2: Create a new DataFrame with only those columns\n",
    "df_missing_subset = Sepsis_df[cols_with_missing]"
   ]
  },
  {
   "cell_type": "code",
   "execution_count": 75,
   "id": "a607e69f",
   "metadata": {},
   "outputs": [
    {
     "name": "stdout",
     "output_type": "stream",
     "text": [
      "Columns with fairly symmetric distributions: ['muac_mm_adm', 'sysbp_mmhg_adm', 'diasbp_mmhg_adm', 'hematocrit_gpdl_adm']\n"
     ]
    }
   ],
   "source": [
    "# Step 1: Select numeric columns only\n",
    "numeric_cols = df_missing_subset.select_dtypes(include='number')\n",
    "\n",
    "# Step 2: Calculate skewness for each numeric column\n",
    "skewness = numeric_cols.skew()\n",
    "\n",
    "# Step 3: Filter columns where skewness is between -0.5 and +0.5\n",
    "symmetric_cols = skewness[(skewness > -0.5) & (skewness < 0.5)].index.tolist()\n",
    "\n",
    "print(\"Columns with fairly symmetric distributions:\", symmetric_cols)"
   ]
  },
  {
   "cell_type": "markdown",
   "id": "bbb937c8",
   "metadata": {},
   "source": [
    "___\n",
    "Columns with fairly symmetric distributions (skewness between -0.5 and 0.5) were identified using the `.skew()` function and separated for imputation using the **mean**. For columns with more skewed distributions (skewness < -0.5 or > 0.5), the **median** will be used instead, as it's more robust to outliers.\n",
    "___"
   ]
  },
  {
   "cell_type": "code",
   "execution_count": 76,
   "id": "a761b629",
   "metadata": {},
   "outputs": [
    {
     "name": "stdout",
     "output_type": "stream",
     "text": [
      "0\n"
     ]
    }
   ],
   "source": [
    "# Step 1: Define the age group bins\n",
    "def assign_age_group(age_months):\n",
    "    if age_months < 6:\n",
    "        return '3-6 month'\n",
    "    elif age_months < 12:\n",
    "        return '6-1yr'\n",
    "    elif age_months < 24:\n",
    "        return '1-2yr'\n",
    "    elif age_months < 36:\n",
    "        return '2-3yr'\n",
    "    elif age_months < 48:\n",
    "        return '3-4yr'\n",
    "    elif age_months < 60:\n",
    "        return '4-5yr'\n",
    "    elif age_months < 72:\n",
    "        return '5-6yr'\n",
    "    else:\n",
    "        return 'older'\n",
    "\n",
    "# Step 2: Create 'age_group' column\n",
    "Sepsis_df['age_group'] = Sepsis_df['agecalc_adm'].apply(assign_age_group)\n",
    "\n",
    "# Step 3: Group by age_group and sex_adm, then impute hematocrit\n",
    "Sepsis_df['hematocrit_gpdl_adm'] = Sepsis_df.groupby(['age_group', 'sex_adm'])['hematocrit_gpdl_adm']\\\n",
    "    .transform(lambda x: x.fillna(x.mean()))\n",
    "print(Sepsis_df[\"hematocrit_gpdl_adm\"].isnull().sum())"
   ]
  },
  {
   "cell_type": "markdown",
   "id": "91ac0210",
   "metadata": {},
   "source": [
    "___\n",
    "\" hematocrit_gpdl_adm \" was imputed using a logical, group-based approach. Since hematocrit levels vary by age and sex, first  patients were categorized into age groups and then grouped the data by both age_group and sex_adm.\n",
    "Within each group, missing hematocrit values were filled using the mean of that group, ensuring the imputation respects biologically relevant differences.\n",
    "___"
   ]
  },
  {
   "cell_type": "code",
   "execution_count": 77,
   "id": "88b522eb",
   "metadata": {},
   "outputs": [
    {
     "data": {
      "text/plain": [
       "0"
      ]
     },
     "execution_count": 77,
     "metadata": {},
     "output_type": "execute_result"
    }
   ],
   "source": [
    "Sepsis_df[\"hr_bpm_adm\"]=Sepsis_df[\"hr_bpm_adm\"].fillna(Sepsis_df[\"hr_bpm_adm\"].median())\n",
    "Sepsis_df[\"hr_bpm_adm\"].isnull().sum()"
   ]
  },
  {
   "cell_type": "markdown",
   "id": "a88de0b0",
   "metadata": {},
   "source": [
    "___\n",
    "\"hr_bpm_adm\" was imputed using median since found to be assymetric.\n",
    "___"
   ]
  },
  {
   "cell_type": "code",
   "execution_count": 78,
   "id": "dc535e50",
   "metadata": {},
   "outputs": [
    {
     "data": {
      "text/plain": [
       "0"
      ]
     },
     "execution_count": 78,
     "metadata": {},
     "output_type": "execute_result"
    }
   ],
   "source": [
    "Sepsis_df[\"sysbp_mmhg_adm\"]=Sepsis_df[\"sysbp_mmhg_adm\"].fillna(Sepsis_df[\"sysbp_mmhg_adm\"].mean())\n",
    "Sepsis_df[\"sysbp_mmhg_adm\"].isnull().sum()"
   ]
  },
  {
   "cell_type": "markdown",
   "id": "40ec7dfa",
   "metadata": {},
   "source": [
    "___\n",
    "\"sysbp_mmhg_adm\" was imputed using mean since found to be fairly symetric.\n",
    "___"
   ]
  },
  {
   "cell_type": "code",
   "execution_count": 79,
   "id": "db0c0e76",
   "metadata": {},
   "outputs": [
    {
     "name": "stdout",
     "output_type": "stream",
     "text": [
      "0\n"
     ]
    }
   ],
   "source": [
    "# Create shock index column\n",
    "Sepsis_df['shockindex_heart_rate_sbp_adm'] = Sepsis_df['hr_bpm_adm'] / Sepsis_df['sysbp_mmhg_adm']\n",
    "print(Sepsis_df[\"shockindex_heart_rate_sbp_adm\"].isnull().sum())"
   ]
  },
  {
   "cell_type": "markdown",
   "id": "95822457",
   "metadata": {},
   "source": [
    "___\n",
    "\"shockindex_heart_rate_sbp_adm\" was created to aid imputation of missing values in the \"lactate_mmolpl_adm\" column. It was derived from \"hr_bpm_adm\" and \"sysbp_mmhg_adm\"  columns. \n",
    "___"
   ]
  },
  {
   "cell_type": "code",
   "execution_count": 80,
   "id": "4d997bc6",
   "metadata": {},
   "outputs": [
    {
     "name": "stdout",
     "output_type": "stream",
     "text": [
      "0\n"
     ]
    }
   ],
   "source": [
    "# Create high-risk indicator based on SpO2 and shock index\n",
    "Sepsis_df['high_risk'] = ((Sepsis_df['spo2site1_pc_oxi_adm'] < 90) | \n",
    "                          (Sepsis_df['shockindex_heart_rate_sbp_adm'] > 1)).astype(int)\n",
    "\n",
    "# Impute lactate using median within risk groups (only one transform needed)\n",
    "Sepsis_df['lactate_mmolpl_adm'] = Sepsis_df.groupby('high_risk')['lactate_mmolpl_adm']\\\n",
    "                                           .transform(lambda x: x.fillna(x.median()))\n",
    "print(Sepsis_df[\"lactate_mmolpl_adm\"].isnull().sum())"
   ]
  },
  {
   "cell_type": "markdown",
   "id": "9a934cc5",
   "metadata": {},
   "source": [
    "___\n",
    "* Created a `high_risk` flag for patients with SpO₂ < 90 or shock index > 1.\n",
    "  These thresholds are clinically meaningful indicators of potential instability.\n",
    "* Imputed missing `lactate_mmolpl_adm` values using the median within each risk group.\n",
    "  This ensures imputation is done in a context-sensitive way, preserving group-level distribution patterns.\n",
    "  \n",
    "___"
   ]
  },
  {
   "cell_type": "code",
   "execution_count": 81,
   "id": "662498a6",
   "metadata": {},
   "outputs": [
    {
     "name": "stdout",
     "output_type": "stream",
     "text": [
      "4\n",
      "4\n"
     ]
    }
   ],
   "source": [
    "# Use spo2site2 to fill missing values in spo2site1\n",
    "Sepsis_df['spo2site1_pc_oxi_adm'] = Sepsis_df['spo2site1_pc_oxi_adm'].fillna(\n",
    "    Sepsis_df['spo2site2_pc_oxi_adm']\n",
    ")\n",
    "# Use spo2site1 to fill missing values in spo2site2\n",
    "Sepsis_df['spo2site2_pc_oxi_adm'] = Sepsis_df['spo2site2_pc_oxi_adm'].fillna(\n",
    "    Sepsis_df['spo2site1_pc_oxi_adm']\n",
    ")\n",
    "print(Sepsis_df['spo2site1_pc_oxi_adm'].isnull().sum())\n",
    "print(Sepsis_df['spo2site2_pc_oxi_adm'].isnull().sum())\n"
   ]
  },
  {
   "cell_type": "code",
   "execution_count": 82,
   "id": "012607e6",
   "metadata": {},
   "outputs": [
    {
     "name": "stdout",
     "output_type": "stream",
     "text": [
      "0\n",
      "0\n"
     ]
    }
   ],
   "source": [
    "# Create age group\n",
    "Sepsis_df['age_group2'] = Sepsis_df['agecalc_adm'].apply(lambda x: '<1yr' if x < 1 else '≥1yr')\n",
    "\n",
    "# Impute SpO2 site 1\n",
    "Sepsis_df['spo2site1_pc_oxi_adm'] = Sepsis_df.groupby('age_group2')['spo2site1_pc_oxi_adm']\\\n",
    "                                             .transform(lambda x: x.fillna(x.median()))\n",
    "\n",
    "# Impute SpO2 site 2\n",
    "Sepsis_df['spo2site2_pc_oxi_adm'] = Sepsis_df.groupby('age_group2')['spo2site2_pc_oxi_adm']\\\n",
    "                                             .transform(lambda x: x.fillna(x.median()))\n",
    "print(Sepsis_df['spo2site1_pc_oxi_adm'].isnull().sum())\n",
    "print(Sepsis_df['spo2site2_pc_oxi_adm'].isnull().sum())"
   ]
  },
  {
   "cell_type": "markdown",
   "id": "32b3c844",
   "metadata": {},
   "source": [
    "___\n",
    "The columns **'spo2site1\\_pc\\_oxi\\_adm'** and **'spo2site2\\_pc\\_oxi\\_adm'** represent oxygen saturation levels (percentage of hemoglobin carrying oxygen) from two different body sites. Since both measure similar values, **cross imputation** was used to fill missing values. However, 4 missing values were observed, suggesting that 4 rows were missing data for both columns. To account for age-related physiological differences (e.g., respiratory rate, oxygen saturation, heart rate), an **age\\_group2** variable was created to categorize patients as <1 year or ≥1 year. Missing SpO₂ values were then imputed using the median within each age group.\n",
    "___"
   ]
  },
  {
   "cell_type": "code",
   "execution_count": 83,
   "id": "eb8feed0",
   "metadata": {},
   "outputs": [
    {
     "name": "stdout",
     "output_type": "stream",
     "text": [
      "126\n",
      "126\n"
     ]
    }
   ],
   "source": [
    "# Use sqi2 to fill missing values in sqi1\n",
    "Sepsis_df['sqi1_perc_oxi_adm'] = Sepsis_df['sqi1_perc_oxi_adm'].fillna(\n",
    "    Sepsis_df['sqi2_perc_oxi_adm']\n",
    ")\n",
    "\n",
    "# Use sqi1 to fill missing values in sqi2\n",
    "Sepsis_df['sqi2_perc_oxi_adm'] = Sepsis_df['sqi2_perc_oxi_adm'].fillna(\n",
    "    Sepsis_df['sqi1_perc_oxi_adm']\n",
    ")\n",
    "print(Sepsis_df['sqi1_perc_oxi_adm'].isnull().sum())\n",
    "print(Sepsis_df['sqi2_perc_oxi_adm'].isnull().sum())"
   ]
  },
  {
   "cell_type": "code",
   "execution_count": 84,
   "id": "5e69a020",
   "metadata": {},
   "outputs": [
    {
     "name": "stdout",
     "output_type": "stream",
     "text": [
      "0\n",
      "0\n"
     ]
    }
   ],
   "source": [
    "Sepsis_df['sqi1_perc_oxi_adm'] = Sepsis_df['sqi1_perc_oxi_adm'].fillna(Sepsis_df['sqi1_perc_oxi_adm'].median())\n",
    "Sepsis_df['sqi2_perc_oxi_adm'] = Sepsis_df['sqi2_perc_oxi_adm'].fillna(Sepsis_df['sqi2_perc_oxi_adm'].median())\n",
    "print(Sepsis_df['sqi1_perc_oxi_adm'].isnull().sum())\n",
    "print(Sepsis_df['sqi2_perc_oxi_adm'].isnull().sum())"
   ]
  },
  {
   "cell_type": "markdown",
   "id": "8caeec8d",
   "metadata": {},
   "source": [
    "___\n",
    "The columns **'sqi1\\_perc\\_oxi\\_adm'** and **'sqi2\\_perc\\_oxi\\_adm'** represent the best and second-best SpO₂ signal quality index at admission. \n",
    "* **`sqi1_perc_oxi_adm`** = Highest quality SpO₂ signal among all measured sites at admission.\n",
    "* **`sqi2_perc_oxi_adm`** = Second-best quality SpO₂ signal from a different site at admission.\n",
    "Since they are related, **cross-imputation** was applied. However, 126 rows remained missing for both columns, so the remaining missing values were filled using the median.\n",
    "___"
   ]
  },
  {
   "cell_type": "code",
   "execution_count": 85,
   "id": "3d1ce5a3",
   "metadata": {},
   "outputs": [
    {
     "name": "stdout",
     "output_type": "stream",
     "text": [
      "0\n"
     ]
    }
   ],
   "source": [
    "# Round age to match WHO months\n",
    "Sepsis_df['age_months_rounded'] = Sepsis_df['agecalc_adm'].round().astype(int)\n",
    "\n",
    "# Load WHO dataset for girls and prepare\n",
    "who_girls = pd.read_csv(\"girls_length_height_for_age.csv\")\n",
    "who_clean = who_girls[['Months', 'Median']].rename(columns={\n",
    "    'Months': 'age_months_rounded',\n",
    "    'Median': 'who_median_height'\n",
    "})\n",
    "Sepsis_df = Sepsis_df.merge(who_clean, on='age_months_rounded', how='left')\n",
    "\n",
    "# Impute missing heights for female patients\n",
    "girls_mask = (Sepsis_df['sex_adm'] == 'Female') & (Sepsis_df['height_cm_adm'].isna())\n",
    "Sepsis_df.loc[girls_mask, 'height_cm_adm'] = Sepsis_df.loc[girls_mask, 'who_median_height']\n",
    "\n",
    "# Load WHO dataset for boys and prepare\n",
    "who_boys = pd.read_csv(\"boys_length_height_for_age.csv\")\n",
    "who_clean_boys = who_boys[['Months', 'Median']].rename(columns={\n",
    "    'Months': 'age_months_rounded',\n",
    "    'Median': 'who_median_height_boys'\n",
    "})\n",
    "Sepsis_df = Sepsis_df.merge(who_clean_boys, on='age_months_rounded', how='left')\n",
    "\n",
    "# Impute missing heights for male patients\n",
    "boys_mask = (Sepsis_df['sex_adm'] == 'Male') & (Sepsis_df['height_cm_adm'].isna())\n",
    "Sepsis_df.loc[boys_mask, 'height_cm_adm'] = Sepsis_df.loc[boys_mask, 'who_median_height_boys']\n",
    "print(Sepsis_df['height_cm_adm'].isnull().sum())\n"
   ]
  },
  {
   "cell_type": "markdown",
   "id": "f3ca7118",
   "metadata": {},
   "source": [
    "___\n",
    "'height_cm_adm' Missing height values were imputed using WHO median height-for-age data, separately for males and females. Age in months was rounded to align with WHO reference tables.\n",
    "___"
   ]
  },
  {
   "cell_type": "code",
   "execution_count": 86,
   "id": "06d9c3cd",
   "metadata": {},
   "outputs": [
    {
     "data": {
      "text/plain": [
       "0"
      ]
     },
     "execution_count": 86,
     "metadata": {},
     "output_type": "execute_result"
    }
   ],
   "source": [
    "# Load WHO weight-for-age data for boys and girls\n",
    "boys_wfa = pd.read_csv(\"boys_weight_for_age.csv\")  \n",
    "girls_wfa = pd.read_csv(\"girls_weight_for_age.csv\") \n",
    "\n",
    "# Round the age to the nearest integer for matching with the WHO data\n",
    "Sepsis_df['agecalc_adm_rounded'] = Sepsis_df['agecalc_adm'].round().astype(int)\n",
    "\n",
    "# Function to impute missing weight values\n",
    "def impute_weight(row):\n",
    "    if pd.isna(row['weight_kg_adm']):\n",
    "        if row['sex_adm'] == 'Male':\n",
    "            # Get the median weight for boys based on the rounded age\n",
    "            ref = boys_wfa[boys_wfa['Months'] == row['agecalc_adm_rounded']]['Median'].values[0]\n",
    "        else:\n",
    "            # Get the median weight for girls based on the rounded age\n",
    "            ref = girls_wfa[girls_wfa['Months'] == row['agecalc_adm_rounded']]['Median'].values[0]\n",
    "        return ref\n",
    "    return row['weight_kg_adm']\n",
    "\n",
    "# Apply the imputation to the dataset\n",
    "Sepsis_df['weight_kg_adm'] = Sepsis_df.apply(impute_weight, axis=1)\n",
    "\n",
    "# Check for missing values again\n",
    "Sepsis_df['weight_kg_adm'].isna().sum()\n"
   ]
  },
  {
   "cell_type": "markdown",
   "id": "934d8ff9",
   "metadata": {},
   "source": [
    "___\n",
    "**'weight\\_kg\\_adm'** Missing weight values were imputed using WHO median weight-for-age data, separately for males and females. Age in months was rounded to match the WHO reference tables.\n",
    "___"
   ]
  },
  {
   "cell_type": "code",
   "execution_count": 87,
   "id": "ee8a7e2a",
   "metadata": {},
   "outputs": [
    {
     "name": "stdout",
     "output_type": "stream",
     "text": [
      "0\n"
     ]
    }
   ],
   "source": [
    "# Suppress all warning messages to keep output clean\n",
    "warnings.filterwarnings(\"ignore\")\n",
    "\n",
    "# Divide 'weight_kg_adm' into 5 equal-sized bins (quintiles) and assign to 'weight_group'\n",
    "Sepsis_df['weight_group'] = pd.qcut(Sepsis_df['weight_kg_adm'], 5)\n",
    "\n",
    "# Group by 'age_group', 'weight_group', and 'sex_adm', then fill missing 'muac_mm_adm' values with the group mean\n",
    "Sepsis_df['muac_mm_adm'] = Sepsis_df.groupby(\n",
    "    ['age_group', 'weight_group', 'sex_adm']\n",
    ")['muac_mm_adm'].transform(lambda x: x.fillna(x.mean()))\n",
    "\n",
    "# Print how many missing values remain in 'muac_mm_adm']\\\n",
    "print(Sepsis_df[\"muac_mm_adm\"].isnull().sum())"
   ]
  },
  {
   "cell_type": "markdown",
   "id": "5dcb125f",
   "metadata": {},
   "source": [
    "___\n",
    "**\"muac_mm_adm\"** was imputed by grouping the data based on age_group, weight quintiles (weight_group), and sex_adm, then filling missing values with the mean MUAC within each subgroup.\n",
    "___"
   ]
  },
  {
   "cell_type": "code",
   "execution_count": 88,
   "id": "ec59e3d0",
   "metadata": {},
   "outputs": [
    {
     "name": "stdout",
     "output_type": "stream",
     "text": [
      "              bcseye_adm                          bcsmotor_adm\n",
      "507   Watches or follows  Withdraws limb from painful stimulus\n",
      "1205  Watches or follows  Withdraws limb from painful stimulus\n"
     ]
    },
    {
     "name": "stdout",
     "output_type": "stream",
     "text": [
      "0\n",
      "0\n"
     ]
    }
   ],
   "source": [
    "# Impute missing 'bcseye_adm' as 'NoFollow'\n",
    "Sepsis_df['bcseye_adm'] = Sepsis_df['bcseye_adm'].fillna('NoFollow')\n",
    "\n",
    "# Identify rows where 'bcsverbal_adm' is missing\n",
    "missing_verbal = Sepsis_df['bcsverbal_adm'].isna()\n",
    "\n",
    "# Display corresponding eye and motor responses for those rows (diagnostic step)\n",
    "print(Sepsis_df[missing_verbal][['bcseye_adm', 'bcsmotor_adm']])\n",
    "\n",
    "# Define a subgroup with specific eye and motor scores\n",
    "subgroup_mask = (\n",
    "    (Sepsis_df['bcseye_adm'] == 'Watches or follows') & \n",
    "    (Sepsis_df['bcsmotor_adm'] == 'Withdraws limb from painful stimulus')\n",
    ")\n",
    "\n",
    "# Get the most common (mode) verbal score from this subgroup\n",
    "mode_verbal = Sepsis_df[subgroup_mask]['bcsverbal_adm'].mode()[0]\n",
    "\n",
    "# Apply this most common verbal score to specific missing entries\n",
    "Sepsis_df.loc[[507, 1205], 'bcsverbal_adm'] = mode_verbal\n",
    "print(Sepsis_df[\"bcseye_adm\"].isnull().sum())\n",
    "print(Sepsis_df[\"bcsverbal_adm\"].isnull().sum())\n"
   ]
  },
  {
   "cell_type": "markdown",
   "id": "6ed6b00a",
   "metadata": {},
   "source": [
    "___\n",
    "Missing values in **`bcseye_adm`** were imputed with `\"NoFollow\"`(worst case).\n",
    "For **`bcsverbal_adm`**, missing entries were imputed using the **most common value** from a defined subgroup (based on specific eye and motor responses: `\"Watches or follows\"` and `\"Withdraws limb from painful stimulus\"`). This approach ensures context-aware imputation.\n",
    "___"
   ]
  },
  {
   "cell_type": "code",
   "execution_count": 89,
   "id": "d24dfb06",
   "metadata": {},
   "outputs": [
    {
     "name": "stdout",
     "output_type": "stream",
     "text": [
      "0\n"
     ]
    }
   ],
   "source": [
    "# Round age to match WHO months\n",
    "Sepsis_df['age_months_rounded'] = Sepsis_df['agecalc_adm'].round().astype(int)\n",
    "\n",
    "# Load WHO dataset for girls and prepare\n",
    "who_girls2 = pd.read_csv(\"acfa-girls-3-5-zscores.csv\")\n",
    "who_clean2 = who_girls2[['Month', 'M']].rename(columns={\n",
    "    'Month': 'age_months_rounded',\n",
    "    'M': 'who_mean_munac'\n",
    "})\n",
    "Sepsis_df = Sepsis_df.merge(who_clean2, on='age_months_rounded', how='left')\n",
    "\n",
    "# Impute missing heights for female patients\n",
    "girls_mask = (Sepsis_df['sex_adm'] == 'Female') & (Sepsis_df['muac_mm_adm'].isna())\n",
    "Sepsis_df.loc[girls_mask, 'muac_mm_adm'] = Sepsis_df.loc[girls_mask, 'who_mean_munac']\n",
    "\n",
    "# Load WHO dataset for boys and prepare\n",
    "who_boys2 = pd.read_csv(\"acfa-boys-3-5-zscores.csv\")\n",
    "who_clean_boys2 = who_boys2[['Month','M']].rename(columns={\n",
    "    'Month': 'age_months_rounded',\n",
    "    'M': 'who_mean_munac_boys'\n",
    "})\n",
    "Sepsis_df = Sepsis_df.merge(who_clean_boys2, on='age_months_rounded', how='left')\n",
    "\n",
    "# Impute missing heights for male patients\n",
    "boys_mask = (Sepsis_df['sex_adm'] == 'Male') & (Sepsis_df['muac_mm_adm'].isna())\n",
    "Sepsis_df.loc[boys_mask, 'muac_mm_adm'] = Sepsis_df.loc[boys_mask, 'who_mean_munac_boys']\n",
    "print(Sepsis_df['muac_mm_adm'].isnull().sum())"
   ]
  },
  {
   "cell_type": "markdown",
   "id": "478c3fc2",
   "metadata": {},
   "source": [
    "___\n",
    "`muac_mm_adm` Missing MUAC values were imputed using WHO mean MUAC-for-age data, separately for males and females. Age in months was rounded to align with WHO reference tables.\n",
    "___"
   ]
  },
  {
   "cell_type": "code",
   "execution_count": 90,
   "id": "68b7d4b6",
   "metadata": {},
   "outputs": [],
   "source": [
    "#Sepsis_df['hivstatus_adm'] = Sepsis_df['hivstatus_adm'].fillna('NotTested') diasbp_mmhg_adm"
   ]
  },
  {
   "cell_type": "code",
   "execution_count": 91,
   "id": "a65c98ae",
   "metadata": {},
   "outputs": [
    {
     "name": "stdout",
     "output_type": "stream",
     "text": [
      "0\n"
     ]
    }
   ],
   "source": [
    "Sepsis_df[\"diasbp_mmhg_adm\"] = Sepsis_df[\"diasbp_mmhg_adm\"].fillna(Sepsis_df[\"diasbp_mmhg_adm\"].mean())\n",
    "print(Sepsis_df[\"diasbp_mmhg_adm\"].isnull().sum())"
   ]
  },
  {
   "cell_type": "markdown",
   "id": "2567c613",
   "metadata": {},
   "source": [
    "___\n",
    "The missing values in the diasbp_mmhg_adm column were imputed with the mean of the existing values since found to be fairly symmetric.\n",
    "___"
   ]
  },
  {
   "cell_type": "code",
   "execution_count": 92,
   "id": "15b85de3",
   "metadata": {},
   "outputs": [],
   "source": [
    "# Step 1: Get columns that have at least one missing value\n",
    "cols_with_missing2 = Sepsis_df.columns[Sepsis_df.isnull().any()].tolist()\n",
    "\n",
    "# Step 2: Create a new DataFrame with only those columns\n",
    "df_missing_subset2 = Sepsis_df[cols_with_missing2]\n",
    "\n",
    "# Step 3: Select numeric columns only\n",
    "numeric_cols2 = df_missing_subset2.select_dtypes(include='number').columns\n",
    "\n",
    "# Step 4: Fill missing values in numeric columns with the median of each column\n",
    "df_missing_subset2[numeric_cols2] = df_missing_subset2[numeric_cols2].fillna(df_missing_subset2[numeric_cols2].median())\n",
    "# Update the original Sepsis_df with the imputed numeric columns\n",
    "Sepsis_df[numeric_cols2] = df_missing_subset2[numeric_cols2]\n",
    "\n"
   ]
  },
  {
   "cell_type": "markdown",
   "id": "c4fcc0ea",
   "metadata": {},
   "source": [
    "___\n",
    "The remaining numeric columns with null values were imputed using the median, as the number of missing values was relatively small and found to be asymmetrically distributed. This approach ensures that the imputed values do not skew the data significantly.\n",
    "___"
   ]
  },
  {
   "cell_type": "markdown",
   "id": "9c028f79",
   "metadata": {},
   "source": [
    "*Clean non-numeric-columns*"
   ]
  },
  {
   "cell_type": "code",
   "execution_count": 93,
   "id": "1eda61a5",
   "metadata": {},
   "outputs": [
    {
     "name": "stdout",
     "output_type": "stream",
     "text": [
      "0\n"
     ]
    }
   ],
   "source": [
    "Sepsis_df['hivstatus_adm'] = Sepsis_df['hivstatus_adm'].fillna('NotTested')\n",
    "print(Sepsis_df[\"hivstatus_adm\"].isnull().sum())"
   ]
  },
  {
   "cell_type": "markdown",
   "id": "47df3148",
   "metadata": {},
   "source": [
    "___\n",
    "The column **'hivstatus\\_adm'** was imputed with **'NotTested'** since it was challenging to reliably estimate the missing values using the same or related columns.\n",
    "___"
   ]
  },
  {
   "cell_type": "code",
   "execution_count": 94,
   "id": "ef9a4135",
   "metadata": {},
   "outputs": [
    {
     "data": {
      "image/png": "[encoded data removed]",
      "text/plain": [
       "<Figure size 1000x600 with 1 Axes>"
      ]
     },
     "metadata": {},
     "output_type": "display_data"
    }
   ],
   "source": [
    "# Step 1: Plot 'hematocrit_gpdl_adm' levels before and after transfusion using a boxplot\n",
    "plt.figure(figsize=(10, 6))\n",
    "sns.boxplot(\n",
    "    x='hctpretransfusion_adm', \n",
    "    y='hematocrit_gpdl_adm',  # Replace ''hematocrit_gpdl_adm'' with the actual column name for HCT values\n",
    "    data=Sepsis_df\n",
    ")\n",
    "plt.title('Distribution of hematocrit_gpdl_adm Levels by Pre-Transfusion Status')\n",
    "plt.xlabel('Before Transfusion (hctpretransfusion_adm)')\n",
    "plt.ylabel('hematocrit_gpdl_adm Levels')\n",
    "plt.show()\n"
   ]
  },
  {
   "cell_type": "code",
   "execution_count": 95,
   "id": "e2603a61",
   "metadata": {},
   "outputs": [
    {
     "name": "stdout",
     "output_type": "stream",
     "text": [
      "0\n"
     ]
    }
   ],
   "source": [
    "# First, calculate mode (most frequent value)\n",
    "mode_value = Sepsis_df['hctpretransfusion_adm'].mode()[0]\n",
    "\n",
    "# Define custom function\n",
    "def impute_hctpretransfusion(row):\n",
    "    if pd.isna(row['hctpretransfusion_adm']):\n",
    "        if row['hematocrit_gpdl_adm'] < 10 or row['hematocrit_gpdl_adm'] > 50:\n",
    "            return 'Yes'\n",
    "        else:\n",
    "            return mode_value\n",
    "    else:\n",
    "        return row['hctpretransfusion_adm']\n",
    "\n",
    "# Apply the function to fill missing values\n",
    "Sepsis_df['hctpretransfusion_adm'] = Sepsis_df.apply(impute_hctpretransfusion, axis=1)\n",
    "print(Sepsis_df['hctpretransfusion_adm'].isnull().sum())\n"
   ]
  },
  {
   "cell_type": "markdown",
   "id": "714ec9e9",
   "metadata": {},
   "source": [
    "___\n",
    "**\"hctpretransfusion\\_adm\"** was imputed using a **distribution-based method** guided by a box plot analysis. Since the upper whisker for “No” responses was around 50 and the lower whisker around 10 (based on hematocrit values), missing entries with hematocrit values outside this range were classified as **\"Yes\"**. The remaining missing values were filled using the **mode**.\n",
    "___\n"
   ]
  },
  {
   "cell_type": "code",
   "execution_count": 96,
   "id": "34272451",
   "metadata": {},
   "outputs": [],
   "source": [
    "# Step 1: Select non-numeric columns with missing values\n",
    "non_numeric_missing = Sepsis_df.select_dtypes(exclude='number').columns\n",
    "non_numeric_missing = [col for col in non_numeric_missing if Sepsis_df[col].isnull().any()]\n",
    "\n",
    "# Step 2: Fill each with its own mode\n",
    "for col in non_numeric_missing:\n",
    "    mode_val = Sepsis_df[col].mode()[0]\n",
    "    Sepsis_df[col] = Sepsis_df[col].fillna(mode_val)"
   ]
  },
  {
   "cell_type": "markdown",
   "id": "82582367",
   "metadata": {},
   "source": [
    "___\n",
    "non numeric columns other than **'hivstatus\\_adm'** and **\"hctpretransfusion_adm\"** were filled using mode\n",
    "___"
   ]
  },
  {
   "cell_type": "code",
   "execution_count": 97,
   "id": "0341c880",
   "metadata": {},
   "outputs": [
    {
     "name": "stdout",
     "output_type": "stream",
     "text": [
      "<class 'pandas.core.frame.DataFrame'>\n",
      "RangeIndex: 2686 entries, 0 to 2685\n",
      "Data columns (total 124 columns):\n",
      " #    Column                         Non-Null Count  Dtype   \n",
      "---   ------                         --------------  -----   \n",
      " 0    studyid_adm                    2686 non-null   int64   \n",
      " 1    agecalc_adm                    2686 non-null   float64 \n",
      " 2    height_cm_adm                  2686 non-null   float64 \n",
      " 3    weight_kg_adm                  2686 non-null   float64 \n",
      " 4    muac_mm_adm                    2686 non-null   float64 \n",
      " 5    hr_bpm_adm                     2686 non-null   float64 \n",
      " 6    rr_brpm_app_adm                2686 non-null   float64 \n",
      " 7    sysbp_mmhg_adm                 2686 non-null   float64 \n",
      " 8    diasbp_mmhg_adm                2686 non-null   float64 \n",
      " 9    temp_c_adm                     2686 non-null   float64 \n",
      " 10   spo2site1_pc_oxi_adm           2686 non-null   float64 \n",
      " 11   spo2site2_pc_oxi_adm           2686 non-null   float64 \n",
      " 12   momage_adm                     2686 non-null   float64 \n",
      " 13   momagefirstpreg_adm            2686 non-null   float64 \n",
      " 14   householdsize_adm              2686 non-null   float64 \n",
      " 15   alivechildren_adm              2686 non-null   float64 \n",
      " 16   deadchildren_adm               2686 non-null   float64 \n",
      " 17   hematocrit_gpdl_adm            2686 non-null   float64 \n",
      " 18   lactate_mmolpl_adm             2686 non-null   float64 \n",
      " 19   glucose_mmolpl_adm             2686 non-null   float64 \n",
      " 20   sqi1_perc_oxi_adm              2686 non-null   float64 \n",
      " 21   sqi2_perc_oxi_adm              2686 non-null   float64 \n",
      " 22   sex_adm                        2686 non-null   object  \n",
      " 23   spo2onoxy_adm                  2686 non-null   object  \n",
      " 24   oxygenavail_adm                2686 non-null   object  \n",
      " 25   respdistress_adm               2686 non-null   object  \n",
      " 26   caprefill_adm                  2686 non-null   object  \n",
      " 27   bcseye_adm                     2686 non-null   object  \n",
      " 28   bcsmotor_adm                   2686 non-null   object  \n",
      " 29   bcsverbal_adm                  2686 non-null   object  \n",
      " 30   bcgscar_adm                    2686 non-null   object  \n",
      " 31   vaccmeasles_adm                2686 non-null   object  \n",
      " 32   vaccpneumoc_adm                2686 non-null   object  \n",
      " 33   vaccpneumocsource_adm          2686 non-null   object  \n",
      " 34   vaccdpt_adm                    2686 non-null   object  \n",
      " 35   vaccdptsource_adm              2686 non-null   object  \n",
      " 36   priorweekabx_adm               2686 non-null   object  \n",
      " 37   priorweekantimal_adm           2686 non-null   object  \n",
      " 38   symptoms_adm___1               2686 non-null   object  \n",
      " 39   symptoms_adm___2               2686 non-null   object  \n",
      " 40   symptoms_adm___3               2686 non-null   object  \n",
      " 41   symptoms_adm___4               2686 non-null   object  \n",
      " 42   symptoms_adm___5               2686 non-null   object  \n",
      " 43   symptoms_adm___6               2686 non-null   object  \n",
      " 44   symptoms_adm___7               2686 non-null   object  \n",
      " 45   symptoms_adm___8               2686 non-null   object  \n",
      " 46   symptoms_adm___9               2686 non-null   object  \n",
      " 47   symptoms_adm___10              2686 non-null   object  \n",
      " 48   symptoms_adm___11              2686 non-null   object  \n",
      " 49   symptoms_adm___12              2686 non-null   object  \n",
      " 50   symptoms_adm___13              2686 non-null   object  \n",
      " 51   symptoms_adm___14              2686 non-null   object  \n",
      " 52   symptoms_adm___15              2686 non-null   object  \n",
      " 53   symptoms_adm___16              2686 non-null   object  \n",
      " 54   symptoms_adm___18              2686 non-null   object  \n",
      " 55   comorbidity_adm___1            2686 non-null   object  \n",
      " 56   comorbidity_adm___2            2686 non-null   object  \n",
      " 57   comorbidity_adm___3            2686 non-null   object  \n",
      " 58   comorbidity_adm___4            2686 non-null   object  \n",
      " 59   comorbidity_adm___5            2686 non-null   object  \n",
      " 60   comorbidity_adm___6            2686 non-null   object  \n",
      " 61   comorbidity_adm___7            2686 non-null   object  \n",
      " 62   comorbidity_adm___8            2686 non-null   object  \n",
      " 63   comorbidity_adm___9            2686 non-null   object  \n",
      " 64   comorbidity_adm___10           2686 non-null   object  \n",
      " 65   comorbidity_adm___11           2686 non-null   object  \n",
      " 66   comorbidity_adm___12           2686 non-null   object  \n",
      " 67   priorhosp_adm                  2686 non-null   object  \n",
      " 68   prioryearwheeze_adm            2686 non-null   object  \n",
      " 69   prioryearcough_adm             2686 non-null   object  \n",
      " 70   diarrheaoften_adm              2686 non-null   object  \n",
      " 71   tbcontact_adm                  2686 non-null   object  \n",
      " 72   feedingstatus_adm              2686 non-null   object  \n",
      " 73   exclbreastfed_adm              2686 non-null   object  \n",
      " 74   totalbreastfed_adm             2686 non-null   object  \n",
      " 75   deliveryloc_adm                2686 non-null   object  \n",
      " 76   birthattend_adm                2686 non-null   object  \n",
      " 77   duedateknown_adm               2686 non-null   object  \n",
      " 78   birthdetail_adm___1            2686 non-null   object  \n",
      " 79   birthdetail_adm___2            2686 non-null   object  \n",
      " 80   birthdetail_adm___3            2686 non-null   object  \n",
      " 81   birthdetail_adm___4            2686 non-null   object  \n",
      " 82   birthdetail_adm___5            2686 non-null   object  \n",
      " 83   birthdetail_adm___6            2686 non-null   object  \n",
      " 84   travelmethod_adm               2686 non-null   object  \n",
      " 85   traveldist_adm                 2686 non-null   object  \n",
      " 86   badhealthduration_adm          2686 non-null   object  \n",
      " 87   caregiverage_adm               2686 non-null   object  \n",
      " 88   caregivermarried_adm           2686 non-null   object  \n",
      " 89   momalive_adm                   2686 non-null   object  \n",
      " 90   momageknown_adm                2686 non-null   object  \n",
      " 91   momagefirstpregknown_adm       2686 non-null   object  \n",
      " 92   momedu_adm                     2686 non-null   object  \n",
      " 93   momhiv_adm                     2686 non-null   object  \n",
      " 94   watersource_adm                2686 non-null   object  \n",
      " 95   waterpure_adm                  2686 non-null   object  \n",
      " 96   cookfuel_adm___1               2686 non-null   object  \n",
      " 97   cookfuel_adm___2               2686 non-null   object  \n",
      " 98   cookfuel_adm___3               2686 non-null   object  \n",
      " 99   cookfuel_adm___4               2686 non-null   object  \n",
      " 100  cookfuel_adm___5               2686 non-null   object  \n",
      " 101  cookfuel_adm___6               2686 non-null   object  \n",
      " 102  cookfuel_adm___7               2686 non-null   object  \n",
      " 103  cookloc_adm                    2686 non-null   object  \n",
      " 104  lightfuel_adm                  2686 non-null   object  \n",
      " 105  tobacco_adm                    2686 non-null   object  \n",
      " 106  bednet_adm                     2686 non-null   object  \n",
      " 107  hctpretransfusion_adm          2686 non-null   object  \n",
      " 108  hivstatus_adm                  2686 non-null   object  \n",
      " 109  malariastatuspos_adm           2686 non-null   object  \n",
      " 110  lengthadm                      2686 non-null   int64   \n",
      " 111  caregiver_adm_new              2686 non-null   object  \n",
      " 112  inhospital_mortality           2686 non-null   int64   \n",
      " 113  age_group                      2686 non-null   object  \n",
      " 114  shockindex_heart_rate_sbp_adm  2686 non-null   float64 \n",
      " 115  high_risk                      2686 non-null   int32   \n",
      " 116  age_group2                     2686 non-null   object  \n",
      " 117  age_months_rounded             2686 non-null   int32   \n",
      " 118  who_median_height              2686 non-null   float64 \n",
      " 119  who_median_height_boys         2686 non-null   float64 \n",
      " 120  agecalc_adm_rounded            2686 non-null   int32   \n",
      " 121  weight_group                   2686 non-null   category\n",
      " 122  who_mean_munac                 2686 non-null   float64 \n",
      " 123  who_mean_munac_boys            2686 non-null   float64 \n",
      "dtypes: category(1), float64(26), int32(3), int64(3), object(91)\n",
      "memory usage: 2.5+ MB\n"
     ]
    }
   ],
   "source": [
    "# Configure pandas to display details for up to 150 columns in the .info() summary\n",
    "#  By default, pandas displays a maximum of 100 columns in .info()\n",
    "# If the DataFrame has more than 100 columns, the output is truncated.\n",
    "pd.set_option('display.max_info_columns', 150)\n",
    "Sepsis_df.info()"
   ]
  },
  {
   "cell_type": "markdown",
   "id": "068298aa",
   "metadata": {},
   "source": [
    "___\n",
    "                                                Observation : *** All columns do not contain missing value. ***\n",
    "___"
   ]
  }
 ],
 "metadata": {
  "kernelspec": {
   "display_name": "Python 3",
   "language": "python",
   "name": "python3"
  },
  "language_info": {
   "codemirror_mode": {
    "name": "ipython",
    "version": 3
   },
   "file_extension": ".py",
   "mimetype": "text/x-python",
   "name": "python",
   "nbconvert_exporter": "python",
   "pygments_lexer": "ipython3",
   "version": "3.12.10"
  }
 },
 "nbformat": 4,
 "nbformat_minor": 5
}
